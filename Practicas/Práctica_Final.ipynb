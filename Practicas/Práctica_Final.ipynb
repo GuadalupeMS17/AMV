{
  "cells": [
    {
      "cell_type": "markdown",
      "id": "b617713b",
      "metadata": {
        "id": "b617713b"
      },
      "source": [
        "### Dependencias"
      ]
    },
    {
      "cell_type": "code",
      "execution_count": 1,
      "id": "57f32606",
      "metadata": {
        "id": "57f32606",
        "colab": {
          "base_uri": "https://localhost:8080/",
          "height": 17
        },
        "outputId": "12c55be9-90d7-4cbd-92db-0a04fa9bafca"
      },
      "outputs": [
        {
          "output_type": "display_data",
          "data": {
            "text/html": [
              "        <script type=\"text/javascript\">\n",
              "        window.PlotlyConfig = {MathJaxConfig: 'local'};\n",
              "        if (window.MathJax && window.MathJax.Hub && window.MathJax.Hub.Config) {window.MathJax.Hub.Config({SVG: {font: \"STIX-Web\"}});}\n",
              "        if (typeof require !== 'undefined') {\n",
              "        require.undef(\"plotly\");\n",
              "        requirejs.config({\n",
              "            paths: {\n",
              "                'plotly': ['https://cdn.plot.ly/plotly-2.18.2.min']\n",
              "            }\n",
              "        });\n",
              "        require(['plotly'], function(Plotly) {\n",
              "            window._Plotly = Plotly;\n",
              "        });\n",
              "        }\n",
              "        </script>\n",
              "        "
            ]
          },
          "metadata": {}
        }
      ],
      "source": [
        "import numpy as np\n",
        "import pandas as pd\n",
        "import matplotlib.pyplot as plt\n",
        "import seaborn as sns\n",
        "import cufflinks as cf\n",
        "from sklearn.linear_model import LogisticRegression\n",
        "from sklearn.metrics import confusion_matrix, accuracy_score, roc_auc_score\n",
        "from scipy import stats\n",
        "from sklearn.preprocessing import KBinsDiscretizer\n",
        "from sklearn.impute import SimpleImputer\n",
        "\n",
        "from auxiliares import freq, normalizar\n",
        "import warnings\n",
        "warnings.filterwarnings('ignore')\n",
        "cf.go_offline()\n",
        "pd.set_option('display.max_columns', None)\n",
        "pd.set_option('display.max_colwidth', None)"
      ]
    },
    {
      "cell_type": "markdown",
      "id": "85bd4849",
      "metadata": {
        "id": "85bd4849"
      },
      "source": [
        "### Lectura de Datos"
      ]
    },
    {
      "cell_type": "code",
      "execution_count": 2,
      "metadata": {
        "id": "817fda7f",
        "outputId": "f010277e-561c-473e-fe28-bbb352017855",
        "colab": {
          "base_uri": "https://localhost:8080/"
        }
      },
      "outputs": [
        {
          "output_type": "execute_result",
          "data": {
            "text/plain": [
              "((215257, 122), (92254, 121))"
            ]
          },
          "metadata": {},
          "execution_count": 2
        }
      ],
      "source": [
        "train = pd.read_parquet('apptrain.parquet')\n",
        "valid = pd.read_parquet('appvalid.parquet')\n",
        "train.shape, valid.shape"
      ],
      "id": "817fda7f"
    },
    {
      "cell_type": "code",
      "execution_count": 3,
      "metadata": {
        "id": "c937e0d7",
        "outputId": "1f8de365-e5f2-40e5-ebd4-f26a7bcdbb43",
        "colab": {
          "base_uri": "https://localhost:8080/"
        }
      },
      "outputs": [
        {
          "output_type": "execute_result",
          "data": {
            "text/plain": [
              "(1716428, 17)"
            ]
          },
          "metadata": {},
          "execution_count": 3
        }
      ],
      "source": [
        "buro = pd.read_parquet('buro.parquet')\n",
        "buro.shape"
      ],
      "id": "c937e0d7"
    },
    {
      "cell_type": "code",
      "execution_count": 4,
      "metadata": {
        "id": "52db3660",
        "outputId": "2d4072eb-a17c-418b-c8cb-56b7b128a4b0",
        "colab": {
          "base_uri": "https://localhost:8080/"
        }
      },
      "outputs": [
        {
          "output_type": "execute_result",
          "data": {
            "text/plain": [
              "(3840312, 23)"
            ]
          },
          "metadata": {},
          "execution_count": 4
        }
      ],
      "source": [
        "credit_card = pd.read_parquet('credit_card.parquet')\n",
        "credit_card.shape"
      ],
      "id": "52db3660"
    },
    {
      "cell_type": "markdown",
      "id": "ffc45970",
      "metadata": {
        "id": "ffc45970"
      },
      "source": [
        "### Universo de trabajo"
      ]
    },
    {
      "cell_type": "code",
      "execution_count": 5,
      "id": "dfb9d971",
      "metadata": {
        "id": "dfb9d971",
        "outputId": "68ec240a-2fb5-4700-e8bc-c759ff6be448",
        "colab": {
          "base_uri": "https://localhost:8080/"
        }
      },
      "outputs": [
        {
          "output_type": "stream",
          "name": "stdout",
          "text": [
            "****Tabla de frecuencias  TARGET  ***\n",
            "\n",
            "\n",
            "       FA        FR     FAA       FRA\n",
            "0  197911  0.919417  197911  0.919417\n",
            "1   17346  0.080583  215257  1.000000\n",
            "\n",
            "\n",
            "\n",
            "\n"
          ]
        }
      ],
      "source": [
        "freq(train,'TARGET')"
      ]
    },
    {
      "cell_type": "markdown",
      "id": "c33ac849",
      "metadata": {
        "id": "c33ac849"
      },
      "source": [
        "### Pretratamiento de Dataframes"
      ]
    },
    {
      "cell_type": "code",
      "execution_count": 6,
      "id": "f411f23b",
      "metadata": {
        "id": "f411f23b",
        "outputId": "dd4fb75a-1389-48bf-f06e-cdeb9ef124aa",
        "colab": {
          "base_uri": "https://localhost:8080/"
        }
      },
      "outputs": [
        {
          "output_type": "execute_result",
          "data": {
            "text/plain": [
              "(215257, 92254, 307511)"
            ]
          },
          "metadata": {},
          "execution_count": 6
        }
      ],
      "source": [
        "entrenamiento = train['application_id'].tolist()\n",
        "validacion = valid['application_id'].tolist()\n",
        "data = validacion + entrenamiento\n",
        "len(entrenamiento), len(validacion), len(data)"
      ]
    },
    {
      "cell_type": "code",
      "execution_count": 7,
      "id": "aa964071",
      "metadata": {
        "id": "aa964071",
        "outputId": "673afbbc-303e-4424-c448-371587ce43d7",
        "colab": {
          "base_uri": "https://localhost:8080/"
        }
      },
      "outputs": [
        {
          "output_type": "execute_result",
          "data": {
            "text/plain": [
              "(215257, 2)"
            ]
          },
          "metadata": {},
          "execution_count": 7
        }
      ],
      "source": [
        "target = train[['application_id','TARGET']].reset_index(drop=True)\n",
        "target.shape"
      ]
    },
    {
      "cell_type": "code",
      "execution_count": 8,
      "id": "8e3476e8",
      "metadata": {
        "id": "8e3476e8"
      },
      "outputs": [],
      "source": [
        "columnas = train.columns.tolist()[1:]"
      ]
    },
    {
      "cell_type": "code",
      "execution_count": 9,
      "id": "5e5154e9",
      "metadata": {
        "id": "5e5154e9"
      },
      "outputs": [],
      "source": [
        "train=train[columnas]"
      ]
    },
    {
      "cell_type": "code",
      "execution_count": 10,
      "id": "7bdf9902",
      "metadata": {
        "id": "7bdf9902",
        "outputId": "49ff94a9-0e88-4d9b-d028-49fdfcdf51bf",
        "colab": {
          "base_uri": "https://localhost:8080/"
        }
      },
      "outputs": [
        {
          "output_type": "execute_result",
          "data": {
            "text/plain": [
              "(307511, 121)"
            ]
          },
          "metadata": {},
          "execution_count": 10
        }
      ],
      "source": [
        "df = pd.concat([train,valid])\n",
        "df.shape"
      ]
    },
    {
      "cell_type": "code",
      "source": [
        "df['MAX_SCORE']=df[['EXT_SOURCE_1','EXT_SOURCE_2','EXT_SOURCE_3']].max(axis = 1)\n",
        "df['MIN_SCORE']=df[['EXT_SOURCE_1','EXT_SOURCE_2','EXT_SOURCE_3']].min(axis = 1)\n",
        "df['MED_SCORE']=df[['EXT_SOURCE_1','EXT_SOURCE_2','EXT_SOURCE_3']].median(axis = 1)"
      ],
      "metadata": {
        "id": "RUlMTJVw5JEK"
      },
      "id": "RUlMTJVw5JEK",
      "execution_count": 11,
      "outputs": []
    },
    {
      "cell_type": "markdown",
      "metadata": {
        "id": "6ddd0c86"
      },
      "source": [
        "### Caracterización de las variables"
      ],
      "id": "6ddd0c86"
    },
    {
      "cell_type": "code",
      "execution_count": 12,
      "metadata": {
        "id": "583ce0b5"
      },
      "outputs": [],
      "source": [
        "varc_1 = ['AMT_INCOME_TOTAL','AMT_CREDIT','AMT_ANNUITY','AMT_GOODS_PRICE',\n",
        "          'DAYS_BIRTH','DAYS_EMPLOYED','DAYS_REGISTRATION',\n",
        "          'OBS_30_CNT_SOCIAL_CIRCLE','DEF_30_CNT_SOCIAL_CIRCLE',\n",
        "          'OBS_60_CNT_SOCIAL_CIRCLE','DEF_60_CNT_SOCIAL_CIRCLE',\n",
        "          'DAYS_LAST_PHONE_CHANGE','EXT_SOURCE_1','EXT_SOURCE_2','EXT_SOURCE_3',\n",
        "         'MED_SCORE','MIN_SCORE','MAX_SCORE','AMT_REQ_CREDIT_BUREAU_HOUR',\n",
        "          'AMT_REQ_CREDIT_BUREAU_DAY','AMT_REQ_CREDIT_BUREAU_WEEK',\n",
        "          'AMT_REQ_CREDIT_BUREAU_MON','AMT_REQ_CREDIT_BUREAU_YEAR']\n",
        "vard_1 = ['NAME_CONTRACT_TYPE','CODE_GENDER','NAME_INCOME_TYPE',\n",
        " 'NAME_EDUCATION_TYPE','FLAG_MOBIL','FLAG_CONT_MOBILE','OCCUPATION_TYPE',\n",
        " 'REG_REGION_NOT_LIVE_REGION','FLAG_DOCUMENT_2','FLAG_DOCUMENT_3',\n",
        " 'FLAG_DOCUMENT_4','FLAG_DOCUMENT_5','FLAG_DOCUMENT_6',\n",
        " 'FLAG_DOCUMENT_7','FLAG_DOCUMENT_8','FLAG_DOCUMENT_9','FLAG_DOCUMENT_10',\n",
        " 'FLAG_DOCUMENT_11','FLAG_DOCUMENT_12','FLAG_DOCUMENT_13','FLAG_DOCUMENT_14',\n",
        " 'FLAG_DOCUMENT_15','FLAG_DOCUMENT_16','FLAG_DOCUMENT_17','FLAG_DOCUMENT_18',\n",
        " 'FLAG_DOCUMENT_19','FLAG_DOCUMENT_20','FLAG_DOCUMENT_21']\n",
        "um_1 = ['application_id']"
      ],
      "id": "583ce0b5"
    },
    {
      "cell_type": "code",
      "execution_count": 13,
      "metadata": {
        "id": "8e9235c7",
        "outputId": "242d0f9e-8a9c-49f2-ff1a-538f4deb4f25",
        "colab": {
          "base_uri": "https://localhost:8080/"
        }
      },
      "outputs": [
        {
          "output_type": "execute_result",
          "data": {
            "text/plain": [
              "(307511, 52)"
            ]
          },
          "metadata": {},
          "execution_count": 13
        }
      ],
      "source": [
        "df = df[varc_1+vard_1+um_1]\n",
        "df.shape"
      ],
      "id": "8e9235c7"
    },
    {
      "cell_type": "code",
      "execution_count": 14,
      "metadata": {
        "id": "c9ffa414"
      },
      "outputs": [],
      "source": [
        "varc_2 = ['DAYS_CREDIT','CREDIT_DAY_OVERDUE','AMT_CREDIT_SUM_DEBT',\n",
        " 'AMT_CREDIT_SUM_OVERDUE']\n",
        "vard_2 = ['CREDIT_ACTIVE','CREDIT_TYPE']\n",
        "um_2 = ['bureau_id']\n",
        "un_2 =['application_id'] "
      ],
      "id": "c9ffa414"
    },
    {
      "cell_type": "code",
      "execution_count": 15,
      "metadata": {
        "id": "8476ab2a",
        "outputId": "322d83ab-0617-472c-862a-48d3bf9957e0",
        "colab": {
          "base_uri": "https://localhost:8080/"
        }
      },
      "outputs": [
        {
          "output_type": "execute_result",
          "data": {
            "text/plain": [
              "(1716428, 8)"
            ]
          },
          "metadata": {},
          "execution_count": 15
        }
      ],
      "source": [
        "buro = buro[um_2+varc_2+vard_2+un_2]\n",
        "buro.shape"
      ],
      "id": "8476ab2a"
    },
    {
      "cell_type": "code",
      "execution_count": 16,
      "metadata": {
        "id": "28933b15"
      },
      "outputs": [],
      "source": [
        "varc_3=['AMT_PAYMENT_TOTAL_CURRENT','AMT_TOTAL_RECEIVABLE','SK_DPD',\n",
        "        'SK_DPD_DEF']\n",
        "vard_3=['MONTHS_BALANCE']\n",
        "un_3=['application_id']"
      ],
      "id": "28933b15"
    },
    {
      "cell_type": "code",
      "execution_count": 17,
      "metadata": {
        "id": "836bcff6",
        "outputId": "910451b2-9c4e-48a8-8419-f6c341a27f2e",
        "colab": {
          "base_uri": "https://localhost:8080/"
        }
      },
      "outputs": [
        {
          "output_type": "execute_result",
          "data": {
            "text/plain": [
              "(3840312, 6)"
            ]
          },
          "metadata": {},
          "execution_count": 17
        }
      ],
      "source": [
        "credit_card = credit_card[un_3+varc_3+vard_3]\n",
        "credit_card.shape"
      ],
      "id": "836bcff6"
    },
    {
      "cell_type": "code",
      "execution_count": 18,
      "metadata": {
        "id": "6ffc5e13",
        "outputId": "b3a487bf-b6af-4e14-d955-b76f5b3a5fff",
        "colab": {
          "base_uri": "https://localhost:8080/"
        }
      },
      "outputs": [
        {
          "output_type": "execute_result",
          "data": {
            "text/plain": [
              "(103558, 5)"
            ]
          },
          "metadata": {},
          "execution_count": 18
        }
      ],
      "source": [
        "cc= credit_card[credit_card['MONTHS_BALANCE']>=-24].reset_index(drop=True)\n",
        "cc = cc[un_3+varc_3].groupby(un_3).median().reset_index()\n",
        "cc.shape"
      ],
      "id": "6ffc5e13"
    },
    {
      "cell_type": "code",
      "execution_count": 19,
      "metadata": {
        "id": "64b70467",
        "outputId": "1d503684-a426-4f94-8916-941ee1932af8",
        "colab": {
          "base_uri": "https://localhost:8080/"
        }
      },
      "outputs": [
        {
          "output_type": "execute_result",
          "data": {
            "text/plain": [
              "(307511, 56)"
            ]
          },
          "metadata": {},
          "execution_count": 19
        }
      ],
      "source": [
        "df = pd.merge(df,cc, on ='application_id', how ='outer')\n",
        "df = df[df['application_id'].isin(data)].reset_index(drop=True)\n",
        "df.shape"
      ],
      "id": "64b70467"
    },
    {
      "cell_type": "code",
      "execution_count": 20,
      "metadata": {
        "id": "ebc3ba50",
        "outputId": "0cf4b807-f261-41d3-e297-937673772a74",
        "colab": {
          "base_uri": "https://localhost:8080/"
        }
      },
      "outputs": [
        {
          "output_type": "execute_result",
          "data": {
            "text/plain": [
              "(1509345, 63)"
            ]
          },
          "metadata": {},
          "execution_count": 20
        }
      ],
      "source": [
        "df = pd.merge(buro,df, on ='application_id', how ='outer')\n",
        "df = df[df['application_id'].isin(data)].reset_index(drop=True)\n",
        "df.shape"
      ],
      "id": "ebc3ba50"
    },
    {
      "cell_type": "code",
      "execution_count": 21,
      "metadata": {
        "id": "981e5539"
      },
      "outputs": [],
      "source": [
        "for d in ('DAYS_CREDIT','DAYS_BIRTH','DAYS_EMPLOYED','DAYS_REGISTRATION'):\n",
        "    df[d]=df[d]/-365.25"
      ],
      "id": "981e5539"
    },
    {
      "cell_type": "code",
      "execution_count": 22,
      "metadata": {
        "id": "87422e24"
      },
      "outputs": [],
      "source": [
        "df.rename(columns={'DAYS_CREDIT':'YEARS_CREDIT','DAYS_BIRTH':'YEARS_BIRTH',\n",
        "                   'DAYS_EMPLOYED':'YEARS_EMPLOYED',\n",
        "                  'DAYS_REGISTRATION':'YEARS_REGISTRATION'},\n",
        "               inplace=True)"
      ],
      "id": "87422e24"
    },
    {
      "cell_type": "code",
      "execution_count": 23,
      "metadata": {
        "id": "07c51c1e",
        "outputId": "3258fcee-0dc6-4b43-e830-271709150bae",
        "colab": {
          "base_uri": "https://localhost:8080/",
          "height": 322
        }
      },
      "outputs": [
        {
          "output_type": "execute_result",
          "data": {
            "text/plain": [
              "    bureau_id  YEARS_CREDIT  CREDIT_DAY_OVERDUE  AMT_CREDIT_SUM_DEBT  \\\n",
              "0  B000315720      1.360712                 0.0                  0.0   \n",
              "1  B001635419      0.569473                 0.0             171342.0   \n",
              "2  B001059430      0.555784                 0.0                  NaN   \n",
              "3  B001464681      0.555784                 0.0                  NaN   \n",
              "4  B000577089      1.722108                 0.0                  NaN   \n",
              "\n",
              "   AMT_CREDIT_SUM_OVERDUE CREDIT_ACTIVE      CREDIT_TYPE application_id  \\\n",
              "0                     0.0        Closed  Consumer credit     A000198230   \n",
              "1                     0.0        Active      Credit card     A000198230   \n",
              "2                     0.0        Active  Consumer credit     A000198230   \n",
              "3                     0.0        Active      Credit card     A000198230   \n",
              "4                     0.0        Active  Consumer credit     A000198230   \n",
              "\n",
              "   AMT_INCOME_TOTAL  AMT_CREDIT  AMT_ANNUITY  AMT_GOODS_PRICE  YEARS_BIRTH  \\\n",
              "0          270000.0    720000.0      21181.5         720000.0    47.967146   \n",
              "1          270000.0    720000.0      21181.5         720000.0    47.967146   \n",
              "2          270000.0    720000.0      21181.5         720000.0    47.967146   \n",
              "3          270000.0    720000.0      21181.5         720000.0    47.967146   \n",
              "4          270000.0    720000.0      21181.5         720000.0    47.967146   \n",
              "\n",
              "   YEARS_EMPLOYED  YEARS_REGISTRATION  OBS_30_CNT_SOCIAL_CIRCLE  \\\n",
              "0        2.570842            3.293634                       1.0   \n",
              "1        2.570842            3.293634                       1.0   \n",
              "2        2.570842            3.293634                       1.0   \n",
              "3        2.570842            3.293634                       1.0   \n",
              "4        2.570842            3.293634                       1.0   \n",
              "\n",
              "   DEF_30_CNT_SOCIAL_CIRCLE  OBS_60_CNT_SOCIAL_CIRCLE  \\\n",
              "0                       1.0                       1.0   \n",
              "1                       1.0                       1.0   \n",
              "2                       1.0                       1.0   \n",
              "3                       1.0                       1.0   \n",
              "4                       1.0                       1.0   \n",
              "\n",
              "   DEF_60_CNT_SOCIAL_CIRCLE  DAYS_LAST_PHONE_CHANGE  EXT_SOURCE_1  \\\n",
              "0                       1.0                 -1553.0      0.873736   \n",
              "1                       1.0                 -1553.0      0.873736   \n",
              "2                       1.0                 -1553.0      0.873736   \n",
              "3                       1.0                 -1553.0      0.873736   \n",
              "4                       1.0                 -1553.0      0.873736   \n",
              "\n",
              "   EXT_SOURCE_2  EXT_SOURCE_3  MED_SCORE  MIN_SCORE  MAX_SCORE  \\\n",
              "0      0.522745      0.231439   0.522745   0.231439   0.873736   \n",
              "1      0.522745      0.231439   0.522745   0.231439   0.873736   \n",
              "2      0.522745      0.231439   0.522745   0.231439   0.873736   \n",
              "3      0.522745      0.231439   0.522745   0.231439   0.873736   \n",
              "4      0.522745      0.231439   0.522745   0.231439   0.873736   \n",
              "\n",
              "   AMT_REQ_CREDIT_BUREAU_HOUR  AMT_REQ_CREDIT_BUREAU_DAY  \\\n",
              "0                         0.0                        0.0   \n",
              "1                         0.0                        0.0   \n",
              "2                         0.0                        0.0   \n",
              "3                         0.0                        0.0   \n",
              "4                         0.0                        0.0   \n",
              "\n",
              "   AMT_REQ_CREDIT_BUREAU_WEEK  AMT_REQ_CREDIT_BUREAU_MON  \\\n",
              "0                         0.0                        0.0   \n",
              "1                         0.0                        0.0   \n",
              "2                         0.0                        0.0   \n",
              "3                         0.0                        0.0   \n",
              "4                         0.0                        0.0   \n",
              "\n",
              "   AMT_REQ_CREDIT_BUREAU_YEAR NAME_CONTRACT_TYPE CODE_GENDER NAME_INCOME_TYPE  \\\n",
              "0                         3.0         Cash loans           F          Working   \n",
              "1                         3.0         Cash loans           F          Working   \n",
              "2                         3.0         Cash loans           F          Working   \n",
              "3                         3.0         Cash loans           F          Working   \n",
              "4                         3.0         Cash loans           F          Working   \n",
              "\n",
              "  NAME_EDUCATION_TYPE  FLAG_MOBIL  FLAG_CONT_MOBILE OCCUPATION_TYPE  \\\n",
              "0    Higher education         1.0               1.0     Accountants   \n",
              "1    Higher education         1.0               1.0     Accountants   \n",
              "2    Higher education         1.0               1.0     Accountants   \n",
              "3    Higher education         1.0               1.0     Accountants   \n",
              "4    Higher education         1.0               1.0     Accountants   \n",
              "\n",
              "   REG_REGION_NOT_LIVE_REGION  FLAG_DOCUMENT_2  FLAG_DOCUMENT_3  \\\n",
              "0                         0.0              0.0              1.0   \n",
              "1                         0.0              0.0              1.0   \n",
              "2                         0.0              0.0              1.0   \n",
              "3                         0.0              0.0              1.0   \n",
              "4                         0.0              0.0              1.0   \n",
              "\n",
              "   FLAG_DOCUMENT_4  FLAG_DOCUMENT_5  FLAG_DOCUMENT_6  FLAG_DOCUMENT_7  \\\n",
              "0              0.0              0.0              0.0              0.0   \n",
              "1              0.0              0.0              0.0              0.0   \n",
              "2              0.0              0.0              0.0              0.0   \n",
              "3              0.0              0.0              0.0              0.0   \n",
              "4              0.0              0.0              0.0              0.0   \n",
              "\n",
              "   FLAG_DOCUMENT_8  FLAG_DOCUMENT_9  FLAG_DOCUMENT_10  FLAG_DOCUMENT_11  \\\n",
              "0              0.0              0.0               0.0               0.0   \n",
              "1              0.0              0.0               0.0               0.0   \n",
              "2              0.0              0.0               0.0               0.0   \n",
              "3              0.0              0.0               0.0               0.0   \n",
              "4              0.0              0.0               0.0               0.0   \n",
              "\n",
              "   FLAG_DOCUMENT_12  FLAG_DOCUMENT_13  FLAG_DOCUMENT_14  FLAG_DOCUMENT_15  \\\n",
              "0               0.0               0.0               0.0               0.0   \n",
              "1               0.0               0.0               0.0               0.0   \n",
              "2               0.0               0.0               0.0               0.0   \n",
              "3               0.0               0.0               0.0               0.0   \n",
              "4               0.0               0.0               0.0               0.0   \n",
              "\n",
              "   FLAG_DOCUMENT_16  FLAG_DOCUMENT_17  FLAG_DOCUMENT_18  FLAG_DOCUMENT_19  \\\n",
              "0               0.0               0.0               0.0               0.0   \n",
              "1               0.0               0.0               0.0               0.0   \n",
              "2               0.0               0.0               0.0               0.0   \n",
              "3               0.0               0.0               0.0               0.0   \n",
              "4               0.0               0.0               0.0               0.0   \n",
              "\n",
              "   FLAG_DOCUMENT_20  FLAG_DOCUMENT_21  AMT_PAYMENT_TOTAL_CURRENT  \\\n",
              "0               0.0               0.0                    17887.5   \n",
              "1               0.0               0.0                    17887.5   \n",
              "2               0.0               0.0                    17887.5   \n",
              "3               0.0               0.0                    17887.5   \n",
              "4               0.0               0.0                    17887.5   \n",
              "\n",
              "   AMT_TOTAL_RECEIVABLE  SK_DPD  SK_DPD_DEF  \n",
              "0           362634.0525     0.0         0.0  \n",
              "1           362634.0525     0.0         0.0  \n",
              "2           362634.0525     0.0         0.0  \n",
              "3           362634.0525     0.0         0.0  \n",
              "4           362634.0525     0.0         0.0  "
            ],
            "text/html": [
              "\n",
              "  <div id=\"df-2ed94671-8984-4bef-8bc5-47624b80cb04\">\n",
              "    <div class=\"colab-df-container\">\n",
              "      <div>\n",
              "<style scoped>\n",
              "    .dataframe tbody tr th:only-of-type {\n",
              "        vertical-align: middle;\n",
              "    }\n",
              "\n",
              "    .dataframe tbody tr th {\n",
              "        vertical-align: top;\n",
              "    }\n",
              "\n",
              "    .dataframe thead th {\n",
              "        text-align: right;\n",
              "    }\n",
              "</style>\n",
              "<table border=\"1\" class=\"dataframe\">\n",
              "  <thead>\n",
              "    <tr style=\"text-align: right;\">\n",
              "      <th></th>\n",
              "      <th>bureau_id</th>\n",
              "      <th>YEARS_CREDIT</th>\n",
              "      <th>CREDIT_DAY_OVERDUE</th>\n",
              "      <th>AMT_CREDIT_SUM_DEBT</th>\n",
              "      <th>AMT_CREDIT_SUM_OVERDUE</th>\n",
              "      <th>CREDIT_ACTIVE</th>\n",
              "      <th>CREDIT_TYPE</th>\n",
              "      <th>application_id</th>\n",
              "      <th>AMT_INCOME_TOTAL</th>\n",
              "      <th>AMT_CREDIT</th>\n",
              "      <th>AMT_ANNUITY</th>\n",
              "      <th>AMT_GOODS_PRICE</th>\n",
              "      <th>YEARS_BIRTH</th>\n",
              "      <th>YEARS_EMPLOYED</th>\n",
              "      <th>YEARS_REGISTRATION</th>\n",
              "      <th>OBS_30_CNT_SOCIAL_CIRCLE</th>\n",
              "      <th>DEF_30_CNT_SOCIAL_CIRCLE</th>\n",
              "      <th>OBS_60_CNT_SOCIAL_CIRCLE</th>\n",
              "      <th>DEF_60_CNT_SOCIAL_CIRCLE</th>\n",
              "      <th>DAYS_LAST_PHONE_CHANGE</th>\n",
              "      <th>EXT_SOURCE_1</th>\n",
              "      <th>EXT_SOURCE_2</th>\n",
              "      <th>EXT_SOURCE_3</th>\n",
              "      <th>MED_SCORE</th>\n",
              "      <th>MIN_SCORE</th>\n",
              "      <th>MAX_SCORE</th>\n",
              "      <th>AMT_REQ_CREDIT_BUREAU_HOUR</th>\n",
              "      <th>AMT_REQ_CREDIT_BUREAU_DAY</th>\n",
              "      <th>AMT_REQ_CREDIT_BUREAU_WEEK</th>\n",
              "      <th>AMT_REQ_CREDIT_BUREAU_MON</th>\n",
              "      <th>AMT_REQ_CREDIT_BUREAU_YEAR</th>\n",
              "      <th>NAME_CONTRACT_TYPE</th>\n",
              "      <th>CODE_GENDER</th>\n",
              "      <th>NAME_INCOME_TYPE</th>\n",
              "      <th>NAME_EDUCATION_TYPE</th>\n",
              "      <th>FLAG_MOBIL</th>\n",
              "      <th>FLAG_CONT_MOBILE</th>\n",
              "      <th>OCCUPATION_TYPE</th>\n",
              "      <th>REG_REGION_NOT_LIVE_REGION</th>\n",
              "      <th>FLAG_DOCUMENT_2</th>\n",
              "      <th>FLAG_DOCUMENT_3</th>\n",
              "      <th>FLAG_DOCUMENT_4</th>\n",
              "      <th>FLAG_DOCUMENT_5</th>\n",
              "      <th>FLAG_DOCUMENT_6</th>\n",
              "      <th>FLAG_DOCUMENT_7</th>\n",
              "      <th>FLAG_DOCUMENT_8</th>\n",
              "      <th>FLAG_DOCUMENT_9</th>\n",
              "      <th>FLAG_DOCUMENT_10</th>\n",
              "      <th>FLAG_DOCUMENT_11</th>\n",
              "      <th>FLAG_DOCUMENT_12</th>\n",
              "      <th>FLAG_DOCUMENT_13</th>\n",
              "      <th>FLAG_DOCUMENT_14</th>\n",
              "      <th>FLAG_DOCUMENT_15</th>\n",
              "      <th>FLAG_DOCUMENT_16</th>\n",
              "      <th>FLAG_DOCUMENT_17</th>\n",
              "      <th>FLAG_DOCUMENT_18</th>\n",
              "      <th>FLAG_DOCUMENT_19</th>\n",
              "      <th>FLAG_DOCUMENT_20</th>\n",
              "      <th>FLAG_DOCUMENT_21</th>\n",
              "      <th>AMT_PAYMENT_TOTAL_CURRENT</th>\n",
              "      <th>AMT_TOTAL_RECEIVABLE</th>\n",
              "      <th>SK_DPD</th>\n",
              "      <th>SK_DPD_DEF</th>\n",
              "    </tr>\n",
              "  </thead>\n",
              "  <tbody>\n",
              "    <tr>\n",
              "      <th>0</th>\n",
              "      <td>B000315720</td>\n",
              "      <td>1.360712</td>\n",
              "      <td>0.0</td>\n",
              "      <td>0.0</td>\n",
              "      <td>0.0</td>\n",
              "      <td>Closed</td>\n",
              "      <td>Consumer credit</td>\n",
              "      <td>A000198230</td>\n",
              "      <td>270000.0</td>\n",
              "      <td>720000.0</td>\n",
              "      <td>21181.5</td>\n",
              "      <td>720000.0</td>\n",
              "      <td>47.967146</td>\n",
              "      <td>2.570842</td>\n",
              "      <td>3.293634</td>\n",
              "      <td>1.0</td>\n",
              "      <td>1.0</td>\n",
              "      <td>1.0</td>\n",
              "      <td>1.0</td>\n",
              "      <td>-1553.0</td>\n",
              "      <td>0.873736</td>\n",
              "      <td>0.522745</td>\n",
              "      <td>0.231439</td>\n",
              "      <td>0.522745</td>\n",
              "      <td>0.231439</td>\n",
              "      <td>0.873736</td>\n",
              "      <td>0.0</td>\n",
              "      <td>0.0</td>\n",
              "      <td>0.0</td>\n",
              "      <td>0.0</td>\n",
              "      <td>3.0</td>\n",
              "      <td>Cash loans</td>\n",
              "      <td>F</td>\n",
              "      <td>Working</td>\n",
              "      <td>Higher education</td>\n",
              "      <td>1.0</td>\n",
              "      <td>1.0</td>\n",
              "      <td>Accountants</td>\n",
              "      <td>0.0</td>\n",
              "      <td>0.0</td>\n",
              "      <td>1.0</td>\n",
              "      <td>0.0</td>\n",
              "      <td>0.0</td>\n",
              "      <td>0.0</td>\n",
              "      <td>0.0</td>\n",
              "      <td>0.0</td>\n",
              "      <td>0.0</td>\n",
              "      <td>0.0</td>\n",
              "      <td>0.0</td>\n",
              "      <td>0.0</td>\n",
              "      <td>0.0</td>\n",
              "      <td>0.0</td>\n",
              "      <td>0.0</td>\n",
              "      <td>0.0</td>\n",
              "      <td>0.0</td>\n",
              "      <td>0.0</td>\n",
              "      <td>0.0</td>\n",
              "      <td>0.0</td>\n",
              "      <td>0.0</td>\n",
              "      <td>17887.5</td>\n",
              "      <td>362634.0525</td>\n",
              "      <td>0.0</td>\n",
              "      <td>0.0</td>\n",
              "    </tr>\n",
              "    <tr>\n",
              "      <th>1</th>\n",
              "      <td>B001635419</td>\n",
              "      <td>0.569473</td>\n",
              "      <td>0.0</td>\n",
              "      <td>171342.0</td>\n",
              "      <td>0.0</td>\n",
              "      <td>Active</td>\n",
              "      <td>Credit card</td>\n",
              "      <td>A000198230</td>\n",
              "      <td>270000.0</td>\n",
              "      <td>720000.0</td>\n",
              "      <td>21181.5</td>\n",
              "      <td>720000.0</td>\n",
              "      <td>47.967146</td>\n",
              "      <td>2.570842</td>\n",
              "      <td>3.293634</td>\n",
              "      <td>1.0</td>\n",
              "      <td>1.0</td>\n",
              "      <td>1.0</td>\n",
              "      <td>1.0</td>\n",
              "      <td>-1553.0</td>\n",
              "      <td>0.873736</td>\n",
              "      <td>0.522745</td>\n",
              "      <td>0.231439</td>\n",
              "      <td>0.522745</td>\n",
              "      <td>0.231439</td>\n",
              "      <td>0.873736</td>\n",
              "      <td>0.0</td>\n",
              "      <td>0.0</td>\n",
              "      <td>0.0</td>\n",
              "      <td>0.0</td>\n",
              "      <td>3.0</td>\n",
              "      <td>Cash loans</td>\n",
              "      <td>F</td>\n",
              "      <td>Working</td>\n",
              "      <td>Higher education</td>\n",
              "      <td>1.0</td>\n",
              "      <td>1.0</td>\n",
              "      <td>Accountants</td>\n",
              "      <td>0.0</td>\n",
              "      <td>0.0</td>\n",
              "      <td>1.0</td>\n",
              "      <td>0.0</td>\n",
              "      <td>0.0</td>\n",
              "      <td>0.0</td>\n",
              "      <td>0.0</td>\n",
              "      <td>0.0</td>\n",
              "      <td>0.0</td>\n",
              "      <td>0.0</td>\n",
              "      <td>0.0</td>\n",
              "      <td>0.0</td>\n",
              "      <td>0.0</td>\n",
              "      <td>0.0</td>\n",
              "      <td>0.0</td>\n",
              "      <td>0.0</td>\n",
              "      <td>0.0</td>\n",
              "      <td>0.0</td>\n",
              "      <td>0.0</td>\n",
              "      <td>0.0</td>\n",
              "      <td>0.0</td>\n",
              "      <td>17887.5</td>\n",
              "      <td>362634.0525</td>\n",
              "      <td>0.0</td>\n",
              "      <td>0.0</td>\n",
              "    </tr>\n",
              "    <tr>\n",
              "      <th>2</th>\n",
              "      <td>B001059430</td>\n",
              "      <td>0.555784</td>\n",
              "      <td>0.0</td>\n",
              "      <td>NaN</td>\n",
              "      <td>0.0</td>\n",
              "      <td>Active</td>\n",
              "      <td>Consumer credit</td>\n",
              "      <td>A000198230</td>\n",
              "      <td>270000.0</td>\n",
              "      <td>720000.0</td>\n",
              "      <td>21181.5</td>\n",
              "      <td>720000.0</td>\n",
              "      <td>47.967146</td>\n",
              "      <td>2.570842</td>\n",
              "      <td>3.293634</td>\n",
              "      <td>1.0</td>\n",
              "      <td>1.0</td>\n",
              "      <td>1.0</td>\n",
              "      <td>1.0</td>\n",
              "      <td>-1553.0</td>\n",
              "      <td>0.873736</td>\n",
              "      <td>0.522745</td>\n",
              "      <td>0.231439</td>\n",
              "      <td>0.522745</td>\n",
              "      <td>0.231439</td>\n",
              "      <td>0.873736</td>\n",
              "      <td>0.0</td>\n",
              "      <td>0.0</td>\n",
              "      <td>0.0</td>\n",
              "      <td>0.0</td>\n",
              "      <td>3.0</td>\n",
              "      <td>Cash loans</td>\n",
              "      <td>F</td>\n",
              "      <td>Working</td>\n",
              "      <td>Higher education</td>\n",
              "      <td>1.0</td>\n",
              "      <td>1.0</td>\n",
              "      <td>Accountants</td>\n",
              "      <td>0.0</td>\n",
              "      <td>0.0</td>\n",
              "      <td>1.0</td>\n",
              "      <td>0.0</td>\n",
              "      <td>0.0</td>\n",
              "      <td>0.0</td>\n",
              "      <td>0.0</td>\n",
              "      <td>0.0</td>\n",
              "      <td>0.0</td>\n",
              "      <td>0.0</td>\n",
              "      <td>0.0</td>\n",
              "      <td>0.0</td>\n",
              "      <td>0.0</td>\n",
              "      <td>0.0</td>\n",
              "      <td>0.0</td>\n",
              "      <td>0.0</td>\n",
              "      <td>0.0</td>\n",
              "      <td>0.0</td>\n",
              "      <td>0.0</td>\n",
              "      <td>0.0</td>\n",
              "      <td>0.0</td>\n",
              "      <td>17887.5</td>\n",
              "      <td>362634.0525</td>\n",
              "      <td>0.0</td>\n",
              "      <td>0.0</td>\n",
              "    </tr>\n",
              "    <tr>\n",
              "      <th>3</th>\n",
              "      <td>B001464681</td>\n",
              "      <td>0.555784</td>\n",
              "      <td>0.0</td>\n",
              "      <td>NaN</td>\n",
              "      <td>0.0</td>\n",
              "      <td>Active</td>\n",
              "      <td>Credit card</td>\n",
              "      <td>A000198230</td>\n",
              "      <td>270000.0</td>\n",
              "      <td>720000.0</td>\n",
              "      <td>21181.5</td>\n",
              "      <td>720000.0</td>\n",
              "      <td>47.967146</td>\n",
              "      <td>2.570842</td>\n",
              "      <td>3.293634</td>\n",
              "      <td>1.0</td>\n",
              "      <td>1.0</td>\n",
              "      <td>1.0</td>\n",
              "      <td>1.0</td>\n",
              "      <td>-1553.0</td>\n",
              "      <td>0.873736</td>\n",
              "      <td>0.522745</td>\n",
              "      <td>0.231439</td>\n",
              "      <td>0.522745</td>\n",
              "      <td>0.231439</td>\n",
              "      <td>0.873736</td>\n",
              "      <td>0.0</td>\n",
              "      <td>0.0</td>\n",
              "      <td>0.0</td>\n",
              "      <td>0.0</td>\n",
              "      <td>3.0</td>\n",
              "      <td>Cash loans</td>\n",
              "      <td>F</td>\n",
              "      <td>Working</td>\n",
              "      <td>Higher education</td>\n",
              "      <td>1.0</td>\n",
              "      <td>1.0</td>\n",
              "      <td>Accountants</td>\n",
              "      <td>0.0</td>\n",
              "      <td>0.0</td>\n",
              "      <td>1.0</td>\n",
              "      <td>0.0</td>\n",
              "      <td>0.0</td>\n",
              "      <td>0.0</td>\n",
              "      <td>0.0</td>\n",
              "      <td>0.0</td>\n",
              "      <td>0.0</td>\n",
              "      <td>0.0</td>\n",
              "      <td>0.0</td>\n",
              "      <td>0.0</td>\n",
              "      <td>0.0</td>\n",
              "      <td>0.0</td>\n",
              "      <td>0.0</td>\n",
              "      <td>0.0</td>\n",
              "      <td>0.0</td>\n",
              "      <td>0.0</td>\n",
              "      <td>0.0</td>\n",
              "      <td>0.0</td>\n",
              "      <td>0.0</td>\n",
              "      <td>17887.5</td>\n",
              "      <td>362634.0525</td>\n",
              "      <td>0.0</td>\n",
              "      <td>0.0</td>\n",
              "    </tr>\n",
              "    <tr>\n",
              "      <th>4</th>\n",
              "      <td>B000577089</td>\n",
              "      <td>1.722108</td>\n",
              "      <td>0.0</td>\n",
              "      <td>NaN</td>\n",
              "      <td>0.0</td>\n",
              "      <td>Active</td>\n",
              "      <td>Consumer credit</td>\n",
              "      <td>A000198230</td>\n",
              "      <td>270000.0</td>\n",
              "      <td>720000.0</td>\n",
              "      <td>21181.5</td>\n",
              "      <td>720000.0</td>\n",
              "      <td>47.967146</td>\n",
              "      <td>2.570842</td>\n",
              "      <td>3.293634</td>\n",
              "      <td>1.0</td>\n",
              "      <td>1.0</td>\n",
              "      <td>1.0</td>\n",
              "      <td>1.0</td>\n",
              "      <td>-1553.0</td>\n",
              "      <td>0.873736</td>\n",
              "      <td>0.522745</td>\n",
              "      <td>0.231439</td>\n",
              "      <td>0.522745</td>\n",
              "      <td>0.231439</td>\n",
              "      <td>0.873736</td>\n",
              "      <td>0.0</td>\n",
              "      <td>0.0</td>\n",
              "      <td>0.0</td>\n",
              "      <td>0.0</td>\n",
              "      <td>3.0</td>\n",
              "      <td>Cash loans</td>\n",
              "      <td>F</td>\n",
              "      <td>Working</td>\n",
              "      <td>Higher education</td>\n",
              "      <td>1.0</td>\n",
              "      <td>1.0</td>\n",
              "      <td>Accountants</td>\n",
              "      <td>0.0</td>\n",
              "      <td>0.0</td>\n",
              "      <td>1.0</td>\n",
              "      <td>0.0</td>\n",
              "      <td>0.0</td>\n",
              "      <td>0.0</td>\n",
              "      <td>0.0</td>\n",
              "      <td>0.0</td>\n",
              "      <td>0.0</td>\n",
              "      <td>0.0</td>\n",
              "      <td>0.0</td>\n",
              "      <td>0.0</td>\n",
              "      <td>0.0</td>\n",
              "      <td>0.0</td>\n",
              "      <td>0.0</td>\n",
              "      <td>0.0</td>\n",
              "      <td>0.0</td>\n",
              "      <td>0.0</td>\n",
              "      <td>0.0</td>\n",
              "      <td>0.0</td>\n",
              "      <td>0.0</td>\n",
              "      <td>17887.5</td>\n",
              "      <td>362634.0525</td>\n",
              "      <td>0.0</td>\n",
              "      <td>0.0</td>\n",
              "    </tr>\n",
              "  </tbody>\n",
              "</table>\n",
              "</div>\n",
              "      <button class=\"colab-df-convert\" onclick=\"convertToInteractive('df-2ed94671-8984-4bef-8bc5-47624b80cb04')\"\n",
              "              title=\"Convert this dataframe to an interactive table.\"\n",
              "              style=\"display:none;\">\n",
              "        \n",
              "  <svg xmlns=\"http://www.w3.org/2000/svg\" height=\"24px\"viewBox=\"0 0 24 24\"\n",
              "       width=\"24px\">\n",
              "    <path d=\"M0 0h24v24H0V0z\" fill=\"none\"/>\n",
              "    <path d=\"M18.56 5.44l.94 2.06.94-2.06 2.06-.94-2.06-.94-.94-2.06-.94 2.06-2.06.94zm-11 1L8.5 8.5l.94-2.06 2.06-.94-2.06-.94L8.5 2.5l-.94 2.06-2.06.94zm10 10l.94 2.06.94-2.06 2.06-.94-2.06-.94-.94-2.06-.94 2.06-2.06.94z\"/><path d=\"M17.41 7.96l-1.37-1.37c-.4-.4-.92-.59-1.43-.59-.52 0-1.04.2-1.43.59L10.3 9.45l-7.72 7.72c-.78.78-.78 2.05 0 2.83L4 21.41c.39.39.9.59 1.41.59.51 0 1.02-.2 1.41-.59l7.78-7.78 2.81-2.81c.8-.78.8-2.07 0-2.86zM5.41 20L4 18.59l7.72-7.72 1.47 1.35L5.41 20z\"/>\n",
              "  </svg>\n",
              "      </button>\n",
              "      \n",
              "  <style>\n",
              "    .colab-df-container {\n",
              "      display:flex;\n",
              "      flex-wrap:wrap;\n",
              "      gap: 12px;\n",
              "    }\n",
              "\n",
              "    .colab-df-convert {\n",
              "      background-color: #E8F0FE;\n",
              "      border: none;\n",
              "      border-radius: 50%;\n",
              "      cursor: pointer;\n",
              "      display: none;\n",
              "      fill: #1967D2;\n",
              "      height: 32px;\n",
              "      padding: 0 0 0 0;\n",
              "      width: 32px;\n",
              "    }\n",
              "\n",
              "    .colab-df-convert:hover {\n",
              "      background-color: #E2EBFA;\n",
              "      box-shadow: 0px 1px 2px rgba(60, 64, 67, 0.3), 0px 1px 3px 1px rgba(60, 64, 67, 0.15);\n",
              "      fill: #174EA6;\n",
              "    }\n",
              "\n",
              "    [theme=dark] .colab-df-convert {\n",
              "      background-color: #3B4455;\n",
              "      fill: #D2E3FC;\n",
              "    }\n",
              "\n",
              "    [theme=dark] .colab-df-convert:hover {\n",
              "      background-color: #434B5C;\n",
              "      box-shadow: 0px 1px 3px 1px rgba(0, 0, 0, 0.15);\n",
              "      filter: drop-shadow(0px 1px 2px rgba(0, 0, 0, 0.3));\n",
              "      fill: #FFFFFF;\n",
              "    }\n",
              "  </style>\n",
              "\n",
              "      <script>\n",
              "        const buttonEl =\n",
              "          document.querySelector('#df-2ed94671-8984-4bef-8bc5-47624b80cb04 button.colab-df-convert');\n",
              "        buttonEl.style.display =\n",
              "          google.colab.kernel.accessAllowed ? 'block' : 'none';\n",
              "\n",
              "        async function convertToInteractive(key) {\n",
              "          const element = document.querySelector('#df-2ed94671-8984-4bef-8bc5-47624b80cb04');\n",
              "          const dataTable =\n",
              "            await google.colab.kernel.invokeFunction('convertToInteractive',\n",
              "                                                     [key], {});\n",
              "          if (!dataTable) return;\n",
              "\n",
              "          const docLinkHtml = 'Like what you see? Visit the ' +\n",
              "            '<a target=\"_blank\" href=https://colab.research.google.com/notebooks/data_table.ipynb>data table notebook</a>'\n",
              "            + ' to learn more about interactive tables.';\n",
              "          element.innerHTML = '';\n",
              "          dataTable['output_type'] = 'display_data';\n",
              "          await google.colab.output.renderOutput(dataTable, element);\n",
              "          const docLink = document.createElement('div');\n",
              "          docLink.innerHTML = docLinkHtml;\n",
              "          element.appendChild(docLink);\n",
              "        }\n",
              "      </script>\n",
              "    </div>\n",
              "  </div>\n",
              "  "
            ]
          },
          "metadata": {},
          "execution_count": 23
        }
      ],
      "source": [
        "df.head()"
      ],
      "id": "07c51c1e"
    },
    {
      "cell_type": "code",
      "execution_count": 24,
      "metadata": {
        "id": "db207173"
      },
      "outputs": [],
      "source": [
        "varc = varc_1+varc_2+varc_3\n",
        "vard = vard_1+vard_2\n",
        "um = um_2+um_1\n",
        "vart = ['TARGET']"
      ],
      "id": "db207173"
    },
    {
      "cell_type": "code",
      "source": [
        "varc =['YEARS_CREDIT' if x=='DAYS_CREDIT' else 'YEARS_BIRTH' if x=='DAYS_BIRTH' \n",
        "                   else 'YEARS_EMPLOYED' if x=='DAYS_EMPLOYED'\n",
        "                  else 'YEARS_REGISTRATION' if x=='DAYS_REGISTRATION' else x for x in varc]"
      ],
      "metadata": {
        "id": "2T7tfygfyeVw"
      },
      "execution_count": 25,
      "outputs": [],
      "id": "2T7tfygfyeVw"
    },
    {
      "cell_type": "markdown",
      "metadata": {
        "id": "29e6e6fb"
      },
      "source": [
        "### Análisis Exploratorio de Datos"
      ],
      "id": "29e6e6fb"
    },
    {
      "cell_type": "markdown",
      "metadata": {
        "id": "6df49223"
      },
      "source": [
        "#### Discreto"
      ],
      "id": "6df49223"
    },
    {
      "cell_type": "markdown",
      "metadata": {
        "id": "9bc3bf40"
      },
      "source": [
        "##### Ausentes"
      ],
      "id": "9bc3bf40"
    },
    {
      "cell_type": "code",
      "source": [
        "for v in vard:\n",
        "    df[v] = df[v].fillna('MISSING').astype(str)"
      ],
      "metadata": {
        "id": "9FLhHV3az14r"
      },
      "execution_count": 26,
      "outputs": [],
      "id": "9FLhHV3az14r"
    },
    {
      "cell_type": "code",
      "source": [
        "freq(df,vard)"
      ],
      "metadata": {
        "id": "-H0NcBYkz4uB",
        "colab": {
          "base_uri": "https://localhost:8080/"
        },
        "outputId": "5b4e5208-7a42-4350-c899-c06a87d3e962"
      },
      "execution_count": 27,
      "outputs": [
        {
          "output_type": "stream",
          "name": "stdout",
          "text": [
            "****Tabla de frecuencias  NAME_CONTRACT_TYPE  ***\n",
            "\n",
            "\n",
            "                      FA        FR      FAA       FRA\n",
            "Cash loans       1379250  0.913807  1379250  0.913807\n",
            "Revolving loans   130095  0.086193  1509345  1.000000\n",
            "\n",
            "\n",
            "\n",
            "\n",
            "****Tabla de frecuencias  CODE_GENDER  ***\n",
            "\n",
            "\n",
            "          FA        FR      FAA       FRA\n",
            "F    1029160  0.681859  1029160  0.681859\n",
            "M     480151  0.318119  1509311  0.999977\n",
            "XNA       34  0.000023  1509345  1.000000\n",
            "\n",
            "\n",
            "\n",
            "\n",
            "****Tabla de frecuencias  NAME_INCOME_TYPE  ***\n",
            "\n",
            "\n",
            "                          FA        FR      FAA       FRA\n",
            "Businessman               20  0.000013       20  0.000013\n",
            "Commercial associate  346632  0.229657   346652  0.229670\n",
            "Maternity leave            5  0.000003   346657  0.229674\n",
            "Pensioner             265085  0.175629   611742  0.405303\n",
            "State servant         125512  0.083157   737254  0.488460\n",
            "Student                   67  0.000044   737321  0.488504\n",
            "Unemployed                33  0.000022   737354  0.488526\n",
            "Working               771991  0.511474  1509345  1.000000\n",
            "\n",
            "\n",
            "\n",
            "\n",
            "****Tabla de frecuencias  NAME_EDUCATION_TYPE  ***\n",
            "\n",
            "\n",
            "                                    FA        FR      FAA       FRA\n",
            "Academic degree                    948  0.000628      948  0.000628\n",
            "Higher education                405270  0.268507   406218  0.269135\n",
            "Incomplete higher                46630  0.030894   452848  0.300029\n",
            "Lower secondary                  15243  0.010099   468091  0.310129\n",
            "Secondary / secondary special  1041254  0.689871  1509345  1.000000\n",
            "\n",
            "\n",
            "\n",
            "\n",
            "****Tabla de frecuencias  FLAG_MOBIL  ***\n",
            "\n",
            "\n",
            "          FA            FR      FAA           FRA\n",
            "0.0        1  6.625390e-07        1  6.625390e-07\n",
            "1.0  1509344  9.999993e-01  1509345  1.000000e+00\n",
            "\n",
            "\n",
            "\n",
            "\n",
            "****Tabla de frecuencias  FLAG_CONT_MOBILE  ***\n",
            "\n",
            "\n",
            "          FA        FR      FAA       FRA\n",
            "0.0     2903  0.001923     2903  0.001923\n",
            "1.0  1506442  0.998077  1509345  1.000000\n",
            "\n",
            "\n",
            "\n",
            "\n",
            "****Tabla de frecuencias  OCCUPATION_TYPE  ***\n",
            "\n",
            "\n",
            "                           FA        FR      FAA       FRA\n",
            "Accountants             56130  0.037188    56130  0.037188\n",
            "Cleaning staff          22144  0.014671    78274  0.051860\n",
            "Cooking staff           27298  0.018086   105572  0.069946\n",
            "Core staff             149279  0.098903   254851  0.168849\n",
            "Drivers                 82912  0.054932   337763  0.223781\n",
            "HR staff                 3027  0.002006   340790  0.225787\n",
            "High skill tech staff   59772  0.039601   400562  0.265388\n",
            "IT staff                 2469  0.001636   403031  0.267024\n",
            "Laborers               261861  0.173493   664892  0.440517\n",
            "Low-skill Laborers       7097  0.004702   671989  0.445219\n",
            "MISSING                469861  0.311301  1141850  0.756520\n",
            "Managers               119838  0.079397  1261688  0.835918\n",
            "Medicine staff          50002  0.033128  1311690  0.869046\n",
            "Private service staff   11899  0.007884  1323589  0.876929\n",
            "Realty agents            3535  0.002342  1327124  0.879271\n",
            "Sales staff            139753  0.092592  1466877  0.971863\n",
            "Secretaries              6594  0.004369  1473471  0.976232\n",
            "Security staff          30451  0.020175  1503922  0.996407\n",
            "Waiters/barmen staff     5423  0.003593  1509345  1.000000\n",
            "\n",
            "\n",
            "\n",
            "\n",
            "****Tabla de frecuencias  REG_REGION_NOT_LIVE_REGION  ***\n",
            "\n",
            "\n",
            "          FA        FR      FAA       FRA\n",
            "0.0  1490918  0.987791  1490918  0.987791\n",
            "1.0    18427  0.012209  1509345  1.000000\n",
            "\n",
            "\n",
            "\n",
            "\n",
            "****Tabla de frecuencias  FLAG_DOCUMENT_2  ***\n",
            "\n",
            "\n",
            "          FA        FR      FAA       FRA\n",
            "0.0  1509332  0.999991  1509332  0.999991\n",
            "1.0       13  0.000009  1509345  1.000000\n",
            "\n",
            "\n",
            "\n",
            "\n",
            "****Tabla de frecuencias  FLAG_DOCUMENT_3  ***\n",
            "\n",
            "\n",
            "          FA        FR      FAA       FRA\n",
            "0.0   413782  0.274147   413782  0.274147\n",
            "1.0  1095563  0.725853  1509345  1.000000\n",
            "\n",
            "\n",
            "\n",
            "\n",
            "****Tabla de frecuencias  FLAG_DOCUMENT_4  ***\n",
            "\n",
            "\n",
            "          FA       FR      FAA      FRA\n",
            "0.0  1509224  0.99992  1509224  0.99992\n",
            "1.0      121  0.00008  1509345  1.00000\n",
            "\n",
            "\n",
            "\n",
            "\n",
            "****Tabla de frecuencias  FLAG_DOCUMENT_5  ***\n",
            "\n",
            "\n",
            "          FA       FR      FAA      FRA\n",
            "0.0  1486630  0.98495  1486630  0.98495\n",
            "1.0    22715  0.01505  1509345  1.00000\n",
            "\n",
            "\n",
            "\n",
            "\n",
            "****Tabla de frecuencias  FLAG_DOCUMENT_6  ***\n",
            "\n",
            "\n",
            "          FA        FR      FAA       FRA\n",
            "0.0  1380705  0.914771  1380705  0.914771\n",
            "1.0   128640  0.085229  1509345  1.000000\n",
            "\n",
            "\n",
            "\n",
            "\n",
            "****Tabla de frecuencias  FLAG_DOCUMENT_7  ***\n",
            "\n",
            "\n",
            "          FA       FR      FAA      FRA\n",
            "0.0  1509089  0.99983  1509089  0.99983\n",
            "1.0      256  0.00017  1509345  1.00000\n",
            "\n",
            "\n",
            "\n",
            "\n",
            "****Tabla de frecuencias  FLAG_DOCUMENT_8  ***\n",
            "\n",
            "\n",
            "          FA        FR      FAA       FRA\n",
            "0.0  1388272  0.919784  1388272  0.919784\n",
            "1.0   121073  0.080216  1509345  1.000000\n",
            "\n",
            "\n",
            "\n",
            "\n",
            "****Tabla de frecuencias  FLAG_DOCUMENT_9  ***\n",
            "\n",
            "\n",
            "          FA        FR      FAA       FRA\n",
            "0.0  1503907  0.996397  1503907  0.996397\n",
            "1.0     5438  0.003603  1509345  1.000000\n",
            "\n",
            "\n",
            "\n",
            "\n",
            "****Tabla de frecuencias  FLAG_DOCUMENT_10  ***\n",
            "\n",
            "\n",
            "          FA        FR      FAA       FRA\n",
            "0.0  1509296  0.999968  1509296  0.999968\n",
            "1.0       49  0.000032  1509345  1.000000\n",
            "\n",
            "\n",
            "\n",
            "\n",
            "****Tabla de frecuencias  FLAG_DOCUMENT_11  ***\n",
            "\n",
            "\n",
            "          FA        FR      FAA       FRA\n",
            "0.0  1505060  0.997161  1505060  0.997161\n",
            "1.0     4285  0.002839  1509345  1.000000\n",
            "\n",
            "\n",
            "\n",
            "\n",
            "****Tabla de frecuencias  FLAG_DOCUMENT_12  ***\n",
            "\n",
            "\n",
            "          FA        FR      FAA       FRA\n",
            "0.0  1509329  0.999989  1509329  0.999989\n",
            "1.0       16  0.000011  1509345  1.000000\n",
            "\n",
            "\n",
            "\n",
            "\n",
            "****Tabla de frecuencias  FLAG_DOCUMENT_13  ***\n",
            "\n",
            "\n",
            "          FA        FR      FAA       FRA\n",
            "0.0  1503834  0.996349  1503834  0.996349\n",
            "1.0     5511  0.003651  1509345  1.000000\n",
            "\n",
            "\n",
            "\n",
            "\n",
            "****Tabla de frecuencias  FLAG_DOCUMENT_14  ***\n",
            "\n",
            "\n",
            "          FA        FR      FAA       FRA\n",
            "0.0  1505278  0.997305  1505278  0.997305\n",
            "1.0     4067  0.002695  1509345  1.000000\n",
            "\n",
            "\n",
            "\n",
            "\n",
            "****Tabla de frecuencias  FLAG_DOCUMENT_15  ***\n",
            "\n",
            "\n",
            "          FA        FR      FAA       FRA\n",
            "0.0  1507449  0.998744  1507449  0.998744\n",
            "1.0     1896  0.001256  1509345  1.000000\n",
            "\n",
            "\n",
            "\n",
            "\n",
            "****Tabla de frecuencias  FLAG_DOCUMENT_16  ***\n",
            "\n",
            "\n",
            "          FA        FR      FAA       FRA\n",
            "0.0  1494983  0.990485  1494983  0.990485\n",
            "1.0    14362  0.009515  1509345  1.000000\n",
            "\n",
            "\n",
            "\n",
            "\n",
            "****Tabla de frecuencias  FLAG_DOCUMENT_17  ***\n",
            "\n",
            "\n",
            "          FA        FR      FAA       FRA\n",
            "0.0  1508879  0.999691  1508879  0.999691\n",
            "1.0      466  0.000309  1509345  1.000000\n",
            "\n",
            "\n",
            "\n",
            "\n",
            "****Tabla de frecuencias  FLAG_DOCUMENT_18  ***\n",
            "\n",
            "\n",
            "          FA        FR      FAA       FRA\n",
            "0.0  1497474  0.992135  1497474  0.992135\n",
            "1.0    11871  0.007865  1509345  1.000000\n",
            "\n",
            "\n",
            "\n",
            "\n",
            "****Tabla de frecuencias  FLAG_DOCUMENT_19  ***\n",
            "\n",
            "\n",
            "          FA        FR      FAA       FRA\n",
            "0.0  1508387  0.999365  1508387  0.999365\n",
            "1.0      958  0.000635  1509345  1.000000\n",
            "\n",
            "\n",
            "\n",
            "\n",
            "****Tabla de frecuencias  FLAG_DOCUMENT_20  ***\n",
            "\n",
            "\n",
            "          FA        FR      FAA       FRA\n",
            "0.0  1508059  0.999148  1508059  0.999148\n",
            "1.0     1286  0.000852  1509345  1.000000\n",
            "\n",
            "\n",
            "\n",
            "\n",
            "****Tabla de frecuencias  FLAG_DOCUMENT_21  ***\n",
            "\n",
            "\n",
            "          FA       FR      FAA      FRA\n",
            "0.0  1508967  0.99975  1508967  0.99975\n",
            "1.0      378  0.00025  1509345  1.00000\n",
            "\n",
            "\n",
            "\n",
            "\n",
            "****Tabla de frecuencias  CREDIT_ACTIVE  ***\n",
            "\n",
            "\n",
            "              FA        FR      FAA       FRA\n",
            "Active    541919  0.359042   541919  0.359042\n",
            "Bad debt      20  0.000013   541939  0.359056\n",
            "Closed    917733  0.608034  1459672  0.967090\n",
            "MISSING    44020  0.029165  1503692  0.996255\n",
            "Sold        5653  0.003745  1509345  1.000000\n",
            "\n",
            "\n",
            "\n",
            "\n",
            "****Tabla de frecuencias  CREDIT_TYPE  ***\n",
            "\n",
            "\n",
            "                                                   FA            FR      FAA  \\\n",
            "Another type of loan                              854  5.658083e-04      854   \n",
            "Car loan                                        23757  1.573994e-02    24611   \n",
            "Cash loan (non-earmarked)                          23  1.523840e-05    24634   \n",
            "Consumer credit                               1069610  7.086584e-01  1094244   \n",
            "Credit card                                    343853  2.278160e-01  1438097   \n",
            "Interbank credit                                    1  6.625390e-07  1438098   \n",
            "Loan for business development                    1721  1.140230e-03  1439819   \n",
            "Loan for purchase of shares (margin lending)        4  2.650156e-06  1439823   \n",
            "Loan for the purchase of equipment                 17  1.126316e-05  1439840   \n",
            "Loan for working capital replenishment            377  2.497772e-04  1440217   \n",
            "MISSING                                         44020  2.916497e-02  1484237   \n",
            "Microloan                                        9005  5.966164e-03  1493242   \n",
            "Mobile operator loan                                1  6.625390e-07  1493243   \n",
            "Mortgage                                        15607  1.034025e-02  1508850   \n",
            "Real estate loan                                   23  1.523840e-05  1508873   \n",
            "Unknown type of loan                              472  3.127184e-04  1509345   \n",
            "\n",
            "                                                   FRA  \n",
            "Another type of loan                          0.000566  \n",
            "Car loan                                      0.016306  \n",
            "Cash loan (non-earmarked)                     0.016321  \n",
            "Consumer credit                               0.724979  \n",
            "Credit card                                   0.952795  \n",
            "Interbank credit                              0.952796  \n",
            "Loan for business development                 0.953936  \n",
            "Loan for purchase of shares (margin lending)  0.953939  \n",
            "Loan for the purchase of equipment            0.953950  \n",
            "Loan for working capital replenishment        0.954200  \n",
            "MISSING                                       0.983365  \n",
            "Microloan                                     0.989331  \n",
            "Mobile operator loan                          0.989332  \n",
            "Mortgage                                      0.999672  \n",
            "Real estate loan                              0.999687  \n",
            "Unknown type of loan                          1.000000  \n",
            "\n",
            "\n",
            "\n",
            "\n"
          ]
        }
      ],
      "id": "-H0NcBYkz4uB"
    },
    {
      "cell_type": "markdown",
      "source": [
        "##### Normalización de variables discretas"
      ],
      "metadata": {
        "id": "GS6kRDnTH1qk"
      },
      "id": "GS6kRDnTH1qk"
    },
    {
      "cell_type": "code",
      "source": [
        "mapa_norm = list (map(lambda v:normalizar(df,v),vard))\n"
      ],
      "metadata": {
        "id": "XVKykFtW6JdM"
      },
      "execution_count": 28,
      "outputs": [],
      "id": "XVKykFtW6JdM"
    },
    {
      "cell_type": "code",
      "source": [
        "for v,mapa in mapa_norm:\n",
        "    df[f'n_{v}'] = df[v].replace(mapa)\n"
      ],
      "metadata": {
        "id": "VKJl18oZ6MJZ"
      },
      "execution_count": 29,
      "outputs": [],
      "id": "VKJl18oZ6MJZ"
    },
    {
      "cell_type": "code",
      "source": [
        "var_norm = [f'n_{v}' for v in vard]"
      ],
      "metadata": {
        "id": "EfQWKB_n6OfV"
      },
      "execution_count": 30,
      "outputs": [],
      "id": "EfQWKB_n6OfV"
    },
    {
      "cell_type": "code",
      "source": [
        "freq(df,var_norm)"
      ],
      "metadata": {
        "colab": {
          "base_uri": "https://localhost:8080/"
        },
        "id": "xRH6BzyK6Q0E",
        "outputId": "649a24a9-ead3-4dfb-cccc-fc08379213b4"
      },
      "execution_count": 31,
      "outputs": [
        {
          "output_type": "stream",
          "name": "stdout",
          "text": [
            "****Tabla de frecuencias  n_NAME_CONTRACT_TYPE  ***\n",
            "\n",
            "\n",
            "                      FA        FR      FAA       FRA\n",
            "Cash loans       1379250  0.913807  1379250  0.913807\n",
            "Revolving loans   130095  0.086193  1509345  1.000000\n",
            "\n",
            "\n",
            "\n",
            "\n",
            "****Tabla de frecuencias  n_CODE_GENDER  ***\n",
            "\n",
            "\n",
            "        FA        FR      FAA       FRA\n",
            "F  1029194  0.681881  1029194  0.681881\n",
            "M   480151  0.318119  1509345  1.000000\n",
            "\n",
            "\n",
            "\n",
            "\n",
            "****Tabla de frecuencias  n_NAME_INCOME_TYPE  ***\n",
            "\n",
            "\n",
            "                          FA        FR      FAA       FRA\n",
            "Commercial associate  346632  0.229657   346632  0.229657\n",
            "Pensioner             265085  0.175629   611717  0.405286\n",
            "State servant         125512  0.083157   737229  0.488443\n",
            "Working               772116  0.511557  1509345  1.000000\n",
            "\n",
            "\n",
            "\n",
            "\n",
            "****Tabla de frecuencias  n_NAME_EDUCATION_TYPE  ***\n",
            "\n",
            "\n",
            "                                    FA        FR      FAA       FRA\n",
            "Higher education                405270  0.268507   405270  0.268507\n",
            "Secondary / secondary special  1104075  0.731493  1509345  1.000000\n",
            "\n",
            "\n",
            "\n",
            "\n",
            "****Tabla de frecuencias  n_FLAG_MOBIL  ***\n",
            "\n",
            "\n",
            "          FA   FR      FAA  FRA\n",
            "1.0  1509345  1.0  1509345  1.0\n",
            "\n",
            "\n",
            "\n",
            "\n",
            "****Tabla de frecuencias  n_FLAG_CONT_MOBILE  ***\n",
            "\n",
            "\n",
            "          FA   FR      FAA  FRA\n",
            "1.0  1509345  1.0  1509345  1.0\n",
            "\n",
            "\n",
            "\n",
            "\n",
            "****Tabla de frecuencias  n_OCCUPATION_TYPE  ***\n",
            "\n",
            "\n",
            "                 FA        FR      FAA       FRA\n",
            "Core staff   149279  0.098903   149279  0.098903\n",
            "Drivers       82912  0.054932   232191  0.153836\n",
            "Laborers     261861  0.173493   494052  0.327329\n",
            "MISSING      469861  0.311301   963913  0.638630\n",
            "Managers     119838  0.079397  1083751  0.718027\n",
            "Otros        285841  0.189381  1369592  0.907408\n",
            "Sales staff  139753  0.092592  1509345  1.000000\n",
            "\n",
            "\n",
            "\n",
            "\n",
            "****Tabla de frecuencias  n_REG_REGION_NOT_LIVE_REGION  ***\n",
            "\n",
            "\n",
            "          FA   FR      FAA  FRA\n",
            "0.0  1509345  1.0  1509345  1.0\n",
            "\n",
            "\n",
            "\n",
            "\n",
            "****Tabla de frecuencias  n_FLAG_DOCUMENT_2  ***\n",
            "\n",
            "\n",
            "          FA   FR      FAA  FRA\n",
            "0.0  1509345  1.0  1509345  1.0\n",
            "\n",
            "\n",
            "\n",
            "\n",
            "****Tabla de frecuencias  n_FLAG_DOCUMENT_3  ***\n",
            "\n",
            "\n",
            "          FA        FR      FAA       FRA\n",
            "0.0   413782  0.274147   413782  0.274147\n",
            "1.0  1095563  0.725853  1509345  1.000000\n",
            "\n",
            "\n",
            "\n",
            "\n",
            "****Tabla de frecuencias  n_FLAG_DOCUMENT_4  ***\n",
            "\n",
            "\n",
            "          FA   FR      FAA  FRA\n",
            "0.0  1509345  1.0  1509345  1.0\n",
            "\n",
            "\n",
            "\n",
            "\n",
            "****Tabla de frecuencias  n_FLAG_DOCUMENT_5  ***\n",
            "\n",
            "\n",
            "          FA   FR      FAA  FRA\n",
            "0.0  1509345  1.0  1509345  1.0\n",
            "\n",
            "\n",
            "\n",
            "\n",
            "****Tabla de frecuencias  n_FLAG_DOCUMENT_6  ***\n",
            "\n",
            "\n",
            "          FA        FR      FAA       FRA\n",
            "0.0  1380705  0.914771  1380705  0.914771\n",
            "1.0   128640  0.085229  1509345  1.000000\n",
            "\n",
            "\n",
            "\n",
            "\n",
            "****Tabla de frecuencias  n_FLAG_DOCUMENT_7  ***\n",
            "\n",
            "\n",
            "          FA   FR      FAA  FRA\n",
            "0.0  1509345  1.0  1509345  1.0\n",
            "\n",
            "\n",
            "\n",
            "\n",
            "****Tabla de frecuencias  n_FLAG_DOCUMENT_8  ***\n",
            "\n",
            "\n",
            "          FA        FR      FAA       FRA\n",
            "0.0  1388272  0.919784  1388272  0.919784\n",
            "1.0   121073  0.080216  1509345  1.000000\n",
            "\n",
            "\n",
            "\n",
            "\n",
            "****Tabla de frecuencias  n_FLAG_DOCUMENT_9  ***\n",
            "\n",
            "\n",
            "          FA   FR      FAA  FRA\n",
            "0.0  1509345  1.0  1509345  1.0\n",
            "\n",
            "\n",
            "\n",
            "\n",
            "****Tabla de frecuencias  n_FLAG_DOCUMENT_10  ***\n",
            "\n",
            "\n",
            "          FA   FR      FAA  FRA\n",
            "0.0  1509345  1.0  1509345  1.0\n",
            "\n",
            "\n",
            "\n",
            "\n",
            "****Tabla de frecuencias  n_FLAG_DOCUMENT_11  ***\n",
            "\n",
            "\n",
            "          FA   FR      FAA  FRA\n",
            "0.0  1509345  1.0  1509345  1.0\n",
            "\n",
            "\n",
            "\n",
            "\n",
            "****Tabla de frecuencias  n_FLAG_DOCUMENT_12  ***\n",
            "\n",
            "\n",
            "          FA   FR      FAA  FRA\n",
            "0.0  1509345  1.0  1509345  1.0\n",
            "\n",
            "\n",
            "\n",
            "\n",
            "****Tabla de frecuencias  n_FLAG_DOCUMENT_13  ***\n",
            "\n",
            "\n",
            "          FA   FR      FAA  FRA\n",
            "0.0  1509345  1.0  1509345  1.0\n",
            "\n",
            "\n",
            "\n",
            "\n",
            "****Tabla de frecuencias  n_FLAG_DOCUMENT_14  ***\n",
            "\n",
            "\n",
            "          FA   FR      FAA  FRA\n",
            "0.0  1509345  1.0  1509345  1.0\n",
            "\n",
            "\n",
            "\n",
            "\n",
            "****Tabla de frecuencias  n_FLAG_DOCUMENT_15  ***\n",
            "\n",
            "\n",
            "          FA   FR      FAA  FRA\n",
            "0.0  1509345  1.0  1509345  1.0\n",
            "\n",
            "\n",
            "\n",
            "\n",
            "****Tabla de frecuencias  n_FLAG_DOCUMENT_16  ***\n",
            "\n",
            "\n",
            "          FA   FR      FAA  FRA\n",
            "0.0  1509345  1.0  1509345  1.0\n",
            "\n",
            "\n",
            "\n",
            "\n",
            "****Tabla de frecuencias  n_FLAG_DOCUMENT_17  ***\n",
            "\n",
            "\n",
            "          FA   FR      FAA  FRA\n",
            "0.0  1509345  1.0  1509345  1.0\n",
            "\n",
            "\n",
            "\n",
            "\n",
            "****Tabla de frecuencias  n_FLAG_DOCUMENT_18  ***\n",
            "\n",
            "\n",
            "          FA   FR      FAA  FRA\n",
            "0.0  1509345  1.0  1509345  1.0\n",
            "\n",
            "\n",
            "\n",
            "\n",
            "****Tabla de frecuencias  n_FLAG_DOCUMENT_19  ***\n",
            "\n",
            "\n",
            "          FA   FR      FAA  FRA\n",
            "0.0  1509345  1.0  1509345  1.0\n",
            "\n",
            "\n",
            "\n",
            "\n",
            "****Tabla de frecuencias  n_FLAG_DOCUMENT_20  ***\n",
            "\n",
            "\n",
            "          FA   FR      FAA  FRA\n",
            "0.0  1509345  1.0  1509345  1.0\n",
            "\n",
            "\n",
            "\n",
            "\n",
            "****Tabla de frecuencias  n_FLAG_DOCUMENT_21  ***\n",
            "\n",
            "\n",
            "          FA   FR      FAA  FRA\n",
            "0.0  1509345  1.0  1509345  1.0\n",
            "\n",
            "\n",
            "\n",
            "\n",
            "****Tabla de frecuencias  n_CREDIT_ACTIVE  ***\n",
            "\n",
            "\n",
            "            FA        FR      FAA       FRA\n",
            "Active  541919  0.359042   541919  0.359042\n",
            "Closed  967426  0.640958  1509345  1.000000\n",
            "\n",
            "\n",
            "\n",
            "\n",
            "****Tabla de frecuencias  n_CREDIT_TYPE  ***\n",
            "\n",
            "\n",
            "                      FA        FR      FAA       FRA\n",
            "Consumer credit  1069610  0.708658  1069610  0.708658\n",
            "Credit card       343853  0.227816  1413463  0.936474\n",
            "Otros              95882  0.063526  1509345  1.000000\n",
            "\n",
            "\n",
            "\n",
            "\n"
          ]
        }
      ],
      "id": "xRH6BzyK6Q0E"
    },
    {
      "cell_type": "markdown",
      "source": [
        "##### Unarias "
      ],
      "metadata": {
        "id": "kUF0rxS69gGz"
      },
      "id": "kUF0rxS69gGz"
    },
    {
      "cell_type": "code",
      "source": [
        "unarias = [v for v in var_norm if df[v].nunique()==1]\n",
        "var_norm = [v for v in var_norm if v not in unarias]\n",
        "df.drop(unarias,axis=1,inplace=True)"
      ],
      "metadata": {
        "id": "fChif0oW8-ll"
      },
      "execution_count": 32,
      "outputs": [],
      "id": "fChif0oW8-ll"
    },
    {
      "cell_type": "markdown",
      "source": [
        "#### Continuas"
      ],
      "metadata": {
        "id": "dWyc8lgC-B03"
      },
      "id": "dWyc8lgC-B03"
    },
    {
      "cell_type": "markdown",
      "source": [
        "##### Ausentes"
      ],
      "metadata": {
        "id": "eK2wcmRI-FYu"
      },
      "id": "eK2wcmRI-FYu"
    },
    {
      "cell_type": "code",
      "source": [
        "miss = pd.Series(df[varc].isnull().sum()/len(df)).sort_values(ascending=False).to_frame()\n",
        "miss.columns = ['missing']\n",
        "fuera = list(miss[miss['missing']>0.3].index)\n",
        "varc = [v for v in varc if v not in fuera]\n",
        "df = df.drop(fuera, axis=1)"
      ],
      "metadata": {
        "id": "gBpPLulp99F5"
      },
      "execution_count": 33,
      "outputs": [],
      "id": "gBpPLulp99F5"
    },
    {
      "cell_type": "code",
      "source": [
        "im = SimpleImputer(strategy='median')\n",
        "im.fit(df[varc])\n",
        "df[varc] = im.transform(df[varc])"
      ],
      "metadata": {
        "id": "gi_PtNXr-gWF"
      },
      "execution_count": 34,
      "outputs": [],
      "id": "gi_PtNXr-gWF"
    },
    {
      "cell_type": "markdown",
      "source": [
        "##### Discretización de variables continuas"
      ],
      "metadata": {
        "id": "y5GVvll7vtcH"
      },
      "id": "y5GVvll7vtcH"
    },
    {
      "cell_type": "code",
      "source": [
        "kb = KBinsDiscretizer(n_bins=5, encode='ordinal', strategy='quantile')\n",
        "kb.fit(df[varc])"
      ],
      "metadata": {
        "colab": {
          "base_uri": "https://localhost:8080/",
          "height": 75
        },
        "id": "xISzzlu5vzLw",
        "outputId": "186e2138-2fda-4347-c4ff-8da115063409"
      },
      "execution_count": 35,
      "outputs": [
        {
          "output_type": "execute_result",
          "data": {
            "text/plain": [
              "KBinsDiscretizer(encode='ordinal')"
            ],
            "text/html": [
              "<style>#sk-container-id-1 {color: black;background-color: white;}#sk-container-id-1 pre{padding: 0;}#sk-container-id-1 div.sk-toggleable {background-color: white;}#sk-container-id-1 label.sk-toggleable__label {cursor: pointer;display: block;width: 100%;margin-bottom: 0;padding: 0.3em;box-sizing: border-box;text-align: center;}#sk-container-id-1 label.sk-toggleable__label-arrow:before {content: \"▸\";float: left;margin-right: 0.25em;color: #696969;}#sk-container-id-1 label.sk-toggleable__label-arrow:hover:before {color: black;}#sk-container-id-1 div.sk-estimator:hover label.sk-toggleable__label-arrow:before {color: black;}#sk-container-id-1 div.sk-toggleable__content {max-height: 0;max-width: 0;overflow: hidden;text-align: left;background-color: #f0f8ff;}#sk-container-id-1 div.sk-toggleable__content pre {margin: 0.2em;color: black;border-radius: 0.25em;background-color: #f0f8ff;}#sk-container-id-1 input.sk-toggleable__control:checked~div.sk-toggleable__content {max-height: 200px;max-width: 100%;overflow: auto;}#sk-container-id-1 input.sk-toggleable__control:checked~label.sk-toggleable__label-arrow:before {content: \"▾\";}#sk-container-id-1 div.sk-estimator input.sk-toggleable__control:checked~label.sk-toggleable__label {background-color: #d4ebff;}#sk-container-id-1 div.sk-label input.sk-toggleable__control:checked~label.sk-toggleable__label {background-color: #d4ebff;}#sk-container-id-1 input.sk-hidden--visually {border: 0;clip: rect(1px 1px 1px 1px);clip: rect(1px, 1px, 1px, 1px);height: 1px;margin: -1px;overflow: hidden;padding: 0;position: absolute;width: 1px;}#sk-container-id-1 div.sk-estimator {font-family: monospace;background-color: #f0f8ff;border: 1px dotted black;border-radius: 0.25em;box-sizing: border-box;margin-bottom: 0.5em;}#sk-container-id-1 div.sk-estimator:hover {background-color: #d4ebff;}#sk-container-id-1 div.sk-parallel-item::after {content: \"\";width: 100%;border-bottom: 1px solid gray;flex-grow: 1;}#sk-container-id-1 div.sk-label:hover label.sk-toggleable__label {background-color: #d4ebff;}#sk-container-id-1 div.sk-serial::before {content: \"\";position: absolute;border-left: 1px solid gray;box-sizing: border-box;top: 0;bottom: 0;left: 50%;z-index: 0;}#sk-container-id-1 div.sk-serial {display: flex;flex-direction: column;align-items: center;background-color: white;padding-right: 0.2em;padding-left: 0.2em;position: relative;}#sk-container-id-1 div.sk-item {position: relative;z-index: 1;}#sk-container-id-1 div.sk-parallel {display: flex;align-items: stretch;justify-content: center;background-color: white;position: relative;}#sk-container-id-1 div.sk-item::before, #sk-container-id-1 div.sk-parallel-item::before {content: \"\";position: absolute;border-left: 1px solid gray;box-sizing: border-box;top: 0;bottom: 0;left: 50%;z-index: -1;}#sk-container-id-1 div.sk-parallel-item {display: flex;flex-direction: column;z-index: 1;position: relative;background-color: white;}#sk-container-id-1 div.sk-parallel-item:first-child::after {align-self: flex-end;width: 50%;}#sk-container-id-1 div.sk-parallel-item:last-child::after {align-self: flex-start;width: 50%;}#sk-container-id-1 div.sk-parallel-item:only-child::after {width: 0;}#sk-container-id-1 div.sk-dashed-wrapped {border: 1px dashed gray;margin: 0 0.4em 0.5em 0.4em;box-sizing: border-box;padding-bottom: 0.4em;background-color: white;}#sk-container-id-1 div.sk-label label {font-family: monospace;font-weight: bold;display: inline-block;line-height: 1.2em;}#sk-container-id-1 div.sk-label-container {text-align: center;}#sk-container-id-1 div.sk-container {/* jupyter's `normalize.less` sets `[hidden] { display: none; }` but bootstrap.min.css set `[hidden] { display: none !important; }` so we also need the `!important` here to be able to override the default hidden behavior on the sphinx rendered scikit-learn.org. See: https://github.com/scikit-learn/scikit-learn/issues/21755 */display: inline-block !important;position: relative;}#sk-container-id-1 div.sk-text-repr-fallback {display: none;}</style><div id=\"sk-container-id-1\" class=\"sk-top-container\"><div class=\"sk-text-repr-fallback\"><pre>KBinsDiscretizer(encode=&#x27;ordinal&#x27;)</pre><b>In a Jupyter environment, please rerun this cell to show the HTML representation or trust the notebook. <br />On GitHub, the HTML representation is unable to render, please try loading this page with nbviewer.org.</b></div><div class=\"sk-container\" hidden><div class=\"sk-item\"><div class=\"sk-estimator sk-toggleable\"><input class=\"sk-toggleable__control sk-hidden--visually\" id=\"sk-estimator-id-1\" type=\"checkbox\" checked><label for=\"sk-estimator-id-1\" class=\"sk-toggleable__label sk-toggleable__label-arrow\">KBinsDiscretizer</label><div class=\"sk-toggleable__content\"><pre>KBinsDiscretizer(encode=&#x27;ordinal&#x27;)</pre></div></div></div></div></div>"
            ]
          },
          "metadata": {},
          "execution_count": 35
        }
      ],
      "id": "xISzzlu5vzLw"
    },
    {
      "cell_type": "code",
      "source": [
        "var_disc = [f'disc_{v}' for v in varc]"
      ],
      "metadata": {
        "id": "sJWhuaDLv7l_"
      },
      "execution_count": 36,
      "outputs": [],
      "id": "sJWhuaDLv7l_"
    },
    {
      "cell_type": "code",
      "source": [
        "df[var_disc] = kb.transform(df[varc]).astype(int)"
      ],
      "metadata": {
        "id": "RoJqLOuEv_9_"
      },
      "execution_count": 37,
      "outputs": [],
      "id": "RoJqLOuEv_9_"
    },
    {
      "cell_type": "code",
      "source": [
        "list(map(len,kb.bin_edges_))"
      ],
      "metadata": {
        "colab": {
          "base_uri": "https://localhost:8080/"
        },
        "id": "WPfijEX8wDy7",
        "outputId": "1b4db0e6-a890-4aec-c058-cb00a017b8da"
      },
      "execution_count": 38,
      "outputs": [
        {
          "output_type": "execute_result",
          "data": {
            "text/plain": [
              "[6, 6, 6, 6, 6, 6, 6, 4, 2, 4, 2, 6, 6, 6, 6, 6, 6, 2, 2, 2, 3, 5, 6, 2, 4, 2]"
            ]
          },
          "metadata": {},
          "execution_count": 38
        }
      ],
      "id": "WPfijEX8wDy7"
    },
    {
      "cell_type": "code",
      "source": [
        "lsta = map(lambda z: dict(enumerate([f'({t[0]}|{t[1]}]'for t in zip(map(str, z), \n",
        "            map(str, z[1:]))])), kb.bin_edges_)"
      ],
      "metadata": {
        "id": "RTN77vzowHRF"
      },
      "execution_count": 39,
      "outputs": [],
      "id": "RTN77vzowHRF"
    },
    {
      "cell_type": "code",
      "source": [
        "for v, d in zip(var_disc, lsta):\n",
        "    df[v] = df[v].replace(d)"
      ],
      "metadata": {
        "id": "BJQLTYtbwKmr"
      },
      "execution_count": 40,
      "outputs": [],
      "id": "BJQLTYtbwKmr"
    },
    {
      "cell_type": "code",
      "source": [
        "freq(df,var_disc)"
      ],
      "metadata": {
        "colab": {
          "base_uri": "https://localhost:8080/"
        },
        "id": "fnvATirLwOVt",
        "outputId": "98aa7ad6-7cc8-4d6c-ea99-2afc786a86cf"
      },
      "execution_count": 41,
      "outputs": [
        {
          "output_type": "stream",
          "name": "stdout",
          "text": [
            "****Tabla de frecuencias  disc_AMT_INCOME_TOTAL  ***\n",
            "\n",
            "\n",
            "                            FA        FR      FAA       FRA\n",
            "(112500.0|135000.0]     200278  0.132692   200278  0.132692\n",
            "(135000.0|180000.0]     377657  0.250213   577935  0.382905\n",
            "(180000.0|225000.0]     258569  0.171312   836504  0.554217\n",
            "(225000.0|117000000.0]  391361  0.259292  1227865  0.813509\n",
            "(25650.0|112500.0]      281480  0.186491  1509345  1.000000\n",
            "\n",
            "\n",
            "\n",
            "\n",
            "****Tabla de frecuencias  disc_AMT_CREDIT  ***\n",
            "\n",
            "\n",
            "                          FA        FR      FAA       FRA\n",
            "(263686.5|450000.0]   276407  0.183130   276407  0.183130\n",
            "(45000.0|263686.5]    301065  0.199467   577472  0.382598\n",
            "(450000.0|651600.0]   328014  0.217322   905486  0.599920\n",
            "(651600.0|924394.5]   301889  0.200013  1207375  0.799933\n",
            "(924394.5|4050000.0]  301970  0.200067  1509345  1.000000\n",
            "\n",
            "\n",
            "\n",
            "\n",
            "****Tabla de frecuencias  disc_AMT_ANNUITY  ***\n",
            "\n",
            "\n",
            "                        FA        FR      FAA       FRA\n",
            "(15192.0|22050.0]   300224  0.198910   300224  0.198910\n",
            "(1615.5|15192.0]    301799  0.199954   602023  0.398864\n",
            "(22050.0|28561.5]   303453  0.201049   905476  0.599913\n",
            "(28561.5|37800.0]   297849  0.197337  1203325  0.797250\n",
            "(37800.0|258025.5]  306020  0.202750  1509345  1.000000\n",
            "\n",
            "\n",
            "\n",
            "\n",
            "****Tabla de frecuencias  disc_AMT_GOODS_PRICE  ***\n",
            "\n",
            "\n",
            "                          FA        FR      FAA       FRA\n",
            "(225000.0|441000.0]   398700  0.264154   398700  0.264154\n",
            "(40500.0|225000.0]    204210  0.135297   602910  0.399451\n",
            "(441000.0|585000.0]   301394  0.199685   904304  0.599137\n",
            "(585000.0|900000.0]   296574  0.196492  1200878  0.795629\n",
            "(900000.0|4050000.0]  308467  0.204371  1509345  1.000000\n",
            "\n",
            "\n",
            "\n",
            "\n",
            "****Tabla de frecuencias  disc_YEARS_BIRTH  ***\n",
            "\n",
            "\n",
            "                                            FA        FR      FAA       FRA\n",
            "(20.503764544832308|33.37713894592745]  301794  0.199950   301794  0.199950\n",
            "(33.37713894592745|40.380561259411365]  301845  0.199984   603639  0.399934\n",
            "(40.380561259411365|47.73442847364819]  301870  0.200001   905509  0.599935\n",
            "(47.73442847364819|56.323066392881586]  301880  0.200007  1207389  0.799942\n",
            "(56.323066392881586|69.07323750855578]  301956  0.200058  1509345  1.000000\n",
            "\n",
            "\n",
            "\n",
            "\n",
            "****Tabla de frecuencias  disc_YEARS_EMPLOYED  ***\n",
            "\n",
            "\n",
            "                                              FA        FR      FAA       FRA\n",
            "(-999.98083504449|0.48459958932238195]    301667  0.199866   301667  0.199866\n",
            "(0.48459958932238195|2.6995208761122518]  301867  0.199999   603534  0.399865\n",
            "(10.136071184120338|49.040383299110196]   301869  0.200000   905403  0.599865\n",
            "(2.6995208761122518|5.607118412046543]    301942  0.200048  1207345  0.799913\n",
            "(5.607118412046543|10.136071184120338]    302000  0.200087  1509345  1.000000\n",
            "\n",
            "\n",
            "\n",
            "\n",
            "****Tabla de frecuencias  disc_YEARS_REGISTRATION  ***\n",
            "\n",
            "\n",
            "                                             FA        FR      FAA       FRA\n",
            "(0.0|4.030116358658453]                  301818  0.199966   301818  0.199966\n",
            "(14.921286789869953|22.392881587953458]  301795  0.199951   603613  0.399917\n",
            "(22.392881587953458|67.5482546201232]    301949  0.200053   905562  0.599970\n",
            "(4.030116358658453|9.555099247091034]    301895  0.200017  1207457  0.799987\n",
            "(9.555099247091034|14.921286789869953]   301888  0.200013  1509345  1.000000\n",
            "\n",
            "\n",
            "\n",
            "\n",
            "****Tabla de frecuencias  disc_OBS_30_CNT_SOCIAL_CIRCLE  ***\n",
            "\n",
            "\n",
            "                 FA        FR      FAA       FRA\n",
            "(0.0|1.0]    796046  0.527412   796046  0.527412\n",
            "(1.0|3.0]    389898  0.258323  1185944  0.785734\n",
            "(3.0|348.0]  323401  0.214266  1509345  1.000000\n",
            "\n",
            "\n",
            "\n",
            "\n",
            "****Tabla de frecuencias  disc_DEF_30_CNT_SOCIAL_CIRCLE  ***\n",
            "\n",
            "\n",
            "                 FA   FR      FAA  FRA\n",
            "(0.0|34.0]  1509345  1.0  1509345  1.0\n",
            "\n",
            "\n",
            "\n",
            "\n",
            "****Tabla de frecuencias  disc_OBS_60_CNT_SOCIAL_CIRCLE  ***\n",
            "\n",
            "\n",
            "                 FA        FR      FAA       FRA\n",
            "(0.0|1.0]    799680  0.529819   799680  0.529819\n",
            "(1.0|3.0]    390123  0.258472  1189803  0.788291\n",
            "(3.0|344.0]  319542  0.211709  1509345  1.000000\n",
            "\n",
            "\n",
            "\n",
            "\n",
            "****Tabla de frecuencias  disc_DEF_60_CNT_SOCIAL_CIRCLE  ***\n",
            "\n",
            "\n",
            "                 FA   FR      FAA  FRA\n",
            "(0.0|24.0]  1509345  1.0  1509345  1.0\n",
            "\n",
            "\n",
            "\n",
            "\n",
            "****Tabla de frecuencias  disc_DAYS_LAST_PHONE_CHANGE  ***\n",
            "\n",
            "\n",
            "                       FA        FR      FAA       FRA\n",
            "(-1273.0|-665.0]   301567  0.199800   301567  0.199800\n",
            "(-1817.0|-1273.0]  301992  0.200081   603559  0.399881\n",
            "(-215.0|0.0]       302125  0.200170   905684  0.600051\n",
            "(-4292.0|-1817.0]  301486  0.199746  1207170  0.799797\n",
            "(-665.0|-215.0]    302175  0.200203  1509345  1.000000\n",
            "\n",
            "\n",
            "\n",
            "\n",
            "****Tabla de frecuencias  disc_EXT_SOURCE_2  ***\n",
            "\n",
            "\n",
            "                                                FA        FR      FAA  \\\n",
            "(0.3540246695119468|0.5203711874119231]     301879  0.200007   301879   \n",
            "(0.5203711874119231|0.6111483137259782]     301856  0.199991   603735   \n",
            "(0.6111483137259782|0.6824006417218895]     301889  0.200013   905624   \n",
            "(0.6824006417218895|0.8549996664047012]     301873  0.200003  1207497   \n",
            "(8.173616518884397e-08|0.3540246695119468]  301848  0.199986  1509345   \n",
            "\n",
            "                                                 FRA  \n",
            "(0.3540246695119468|0.5203711874119231]     0.200007  \n",
            "(0.5203711874119231|0.6111483137259782]     0.399998  \n",
            "(0.6111483137259782|0.6824006417218895]     0.600011  \n",
            "(0.6824006417218895|0.8549996664047012]     0.800014  \n",
            "(8.173616518884397e-08|0.3540246695119468]  1.000000  \n",
            "\n",
            "\n",
            "\n",
            "\n",
            "****Tabla de frecuencias  disc_EXT_SOURCE_3  ***\n",
            "\n",
            "\n",
            "                                             FA        FR      FAA       FRA\n",
            "(0.0005272652387098|0.3092753558842053]  300941  0.199385   300941  0.199385\n",
            "(0.3092753558842053|0.4578995512067301]  302625  0.200501   603566  0.399886\n",
            "(0.4578995512067301|0.5442347412142162]  297667  0.197216   901233  0.597102\n",
            "(0.5442347412142162|0.6594055320683344]  303971  0.201393  1205204  0.798495\n",
            "(0.6594055320683344|0.8960095494948396]  304141  0.201505  1509345  1.000000\n",
            "\n",
            "\n",
            "\n",
            "\n",
            "****Tabla de frecuencias  disc_MED_SCORE  ***\n",
            "\n",
            "\n",
            "                                                FA        FR      FAA  \\\n",
            "(0.379341478436646|0.48366347259253417]     301875  0.200004   301875   \n",
            "(0.48366347259253417|0.5658525362175217]    301872  0.200002   603747   \n",
            "(0.5658525362175217|0.6444606461042723]     301870  0.200001   905617   \n",
            "(0.6444606461042723|0.8854883941521002]     301872  0.200002  1207489   \n",
            "(5.9396509293128426e-06|0.379341478436646]  301856  0.199991  1509345   \n",
            "\n",
            "                                                 FRA  \n",
            "(0.379341478436646|0.48366347259253417]     0.200004  \n",
            "(0.48366347259253417|0.5658525362175217]    0.400006  \n",
            "(0.5658525362175217|0.6444606461042723]     0.600007  \n",
            "(0.6444606461042723|0.8854883941521002]     0.800009  \n",
            "(5.9396509293128426e-06|0.379341478436646]  1.000000  \n",
            "\n",
            "\n",
            "\n",
            "\n",
            "****Tabla de frecuencias  disc_MIN_SCORE  ***\n",
            "\n",
            "\n",
            "                                                FA        FR      FAA  \\\n",
            "(0.2078888629212897|0.3254831608973915]     301863  0.199996   301863   \n",
            "(0.3254831608973915|0.4382813743111921]     301072  0.199472   602935   \n",
            "(0.4382813743111921|0.5549467685334323]     302286  0.200276   905221   \n",
            "(0.5549467685334323|0.878903368632926]      302258  0.200258  1207479   \n",
            "(8.173616518884397e-08|0.2078888629212897]  301866  0.199998  1509345   \n",
            "\n",
            "                                                 FRA  \n",
            "(0.2078888629212897|0.3254831608973915]     0.199996  \n",
            "(0.3254831608973915|0.4382813743111921]     0.399468  \n",
            "(0.4382813743111921|0.5549467685334323]     0.599744  \n",
            "(0.5549467685334323|0.878903368632926]      0.800002  \n",
            "(8.173616518884397e-08|0.2078888629212897]  1.000000  \n",
            "\n",
            "\n",
            "\n",
            "\n",
            "****Tabla de frecuencias  disc_MAX_SCORE  ***\n",
            "\n",
            "\n",
            "                                                 FA        FR      FAA  \\\n",
            "(0.5226973172821112|0.6185633500160956]      302769  0.200596   302769   \n",
            "(0.6185633500160956|0.6817058776720116]      301380  0.199676   604149   \n",
            "(0.6817058776720116|0.7407990879702335]      300962  0.199399   905111   \n",
            "(0.7407990879702335|0.962692770561306]       303265  0.200925  1208376   \n",
            "(5.9396509293128426e-06|0.5226973172821112]  300969  0.199404  1509345   \n",
            "\n",
            "                                                  FRA  \n",
            "(0.5226973172821112|0.6185633500160956]      0.200596  \n",
            "(0.6185633500160956|0.6817058776720116]      0.400272  \n",
            "(0.6817058776720116|0.7407990879702335]      0.599671  \n",
            "(0.7407990879702335|0.962692770561306]       0.800596  \n",
            "(5.9396509293128426e-06|0.5226973172821112]  1.000000  \n",
            "\n",
            "\n",
            "\n",
            "\n",
            "****Tabla de frecuencias  disc_AMT_REQ_CREDIT_BUREAU_HOUR  ***\n",
            "\n",
            "\n",
            "                FA   FR      FAA  FRA\n",
            "(0.0|4.0]  1509345  1.0  1509345  1.0\n",
            "\n",
            "\n",
            "\n",
            "\n",
            "****Tabla de frecuencias  disc_AMT_REQ_CREDIT_BUREAU_DAY  ***\n",
            "\n",
            "\n",
            "                FA   FR      FAA  FRA\n",
            "(0.0|9.0]  1509345  1.0  1509345  1.0\n",
            "\n",
            "\n",
            "\n",
            "\n",
            "****Tabla de frecuencias  disc_AMT_REQ_CREDIT_BUREAU_WEEK  ***\n",
            "\n",
            "\n",
            "                FA   FR      FAA  FRA\n",
            "(0.0|8.0]  1509345  1.0  1509345  1.0\n",
            "\n",
            "\n",
            "\n",
            "\n",
            "****Tabla de frecuencias  disc_AMT_REQ_CREDIT_BUREAU_MON  ***\n",
            "\n",
            "\n",
            "                 FA        FR      FAA       FRA\n",
            "(0.0|1.0]   1207387  0.799941  1207387  0.799941\n",
            "(1.0|27.0]   301958  0.200059  1509345  1.000000\n",
            "\n",
            "\n",
            "\n",
            "\n",
            "****Tabla de frecuencias  disc_AMT_REQ_CREDIT_BUREAU_YEAR  ***\n",
            "\n",
            "\n",
            "                FA        FR      FAA       FRA\n",
            "(0.0|1.0]   368050  0.243847   368050  0.243847\n",
            "(1.0|2.0]   356681  0.236315   724731  0.480163\n",
            "(2.0|3.0]   325479  0.215643  1050210  0.695805\n",
            "(3.0|25.0]  459135  0.304195  1509345  1.000000\n",
            "\n",
            "\n",
            "\n",
            "\n",
            "****Tabla de frecuencias  disc_YEARS_CREDIT  ***\n",
            "\n",
            "\n",
            "                                             FA        FR      FAA       FRA\n",
            "(0.0|1.0732375085557837]                 301546  0.199786   301546  0.199786\n",
            "(1.0732375085557837|2.1546885694729636]  301953  0.200056   603499  0.399842\n",
            "(2.1546885694729636|3.266255989048597]   301706  0.199892   905205  0.599734\n",
            "(3.266255989048597|5.106091718001369]    302074  0.200136  1207279  0.799869\n",
            "(5.106091718001369|8.0]                  302066  0.200131  1509345  1.000000\n",
            "\n",
            "\n",
            "\n",
            "\n",
            "****Tabla de frecuencias  disc_CREDIT_DAY_OVERDUE  ***\n",
            "\n",
            "\n",
            "                   FA   FR      FAA  FRA\n",
            "(0.0|2792.0]  1509345  1.0  1509345  1.0\n",
            "\n",
            "\n",
            "\n",
            "\n",
            "****Tabla de frecuencias  disc_AMT_CREDIT_SUM_DEBT  ***\n",
            "\n",
            "\n",
            "                            FA        FR      FAA       FRA\n",
            "(-4705600.32|0.0]         8418  0.005577     8418  0.005577\n",
            "(0.0|45108.0]          1199057  0.794422  1207475  0.799999\n",
            "(45108.0|170100000.0]   301870  0.200001  1509345  1.000000\n",
            "\n",
            "\n",
            "\n",
            "\n",
            "****Tabla de frecuencias  disc_AMT_CREDIT_SUM_OVERDUE  ***\n",
            "\n",
            "\n",
            "                      FA   FR      FAA  FRA\n",
            "(0.0|3756681.0]  1509345  1.0  1509345  1.0\n",
            "\n",
            "\n",
            "\n",
            "\n"
          ]
        }
      ],
      "id": "fnvATirLwOVt"
    },
    {
      "cell_type": "markdown",
      "source": [
        "##### Unarias"
      ],
      "metadata": {
        "id": "zShjgJGmIEUm"
      },
      "id": "zShjgJGmIEUm"
    },
    {
      "cell_type": "code",
      "source": [
        "unas = [v for v in var_disc if df[v].nunique()==1]\n",
        "var_disc = [v for v in var_disc if v not in unas]\n",
        "df.drop(unas,axis=1,inplace=True)"
      ],
      "metadata": {
        "id": "6cQiTePFIGr5"
      },
      "id": "6cQiTePFIGr5",
      "execution_count": 42,
      "outputs": []
    },
    {
      "cell_type": "markdown",
      "source": [
        "### Partición"
      ],
      "metadata": {
        "id": "q3UAO8c08v7c"
      },
      "id": "q3UAO8c08v7c"
    },
    {
      "cell_type": "code",
      "source": [
        "df = df[um+var_norm+var_disc]"
      ],
      "metadata": {
        "id": "iBb1OBC9m0y3"
      },
      "id": "iBb1OBC9m0y3",
      "execution_count": 43,
      "outputs": []
    },
    {
      "cell_type": "code",
      "source": [
        "train = pd.merge(df[df['application_id'].isin(entrenamiento)].reset_index(drop=True),target,\n",
        "              on='application_id')\n",
        "valid = df[df['application_id'].isin(validacion)].reset_index(drop=True)\n",
        "train.shape,valid.shape"
      ],
      "metadata": {
        "colab": {
          "base_uri": "https://localhost:8080/"
        },
        "id": "zHe3nNQ98zyr",
        "outputId": "f0cd6b83-df4b-4440-932c-f538c1730357"
      },
      "execution_count": 44,
      "outputs": [
        {
          "output_type": "execute_result",
          "data": {
            "text/plain": [
              "((1057619, 32), (451726, 31))"
            ]
          },
          "metadata": {},
          "execution_count": 44
        }
      ],
      "id": "zHe3nNQ98zyr"
    },
    {
      "cell_type": "markdown",
      "source": [
        "### Transformación WoE"
      ],
      "metadata": {
        "id": "hH_rKoj73dCd"
      },
      "id": "hH_rKoj73dCd"
    },
    {
      "cell_type": "code",
      "source": [
        "def transformarWoE(v:str)->dict:\n",
        "    aux = train[[v]+vart].assign(n=1)\n",
        "    piv = aux.pivot_table(index=v,columns=vart,values='n',aggfunc='sum',fill_value=0)\n",
        "    piv/=piv.sum()\n",
        "    piv['woe'] = np.log(piv[0]/piv[1])\n",
        "    piv = piv[['woe']]\n",
        "    return v,piv.to_dict()['woe']"
      ],
      "metadata": {
        "id": "7keA7lCQ25t8"
      },
      "execution_count": 45,
      "outputs": [],
      "id": "7keA7lCQ25t8"
    },
    {
      "cell_type": "code",
      "source": [
        "mapa_woe = list(map(transformarWoE,var_norm+var_disc))"
      ],
      "metadata": {
        "id": "am501lpx4b3Z"
      },
      "execution_count": 46,
      "outputs": [],
      "id": "am501lpx4b3Z"
    },
    {
      "cell_type": "code",
      "source": [
        "for v,mapa in mapa_woe:\n",
        "    train[f'woe_{v}'] = train[v].replace(mapa)"
      ],
      "metadata": {
        "id": "zg-MlZD73h2w"
      },
      "execution_count": 47,
      "outputs": [],
      "id": "zg-MlZD73h2w"
    },
    {
      "cell_type": "code",
      "source": [
        "var_woe = [f'woe_{v}' for v in var_norm+var_disc]"
      ],
      "metadata": {
        "id": "Qbn_aBYq3jFo"
      },
      "execution_count": 48,
      "outputs": [],
      "id": "Qbn_aBYq3jFo"
    },
    {
      "cell_type": "markdown",
      "source": [
        "### Poder predictivo"
      ],
      "metadata": {
        "id": "Ob7sa_4R_6jQ"
      },
      "id": "Ob7sa_4R_6jQ"
    },
    {
      "cell_type": "code",
      "source": [
        "def Information_Value(v:str)->dict:\n",
        "    aux = train[[v]+vart].assign(n=1)\n",
        "    piv = aux.pivot_table(index=v,columns=vart,values='n',aggfunc='sum',fill_value=0)\n",
        "    piv/=piv.sum()\n",
        "    piv['woe'] = np.log(piv[0]/piv[1])\n",
        "    piv['iv'] = (piv[0]-piv[1])*piv['woe']\n",
        "    return v,piv.sum()['iv']"
      ],
      "metadata": {
        "id": "Vx-TBHEa_w09"
      },
      "execution_count": 49,
      "outputs": [],
      "id": "Vx-TBHEa_w09"
    },
    {
      "cell_type": "code",
      "source": [
        "IV = pd.DataFrame(map(Information_Value,var_norm+var_disc),columns=['variable','IV']\n",
        "                  ).sort_values('IV',ascending=False)\n",
        "IV"
      ],
      "metadata": {
        "colab": {
          "base_uri": "https://localhost:8080/",
          "height": 959
        },
        "id": "P0B-90S6AHcT",
        "outputId": "716e6569-de49-4baa-ad0f-bef4a3aed7b4"
      },
      "execution_count": 50,
      "outputs": [
        {
          "output_type": "execute_result",
          "data": {
            "text/plain": [
              "                           variable        IV\n",
              "22                   disc_MED_SCORE  0.571823\n",
              "23                   disc_MIN_SCORE  0.498268\n",
              "24                   disc_MAX_SCORE  0.385150\n",
              "21                disc_EXT_SOURCE_3  0.372674\n",
              "20                disc_EXT_SOURCE_2  0.240923\n",
              "15              disc_YEARS_EMPLOYED  0.075941\n",
              "14                 disc_YEARS_BIRTH  0.058893\n",
              "27                disc_YEARS_CREDIT  0.056488\n",
              "4                 n_OCCUPATION_TYPE  0.043792\n",
              "3             n_NAME_EDUCATION_TYPE  0.039036\n",
              "13             disc_AMT_GOODS_PRICE  0.036183\n",
              "11                  disc_AMT_CREDIT  0.035554\n",
              "2                n_NAME_INCOME_TYPE  0.033711\n",
              "19      disc_DAYS_LAST_PHONE_CHANGE  0.032573\n",
              "5                 n_FLAG_DOCUMENT_3  0.025308\n",
              "0              n_NAME_CONTRACT_TYPE  0.022521\n",
              "1                     n_CODE_GENDER  0.021829\n",
              "8                   n_CREDIT_ACTIVE  0.020801\n",
              "12                 disc_AMT_ANNUITY  0.020670\n",
              "16          disc_YEARS_REGISTRATION  0.017664\n",
              "28         disc_AMT_CREDIT_SUM_DEBT  0.015779\n",
              "26  disc_AMT_REQ_CREDIT_BUREAU_YEAR  0.011305\n",
              "9                     n_CREDIT_TYPE  0.006222\n",
              "6                 n_FLAG_DOCUMENT_6  0.004352\n",
              "10            disc_AMT_INCOME_TOTAL  0.003462\n",
              "18    disc_OBS_60_CNT_SOCIAL_CIRCLE  0.002813\n",
              "17    disc_OBS_30_CNT_SOCIAL_CIRCLE  0.002769\n",
              "7                 n_FLAG_DOCUMENT_8  0.001529\n",
              "25   disc_AMT_REQ_CREDIT_BUREAU_MON  0.000660"
            ],
            "text/html": [
              "\n",
              "  <div id=\"df-7ee5904f-d915-42b3-8f1d-9c4ac52f1bbb\">\n",
              "    <div class=\"colab-df-container\">\n",
              "      <div>\n",
              "<style scoped>\n",
              "    .dataframe tbody tr th:only-of-type {\n",
              "        vertical-align: middle;\n",
              "    }\n",
              "\n",
              "    .dataframe tbody tr th {\n",
              "        vertical-align: top;\n",
              "    }\n",
              "\n",
              "    .dataframe thead th {\n",
              "        text-align: right;\n",
              "    }\n",
              "</style>\n",
              "<table border=\"1\" class=\"dataframe\">\n",
              "  <thead>\n",
              "    <tr style=\"text-align: right;\">\n",
              "      <th></th>\n",
              "      <th>variable</th>\n",
              "      <th>IV</th>\n",
              "    </tr>\n",
              "  </thead>\n",
              "  <tbody>\n",
              "    <tr>\n",
              "      <th>22</th>\n",
              "      <td>disc_MED_SCORE</td>\n",
              "      <td>0.571823</td>\n",
              "    </tr>\n",
              "    <tr>\n",
              "      <th>23</th>\n",
              "      <td>disc_MIN_SCORE</td>\n",
              "      <td>0.498268</td>\n",
              "    </tr>\n",
              "    <tr>\n",
              "      <th>24</th>\n",
              "      <td>disc_MAX_SCORE</td>\n",
              "      <td>0.385150</td>\n",
              "    </tr>\n",
              "    <tr>\n",
              "      <th>21</th>\n",
              "      <td>disc_EXT_SOURCE_3</td>\n",
              "      <td>0.372674</td>\n",
              "    </tr>\n",
              "    <tr>\n",
              "      <th>20</th>\n",
              "      <td>disc_EXT_SOURCE_2</td>\n",
              "      <td>0.240923</td>\n",
              "    </tr>\n",
              "    <tr>\n",
              "      <th>15</th>\n",
              "      <td>disc_YEARS_EMPLOYED</td>\n",
              "      <td>0.075941</td>\n",
              "    </tr>\n",
              "    <tr>\n",
              "      <th>14</th>\n",
              "      <td>disc_YEARS_BIRTH</td>\n",
              "      <td>0.058893</td>\n",
              "    </tr>\n",
              "    <tr>\n",
              "      <th>27</th>\n",
              "      <td>disc_YEARS_CREDIT</td>\n",
              "      <td>0.056488</td>\n",
              "    </tr>\n",
              "    <tr>\n",
              "      <th>4</th>\n",
              "      <td>n_OCCUPATION_TYPE</td>\n",
              "      <td>0.043792</td>\n",
              "    </tr>\n",
              "    <tr>\n",
              "      <th>3</th>\n",
              "      <td>n_NAME_EDUCATION_TYPE</td>\n",
              "      <td>0.039036</td>\n",
              "    </tr>\n",
              "    <tr>\n",
              "      <th>13</th>\n",
              "      <td>disc_AMT_GOODS_PRICE</td>\n",
              "      <td>0.036183</td>\n",
              "    </tr>\n",
              "    <tr>\n",
              "      <th>11</th>\n",
              "      <td>disc_AMT_CREDIT</td>\n",
              "      <td>0.035554</td>\n",
              "    </tr>\n",
              "    <tr>\n",
              "      <th>2</th>\n",
              "      <td>n_NAME_INCOME_TYPE</td>\n",
              "      <td>0.033711</td>\n",
              "    </tr>\n",
              "    <tr>\n",
              "      <th>19</th>\n",
              "      <td>disc_DAYS_LAST_PHONE_CHANGE</td>\n",
              "      <td>0.032573</td>\n",
              "    </tr>\n",
              "    <tr>\n",
              "      <th>5</th>\n",
              "      <td>n_FLAG_DOCUMENT_3</td>\n",
              "      <td>0.025308</td>\n",
              "    </tr>\n",
              "    <tr>\n",
              "      <th>0</th>\n",
              "      <td>n_NAME_CONTRACT_TYPE</td>\n",
              "      <td>0.022521</td>\n",
              "    </tr>\n",
              "    <tr>\n",
              "      <th>1</th>\n",
              "      <td>n_CODE_GENDER</td>\n",
              "      <td>0.021829</td>\n",
              "    </tr>\n",
              "    <tr>\n",
              "      <th>8</th>\n",
              "      <td>n_CREDIT_ACTIVE</td>\n",
              "      <td>0.020801</td>\n",
              "    </tr>\n",
              "    <tr>\n",
              "      <th>12</th>\n",
              "      <td>disc_AMT_ANNUITY</td>\n",
              "      <td>0.020670</td>\n",
              "    </tr>\n",
              "    <tr>\n",
              "      <th>16</th>\n",
              "      <td>disc_YEARS_REGISTRATION</td>\n",
              "      <td>0.017664</td>\n",
              "    </tr>\n",
              "    <tr>\n",
              "      <th>28</th>\n",
              "      <td>disc_AMT_CREDIT_SUM_DEBT</td>\n",
              "      <td>0.015779</td>\n",
              "    </tr>\n",
              "    <tr>\n",
              "      <th>26</th>\n",
              "      <td>disc_AMT_REQ_CREDIT_BUREAU_YEAR</td>\n",
              "      <td>0.011305</td>\n",
              "    </tr>\n",
              "    <tr>\n",
              "      <th>9</th>\n",
              "      <td>n_CREDIT_TYPE</td>\n",
              "      <td>0.006222</td>\n",
              "    </tr>\n",
              "    <tr>\n",
              "      <th>6</th>\n",
              "      <td>n_FLAG_DOCUMENT_6</td>\n",
              "      <td>0.004352</td>\n",
              "    </tr>\n",
              "    <tr>\n",
              "      <th>10</th>\n",
              "      <td>disc_AMT_INCOME_TOTAL</td>\n",
              "      <td>0.003462</td>\n",
              "    </tr>\n",
              "    <tr>\n",
              "      <th>18</th>\n",
              "      <td>disc_OBS_60_CNT_SOCIAL_CIRCLE</td>\n",
              "      <td>0.002813</td>\n",
              "    </tr>\n",
              "    <tr>\n",
              "      <th>17</th>\n",
              "      <td>disc_OBS_30_CNT_SOCIAL_CIRCLE</td>\n",
              "      <td>0.002769</td>\n",
              "    </tr>\n",
              "    <tr>\n",
              "      <th>7</th>\n",
              "      <td>n_FLAG_DOCUMENT_8</td>\n",
              "      <td>0.001529</td>\n",
              "    </tr>\n",
              "    <tr>\n",
              "      <th>25</th>\n",
              "      <td>disc_AMT_REQ_CREDIT_BUREAU_MON</td>\n",
              "      <td>0.000660</td>\n",
              "    </tr>\n",
              "  </tbody>\n",
              "</table>\n",
              "</div>\n",
              "      <button class=\"colab-df-convert\" onclick=\"convertToInteractive('df-7ee5904f-d915-42b3-8f1d-9c4ac52f1bbb')\"\n",
              "              title=\"Convert this dataframe to an interactive table.\"\n",
              "              style=\"display:none;\">\n",
              "        \n",
              "  <svg xmlns=\"http://www.w3.org/2000/svg\" height=\"24px\"viewBox=\"0 0 24 24\"\n",
              "       width=\"24px\">\n",
              "    <path d=\"M0 0h24v24H0V0z\" fill=\"none\"/>\n",
              "    <path d=\"M18.56 5.44l.94 2.06.94-2.06 2.06-.94-2.06-.94-.94-2.06-.94 2.06-2.06.94zm-11 1L8.5 8.5l.94-2.06 2.06-.94-2.06-.94L8.5 2.5l-.94 2.06-2.06.94zm10 10l.94 2.06.94-2.06 2.06-.94-2.06-.94-.94-2.06-.94 2.06-2.06.94z\"/><path d=\"M17.41 7.96l-1.37-1.37c-.4-.4-.92-.59-1.43-.59-.52 0-1.04.2-1.43.59L10.3 9.45l-7.72 7.72c-.78.78-.78 2.05 0 2.83L4 21.41c.39.39.9.59 1.41.59.51 0 1.02-.2 1.41-.59l7.78-7.78 2.81-2.81c.8-.78.8-2.07 0-2.86zM5.41 20L4 18.59l7.72-7.72 1.47 1.35L5.41 20z\"/>\n",
              "  </svg>\n",
              "      </button>\n",
              "      \n",
              "  <style>\n",
              "    .colab-df-container {\n",
              "      display:flex;\n",
              "      flex-wrap:wrap;\n",
              "      gap: 12px;\n",
              "    }\n",
              "\n",
              "    .colab-df-convert {\n",
              "      background-color: #E8F0FE;\n",
              "      border: none;\n",
              "      border-radius: 50%;\n",
              "      cursor: pointer;\n",
              "      display: none;\n",
              "      fill: #1967D2;\n",
              "      height: 32px;\n",
              "      padding: 0 0 0 0;\n",
              "      width: 32px;\n",
              "    }\n",
              "\n",
              "    .colab-df-convert:hover {\n",
              "      background-color: #E2EBFA;\n",
              "      box-shadow: 0px 1px 2px rgba(60, 64, 67, 0.3), 0px 1px 3px 1px rgba(60, 64, 67, 0.15);\n",
              "      fill: #174EA6;\n",
              "    }\n",
              "\n",
              "    [theme=dark] .colab-df-convert {\n",
              "      background-color: #3B4455;\n",
              "      fill: #D2E3FC;\n",
              "    }\n",
              "\n",
              "    [theme=dark] .colab-df-convert:hover {\n",
              "      background-color: #434B5C;\n",
              "      box-shadow: 0px 1px 3px 1px rgba(0, 0, 0, 0.15);\n",
              "      filter: drop-shadow(0px 1px 2px rgba(0, 0, 0, 0.3));\n",
              "      fill: #FFFFFF;\n",
              "    }\n",
              "  </style>\n",
              "\n",
              "      <script>\n",
              "        const buttonEl =\n",
              "          document.querySelector('#df-7ee5904f-d915-42b3-8f1d-9c4ac52f1bbb button.colab-df-convert');\n",
              "        buttonEl.style.display =\n",
              "          google.colab.kernel.accessAllowed ? 'block' : 'none';\n",
              "\n",
              "        async function convertToInteractive(key) {\n",
              "          const element = document.querySelector('#df-7ee5904f-d915-42b3-8f1d-9c4ac52f1bbb');\n",
              "          const dataTable =\n",
              "            await google.colab.kernel.invokeFunction('convertToInteractive',\n",
              "                                                     [key], {});\n",
              "          if (!dataTable) return;\n",
              "\n",
              "          const docLinkHtml = 'Like what you see? Visit the ' +\n",
              "            '<a target=\"_blank\" href=https://colab.research.google.com/notebooks/data_table.ipynb>data table notebook</a>'\n",
              "            + ' to learn more about interactive tables.';\n",
              "          element.innerHTML = '';\n",
              "          dataTable['output_type'] = 'display_data';\n",
              "          await google.colab.output.renderOutput(dataTable, element);\n",
              "          const docLink = document.createElement('div');\n",
              "          docLink.innerHTML = docLinkHtml;\n",
              "          element.appendChild(docLink);\n",
              "        }\n",
              "      </script>\n",
              "    </div>\n",
              "  </div>\n",
              "  "
            ]
          },
          "metadata": {},
          "execution_count": 50
        }
      ],
      "id": "P0B-90S6AHcT"
    },
    {
      "cell_type": "code",
      "source": [
        "best = list(IV[IV['IV']>0.05]['variable'])\n",
        "best = [f'woe_{v}' for v in best]\n",
        "len(best)"
      ],
      "metadata": {
        "colab": {
          "base_uri": "https://localhost:8080/"
        },
        "id": "xBDiULagAYHb",
        "outputId": "47a30c86-e30d-4c70-b2b3-6685df374814"
      },
      "execution_count": 51,
      "outputs": [
        {
          "output_type": "execute_result",
          "data": {
            "text/plain": [
              "8"
            ]
          },
          "metadata": {},
          "execution_count": 51
        }
      ],
      "id": "xBDiULagAYHb"
    },
    {
      "cell_type": "markdown",
      "source": [
        "### Aprendizaje (Regresión Logística)"
      ],
      "metadata": {
        "id": "vb9ydiCFAzKR"
      },
      "id": "vb9ydiCFAzKR"
    },
    {
      "cell_type": "code",
      "source": [
        "mod = LogisticRegression()\n",
        "mod.fit(train[best],train['TARGET'])"
      ],
      "metadata": {
        "colab": {
          "base_uri": "https://localhost:8080/",
          "height": 75
        },
        "id": "xCOoAXDFArei",
        "outputId": "ec8d178b-2984-490d-cdc1-b9e704b3b0db"
      },
      "execution_count": 52,
      "outputs": [
        {
          "output_type": "execute_result",
          "data": {
            "text/plain": [
              "LogisticRegression()"
            ],
            "text/html": [
              "<style>#sk-container-id-2 {color: black;background-color: white;}#sk-container-id-2 pre{padding: 0;}#sk-container-id-2 div.sk-toggleable {background-color: white;}#sk-container-id-2 label.sk-toggleable__label {cursor: pointer;display: block;width: 100%;margin-bottom: 0;padding: 0.3em;box-sizing: border-box;text-align: center;}#sk-container-id-2 label.sk-toggleable__label-arrow:before {content: \"▸\";float: left;margin-right: 0.25em;color: #696969;}#sk-container-id-2 label.sk-toggleable__label-arrow:hover:before {color: black;}#sk-container-id-2 div.sk-estimator:hover label.sk-toggleable__label-arrow:before {color: black;}#sk-container-id-2 div.sk-toggleable__content {max-height: 0;max-width: 0;overflow: hidden;text-align: left;background-color: #f0f8ff;}#sk-container-id-2 div.sk-toggleable__content pre {margin: 0.2em;color: black;border-radius: 0.25em;background-color: #f0f8ff;}#sk-container-id-2 input.sk-toggleable__control:checked~div.sk-toggleable__content {max-height: 200px;max-width: 100%;overflow: auto;}#sk-container-id-2 input.sk-toggleable__control:checked~label.sk-toggleable__label-arrow:before {content: \"▾\";}#sk-container-id-2 div.sk-estimator input.sk-toggleable__control:checked~label.sk-toggleable__label {background-color: #d4ebff;}#sk-container-id-2 div.sk-label input.sk-toggleable__control:checked~label.sk-toggleable__label {background-color: #d4ebff;}#sk-container-id-2 input.sk-hidden--visually {border: 0;clip: rect(1px 1px 1px 1px);clip: rect(1px, 1px, 1px, 1px);height: 1px;margin: -1px;overflow: hidden;padding: 0;position: absolute;width: 1px;}#sk-container-id-2 div.sk-estimator {font-family: monospace;background-color: #f0f8ff;border: 1px dotted black;border-radius: 0.25em;box-sizing: border-box;margin-bottom: 0.5em;}#sk-container-id-2 div.sk-estimator:hover {background-color: #d4ebff;}#sk-container-id-2 div.sk-parallel-item::after {content: \"\";width: 100%;border-bottom: 1px solid gray;flex-grow: 1;}#sk-container-id-2 div.sk-label:hover label.sk-toggleable__label {background-color: #d4ebff;}#sk-container-id-2 div.sk-serial::before {content: \"\";position: absolute;border-left: 1px solid gray;box-sizing: border-box;top: 0;bottom: 0;left: 50%;z-index: 0;}#sk-container-id-2 div.sk-serial {display: flex;flex-direction: column;align-items: center;background-color: white;padding-right: 0.2em;padding-left: 0.2em;position: relative;}#sk-container-id-2 div.sk-item {position: relative;z-index: 1;}#sk-container-id-2 div.sk-parallel {display: flex;align-items: stretch;justify-content: center;background-color: white;position: relative;}#sk-container-id-2 div.sk-item::before, #sk-container-id-2 div.sk-parallel-item::before {content: \"\";position: absolute;border-left: 1px solid gray;box-sizing: border-box;top: 0;bottom: 0;left: 50%;z-index: -1;}#sk-container-id-2 div.sk-parallel-item {display: flex;flex-direction: column;z-index: 1;position: relative;background-color: white;}#sk-container-id-2 div.sk-parallel-item:first-child::after {align-self: flex-end;width: 50%;}#sk-container-id-2 div.sk-parallel-item:last-child::after {align-self: flex-start;width: 50%;}#sk-container-id-2 div.sk-parallel-item:only-child::after {width: 0;}#sk-container-id-2 div.sk-dashed-wrapped {border: 1px dashed gray;margin: 0 0.4em 0.5em 0.4em;box-sizing: border-box;padding-bottom: 0.4em;background-color: white;}#sk-container-id-2 div.sk-label label {font-family: monospace;font-weight: bold;display: inline-block;line-height: 1.2em;}#sk-container-id-2 div.sk-label-container {text-align: center;}#sk-container-id-2 div.sk-container {/* jupyter's `normalize.less` sets `[hidden] { display: none; }` but bootstrap.min.css set `[hidden] { display: none !important; }` so we also need the `!important` here to be able to override the default hidden behavior on the sphinx rendered scikit-learn.org. See: https://github.com/scikit-learn/scikit-learn/issues/21755 */display: inline-block !important;position: relative;}#sk-container-id-2 div.sk-text-repr-fallback {display: none;}</style><div id=\"sk-container-id-2\" class=\"sk-top-container\"><div class=\"sk-text-repr-fallback\"><pre>LogisticRegression()</pre><b>In a Jupyter environment, please rerun this cell to show the HTML representation or trust the notebook. <br />On GitHub, the HTML representation is unable to render, please try loading this page with nbviewer.org.</b></div><div class=\"sk-container\" hidden><div class=\"sk-item\"><div class=\"sk-estimator sk-toggleable\"><input class=\"sk-toggleable__control sk-hidden--visually\" id=\"sk-estimator-id-2\" type=\"checkbox\" checked><label for=\"sk-estimator-id-2\" class=\"sk-toggleable__label sk-toggleable__label-arrow\">LogisticRegression</label><div class=\"sk-toggleable__content\"><pre>LogisticRegression()</pre></div></div></div></div></div>"
            ]
          },
          "metadata": {},
          "execution_count": 52
        }
      ],
      "id": "xCOoAXDFArei"
    },
    {
      "cell_type": "code",
      "source": [
        "coef = mod.coef_\n",
        "coef"
      ],
      "metadata": {
        "colab": {
          "base_uri": "https://localhost:8080/"
        },
        "id": "a_ckviOiBBBF",
        "outputId": "8e3fe1c2-afc6-4891-b99b-93cd5526b233"
      },
      "execution_count": 53,
      "outputs": [
        {
          "output_type": "execute_result",
          "data": {
            "text/plain": [
              "array([[-0.29476059, -0.39691257, -0.27634759, -0.36750029, -0.19100997,\n",
              "        -0.55361571, -0.0222169 , -0.29261111]])"
            ]
          },
          "metadata": {},
          "execution_count": 53
        }
      ],
      "id": "a_ckviOiBBBF"
    },
    {
      "cell_type": "code",
      "source": [
        "alpha = mod.intercept_[0]\n",
        "alpha"
      ],
      "metadata": {
        "colab": {
          "base_uri": "https://localhost:8080/"
        },
        "id": "M7X61HxaBHFN",
        "outputId": "4c721bb0-2f48-426e-d291-1354527de59f"
      },
      "execution_count": 54,
      "outputs": [
        {
          "output_type": "execute_result",
          "data": {
            "text/plain": [
              "-2.457317509792675"
            ]
          },
          "metadata": {},
          "execution_count": 54
        }
      ],
      "id": "M7X61HxaBHFN"
    },
    {
      "cell_type": "code",
      "source": [
        "roc_auc_score(train['TARGET'],mod.predict_proba(train[best])[:,1])"
      ],
      "metadata": {
        "colab": {
          "base_uri": "https://localhost:8080/"
        },
        "id": "M3HZbPrmBIiz",
        "outputId": "da883812-3a93-4c10-d0fe-c043b824af69"
      },
      "execution_count": 55,
      "outputs": [
        {
          "output_type": "execute_result",
          "data": {
            "text/plain": [
              "0.7285195927116526"
            ]
          },
          "metadata": {},
          "execution_count": 55
        }
      ],
      "id": "M3HZbPrmBIiz"
    },
    {
      "cell_type": "code",
      "source": [
        "entrenar = train[um_1+best+vart].groupby('application_id').max().reset_index()"
      ],
      "metadata": {
        "id": "maXo4FrCICBS"
      },
      "id": "maXo4FrCICBS",
      "execution_count": 56,
      "outputs": []
    },
    {
      "cell_type": "code",
      "source": [
        "roc_auc_score(entrenar['TARGET'],mod.predict_proba(entrenar[best])[:,1])"
      ],
      "metadata": {
        "colab": {
          "base_uri": "https://localhost:8080/"
        },
        "id": "kTV7UawZIgSU",
        "outputId": "54b23f3e-b4a5-41e7-ba29-ed4540835d1c"
      },
      "id": "kTV7UawZIgSU",
      "execution_count": 57,
      "outputs": [
        {
          "output_type": "execute_result",
          "data": {
            "text/plain": [
              "0.7212077992752599"
            ]
          },
          "metadata": {},
          "execution_count": 57
        }
      ]
    },
    {
      "cell_type": "markdown",
      "source": [
        "### Validación del modelo"
      ],
      "metadata": {
        "id": "UKPvf0NUNhsQ"
      },
      "id": "UKPvf0NUNhsQ"
    },
    {
      "cell_type": "code",
      "source": [
        "for v,mapa in mapa_woe:\n",
        "    valid[f'woe_{v}'] = valid[v].replace(mapa)"
      ],
      "metadata": {
        "id": "6oKwiF14PAOL"
      },
      "id": "6oKwiF14PAOL",
      "execution_count": 58,
      "outputs": []
    },
    {
      "cell_type": "code",
      "source": [
        "probabilidad = valid[um_1+best]\n",
        "probabilidad[['prob1','prob']] = mod.predict_proba(probabilidad[best])\n",
        "probabilidad = probabilidad[['application_id','prob']]\n",
        "probabilidad=probabilidad[['application_id','prob']].groupby('application_id').max().reset_index() \n",
        "probabilidad"
      ],
      "metadata": {
        "colab": {
          "base_uri": "https://localhost:8080/",
          "height": 424
        },
        "id": "E35yNzGDWsxt",
        "outputId": "ae8c95a1-cec5-49c1-f983-37206fa10469"
      },
      "id": "E35yNzGDWsxt",
      "execution_count": 59,
      "outputs": [
        {
          "output_type": "execute_result",
          "data": {
            "text/plain": [
              "      application_id      prob\n",
              "0         A000000004  0.128299\n",
              "1         A000000008  0.076998\n",
              "2         A000000011  0.024135\n",
              "3         A000000013  0.024113\n",
              "4         A000000014  0.023972\n",
              "...              ...       ...\n",
              "92249     A000456056  0.027516\n",
              "92250     A000456060  0.039380\n",
              "92251     A000456069  0.015789\n",
              "92252     A000456075  0.020046\n",
              "92253     A000456079  0.051326\n",
              "\n",
              "[92254 rows x 2 columns]"
            ],
            "text/html": [
              "\n",
              "  <div id=\"df-308c11d4-09a3-4e4a-93d2-80e9afd75bc8\">\n",
              "    <div class=\"colab-df-container\">\n",
              "      <div>\n",
              "<style scoped>\n",
              "    .dataframe tbody tr th:only-of-type {\n",
              "        vertical-align: middle;\n",
              "    }\n",
              "\n",
              "    .dataframe tbody tr th {\n",
              "        vertical-align: top;\n",
              "    }\n",
              "\n",
              "    .dataframe thead th {\n",
              "        text-align: right;\n",
              "    }\n",
              "</style>\n",
              "<table border=\"1\" class=\"dataframe\">\n",
              "  <thead>\n",
              "    <tr style=\"text-align: right;\">\n",
              "      <th></th>\n",
              "      <th>application_id</th>\n",
              "      <th>prob</th>\n",
              "    </tr>\n",
              "  </thead>\n",
              "  <tbody>\n",
              "    <tr>\n",
              "      <th>0</th>\n",
              "      <td>A000000004</td>\n",
              "      <td>0.128299</td>\n",
              "    </tr>\n",
              "    <tr>\n",
              "      <th>1</th>\n",
              "      <td>A000000008</td>\n",
              "      <td>0.076998</td>\n",
              "    </tr>\n",
              "    <tr>\n",
              "      <th>2</th>\n",
              "      <td>A000000011</td>\n",
              "      <td>0.024135</td>\n",
              "    </tr>\n",
              "    <tr>\n",
              "      <th>3</th>\n",
              "      <td>A000000013</td>\n",
              "      <td>0.024113</td>\n",
              "    </tr>\n",
              "    <tr>\n",
              "      <th>4</th>\n",
              "      <td>A000000014</td>\n",
              "      <td>0.023972</td>\n",
              "    </tr>\n",
              "    <tr>\n",
              "      <th>...</th>\n",
              "      <td>...</td>\n",
              "      <td>...</td>\n",
              "    </tr>\n",
              "    <tr>\n",
              "      <th>92249</th>\n",
              "      <td>A000456056</td>\n",
              "      <td>0.027516</td>\n",
              "    </tr>\n",
              "    <tr>\n",
              "      <th>92250</th>\n",
              "      <td>A000456060</td>\n",
              "      <td>0.039380</td>\n",
              "    </tr>\n",
              "    <tr>\n",
              "      <th>92251</th>\n",
              "      <td>A000456069</td>\n",
              "      <td>0.015789</td>\n",
              "    </tr>\n",
              "    <tr>\n",
              "      <th>92252</th>\n",
              "      <td>A000456075</td>\n",
              "      <td>0.020046</td>\n",
              "    </tr>\n",
              "    <tr>\n",
              "      <th>92253</th>\n",
              "      <td>A000456079</td>\n",
              "      <td>0.051326</td>\n",
              "    </tr>\n",
              "  </tbody>\n",
              "</table>\n",
              "<p>92254 rows × 2 columns</p>\n",
              "</div>\n",
              "      <button class=\"colab-df-convert\" onclick=\"convertToInteractive('df-308c11d4-09a3-4e4a-93d2-80e9afd75bc8')\"\n",
              "              title=\"Convert this dataframe to an interactive table.\"\n",
              "              style=\"display:none;\">\n",
              "        \n",
              "  <svg xmlns=\"http://www.w3.org/2000/svg\" height=\"24px\"viewBox=\"0 0 24 24\"\n",
              "       width=\"24px\">\n",
              "    <path d=\"M0 0h24v24H0V0z\" fill=\"none\"/>\n",
              "    <path d=\"M18.56 5.44l.94 2.06.94-2.06 2.06-.94-2.06-.94-.94-2.06-.94 2.06-2.06.94zm-11 1L8.5 8.5l.94-2.06 2.06-.94-2.06-.94L8.5 2.5l-.94 2.06-2.06.94zm10 10l.94 2.06.94-2.06 2.06-.94-2.06-.94-.94-2.06-.94 2.06-2.06.94z\"/><path d=\"M17.41 7.96l-1.37-1.37c-.4-.4-.92-.59-1.43-.59-.52 0-1.04.2-1.43.59L10.3 9.45l-7.72 7.72c-.78.78-.78 2.05 0 2.83L4 21.41c.39.39.9.59 1.41.59.51 0 1.02-.2 1.41-.59l7.78-7.78 2.81-2.81c.8-.78.8-2.07 0-2.86zM5.41 20L4 18.59l7.72-7.72 1.47 1.35L5.41 20z\"/>\n",
              "  </svg>\n",
              "      </button>\n",
              "      \n",
              "  <style>\n",
              "    .colab-df-container {\n",
              "      display:flex;\n",
              "      flex-wrap:wrap;\n",
              "      gap: 12px;\n",
              "    }\n",
              "\n",
              "    .colab-df-convert {\n",
              "      background-color: #E8F0FE;\n",
              "      border: none;\n",
              "      border-radius: 50%;\n",
              "      cursor: pointer;\n",
              "      display: none;\n",
              "      fill: #1967D2;\n",
              "      height: 32px;\n",
              "      padding: 0 0 0 0;\n",
              "      width: 32px;\n",
              "    }\n",
              "\n",
              "    .colab-df-convert:hover {\n",
              "      background-color: #E2EBFA;\n",
              "      box-shadow: 0px 1px 2px rgba(60, 64, 67, 0.3), 0px 1px 3px 1px rgba(60, 64, 67, 0.15);\n",
              "      fill: #174EA6;\n",
              "    }\n",
              "\n",
              "    [theme=dark] .colab-df-convert {\n",
              "      background-color: #3B4455;\n",
              "      fill: #D2E3FC;\n",
              "    }\n",
              "\n",
              "    [theme=dark] .colab-df-convert:hover {\n",
              "      background-color: #434B5C;\n",
              "      box-shadow: 0px 1px 3px 1px rgba(0, 0, 0, 0.15);\n",
              "      filter: drop-shadow(0px 1px 2px rgba(0, 0, 0, 0.3));\n",
              "      fill: #FFFFFF;\n",
              "    }\n",
              "  </style>\n",
              "\n",
              "      <script>\n",
              "        const buttonEl =\n",
              "          document.querySelector('#df-308c11d4-09a3-4e4a-93d2-80e9afd75bc8 button.colab-df-convert');\n",
              "        buttonEl.style.display =\n",
              "          google.colab.kernel.accessAllowed ? 'block' : 'none';\n",
              "\n",
              "        async function convertToInteractive(key) {\n",
              "          const element = document.querySelector('#df-308c11d4-09a3-4e4a-93d2-80e9afd75bc8');\n",
              "          const dataTable =\n",
              "            await google.colab.kernel.invokeFunction('convertToInteractive',\n",
              "                                                     [key], {});\n",
              "          if (!dataTable) return;\n",
              "\n",
              "          const docLinkHtml = 'Like what you see? Visit the ' +\n",
              "            '<a target=\"_blank\" href=https://colab.research.google.com/notebooks/data_table.ipynb>data table notebook</a>'\n",
              "            + ' to learn more about interactive tables.';\n",
              "          element.innerHTML = '';\n",
              "          dataTable['output_type'] = 'display_data';\n",
              "          await google.colab.output.renderOutput(dataTable, element);\n",
              "          const docLink = document.createElement('div');\n",
              "          docLink.innerHTML = docLinkHtml;\n",
              "          element.appendChild(docLink);\n",
              "        }\n",
              "      </script>\n",
              "    </div>\n",
              "  </div>\n",
              "  "
            ]
          },
          "metadata": {},
          "execution_count": 59
        }
      ]
    },
    {
      "cell_type": "code",
      "source": [
        "probabilidad.to_csv('MARTINEZ_SEDAS_MARIA_GUADALUPE.csv', header = False, index=False, sep=',')"
      ],
      "metadata": {
        "id": "HjSPd6HiJFmC"
      },
      "id": "HjSPd6HiJFmC",
      "execution_count": 60,
      "outputs": []
    }
  ],
  "metadata": {
    "kernelspec": {
      "display_name": "Python 3 (ipykernel)",
      "language": "python",
      "name": "python3"
    },
    "language_info": {
      "codemirror_mode": {
        "name": "ipython",
        "version": 3
      },
      "file_extension": ".py",
      "mimetype": "text/x-python",
      "name": "python",
      "nbconvert_exporter": "python",
      "pygments_lexer": "ipython3",
      "version": "3.9.13"
    },
    "colab": {
      "provenance": []
    }
  },
  "nbformat": 4,
  "nbformat_minor": 5
}