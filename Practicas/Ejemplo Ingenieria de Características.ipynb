{
 "cells": [
  {
   "cell_type": "markdown",
   "metadata": {},
   "source": [
    "### DEPENDENCIAS"
   ]
  },
  {
   "cell_type": "code",
   "execution_count": 1,
   "metadata": {},
   "outputs": [],
   "source": [
    "import numpy as np\n",
    "import pandas as pd\n",
    "import seaborn as sns\n",
    "from functools import reduce "
   ]
  },
  {
   "cell_type": "markdown",
   "metadata": {},
   "source": [
    "### Lectura de datos"
   ]
  },
  {
   "cell_type": "code",
   "execution_count": 2,
   "metadata": {},
   "outputs": [],
   "source": [
    "ruta = '/home/guadalupe/analisis/Datos/Taxi_Trips.csv'"
   ]
  },
  {
   "cell_type": "code",
   "execution_count": 3,
   "metadata": {},
   "outputs": [],
   "source": [
    "columnas= ['Trip ID','Taxi ID','Trip Start Timestamp','Trip End Timestamp','Trip Seconds','Trip Miles','Fare','Tips','Tolls','Extras','Trip Total','Payment Type','Company','Pickup Centroid Latitude','Pickup Centroid Longitude','Dropoff Centroid Latitude','Dropoff Centroid Longitude']"
   ]
  },
  {
   "cell_type": "code",
   "execution_count": 4,
   "metadata": {},
   "outputs": [],
   "source": [
    "df=pd.read_csv(ruta,usecols=columnas,dtype=str)"
   ]
  },
  {
   "cell_type": "code",
   "execution_count": 5,
   "metadata": {},
   "outputs": [
    {
     "data": {
      "text/plain": [
       "(438804, 17)"
      ]
     },
     "execution_count": 5,
     "metadata": {},
     "output_type": "execute_result"
    }
   ],
   "source": [
    "df.shape"
   ]
  },
  {
   "cell_type": "markdown",
   "metadata": {},
   "source": [
    "### Homologación de Tipos de Datos"
   ]
  },
  {
   "cell_type": "code",
   "execution_count": 6,
   "metadata": {},
   "outputs": [],
   "source": [
    "df.columns = ['trip_id', 'taxi_id', 'trip_start_ts', 'trip_end_ts', 'trip_seconds', 'trip_miles', 'fare', 'tips', 'tolls', 'extras', 'trip_total', 'payment_type', 'company', 'pu_lat', 'pu_lon', 'do_lat', 'do_lon']"
   ]
  },
  {
   "cell_type": "markdown",
   "metadata": {},
   "source": [
    "Vamos a convertir algunos elementos del DataFrame en datatime, pues son fechas con horas exactas."
   ]
  },
  {
   "cell_type": "code",
   "execution_count": 7,
   "metadata": {},
   "outputs": [],
   "source": [
    "for c in ['trip_start_ts', 'trip_end_ts']:\n",
    "    df[c] = pd.to_datetime(df[c], format='%m/%d/%Y %I:%M:%S %p')"
   ]
  },
  {
   "attachments": {},
   "cell_type": "markdown",
   "metadata": {},
   "source": [
    "Convertimos en número aquellos elementos que son numéricos."
   ]
  },
  {
   "cell_type": "code",
   "execution_count": 8,
   "metadata": {},
   "outputs": [],
   "source": [
    "for c in ['trip_seconds', 'trip_miles', 'fare', 'tips', 'tolls', 'extras', 'trip_total','pu_lat', 'pu_lon', 'do_lat', 'do_lon']:\n",
    "    df[c] = pd.to_numeric(df[c],errors = 'coerce')\n"
   ]
  },
  {
   "attachments": {},
   "cell_type": "markdown",
   "metadata": {},
   "source": [
    "### Ventanas de observación y predicción"
   ]
  },
  {
   "attachments": {},
   "cell_type": "markdown",
   "metadata": {},
   "source": [
    "Predecir el ingreso de la semana t+1 basado en las 3 semanas previas(incluyendo la semana de ancla)."
   ]
  },
  {
   "cell_type": "code",
   "execution_count": 9,
   "metadata": {},
   "outputs": [
    {
     "data": {
      "text/plain": [
       "0    202252\n",
       "1    202252\n",
       "2    202252\n",
       "3    202252\n",
       "4    202252\n",
       "Name: sem, dtype: object"
      ]
     },
     "execution_count": 9,
     "metadata": {},
     "output_type": "execute_result"
    }
   ],
   "source": [
    "df['sem']=df['trip_start_ts'].map(lambda x: x.strftime('%Y%U'))\n",
    "df['sem'].head()"
   ]
  },
  {
   "attachments": {},
   "cell_type": "markdown",
   "metadata": {},
   "source": [
    "* La función sort_values ordena los valores de una columna."
   ]
  },
  {
   "cell_type": "code",
   "execution_count": 10,
   "metadata": {},
   "outputs": [
    {
     "data": {
      "text/html": [
       "<div>\n",
       "<style scoped>\n",
       "    .dataframe tbody tr th:only-of-type {\n",
       "        vertical-align: middle;\n",
       "    }\n",
       "\n",
       "    .dataframe tbody tr th {\n",
       "        vertical-align: top;\n",
       "    }\n",
       "\n",
       "    .dataframe thead th {\n",
       "        text-align: right;\n",
       "    }\n",
       "</style>\n",
       "<table border=\"1\" class=\"dataframe\">\n",
       "  <thead>\n",
       "    <tr style=\"text-align: right;\">\n",
       "      <th></th>\n",
       "      <th>sem</th>\n",
       "      <th>id_sem</th>\n",
       "    </tr>\n",
       "  </thead>\n",
       "  <tbody>\n",
       "    <tr>\n",
       "      <th>0</th>\n",
       "      <td>202252</td>\n",
       "      <td>1</td>\n",
       "    </tr>\n",
       "    <tr>\n",
       "      <th>1</th>\n",
       "      <td>202301</td>\n",
       "      <td>2</td>\n",
       "    </tr>\n",
       "    <tr>\n",
       "      <th>2</th>\n",
       "      <td>202302</td>\n",
       "      <td>3</td>\n",
       "    </tr>\n",
       "    <tr>\n",
       "      <th>3</th>\n",
       "      <td>202303</td>\n",
       "      <td>4</td>\n",
       "    </tr>\n",
       "    <tr>\n",
       "      <th>4</th>\n",
       "      <td>202304</td>\n",
       "      <td>5</td>\n",
       "    </tr>\n",
       "    <tr>\n",
       "      <th>5</th>\n",
       "      <td>202305</td>\n",
       "      <td>6</td>\n",
       "    </tr>\n",
       "  </tbody>\n",
       "</table>\n",
       "</div>"
      ],
      "text/plain": [
       "      sem  id_sem\n",
       "0  202252       1\n",
       "1  202301       2\n",
       "2  202302       3\n",
       "3  202303       4\n",
       "4  202304       5\n",
       "5  202305       6"
      ]
     },
     "execution_count": 10,
     "metadata": {},
     "output_type": "execute_result"
    }
   ],
   "source": [
    "cat = df[['sem']].drop_duplicates().sort_values(by='sem').reset_index(drop=True)\n",
    "cat['id_sem'] = cat.index+1\n",
    "cat"
   ]
  },
  {
   "attachments": {},
   "cell_type": "markdown",
   "metadata": {},
   "source": [
    "Con inner indicamos que solo queremos los valores que estén en ambos dataframes y con on indicamos la columna por la que se hará la unión."
   ]
  },
  {
   "cell_type": "code",
   "execution_count": 11,
   "metadata": {},
   "outputs": [
    {
     "data": {
      "text/html": [
       "<div>\n",
       "<style scoped>\n",
       "    .dataframe tbody tr th:only-of-type {\n",
       "        vertical-align: middle;\n",
       "    }\n",
       "\n",
       "    .dataframe tbody tr th {\n",
       "        vertical-align: top;\n",
       "    }\n",
       "\n",
       "    .dataframe thead th {\n",
       "        text-align: right;\n",
       "    }\n",
       "</style>\n",
       "<table border=\"1\" class=\"dataframe\">\n",
       "  <thead>\n",
       "    <tr style=\"text-align: right;\">\n",
       "      <th></th>\n",
       "      <th>trip_id</th>\n",
       "      <th>taxi_id</th>\n",
       "      <th>trip_start_ts</th>\n",
       "      <th>trip_end_ts</th>\n",
       "      <th>trip_seconds</th>\n",
       "      <th>trip_miles</th>\n",
       "      <th>fare</th>\n",
       "      <th>tips</th>\n",
       "      <th>tolls</th>\n",
       "      <th>extras</th>\n",
       "      <th>trip_total</th>\n",
       "      <th>payment_type</th>\n",
       "      <th>company</th>\n",
       "      <th>pu_lat</th>\n",
       "      <th>pu_lon</th>\n",
       "      <th>do_lat</th>\n",
       "      <th>do_lon</th>\n",
       "      <th>id_sem</th>\n",
       "    </tr>\n",
       "  </thead>\n",
       "  <tbody>\n",
       "    <tr>\n",
       "      <th>0</th>\n",
       "      <td>00b5f60947ce8cbf6d2ff4e34a017eaf8a0c4e7e</td>\n",
       "      <td>29f0036be86a5830f9f045527766d16967c8330b9da28e...</td>\n",
       "      <td>2022-12-31 00:15:00</td>\n",
       "      <td>2022-12-31 00:15:00</td>\n",
       "      <td>480.0</td>\n",
       "      <td>1.30</td>\n",
       "      <td>7.00</td>\n",
       "      <td>0.00</td>\n",
       "      <td>0.0</td>\n",
       "      <td>0.0</td>\n",
       "      <td>7.00</td>\n",
       "      <td>Cash</td>\n",
       "      <td>Top Cab Affiliation</td>\n",
       "      <td>41.899602</td>\n",
       "      <td>-87.633308</td>\n",
       "      <td>41.874005</td>\n",
       "      <td>-87.663518</td>\n",
       "      <td>1</td>\n",
       "    </tr>\n",
       "    <tr>\n",
       "      <th>1</th>\n",
       "      <td>043e150290698c4cb693e4aeb63601e23b7fca2e</td>\n",
       "      <td>992641c74ae28a22b5d72e1f9fcc89ebda221b88c7bb03...</td>\n",
       "      <td>2022-12-31 00:15:00</td>\n",
       "      <td>2022-12-31 00:15:00</td>\n",
       "      <td>360.0</td>\n",
       "      <td>0.00</td>\n",
       "      <td>11.00</td>\n",
       "      <td>2.67</td>\n",
       "      <td>0.0</td>\n",
       "      <td>0.0</td>\n",
       "      <td>13.67</td>\n",
       "      <td>Mobile</td>\n",
       "      <td>Flash Cab</td>\n",
       "      <td>41.874005</td>\n",
       "      <td>-87.663518</td>\n",
       "      <td>41.874005</td>\n",
       "      <td>-87.663518</td>\n",
       "      <td>1</td>\n",
       "    </tr>\n",
       "    <tr>\n",
       "      <th>2</th>\n",
       "      <td>07be774e62b1c83fa6757e73c17a036789469003</td>\n",
       "      <td>9b48ad5744e86450fb4db78e7095a6827bafc43a6a9d9a...</td>\n",
       "      <td>2022-12-31 00:15:00</td>\n",
       "      <td>2022-12-31 00:15:00</td>\n",
       "      <td>224.0</td>\n",
       "      <td>0.61</td>\n",
       "      <td>4.75</td>\n",
       "      <td>0.00</td>\n",
       "      <td>0.0</td>\n",
       "      <td>2.0</td>\n",
       "      <td>6.75</td>\n",
       "      <td>Cash</td>\n",
       "      <td>Sun Taxi</td>\n",
       "      <td>41.944227</td>\n",
       "      <td>-87.655998</td>\n",
       "      <td>41.944227</td>\n",
       "      <td>-87.655998</td>\n",
       "      <td>1</td>\n",
       "    </tr>\n",
       "    <tr>\n",
       "      <th>3</th>\n",
       "      <td>0e8b90681639669ce6046e1dfddb0b23a05eed12</td>\n",
       "      <td>bd54bee5660726988fc54355ab54fc7cfd5c3917d911f9...</td>\n",
       "      <td>2022-12-31 00:15:00</td>\n",
       "      <td>2022-12-31 00:45:00</td>\n",
       "      <td>1213.0</td>\n",
       "      <td>15.25</td>\n",
       "      <td>38.50</td>\n",
       "      <td>6.75</td>\n",
       "      <td>0.0</td>\n",
       "      <td>6.0</td>\n",
       "      <td>51.75</td>\n",
       "      <td>Mobile</td>\n",
       "      <td>Taxicab Insurance Agency Llc</td>\n",
       "      <td>41.980264</td>\n",
       "      <td>-87.913625</td>\n",
       "      <td>41.922686</td>\n",
       "      <td>-87.649489</td>\n",
       "      <td>1</td>\n",
       "    </tr>\n",
       "    <tr>\n",
       "      <th>4</th>\n",
       "      <td>0f202891cc891722a9cb38b57adf4ddb0b5a0d24</td>\n",
       "      <td>b71c6761efe32829e7e453b0c6fcb78a456a7d83c720c7...</td>\n",
       "      <td>2022-12-31 00:15:00</td>\n",
       "      <td>2022-12-31 00:30:00</td>\n",
       "      <td>758.0</td>\n",
       "      <td>0.00</td>\n",
       "      <td>13.40</td>\n",
       "      <td>2.00</td>\n",
       "      <td>0.0</td>\n",
       "      <td>0.0</td>\n",
       "      <td>15.40</td>\n",
       "      <td>Mobile</td>\n",
       "      <td>Flash Cab</td>\n",
       "      <td>41.899602</td>\n",
       "      <td>-87.633308</td>\n",
       "      <td>41.922686</td>\n",
       "      <td>-87.649489</td>\n",
       "      <td>1</td>\n",
       "    </tr>\n",
       "  </tbody>\n",
       "</table>\n",
       "</div>"
      ],
      "text/plain": [
       "                                    trip_id  \\\n",
       "0  00b5f60947ce8cbf6d2ff4e34a017eaf8a0c4e7e   \n",
       "1  043e150290698c4cb693e4aeb63601e23b7fca2e   \n",
       "2  07be774e62b1c83fa6757e73c17a036789469003   \n",
       "3  0e8b90681639669ce6046e1dfddb0b23a05eed12   \n",
       "4  0f202891cc891722a9cb38b57adf4ddb0b5a0d24   \n",
       "\n",
       "                                             taxi_id       trip_start_ts  \\\n",
       "0  29f0036be86a5830f9f045527766d16967c8330b9da28e... 2022-12-31 00:15:00   \n",
       "1  992641c74ae28a22b5d72e1f9fcc89ebda221b88c7bb03... 2022-12-31 00:15:00   \n",
       "2  9b48ad5744e86450fb4db78e7095a6827bafc43a6a9d9a... 2022-12-31 00:15:00   \n",
       "3  bd54bee5660726988fc54355ab54fc7cfd5c3917d911f9... 2022-12-31 00:15:00   \n",
       "4  b71c6761efe32829e7e453b0c6fcb78a456a7d83c720c7... 2022-12-31 00:15:00   \n",
       "\n",
       "          trip_end_ts  trip_seconds  trip_miles   fare  tips  tolls  extras  \\\n",
       "0 2022-12-31 00:15:00         480.0        1.30   7.00  0.00    0.0     0.0   \n",
       "1 2022-12-31 00:15:00         360.0        0.00  11.00  2.67    0.0     0.0   \n",
       "2 2022-12-31 00:15:00         224.0        0.61   4.75  0.00    0.0     2.0   \n",
       "3 2022-12-31 00:45:00        1213.0       15.25  38.50  6.75    0.0     6.0   \n",
       "4 2022-12-31 00:30:00         758.0        0.00  13.40  2.00    0.0     0.0   \n",
       "\n",
       "   trip_total payment_type                       company     pu_lat  \\\n",
       "0        7.00         Cash           Top Cab Affiliation  41.899602   \n",
       "1       13.67       Mobile                     Flash Cab  41.874005   \n",
       "2        6.75         Cash                      Sun Taxi  41.944227   \n",
       "3       51.75       Mobile  Taxicab Insurance Agency Llc  41.980264   \n",
       "4       15.40       Mobile                     Flash Cab  41.899602   \n",
       "\n",
       "      pu_lon     do_lat     do_lon  id_sem  \n",
       "0 -87.633308  41.874005 -87.663518       1  \n",
       "1 -87.663518  41.874005 -87.663518       1  \n",
       "2 -87.655998  41.944227 -87.655998       1  \n",
       "3 -87.913625  41.922686 -87.649489       1  \n",
       "4 -87.633308  41.922686 -87.649489       1  "
      ]
     },
     "execution_count": 11,
     "metadata": {},
     "output_type": "execute_result"
    }
   ],
   "source": [
    " df = df.merge(cat, on=['sem'],how='inner').drop('sem',axis=1)\n",
    "df.head()   "
   ]
  },
  {
   "cell_type": "code",
   "execution_count": 12,
   "metadata": {},
   "outputs": [
    {
     "name": "stdout",
     "output_type": "stream",
     "text": [
      "para predecir la semana 4 se usan las semanas [1, 2, 3]\n",
      "para predecir la semana 5 se usan las semanas [2, 3, 4]\n",
      "para predecir la semana 6 se usan las semanas [3, 4, 5]\n"
     ]
    }
   ],
   "source": [
    "vobs=3 #Vamos a observar 3 semanas\n",
    "vpred=1 #Vamos a predecir 1 semana \n",
    "step=1 #Vamos a avanzar de a 1 semana\n",
    "ini, fin=df['id_sem'].min(), df['id_sem'].max()\n",
    "\n",
    "anclai, anclaf= ini+vobs-1, fin-vpred \n",
    "\n",
    "for a in range(anclai,anclaf+1):\n",
    "    print(f'para predecir la semana {a+vpred} se usan las semanas {list(range(a-vobs+1,a+1))}')"
   ]
  },
  {
   "attachments": {},
   "cell_type": "markdown",
   "metadata": {},
   "source": [
    "### Ingeniería de Características"
   ]
  },
  {
   "cell_type": "code",
   "execution_count": 13,
   "metadata": {},
   "outputs": [],
   "source": [
    "\n",
    "#******************************PASADO******************************\n",
    "# Total de millas recorridas en las últimas k semanas\n",
    "# Hora donde más actividad tuvo en la últimas k semanas\n",
    "# Cantidad de viajes realizados en las últimas k semanas\n",
    "# Porcentaje promedio de propinas en las últimas k semanas\n",
    "# Monto total de los viajes en las últimas k semanas \n",
    "# Velocidad media en las últimas k semanas \n",
    "#*******************************************************************"
   ]
  },
  {
   "attachments": {},
   "cell_type": "markdown",
   "metadata": {},
   "source": [
    "#### Matriz de características $\\mathcal{X}$"
   ]
  },
  {
   "attachments": {},
   "cell_type": "markdown",
   "metadata": {},
   "source": [
    "* La función np.isinf nos permite identificar los valores infinitos. Regresa true si el valor es infinito y false si no lo es.\n",
    "* La función np.nan represanta un valor nulo.\n",
    "* La función .assign() nos permite agregar una columna a un dataframe. Antes del punto va el DF y entre parentesis la columna que queremos agregar, seguido de un igual con el valor que va tomar esa columna.\n",
    "* La función pivot_table nos permite crear una especie de tabla dinámica.\n",
    "* La función idxmax() sirve para encontrar el indice de la fila (axis = 0)/columna (axis=1) que tenga el valor máximo."
   ]
  },
  {
   "cell_type": "code",
   "execution_count": 14,
   "metadata": {},
   "outputs": [],
   "source": [
    "def ingX(df:pd.DataFrame, ancla:int, k:int)->pd.DataFrame:\n",
    "    \"\"\" Computa las características de la unidad muestral taxi para un ancla específica en el tiempo\n",
    "    considerando 'k' ventanas hacia atrás (incluyendo la misma). Las anclas están en semanas.\n",
    "\n",
    "    Args:\n",
    "        df (pd.DataFrame): Datos transaccionales de viajes.\n",
    "        ancla (int): Ancla de posicionamiento.\n",
    "        k (int): Ventanas que vamos a observar(contando el ancla).\n",
    "\n",
    "    Returns:\n",
    "        pd.DataFrame: Matriz de características para el ancla especifíca y la sub-ventana de observación indicada.\n",
    "    \"\"\"\n",
    "\n",
    "    aux = df[(df['id_sem']<=ancla) & (df['id_sem']>=ancla-k+1)].copy().reset_index(drop=True)\n",
    "\n",
    "    # Recordemos que Velocidad = Distancia(m)/ Tiempo(s)= Distancia(km)/ Tiempo(h).\n",
    "    aux['speed']=(aux['trip_miles']*1.6)/(aux['trip_seconds']*1/3600)\n",
    "    aux['speed']=np.where(np.isinf(aux['speed']),np.nan,aux['speed'])\n",
    "    aux['pct_tips']=aux['tips']/aux['trip_total'] #Porcentaje de propinas\n",
    "    aux['hour']=aux['trip_start_ts'].map(lambda x: x.hour) # Columna con la hora de inicio del viaje.\n",
    "    \n",
    "    # Creamos una especie de tabla dinamica con los taxis como filas y las horas como columnas, dentro \n",
    "    # de cada celda se cuenta la cantidad de viajes realizados en esa hora por ese taxi.\n",
    "    piv = aux[['taxi_id','hour']].assign(n=1).pivot_table(index='taxi_id',columns='hour',values='n',aggfunc='sum')\n",
    "\n",
    "    # Obtenemos el id del taxi con más actividad en cada hora.\n",
    "    piv[f'x_hour_with most activity_last_{k}_weeks']=piv.idxmax(axis=1)\n",
    "    piv = piv[[f'x_hour_with most activity_last_{k}_weeks']].reset_index()\n",
    "    aux = aux.groupby('taxi_id').agg({'trip_miles':'sum','trip_start_ts':'count','trip_total':'sum','pct_tips':'mean','speed':'mean'})\n",
    "    aux.columns = [f'x_total_miles_in_last_{k}_weeks',f'x_total_trips_in_last_{k}_weeks',f'x_avg_tip_pct_in_last_{k}_weeks',\n",
    "                   f'x_total_renueve_in_last_{k}_weeks',f'x_mean_speed_in_last_{k}_weeks']\n",
    "    aux.reset_index(inplace= True)\n",
    "    aux = aux.merge(piv, on='taxi_id',how='outer')\n",
    "    aux.insert(1,'ancla',ancla)\n",
    "    return aux\n"
   ]
  },
  {
   "cell_type": "code",
   "execution_count": 15,
   "metadata": {},
   "outputs": [],
   "source": [
    "um =['taxi_id','ancla']"
   ]
  },
  {
   "attachments": {},
   "cell_type": "markdown",
   "metadata": {},
   "source": [
    "* La función enumerate sirve para enumerar los elementos de una lista. Regresa un objeto iterable que contiene tuplas con el indice y el valor de cada elemento de la lista."
   ]
  },
  {
   "cell_type": "code",
   "execution_count": 16,
   "metadata": {},
   "outputs": [
    {
     "data": {
      "text/plain": [
       "(6728, 20)"
      ]
     },
     "execution_count": 16,
     "metadata": {},
     "output_type": "execute_result"
    }
   ],
   "source": [
    "for j,ancla in enumerate(range(anclai,anclaf+1)):\n",
    "    for i,k in enumerate(range(step, vobs+step, step)):\n",
    "        if i==0:\n",
    "            x = ingX(df,ancla,k).copy()\n",
    "        else:\n",
    "            x = x.merge(ingX(df,ancla,k),on=um,how='outer')\n",
    "    if j==0:\n",
    "        X = x.copy()\n",
    "    else:\n",
    "        X = pd.concat([X,x],ignore_index=True)\n",
    "X.shape"
   ]
  },
  {
   "cell_type": "code",
   "execution_count": 17,
   "metadata": {},
   "outputs": [],
   "source": [
    "cruzar = lambda x,y: x.merge(y,on=um,how='outer')\n",
    "apilar = lambda x,y: pd.concat([x,y],ignore_index=True)"
   ]
  },
  {
   "attachments": {},
   "cell_type": "markdown",
   "metadata": {},
   "source": [
    "* La función reduce(función, lista) toma como argumento un conjunto de vlaores y lo \"reduce\" a un único valor. Toma los primeros dos valores y le aplica la función, luego lo guarda y toma el siguiente valor y le aplica la función junto al resultado anterior y así de manera consecutiva."
   ]
  },
  {
   "cell_type": "code",
   "execution_count": 18,
   "metadata": {},
   "outputs": [
    {
     "data": {
      "text/plain": [
       "(6728, 20)"
      ]
     },
     "execution_count": 18,
     "metadata": {},
     "output_type": "execute_result"
    }
   ],
   "source": [
    "X = reduce(apilar,map(lambda ancla: reduce(cruzar, map(lambda k: ingX(df,ancla,k), \n",
    "    range(step, vobs+step, step))), range(anclai,anclaf+1)))\n",
    "X.shape"
   ]
  },
  {
   "attachments": {},
   "cell_type": "markdown",
   "metadata": {},
   "source": [
    "### Vector de predicción $\\vec{y}$"
   ]
  },
  {
   "cell_type": "code",
   "execution_count": 23,
   "metadata": {},
   "outputs": [],
   "source": [
    "def ingY(df:pd.DataFrame, ancla:int)-> pd.DataFrame:\n",
    "    \"\"\"Genera la variables objetivo (1 semana de revenue futuro)\n",
    "\n",
    "    Args:\n",
    "        df(pd.DataFrame): Datos transaccionales de viajes.\n",
    "        ancla(int): Ancla de posicionamiento.\n",
    "\n",
    "    Returns:\n",
    "        pd.DataFrame: Vector de predicción para el ancla especifíca.\n",
    "    \"\"\"\n",
    "\n",
    "    aux = df[(df['id_sem']>ancla)&(df['id_sem']<=(ancla + vpred))].copy().reset_index(drop=True)\n",
    "    aux = aux[['taxi_id','trip_total']].groupby('taxi_id').sum().reset_index()\n",
    "    # Renombramos la columna con los ingresos totales de esa semana (ingresos objetivo/previstos)\n",
    "    aux.columns = ['taxi_id','target_revenue'] \n",
    "    aux.insert(1,'ancla',ancla)\n",
    "    return aux\n",
    "    "
   ]
  },
  {
   "cell_type": "code",
   "execution_count": 24,
   "metadata": {},
   "outputs": [],
   "source": [
    "y = reduce(apilar,map(lambda ancla: ingY(df,ancla), range(anclai, anclaf+1)))"
   ]
  },
  {
   "cell_type": "code",
   "execution_count": 25,
   "metadata": {},
   "outputs": [
    {
     "data": {
      "text/plain": [
       "array([3, 4, 5])"
      ]
     },
     "execution_count": 25,
     "metadata": {},
     "output_type": "execute_result"
    }
   ],
   "source": [
    "y.ancla.unique()"
   ]
  },
  {
   "attachments": {},
   "cell_type": "markdown",
   "metadata": {},
   "source": [
    "### Conjunto de entrenamiento "
   ]
  },
  {
   "cell_type": "code",
   "execution_count": 26,
   "metadata": {},
   "outputs": [
    {
     "data": {
      "text/plain": [
       "(6131, 21)"
      ]
     },
     "execution_count": 26,
     "metadata": {},
     "output_type": "execute_result"
    }
   ],
   "source": [
    "Sn = X.merge(y,on=um,how='inner')\n",
    "Sn.shape"
   ]
  },
  {
   "cell_type": "code",
   "execution_count": 27,
   "metadata": {},
   "outputs": [
    {
     "data": {
      "text/html": [
       "<div>\n",
       "<style scoped>\n",
       "    .dataframe tbody tr th:only-of-type {\n",
       "        vertical-align: middle;\n",
       "    }\n",
       "\n",
       "    .dataframe tbody tr th {\n",
       "        vertical-align: top;\n",
       "    }\n",
       "\n",
       "    .dataframe thead th {\n",
       "        text-align: right;\n",
       "    }\n",
       "</style>\n",
       "<table border=\"1\" class=\"dataframe\">\n",
       "  <thead>\n",
       "    <tr style=\"text-align: right;\">\n",
       "      <th></th>\n",
       "      <th>taxi_id</th>\n",
       "      <th>ancla</th>\n",
       "      <th>x_total_miles_in_last_1_weeks</th>\n",
       "      <th>x_total_trips_in_last_1_weeks</th>\n",
       "      <th>x_avg_tip_pct_in_last_1_weeks</th>\n",
       "      <th>x_total_renueve_in_last_1_weeks</th>\n",
       "      <th>x_mean_speed_in_last_1_weeks</th>\n",
       "      <th>x_hour_with most activity_last_1_weeks</th>\n",
       "      <th>x_total_miles_in_last_2_weeks</th>\n",
       "      <th>x_total_trips_in_last_2_weeks</th>\n",
       "      <th>...</th>\n",
       "      <th>x_total_renueve_in_last_2_weeks</th>\n",
       "      <th>x_mean_speed_in_last_2_weeks</th>\n",
       "      <th>x_hour_with most activity_last_2_weeks</th>\n",
       "      <th>x_total_miles_in_last_3_weeks</th>\n",
       "      <th>x_total_trips_in_last_3_weeks</th>\n",
       "      <th>x_avg_tip_pct_in_last_3_weeks</th>\n",
       "      <th>x_total_renueve_in_last_3_weeks</th>\n",
       "      <th>x_mean_speed_in_last_3_weeks</th>\n",
       "      <th>x_hour_with most activity_last_3_weeks</th>\n",
       "      <th>target_revenue</th>\n",
       "    </tr>\n",
       "  </thead>\n",
       "  <tbody>\n",
       "    <tr>\n",
       "      <th>0</th>\n",
       "      <td>0041f8f0c91881c1e1913f2548522495fe3c4c719aa67f...</td>\n",
       "      <td>3</td>\n",
       "      <td>19.40</td>\n",
       "      <td>76.0</td>\n",
       "      <td>1257.85</td>\n",
       "      <td>0.032758</td>\n",
       "      <td>1.195370</td>\n",
       "      <td>15.0</td>\n",
       "      <td>32.50</td>\n",
       "      <td>126.0</td>\n",
       "      <td>...</td>\n",
       "      <td>0.023815</td>\n",
       "      <td>1.227607</td>\n",
       "      <td>15.0</td>\n",
       "      <td>32.50</td>\n",
       "      <td>126</td>\n",
       "      <td>2070.60</td>\n",
       "      <td>0.023815</td>\n",
       "      <td>1.227607</td>\n",
       "      <td>15</td>\n",
       "      <td>999.75</td>\n",
       "    </tr>\n",
       "    <tr>\n",
       "      <th>1</th>\n",
       "      <td>0044e6c0d091476299b99345501f756b23632a96cbaf40...</td>\n",
       "      <td>3</td>\n",
       "      <td>440.97</td>\n",
       "      <td>60.0</td>\n",
       "      <td>1719.76</td>\n",
       "      <td>0.104918</td>\n",
       "      <td>28.837141</td>\n",
       "      <td>11.0</td>\n",
       "      <td>762.68</td>\n",
       "      <td>128.0</td>\n",
       "      <td>...</td>\n",
       "      <td>0.107109</td>\n",
       "      <td>26.921582</td>\n",
       "      <td>8.0</td>\n",
       "      <td>864.38</td>\n",
       "      <td>160</td>\n",
       "      <td>3556.60</td>\n",
       "      <td>0.122853</td>\n",
       "      <td>26.375385</td>\n",
       "      <td>8</td>\n",
       "      <td>1317.95</td>\n",
       "    </tr>\n",
       "    <tr>\n",
       "      <th>2</th>\n",
       "      <td>00752524a4118a162dce62ff49c0eb0f79530d9e0ecb5a...</td>\n",
       "      <td>3</td>\n",
       "      <td>193.50</td>\n",
       "      <td>19.0</td>\n",
       "      <td>844.25</td>\n",
       "      <td>0.113661</td>\n",
       "      <td>56.750367</td>\n",
       "      <td>20.0</td>\n",
       "      <td>489.10</td>\n",
       "      <td>43.0</td>\n",
       "      <td>...</td>\n",
       "      <td>0.115598</td>\n",
       "      <td>53.433208</td>\n",
       "      <td>0.0</td>\n",
       "      <td>609.90</td>\n",
       "      <td>53</td>\n",
       "      <td>2457.91</td>\n",
       "      <td>0.111295</td>\n",
       "      <td>53.830828</td>\n",
       "      <td>0</td>\n",
       "      <td>916.70</td>\n",
       "    </tr>\n",
       "    <tr>\n",
       "      <th>3</th>\n",
       "      <td>0083fcde0fb490b4ec424c63d1d750378f6ad11154d1d4...</td>\n",
       "      <td>3</td>\n",
       "      <td>23.10</td>\n",
       "      <td>80.0</td>\n",
       "      <td>1515.80</td>\n",
       "      <td>0.041170</td>\n",
       "      <td>1.417916</td>\n",
       "      <td>18.0</td>\n",
       "      <td>30.20</td>\n",
       "      <td>104.0</td>\n",
       "      <td>...</td>\n",
       "      <td>0.035542</td>\n",
       "      <td>1.453477</td>\n",
       "      <td>14.0</td>\n",
       "      <td>37.00</td>\n",
       "      <td>116</td>\n",
       "      <td>2367.60</td>\n",
       "      <td>0.040621</td>\n",
       "      <td>1.509979</td>\n",
       "      <td>14</td>\n",
       "      <td>1456.33</td>\n",
       "    </tr>\n",
       "    <tr>\n",
       "      <th>4</th>\n",
       "      <td>008dda45db57cb6daa679a86ce8c8149ddc05446d545b1...</td>\n",
       "      <td>3</td>\n",
       "      <td>391.80</td>\n",
       "      <td>117.0</td>\n",
       "      <td>1635.55</td>\n",
       "      <td>0.088767</td>\n",
       "      <td>28.197377</td>\n",
       "      <td>11.0</td>\n",
       "      <td>777.80</td>\n",
       "      <td>218.0</td>\n",
       "      <td>...</td>\n",
       "      <td>0.074540</td>\n",
       "      <td>29.190599</td>\n",
       "      <td>10.0</td>\n",
       "      <td>907.80</td>\n",
       "      <td>256</td>\n",
       "      <td>3573.44</td>\n",
       "      <td>0.066669</td>\n",
       "      <td>29.662902</td>\n",
       "      <td>10</td>\n",
       "      <td>1924.55</td>\n",
       "    </tr>\n",
       "  </tbody>\n",
       "</table>\n",
       "<p>5 rows × 21 columns</p>\n",
       "</div>"
      ],
      "text/plain": [
       "                                             taxi_id  ancla  \\\n",
       "0  0041f8f0c91881c1e1913f2548522495fe3c4c719aa67f...      3   \n",
       "1  0044e6c0d091476299b99345501f756b23632a96cbaf40...      3   \n",
       "2  00752524a4118a162dce62ff49c0eb0f79530d9e0ecb5a...      3   \n",
       "3  0083fcde0fb490b4ec424c63d1d750378f6ad11154d1d4...      3   \n",
       "4  008dda45db57cb6daa679a86ce8c8149ddc05446d545b1...      3   \n",
       "\n",
       "   x_total_miles_in_last_1_weeks  x_total_trips_in_last_1_weeks  \\\n",
       "0                          19.40                           76.0   \n",
       "1                         440.97                           60.0   \n",
       "2                         193.50                           19.0   \n",
       "3                          23.10                           80.0   \n",
       "4                         391.80                          117.0   \n",
       "\n",
       "   x_avg_tip_pct_in_last_1_weeks  x_total_renueve_in_last_1_weeks  \\\n",
       "0                        1257.85                         0.032758   \n",
       "1                        1719.76                         0.104918   \n",
       "2                         844.25                         0.113661   \n",
       "3                        1515.80                         0.041170   \n",
       "4                        1635.55                         0.088767   \n",
       "\n",
       "   x_mean_speed_in_last_1_weeks  x_hour_with most activity_last_1_weeks  \\\n",
       "0                      1.195370                                    15.0   \n",
       "1                     28.837141                                    11.0   \n",
       "2                     56.750367                                    20.0   \n",
       "3                      1.417916                                    18.0   \n",
       "4                     28.197377                                    11.0   \n",
       "\n",
       "   x_total_miles_in_last_2_weeks  x_total_trips_in_last_2_weeks  ...  \\\n",
       "0                          32.50                          126.0  ...   \n",
       "1                         762.68                          128.0  ...   \n",
       "2                         489.10                           43.0  ...   \n",
       "3                          30.20                          104.0  ...   \n",
       "4                         777.80                          218.0  ...   \n",
       "\n",
       "   x_total_renueve_in_last_2_weeks  x_mean_speed_in_last_2_weeks  \\\n",
       "0                         0.023815                      1.227607   \n",
       "1                         0.107109                     26.921582   \n",
       "2                         0.115598                     53.433208   \n",
       "3                         0.035542                      1.453477   \n",
       "4                         0.074540                     29.190599   \n",
       "\n",
       "   x_hour_with most activity_last_2_weeks  x_total_miles_in_last_3_weeks  \\\n",
       "0                                    15.0                          32.50   \n",
       "1                                     8.0                         864.38   \n",
       "2                                     0.0                         609.90   \n",
       "3                                    14.0                          37.00   \n",
       "4                                    10.0                         907.80   \n",
       "\n",
       "   x_total_trips_in_last_3_weeks  x_avg_tip_pct_in_last_3_weeks  \\\n",
       "0                            126                        2070.60   \n",
       "1                            160                        3556.60   \n",
       "2                             53                        2457.91   \n",
       "3                            116                        2367.60   \n",
       "4                            256                        3573.44   \n",
       "\n",
       "   x_total_renueve_in_last_3_weeks  x_mean_speed_in_last_3_weeks  \\\n",
       "0                         0.023815                      1.227607   \n",
       "1                         0.122853                     26.375385   \n",
       "2                         0.111295                     53.830828   \n",
       "3                         0.040621                      1.509979   \n",
       "4                         0.066669                     29.662902   \n",
       "\n",
       "   x_hour_with most activity_last_3_weeks  target_revenue  \n",
       "0                                      15          999.75  \n",
       "1                                       8         1317.95  \n",
       "2                                       0          916.70  \n",
       "3                                      14         1456.33  \n",
       "4                                      10         1924.55  \n",
       "\n",
       "[5 rows x 21 columns]"
      ]
     },
     "execution_count": 27,
     "metadata": {},
     "output_type": "execute_result"
    }
   ],
   "source": [
    "Sn.head()"
   ]
  },
  {
   "cell_type": "code",
   "execution_count": null,
   "metadata": {},
   "outputs": [],
   "source": []
  }
 ],
 "metadata": {
  "kernelspec": {
   "display_name": "EV",
   "language": "python",
   "name": "python3"
  },
  "language_info": {
   "codemirror_mode": {
    "name": "ipython",
    "version": 3
   },
   "file_extension": ".py",
   "mimetype": "text/x-python",
   "name": "python",
   "nbconvert_exporter": "python",
   "pygments_lexer": "ipython3",
   "version": "3.10.6"
  },
  "orig_nbformat": 4
 },
 "nbformat": 4,
 "nbformat_minor": 2
}
