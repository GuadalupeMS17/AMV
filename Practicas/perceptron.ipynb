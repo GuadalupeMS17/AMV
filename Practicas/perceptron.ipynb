{
 "cells": [
  {
   "attachments": {},
   "cell_type": "markdown",
   "metadata": {},
   "source": [
    "### Dependencias"
   ]
  },
  {
   "cell_type": "code",
   "execution_count": 15,
   "metadata": {},
   "outputs": [],
   "source": [
    "import numpy as np\n",
    "import pandas as pd\n",
    "import matplotlib.pyplot as plt\n",
    "import seaborn as sns\n",
    "from sklearn.datasets import make_blobs\n",
    "from sklearn.linear_model import Perceptron"
   ]
  },
  {
   "attachments": {},
   "cell_type": "markdown",
   "metadata": {},
   "source": [
    "### Generación de datos sintéticos"
   ]
  },
  {
   "cell_type": "code",
   "execution_count": 16,
   "metadata": {},
   "outputs": [],
   "source": [
    "# make_blobs se puede usar para generar blobs de puntos con una distribución gaussiana.\n",
    "# BLOB (Binary Large Object) (Objeto binario grande) Almacena datos binarios.\n",
    "\n",
    "X,y = make_blobs(100,2, centers=2, cluster_std=0.2)"
   ]
  },
  {
   "cell_type": "code",
   "execution_count": 17,
   "metadata": {},
   "outputs": [
    {
     "data": {
      "text/plain": [
       "(array([[ 2.47254287, -2.12431188],\n",
       "        [ 2.29747744, -2.27342676],\n",
       "        [ 2.35497187, -2.06461127],\n",
       "        [-2.9515065 ,  9.0179154 ],\n",
       "        [-3.12933847,  9.29179668],\n",
       "        [ 1.94553809, -2.19169967],\n",
       "        [ 2.39912853, -2.01695817],\n",
       "        [ 2.30793877, -2.7552701 ],\n",
       "        [ 2.42439581, -2.31974801],\n",
       "        [ 2.18015657, -2.199617  ],\n",
       "        [ 1.87562369, -2.29417483],\n",
       "        [-2.93869893,  9.80023812],\n",
       "        [-3.01968949,  9.01645201],\n",
       "        [ 2.09956892, -2.24299335],\n",
       "        [ 2.64087877, -2.71164841],\n",
       "        [-3.48883212,  9.18693124],\n",
       "        [ 2.35388903, -2.60192909],\n",
       "        [-3.47244998,  9.19052073],\n",
       "        [-3.13517993,  9.25284037],\n",
       "        [-2.94847976,  9.14447261],\n",
       "        [-3.18483337,  9.11989465],\n",
       "        [-3.19642418,  8.99389136],\n",
       "        [-2.65773572,  9.11281708],\n",
       "        [ 2.06502303, -2.7104417 ],\n",
       "        [-3.33504699,  9.5019234 ],\n",
       "        [-2.99351101,  9.06421559],\n",
       "        [-3.10784379,  8.91386044],\n",
       "        [ 2.6111718 , -1.99936311],\n",
       "        [ 2.41517788, -2.52234117],\n",
       "        [ 2.51918167, -2.42324603],\n",
       "        [ 2.25637494, -2.13851834],\n",
       "        [ 2.78894642, -2.29146409],\n",
       "        [ 2.36905535, -2.26172545],\n",
       "        [ 2.42357885, -2.25907179],\n",
       "        [ 2.47387272, -2.23810352],\n",
       "        [ 2.02962472, -2.51871807],\n",
       "        [-2.90997604,  9.17885707],\n",
       "        [-3.14296489,  9.07737244],\n",
       "        [ 2.43306515, -1.78115663],\n",
       "        [-3.12091981,  9.34816984],\n",
       "        [ 2.26099052, -2.27855897],\n",
       "        [-3.17202759,  9.19460108],\n",
       "        [ 2.41173357, -2.3018472 ],\n",
       "        [-2.93539347,  9.17138799],\n",
       "        [ 2.46295638, -2.45825459],\n",
       "        [ 1.89044939, -2.61904559],\n",
       "        [ 2.46909041, -2.704933  ],\n",
       "        [ 2.28832954, -2.29066362],\n",
       "        [-3.04384047,  9.59337446],\n",
       "        [ 2.06601691, -1.96919665],\n",
       "        [-3.1438994 ,  9.34991535],\n",
       "        [-3.01701331,  9.46529045],\n",
       "        [ 1.9972704 , -2.23297113],\n",
       "        [ 2.20411725, -2.22187634],\n",
       "        [ 2.32714556, -2.2253146 ],\n",
       "        [ 2.16527661, -2.36313539],\n",
       "        [-3.25510381,  9.01059462],\n",
       "        [-3.16212572,  9.26242824],\n",
       "        [ 2.49492759, -2.28509923],\n",
       "        [-3.06351511,  9.36853722],\n",
       "        [-3.14959307,  9.48972527],\n",
       "        [-3.09479314,  9.42417073],\n",
       "        [ 2.72872562, -2.41351962],\n",
       "        [-3.12083534,  9.31417565],\n",
       "        [ 2.15755352, -2.44823461],\n",
       "        [ 2.0535187 , -2.54076463],\n",
       "        [-3.13733814,  9.32759849],\n",
       "        [-3.02835185,  8.79545218],\n",
       "        [ 2.44392508, -2.18641241],\n",
       "        [-3.07973756,  9.27217444],\n",
       "        [-2.95830838,  8.88533238],\n",
       "        [ 2.39204117, -2.06621975],\n",
       "        [-2.90414858,  8.70772603],\n",
       "        [-3.08106431,  9.29106086],\n",
       "        [-2.97693244,  9.14320749],\n",
       "        [-3.01876567,  8.93036954],\n",
       "        [-2.9486205 ,  9.39252939],\n",
       "        [-2.92291137,  9.3608553 ],\n",
       "        [ 2.34821763, -2.35187164],\n",
       "        [-3.00610266,  9.37824889],\n",
       "        [ 2.13218566, -2.72332951],\n",
       "        [ 2.49153434, -2.32957014],\n",
       "        [-3.23303566,  9.43918855],\n",
       "        [ 2.54252791, -2.21378031],\n",
       "        [ 2.24943607, -2.42200686],\n",
       "        [ 2.30304909, -2.38369679],\n",
       "        [-2.67065914,  9.67432887],\n",
       "        [-2.90476388,  9.13990094],\n",
       "        [ 1.87113881, -2.14340375],\n",
       "        [-2.86773644,  8.92887443],\n",
       "        [-3.31554769,  9.33621655],\n",
       "        [ 2.30620641, -2.4061631 ],\n",
       "        [-2.72758273,  9.3016845 ],\n",
       "        [ 2.30546466, -2.51560681],\n",
       "        [-3.33906113,  9.36892272],\n",
       "        [ 2.70486869, -2.30518645],\n",
       "        [-2.95786673,  8.96065395],\n",
       "        [-2.91269797,  9.00084064],\n",
       "        [-2.96434948,  9.27682769],\n",
       "        [-3.32089782,  9.17735874]]),\n",
       " array([0, 0, 0, 1, 1, 0, 0, 0, 0, 0, 0, 1, 1, 0, 0, 1, 0, 1, 1, 1, 1, 1,\n",
       "        1, 0, 1, 1, 1, 0, 0, 0, 0, 0, 0, 0, 0, 0, 1, 1, 0, 1, 0, 1, 0, 1,\n",
       "        0, 0, 0, 0, 1, 0, 1, 1, 0, 0, 0, 0, 1, 1, 0, 1, 1, 1, 0, 1, 0, 0,\n",
       "        1, 1, 0, 1, 1, 0, 1, 1, 1, 1, 1, 1, 0, 1, 0, 0, 1, 0, 0, 0, 1, 1,\n",
       "        0, 1, 1, 0, 1, 0, 1, 0, 1, 1, 1, 1]))"
      ]
     },
     "execution_count": 17,
     "metadata": {},
     "output_type": "execute_result"
    }
   ],
   "source": [
    "X,y"
   ]
  },
  {
   "attachments": {},
   "cell_type": "markdown",
   "metadata": {},
   "source": [
    "### Conjunto de Entrenamiento\n",
    "$$S_n=\\{(x^{(i)},y^{(i)}), i = 1, \\cdots, n\\}$$"
   ]
  },
  {
   "cell_type": "code",
   "execution_count": 18,
   "metadata": {},
   "outputs": [
    {
     "data": {
      "text/html": [
       "<div>\n",
       "<style scoped>\n",
       "    .dataframe tbody tr th:only-of-type {\n",
       "        vertical-align: middle;\n",
       "    }\n",
       "\n",
       "    .dataframe tbody tr th {\n",
       "        vertical-align: top;\n",
       "    }\n",
       "\n",
       "    .dataframe thead th {\n",
       "        text-align: right;\n",
       "    }\n",
       "</style>\n",
       "<table border=\"1\" class=\"dataframe\">\n",
       "  <thead>\n",
       "    <tr style=\"text-align: right;\">\n",
       "      <th></th>\n",
       "      <th>x1</th>\n",
       "      <th>x2</th>\n",
       "      <th>y</th>\n",
       "    </tr>\n",
       "  </thead>\n",
       "  <tbody>\n",
       "    <tr>\n",
       "      <th>0</th>\n",
       "      <td>2.472543</td>\n",
       "      <td>-2.124312</td>\n",
       "      <td>0</td>\n",
       "    </tr>\n",
       "    <tr>\n",
       "      <th>1</th>\n",
       "      <td>2.297477</td>\n",
       "      <td>-2.273427</td>\n",
       "      <td>0</td>\n",
       "    </tr>\n",
       "    <tr>\n",
       "      <th>2</th>\n",
       "      <td>2.354972</td>\n",
       "      <td>-2.064611</td>\n",
       "      <td>0</td>\n",
       "    </tr>\n",
       "    <tr>\n",
       "      <th>3</th>\n",
       "      <td>-2.951507</td>\n",
       "      <td>9.017915</td>\n",
       "      <td>1</td>\n",
       "    </tr>\n",
       "    <tr>\n",
       "      <th>4</th>\n",
       "      <td>-3.129338</td>\n",
       "      <td>9.291797</td>\n",
       "      <td>1</td>\n",
       "    </tr>\n",
       "  </tbody>\n",
       "</table>\n",
       "</div>"
      ],
      "text/plain": [
       "         x1        x2  y\n",
       "0  2.472543 -2.124312  0\n",
       "1  2.297477 -2.273427  0\n",
       "2  2.354972 -2.064611  0\n",
       "3 -2.951507  9.017915  1\n",
       "4 -3.129338  9.291797  1"
      ]
     },
     "execution_count": 18,
     "metadata": {},
     "output_type": "execute_result"
    }
   ],
   "source": [
    "Sn = pd.DataFrame(X,columns=['x1','x2'])\n",
    "Sn['y']=y\n",
    "\n",
    "Sn.head()"
   ]
  },
  {
   "attachments": {},
   "cell_type": "markdown",
   "metadata": {},
   "source": [
    "* Con hue= indicamos el titulo en las leyendas además de que nos sirve para ver todas las categorías (si lo omitimos solo se muestran los datos azules) y con fit_reg= False indicamos que no queremos que se marquen las regresiones en nuestro diagrama."
   ]
  },
  {
   "cell_type": "code",
   "execution_count": 19,
   "metadata": {},
   "outputs": [
    {
     "data": {
      "text/plain": [
       "<seaborn.axisgrid.FacetGrid at 0x7fb85b16a590>"
      ]
     },
     "execution_count": 19,
     "metadata": {},
     "output_type": "execute_result"
    },
    {
     "data": {
      "image/png": "[encoded data removed]",
      "text/plain": [
       "<Figure size 558.875x500 with 1 Axes>"
      ]
     },
     "metadata": {},
     "output_type": "display_data"
    }
   ],
   "source": [
    "sns.lmplot(data=Sn, x='x1',y='x2',hue='y', fit_reg=False)"
   ]
  },
  {
   "cell_type": "code",
   "execution_count": 20,
   "metadata": {},
   "outputs": [
    {
     "data": {
      "text/plain": [
       "x1    1.875624\n",
       "x2   -2.294175\n",
       "y     0.000000\n",
       "Name: 10, dtype: float64"
      ]
     },
     "execution_count": 20,
     "metadata": {},
     "output_type": "execute_result"
    }
   ],
   "source": [
    "x=Sn.loc[10]\n",
    "x"
   ]
  },
  {
   "cell_type": "code",
   "execution_count": 21,
   "metadata": {},
   "outputs": [
    {
     "data": {
      "text/plain": [
       "array([ 1.87562369, -2.29417483])"
      ]
     },
     "execution_count": 21,
     "metadata": {},
     "output_type": "execute_result"
    }
   ],
   "source": [
    "x=Sn.loc[10].values[:2]\n",
    "x"
   ]
  },
  {
   "cell_type": "code",
   "execution_count": 22,
   "metadata": {},
   "outputs": [
    {
     "data": {
      "text/plain": [
       "-1"
      ]
     },
     "execution_count": 22,
     "metadata": {},
     "output_type": "execute_result"
    }
   ],
   "source": [
    "np.sign(-10)"
   ]
  },
  {
   "cell_type": "code",
   "execution_count": 23,
   "metadata": {},
   "outputs": [
    {
     "data": {
      "text/plain": [
       "1"
      ]
     },
     "execution_count": 23,
     "metadata": {},
     "output_type": "execute_result"
    }
   ],
   "source": [
    "np.sign(10)"
   ]
  },
  {
   "attachments": {},
   "cell_type": "markdown",
   "metadata": {},
   "source": [
    "### Implementación del Perceptrón "
   ]
  },
  {
   "cell_type": "code",
   "execution_count": 24,
   "metadata": {},
   "outputs": [],
   "source": [
    "def PerceptronCasero (Sn:pd.DataFrame,T:int)->tuple:\n",
    "    k=0  #Esto es solo para contar los errores\n",
    "    \n",
    "    # Usamos el -1, porque necesitamos el último numero que arroja la función\n",
    "    #  (Es lo mismo que usar [1], ya que shape() arroja dos valores, posición 0 y 1)\n",
    "    d= Sn.shape[-1]-1\n",
    "    n= Sn.shape[0]\n",
    "    theta= np.zeros(d)\n",
    "    # Usamos datos tipo float para evitar errores en la compilación\n",
    "    theta0= 0.0\n",
    "\n",
    "    for t in range(T):\n",
    "        for i in range(n):\n",
    "            x=Sn.loc[i].values[:d]\n",
    "            y=Sn.loc[i].values[-1]\n",
    "            \n",
    "            # Recordemos que lo que buscamos es +1 o -1 (resultado que está en relación al producto punto),\n",
    "            # pero no el valor del producto punto.\n",
    "            if y*(np.sign(np.dot(theta,x+theta0)))<=0:\n",
    "                k += 1\n",
    "                theta += y*x\n",
    "                theta0 +=y   \n",
    "                # print(theta,theta0)\n",
    "    \n",
    "    return theta,theta0,k\n",
    "\n"
   ]
  },
  {
   "cell_type": "code",
   "execution_count": 25,
   "metadata": {},
   "outputs": [
    {
     "data": {
      "text/plain": [
       "(array([-2.9515065,  9.0179154]), 1.0, 1001)"
      ]
     },
     "execution_count": 25,
     "metadata": {},
     "output_type": "execute_result"
    }
   ],
   "source": [
    "theta,theta0,k=PerceptronCasero(Sn,20)\n",
    "theta,theta0,k"
   ]
  },
  {
   "attachments": {},
   "cell_type": "markdown",
   "metadata": {},
   "source": [
    "### Ecuación del Clasificador \n",
    "$$\\theta\\cdot x + \\theta_0$$"
   ]
  },
  {
   "cell_type": "code",
   "execution_count": 26,
   "metadata": {},
   "outputs": [
    {
     "data": {
      "text/plain": [
       "[<matplotlib.lines.Line2D at 0x7fb85b012b30>]"
      ]
     },
     "execution_count": 26,
     "metadata": {},
     "output_type": "execute_result"
    },
    {
     "data": {
      "image/png": "[encoded data removed]",
      "text/plain": [
       "<Figure size 558.875x500 with 1 Axes>"
      ]
     },
     "metadata": {},
     "output_type": "display_data"
    }
   ],
   "source": [
    "sns.lmplot(data=Sn, x='x1',y='x2', hue='y', fit_reg=False)\n",
    "x1 = np.linspace(-10,10,100)\n",
    "x2 = (-theta0-theta[0]*x1)/theta[1]\n",
    "plt.plot(x1,x2,linestyle='--', color='blue')"
   ]
  },
  {
   "attachments": {},
   "cell_type": "markdown",
   "metadata": {},
   "source": [
    "### Con sklearn"
   ]
  },
  {
   "cell_type": "code",
   "execution_count": 27,
   "metadata": {},
   "outputs": [],
   "source": [
    "per = Perceptron()"
   ]
  },
  {
   "cell_type": "code",
   "execution_count": 28,
   "metadata": {},
   "outputs": [
    {
     "data": {
      "text/html": [
       "<style>#sk-container-id-1 {color: black;background-color: white;}#sk-container-id-1 pre{padding: 0;}#sk-container-id-1 div.sk-toggleable {background-color: white;}#sk-container-id-1 label.sk-toggleable__label {cursor: pointer;display: block;width: 100%;margin-bottom: 0;padding: 0.3em;box-sizing: border-box;text-align: center;}#sk-container-id-1 label.sk-toggleable__label-arrow:before {content: \"▸\";float: left;margin-right: 0.25em;color: #696969;}#sk-container-id-1 label.sk-toggleable__label-arrow:hover:before {color: black;}#sk-container-id-1 div.sk-estimator:hover label.sk-toggleable__label-arrow:before {color: black;}#sk-container-id-1 div.sk-toggleable__content {max-height: 0;max-width: 0;overflow: hidden;text-align: left;background-color: #f0f8ff;}#sk-container-id-1 div.sk-toggleable__content pre {margin: 0.2em;color: black;border-radius: 0.25em;background-color: #f0f8ff;}#sk-container-id-1 input.sk-toggleable__control:checked~div.sk-toggleable__content {max-height: 200px;max-width: 100%;overflow: auto;}#sk-container-id-1 input.sk-toggleable__control:checked~label.sk-toggleable__label-arrow:before {content: \"▾\";}#sk-container-id-1 div.sk-estimator input.sk-toggleable__control:checked~label.sk-toggleable__label {background-color: #d4ebff;}#sk-container-id-1 div.sk-label input.sk-toggleable__control:checked~label.sk-toggleable__label {background-color: #d4ebff;}#sk-container-id-1 input.sk-hidden--visually {border: 0;clip: rect(1px 1px 1px 1px);clip: rect(1px, 1px, 1px, 1px);height: 1px;margin: -1px;overflow: hidden;padding: 0;position: absolute;width: 1px;}#sk-container-id-1 div.sk-estimator {font-family: monospace;background-color: #f0f8ff;border: 1px dotted black;border-radius: 0.25em;box-sizing: border-box;margin-bottom: 0.5em;}#sk-container-id-1 div.sk-estimator:hover {background-color: #d4ebff;}#sk-container-id-1 div.sk-parallel-item::after {content: \"\";width: 100%;border-bottom: 1px solid gray;flex-grow: 1;}#sk-container-id-1 div.sk-label:hover label.sk-toggleable__label {background-color: #d4ebff;}#sk-container-id-1 div.sk-serial::before {content: \"\";position: absolute;border-left: 1px solid gray;box-sizing: border-box;top: 0;bottom: 0;left: 50%;z-index: 0;}#sk-container-id-1 div.sk-serial {display: flex;flex-direction: column;align-items: center;background-color: white;padding-right: 0.2em;padding-left: 0.2em;position: relative;}#sk-container-id-1 div.sk-item {position: relative;z-index: 1;}#sk-container-id-1 div.sk-parallel {display: flex;align-items: stretch;justify-content: center;background-color: white;position: relative;}#sk-container-id-1 div.sk-item::before, #sk-container-id-1 div.sk-parallel-item::before {content: \"\";position: absolute;border-left: 1px solid gray;box-sizing: border-box;top: 0;bottom: 0;left: 50%;z-index: -1;}#sk-container-id-1 div.sk-parallel-item {display: flex;flex-direction: column;z-index: 1;position: relative;background-color: white;}#sk-container-id-1 div.sk-parallel-item:first-child::after {align-self: flex-end;width: 50%;}#sk-container-id-1 div.sk-parallel-item:last-child::after {align-self: flex-start;width: 50%;}#sk-container-id-1 div.sk-parallel-item:only-child::after {width: 0;}#sk-container-id-1 div.sk-dashed-wrapped {border: 1px dashed gray;margin: 0 0.4em 0.5em 0.4em;box-sizing: border-box;padding-bottom: 0.4em;background-color: white;}#sk-container-id-1 div.sk-label label {font-family: monospace;font-weight: bold;display: inline-block;line-height: 1.2em;}#sk-container-id-1 div.sk-label-container {text-align: center;}#sk-container-id-1 div.sk-container {/* jupyter's `normalize.less` sets `[hidden] { display: none; }` but bootstrap.min.css set `[hidden] { display: none !important; }` so we also need the `!important` here to be able to override the default hidden behavior on the sphinx rendered scikit-learn.org. See: https://github.com/scikit-learn/scikit-learn/issues/21755 */display: inline-block !important;position: relative;}#sk-container-id-1 div.sk-text-repr-fallback {display: none;}</style><div id=\"sk-container-id-1\" class=\"sk-top-container\"><div class=\"sk-text-repr-fallback\"><pre>Perceptron()</pre><b>In a Jupyter environment, please rerun this cell to show the HTML representation or trust the notebook. <br />On GitHub, the HTML representation is unable to render, please try loading this page with nbviewer.org.</b></div><div class=\"sk-container\" hidden><div class=\"sk-item\"><div class=\"sk-estimator sk-toggleable\"><input class=\"sk-toggleable__control sk-hidden--visually\" id=\"sk-estimator-id-1\" type=\"checkbox\" checked><label for=\"sk-estimator-id-1\" class=\"sk-toggleable__label sk-toggleable__label-arrow\">Perceptron</label><div class=\"sk-toggleable__content\"><pre>Perceptron()</pre></div></div></div></div></div>"
      ],
      "text/plain": [
       "Perceptron()"
      ]
     },
     "execution_count": 28,
     "metadata": {},
     "output_type": "execute_result"
    }
   ],
   "source": [
    "per.fit(Sn[['x1','x2']],Sn['y'])"
   ]
  },
  {
   "cell_type": "code",
   "execution_count": 29,
   "metadata": {},
   "outputs": [
    {
     "data": {
      "text/plain": [
       "[<matplotlib.lines.Line2D at 0x7fb85b0b2110>]"
      ]
     },
     "execution_count": 29,
     "metadata": {},
     "output_type": "execute_result"
    },
    {
     "data": {
      "image/png": "[encoded data removed]",
      "text/plain": [
       "<Figure size 558.875x500 with 1 Axes>"
      ]
     },
     "metadata": {},
     "output_type": "display_data"
    }
   ],
   "source": [
    "theta,theta0 = per.coef_[0],per.intercept_[0]\n",
    "sns.lmplot(data=Sn, x='x1',y='x2', hue='y', fit_reg=False)\n",
    "x1 = np.linspace(-10,10,100)\n",
    "x2 = (-theta0-theta[0]*x1)/theta[1]\n",
    "plt.plot(x1,x2,linestyle='--', color='blue')"
   ]
  },
  {
   "cell_type": "code",
   "execution_count": null,
   "metadata": {},
   "outputs": [],
   "source": []
  }
 ],
 "metadata": {
  "kernelspec": {
   "display_name": "EV",
   "language": "python",
   "name": "python3"
  },
  "language_info": {
   "codemirror_mode": {
    "name": "ipython",
    "version": 3
   },
   "file_extension": ".py",
   "mimetype": "text/x-python",
   "name": "python",
   "nbconvert_exporter": "python",
   "pygments_lexer": "ipython3",
   "version": "3.10.6"
  },
  "orig_nbformat": 4,
  "vscode": {
   "interpreter": {
    "hash": "c18e5fd3a2916593f836860943686e25438dace0ffe6c0cdab612b51948df464"
   }
  }
 },
 "nbformat": 4,
 "nbformat_minor": 2
}
