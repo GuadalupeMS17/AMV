{
 "cells": [
  {
   "cell_type": "markdown",
   "metadata": {},
   "source": [
    "### Dependencias"
   ]
  },
  {
   "cell_type": "code",
   "execution_count": 9,
   "metadata": {},
   "outputs": [],
   "source": [
    "import numpy as np\n",
    "import pandas as pd\n",
    "import matplotlib.pyplot as plt\n",
    "import seaborn as sns\n",
    "from sklearn.datasets import make_blobs\n",
    "from sklearn.linear_model import Perceptron"
   ]
  },
  {
   "cell_type": "markdown",
   "metadata": {},
   "source": [
    "### Generación de datos sintéticos"
   ]
  },
  {
   "cell_type": "code",
   "execution_count": 10,
   "metadata": {},
   "outputs": [],
   "source": [
    "# make_blobs se puede usar para generar blobs de puntos con una distribución gaussiana.\n",
    "# BLOB (Binary Large Object) (Objeto binario grande) Almacena datos binarios.\n",
    "\n",
    "X,y = make_blobs(100,2, centers=2, cluster_std=0.2)"
   ]
  },
  {
   "cell_type": "code",
   "execution_count": 11,
   "metadata": {},
   "outputs": [],
   "source": [
    "#X,y\n"
   ]
  },
  {
   "cell_type": "markdown",
   "metadata": {},
   "source": [
    "### Conjunto de Entrenamiento\n",
    "$$S_n=\\{(x^{(i)},y^{(i)}), i = 1, \\cdots, n\\}$$"
   ]
  },
  {
   "cell_type": "code",
   "execution_count": 12,
   "metadata": {},
   "outputs": [
    {
     "data": {
      "text/html": [
       "<div>\n",
       "<style scoped>\n",
       "    .dataframe tbody tr th:only-of-type {\n",
       "        vertical-align: middle;\n",
       "    }\n",
       "\n",
       "    .dataframe tbody tr th {\n",
       "        vertical-align: top;\n",
       "    }\n",
       "\n",
       "    .dataframe thead th {\n",
       "        text-align: right;\n",
       "    }\n",
       "</style>\n",
       "<table border=\"1\" class=\"dataframe\">\n",
       "  <thead>\n",
       "    <tr style=\"text-align: right;\">\n",
       "      <th></th>\n",
       "      <th>x1</th>\n",
       "      <th>x2</th>\n",
       "      <th>y</th>\n",
       "    </tr>\n",
       "  </thead>\n",
       "  <tbody>\n",
       "    <tr>\n",
       "      <th>0</th>\n",
       "      <td>-6.609738</td>\n",
       "      <td>-3.119832</td>\n",
       "      <td>1</td>\n",
       "    </tr>\n",
       "    <tr>\n",
       "      <th>1</th>\n",
       "      <td>-7.262423</td>\n",
       "      <td>-3.256494</td>\n",
       "      <td>1</td>\n",
       "    </tr>\n",
       "    <tr>\n",
       "      <th>2</th>\n",
       "      <td>5.178651</td>\n",
       "      <td>-0.913594</td>\n",
       "      <td>0</td>\n",
       "    </tr>\n",
       "    <tr>\n",
       "      <th>3</th>\n",
       "      <td>4.912588</td>\n",
       "      <td>-0.621260</td>\n",
       "      <td>0</td>\n",
       "    </tr>\n",
       "    <tr>\n",
       "      <th>4</th>\n",
       "      <td>-6.312518</td>\n",
       "      <td>-3.467809</td>\n",
       "      <td>1</td>\n",
       "    </tr>\n",
       "  </tbody>\n",
       "</table>\n",
       "</div>"
      ],
      "text/plain": [
       "         x1        x2  y\n",
       "0 -6.609738 -3.119832  1\n",
       "1 -7.262423 -3.256494  1\n",
       "2  5.178651 -0.913594  0\n",
       "3  4.912588 -0.621260  0\n",
       "4 -6.312518 -3.467809  1"
      ]
     },
     "execution_count": 12,
     "metadata": {},
     "output_type": "execute_result"
    }
   ],
   "source": [
    "Sn = pd.DataFrame(X,columns=['x1','x2'])\n",
    "Sn['y']=y\n",
    "\n",
    "Sn.head()"
   ]
  },
  {
   "cell_type": "code",
   "execution_count": 13,
   "metadata": {},
   "outputs": [
    {
     "data": {
      "text/plain": [
       "<seaborn.axisgrid.FacetGrid at 0x7fe23c2e68c0>"
      ]
     },
     "execution_count": 13,
     "metadata": {},
     "output_type": "execute_result"
    },
    {
     "data": {
      "image/png": "[encoded data removed]",
      "text/plain": [
       "<Figure size 558.875x500 with 1 Axes>"
      ]
     },
     "metadata": {},
     "output_type": "display_data"
    }
   ],
   "source": [
    "sns.lmplot(data=Sn, x='x1',y='x2',hue='y', fit_reg=False)"
   ]
  },
  {
   "attachments": {},
   "cell_type": "markdown",
   "metadata": {},
   "source": [
    "### Implementación del Perceptrón Medio"
   ]
  },
  {
   "cell_type": "code",
   "execution_count": 14,
   "metadata": {},
   "outputs": [],
   "source": [
    "def PerceptronMedio (Sn:pd.DataFrame,T:int)->tuple:\n",
    "    k=0  #Esto es solo para contar los errores\n",
    "    \n",
    "    # Usamos el -1, porque necesitamos el último numero que arroja la función\n",
    "    #  (Es lo mismo que usar [1], ya que shape() arroja dos valores, posición 0 y 1)\n",
    "    d= Sn.shape[-1]-1\n",
    "    n= Sn.shape[0]\n",
    "    theta= np.zeros(d)\n",
    "    thetagorro =np.zeros(d)\n",
    "    # Usamos datos tipo float para evitar errores en la compilación\n",
    "    theta0= 0.0\n",
    "    theta0gorro = 0.0\n",
    "    c = 1\n",
    "\n",
    "    for t in range(T):\n",
    "        for i in range(n):\n",
    "            x=Sn.loc[i].values[:d]\n",
    "            y=Sn.loc[i].values[-1]\n",
    "            \n",
    "            # Recordemos que lo que buscamos es +1 o -1 (resultado que está en relación al producto punto),\n",
    "            # pero no el valor del producto punto.\n",
    "            if y*(np.sign(np.dot(theta,x+theta0)))<=0:\n",
    "                k += 1\n",
    "                theta += y*x\n",
    "                theta0 +=y   \n",
    "                thetagorro += c*y*x\n",
    "                theta0gorro +=c*y\n",
    "                # print(theta,theta0)\n",
    "            c -=1/(n*T)\n",
    "    return thetagorro,theta0gorro,k\n",
    "\n"
   ]
  },
  {
   "cell_type": "code",
   "execution_count": 15,
   "metadata": {},
   "outputs": [
    {
     "data": {
      "text/plain": [
       "(array([-6.60973824, -3.11983192]), 1.0, 501)"
      ]
     },
     "execution_count": 15,
     "metadata": {},
     "output_type": "execute_result"
    }
   ],
   "source": [
    "thetagorro,theta0gorro,k=PerceptronMedio(Sn,10)\n",
    "thetagorro,theta0gorro,k"
   ]
  },
  {
   "cell_type": "markdown",
   "metadata": {},
   "source": [
    "### Ecuación del Clasificador \n",
    "$$\\theta\\cdot x + \\theta_0$$"
   ]
  },
  {
   "cell_type": "code",
   "execution_count": 16,
   "metadata": {},
   "outputs": [
    {
     "data": {
      "text/plain": [
       "[<matplotlib.lines.Line2D at 0x7fe23c38afe0>]"
      ]
     },
     "execution_count": 16,
     "metadata": {},
     "output_type": "execute_result"
    },
    {
     "data": {
      "image/png": "[encoded data removed]",
      "text/plain": [
       "<Figure size 558.875x500 with 1 Axes>"
      ]
     },
     "metadata": {},
     "output_type": "display_data"
    }
   ],
   "source": [
    "sns.lmplot(data=Sn, x='x1',y='x2', hue='y', fit_reg=False)\n",
    "x1 = np.linspace(-10,10,100)\n",
    "x2 = (-theta0gorro-thetagorro[0]*x1)/thetagorro[1]\n",
    "plt.plot(x1,x2,linestyle='--', color='blue')"
   ]
  },
  {
   "cell_type": "code",
   "execution_count": null,
   "metadata": {},
   "outputs": [],
   "source": []
  }
 ],
 "metadata": {
  "kernelspec": {
   "display_name": "EV",
   "language": "python",
   "name": "python3"
  },
  "language_info": {
   "codemirror_mode": {
    "name": "ipython",
    "version": 3
   },
   "file_extension": ".py",
   "mimetype": "text/x-python",
   "name": "python",
   "nbconvert_exporter": "python",
   "pygments_lexer": "ipython3",
   "version": "3.10.6"
  },
  "orig_nbformat": 4,
  "vscode": {
   "interpreter": {
    "hash": "c18e5fd3a2916593f836860943686e25438dace0ffe6c0cdab612b51948df464"
   }
  }
 },
 "nbformat": 4,
 "nbformat_minor": 2
}
