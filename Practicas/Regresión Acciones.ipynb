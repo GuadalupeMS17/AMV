{
 "cells": [
  {
   "attachments": {},
   "cell_type": "markdown",
   "metadata": {},
   "source": [
    "### Dependencias"
   ]
  },
  {
   "cell_type": "code",
   "execution_count": 1,
   "metadata": {},
   "outputs": [
    {
     "data": {
      "text/html": [
       "        <script type=\"text/javascript\">\n",
       "        window.PlotlyConfig = {MathJaxConfig: 'local'};\n",
       "        if (window.MathJax && window.MathJax.Hub && window.MathJax.Hub.Config) {window.MathJax.Hub.Config({SVG: {font: \"STIX-Web\"}});}\n",
       "        if (typeof require !== 'undefined') {\n",
       "        require.undef(\"plotly\");\n",
       "        requirejs.config({\n",
       "            paths: {\n",
       "                'plotly': ['https://cdn.plot.ly/plotly-2.18.2.min']\n",
       "            }\n",
       "        });\n",
       "        require(['plotly'], function(Plotly) {\n",
       "            window._Plotly = Plotly;\n",
       "        });\n",
       "        }\n",
       "        </script>\n",
       "        "
      ]
     },
     "metadata": {},
     "output_type": "display_data"
    }
   ],
   "source": [
    "import numpy as np\n",
    "import pandas as pd\n",
    "import matplotlib.pyplot as plt\n",
    "import seaborn as sns\n",
    "import cufflinks as cf\n",
    "import warnings\n",
    "import os\n",
    "\n",
    "from sklearn.linear_model import LinearRegression, Ridge\n",
    "from sklearn.impute import SimpleImputer\n",
    "from sklearn.preprocessing import StandardScaler, MinMaxScaler\n",
    "from sklearn.feature_selection import SelectKBest\n",
    "from sklearn.feature_selection import f_regression\n",
    "from sklearn.pipeline import make_pipeline\n",
    "from sklearn.model_selection import train_test_split\n",
    "from sklearn.model_selection import GridSearchCV\n",
    "from sklearn.metrics import mean_squared_error, mean_absolute_error,mean_absolute_percentage_error,r2_score\n",
    "\n",
    "from scipy import stats\n",
    "from varclushi import VarClusHi\n",
    "from functools import reduce\n",
    "from dateutil.relativedelta import relativedelta as rd\n",
    "\n",
    "warnings.filterwarnings('ignore')\n",
    "cf.go_offline()"
   ]
  },
  {
   "attachments": {},
   "cell_type": "markdown",
   "metadata": {},
   "source": [
    "### Lectura de Datos"
   ]
  },
  {
   "cell_type": "code",
   "execution_count": 2,
   "metadata": {},
   "outputs": [],
   "source": [
    "ruta = '/home/guadalupe/analisis/Datos/full_history'"
   ]
  },
  {
   "attachments": {},
   "cell_type": "markdown",
   "metadata": {},
   "source": [
    "* La función np.random.choice() permite elegir aleatoriamente un subconjunto de un conjunto de datos."
   ]
  },
  {
   "cell_type": "code",
   "execution_count": 3,
   "metadata": {},
   "outputs": [
    {
     "data": {
      "text/plain": [
       "array(['FWONA.csv', 'GBF.csv', 'OCC.csv', 'NXC.csv', 'TCRD.csv',\n",
       "       'BSAC.csv', 'CHH.csv', 'SCL.csv', 'QQQX.csv', 'GAZ.csv',\n",
       "       'ABCB.csv', 'AGGP.csv', 'SBOW.csv', 'ATRC.csv', 'AIRTW.csv',\n",
       "       'BLX.csv', 'CEVA.csv', 'FONR.csv', 'SBS.csv', 'MFUS.csv'],\n",
       "      dtype='<U11')"
      ]
     },
     "execution_count": 3,
     "metadata": {},
     "output_type": "execute_result"
    }
   ],
   "source": [
    "# De la ruta elegimos 20 archivos aleatorios sin reemplazo.\n",
    "muestra = np.random.choice(os.listdir(ruta), 20, replace=False)\n",
    "muestra"
   ]
  },
  {
   "attachments": {},
   "cell_type": "markdown",
   "metadata": {},
   "source": [
    "* Con os.path.join() se puede unir el nombre de un directorio con el nombre de un archivo. Ponemos la ruta del directorio y se concatena con el nombre del archivo al final (antecedido por un /)."
   ]
  },
  {
   "cell_type": "code",
   "execution_count": 4,
   "metadata": {},
   "outputs": [
    {
     "data": {
      "text/plain": [
       "'/home/guadalupe/analisis/Datos/full_history/FWONA.csv'"
      ]
     },
     "execution_count": 4,
     "metadata": {},
     "output_type": "execute_result"
    }
   ],
   "source": [
    "# Ejemplo para el primer caso\n",
    "ruta_1 = os.path.join(ruta, muestra[0])\n",
    "ruta_1"
   ]
  },
  {
   "cell_type": "code",
   "execution_count": 5,
   "metadata": {},
   "outputs": [],
   "source": [
    "def leerArchivo(arch):\n",
    "    # Leemos el archivo (para ello completamos la ruta) con las columnas que necesitamos\n",
    "    df = pd.read_csv(os.path.join(ruta,arch),usecols=['date','open','close','high','low'])\n",
    "    # Extraemos el nombre del archivo (acción)\n",
    "    nombre = arch.split('.')[0]\n",
    "    # Convertimos la fecha a formato datetime\n",
    "    df['date'] = pd.to_datetime(df['date']).dt.date\n",
    "    # Creamos una columna con el nombre de la acción\n",
    "    df.insert(1,'accion',nombre)\n",
    "    return df    "
   ]
  },
  {
   "cell_type": "code",
   "execution_count": 6,
   "metadata": {},
   "outputs": [],
   "source": [
    "# Aplicamos la función a todos los archivos de la muestra y concatenamos los resultados en un solo dataframe.\n",
    "df = pd.concat(map(leerArchivo,muestra),ignore_index=True)"
   ]
  },
  {
   "cell_type": "code",
   "execution_count": 7,
   "metadata": {},
   "outputs": [
    {
     "data": {
      "text/plain": [
       "(79990, 6)"
      ]
     },
     "execution_count": 7,
     "metadata": {},
     "output_type": "execute_result"
    }
   ],
   "source": [
    "df.shape"
   ]
  },
  {
   "attachments": {},
   "cell_type": "markdown",
   "metadata": {},
   "source": [
    "### Ingenieria de Características"
   ]
  },
  {
   "cell_type": "code",
   "execution_count": 8,
   "metadata": {},
   "outputs": [],
   "source": [
    "# Ventana de observación (Vamos a observar los datos de los últimos 15 días)\n",
    "vobs = 15\n",
    "# Ventana de desplazamiento (Vamos a predecir los datos del siguiente día)\n",
    "vdes = 1\n",
    "step = 3"
   ]
  },
  {
   "attachments": {},
   "cell_type": "markdown",
   "metadata": {},
   "source": [
    "#### Inspección inicial"
   ]
  },
  {
   "cell_type": "code",
   "execution_count": 9,
   "metadata": {},
   "outputs": [
    {
     "data": {
      "application/vnd.plotly.v1+json": {
       "config": {
        "linkText": "Export to plot.ly",
        "plotlyServerURL": "https://plot.ly",
        "showLink": true
       },
       "data": [
        {
         "marker": {
          "color": "rgba(128, 0, 128, 0.6)",
          "line": {
           "color": "rgba(128, 0, 128, 1.0)",
           "width": 1
          }
         },
         "name": "date",
         "orientation": "v",
         "text": "",
         "type": "bar",
         "x": [
          "1973-02",
          "1973-03",
          "1973-04",
          "1973-05",
          "1973-06",
          "1973-07",
          "1973-08",
          "1973-09",
          "1973-10",
          "1973-11",
          "1973-12",
          "1974-01",
          "1974-02",
          "1974-03",
          "1974-04",
          "1974-05",
          "1974-06",
          "1974-07",
          "1974-08",
          "1974-09",
          "1974-10",
          "1974-11",
          "1974-12",
          "1975-01",
          "1975-02",
          "1975-03",
          "1975-04",
          "1975-05",
          "1975-06",
          "1975-07",
          "1975-08",
          "1975-09",
          "1975-10",
          "1975-11",
          "1975-12",
          "1976-01",
          "1976-02",
          "1976-03",
          "1976-04",
          "1976-05",
          "1976-06",
          "1976-07",
          "1976-08",
          "1976-09",
          "1976-10",
          "1976-11",
          "1976-12",
          "1977-01",
          "1977-02",
          "1977-03",
          "1977-04",
          "1977-05",
          "1977-06",
          "1977-07",
          "1977-08",
          "1977-09",
          "1977-10",
          "1977-11",
          "1977-12",
          "1978-01",
          "1978-02",
          "1978-03",
          "1978-04",
          "1978-05",
          "1978-06",
          "1978-07",
          "1978-08",
          "1978-09",
          "1978-10",
          "1978-11",
          "1978-12",
          "1979-01",
          "1979-02",
          "1979-03",
          "1979-04",
          "1979-05",
          "1979-06",
          "1979-07",
          "1979-08",
          "1979-09",
          "1979-10",
          "1979-11",
          "1979-12",
          "1980-01",
          "1980-02",
          "1980-03",
          "1980-04",
          "1980-05",
          "1980-06",
          "1980-07",
          "1980-08",
          "1980-09",
          "1980-10",
          "1980-11",
          "1980-12",
          "1981-01",
          "1981-02",
          "1981-03",
          "1981-04",
          "1981-05",
          "1981-06",
          "1981-07",
          "1981-08",
          "1981-09",
          "1981-10",
          "1981-11",
          "1981-12",
          "1982-01",
          "1982-02",
          "1982-03",
          "1982-04",
          "1982-05",
          "1982-06",
          "1982-07",
          "1982-08",
          "1982-09",
          "1982-10",
          "1982-11",
          "1982-12",
          "1983-01",
          "1983-02",
          "1983-03",
          "1983-04",
          "1983-05",
          "1983-06",
          "1983-07",
          "1983-08",
          "1983-09",
          "1983-10",
          "1983-11",
          "1983-12",
          "1984-01",
          "1984-02",
          "1984-03",
          "1984-04",
          "1984-05",
          "1984-06",
          "1984-07",
          "1984-08",
          "1984-09",
          "1984-10",
          "1984-11",
          "1984-12",
          "1985-01",
          "1985-02",
          "1985-03",
          "1985-04",
          "1985-05",
          "1985-06",
          "1985-07",
          "1985-08",
          "1985-09",
          "1985-10",
          "1985-11",
          "1985-12",
          "1986-01",
          "1986-02",
          "1986-03",
          "1986-04",
          "1986-05",
          "1986-06",
          "1986-07",
          "1986-08",
          "1986-09",
          "1986-10",
          "1986-11",
          "1986-12",
          "1987-01",
          "1987-02",
          "1987-03",
          "1987-04",
          "1987-05",
          "1987-06",
          "1987-07",
          "1987-08",
          "1987-09",
          "1987-10",
          "1987-11",
          "1987-12",
          "1988-01",
          "1988-02",
          "1988-03",
          "1988-04",
          "1988-05",
          "1988-06",
          "1988-07",
          "1988-08",
          "1988-09",
          "1988-10",
          "1988-11",
          "1988-12",
          "1989-01",
          "1989-02",
          "1989-03",
          "1989-04",
          "1989-05",
          "1989-06",
          "1989-07",
          "1989-08",
          "1989-09",
          "1989-10",
          "1989-11",
          "1989-12",
          "1990-01",
          "1990-02",
          "1990-03",
          "1990-04",
          "1990-05",
          "1990-06",
          "1990-07",
          "1990-08",
          "1990-09",
          "1990-10",
          "1990-11",
          "1990-12",
          "1991-01",
          "1991-02",
          "1991-03",
          "1991-04",
          "1991-05",
          "1991-06",
          "1991-07",
          "1991-08",
          "1991-09",
          "1991-10",
          "1991-11",
          "1991-12",
          "1992-01",
          "1992-02",
          "1992-03",
          "1992-04",
          "1992-05",
          "1992-06",
          "1992-07",
          "1992-08",
          "1992-09",
          "1992-10",
          "1992-11",
          "1992-12",
          "1993-01",
          "1993-02",
          "1993-03",
          "1993-04",
          "1993-05",
          "1993-06",
          "1993-07",
          "1993-08",
          "1993-09",
          "1993-10",
          "1993-11",
          "1993-12",
          "1994-01",
          "1994-02",
          "1994-03",
          "1994-04",
          "1994-05",
          "1994-06",
          "1994-07",
          "1994-08",
          "1994-09",
          "1994-10",
          "1994-11",
          "1994-12",
          "1995-01",
          "1995-02",
          "1995-03",
          "1995-04",
          "1995-05",
          "1995-06",
          "1995-07",
          "1995-08",
          "1995-09",
          "1995-10",
          "1995-11",
          "1995-12",
          "1996-01",
          "1996-02",
          "1996-03",
          "1996-04",
          "1996-05",
          "1996-06",
          "1996-07",
          "1996-08",
          "1996-09",
          "1996-10",
          "1996-11",
          "1996-12",
          "1997-01",
          "1997-02",
          "1997-03",
          "1997-04",
          "1997-05",
          "1997-06",
          "1997-07",
          "1997-08",
          "1997-09",
          "1997-10",
          "1997-11",
          "1997-12",
          "1998-01",
          "1998-02",
          "1998-03",
          "1998-04",
          "1998-05",
          "1998-06",
          "1998-07",
          "1998-08",
          "1998-09",
          "1998-10",
          "1998-11",
          "1998-12",
          "1999-01",
          "1999-02",
          "1999-03",
          "1999-04",
          "1999-05",
          "1999-06",
          "1999-07",
          "1999-08",
          "1999-09",
          "1999-10",
          "1999-11",
          "1999-12",
          "2000-01",
          "2000-02",
          "2000-03",
          "2000-04",
          "2000-05",
          "2000-06",
          "2000-07",
          "2000-08",
          "2000-09",
          "2000-10",
          "2000-11",
          "2000-12",
          "2001-01",
          "2001-02",
          "2001-03",
          "2001-04",
          "2001-05",
          "2001-06",
          "2001-07",
          "2001-08",
          "2001-09",
          "2001-10",
          "2001-11",
          "2001-12",
          "2002-01",
          "2002-02",
          "2002-03",
          "2002-04",
          "2002-05",
          "2002-06",
          "2002-07",
          "2002-08",
          "2002-09",
          "2002-10",
          "2002-11",
          "2002-12",
          "2003-01",
          "2003-02",
          "2003-03",
          "2003-04",
          "2003-05",
          "2003-06",
          "2003-07",
          "2003-08",
          "2003-09",
          "2003-10",
          "2003-11",
          "2003-12",
          "2004-01",
          "2004-02",
          "2004-03",
          "2004-04",
          "2004-05",
          "2004-06",
          "2004-07",
          "2004-08",
          "2004-09",
          "2004-10",
          "2004-11",
          "2004-12",
          "2005-01",
          "2005-02",
          "2005-03",
          "2005-04",
          "2005-05",
          "2005-06",
          "2005-07",
          "2005-08",
          "2005-09",
          "2005-10",
          "2005-11",
          "2005-12",
          "2006-01",
          "2006-02",
          "2006-03",
          "2006-04",
          "2006-05",
          "2006-06",
          "2006-07",
          "2006-08",
          "2006-09",
          "2006-10",
          "2006-11",
          "2006-12",
          "2007-01",
          "2007-02",
          "2007-03",
          "2007-04",
          "2007-05",
          "2007-06",
          "2007-07",
          "2007-08",
          "2007-09",
          "2007-10",
          "2007-11",
          "2007-12",
          "2008-01",
          "2008-02",
          "2008-03",
          "2008-04",
          "2008-05",
          "2008-06",
          "2008-07",
          "2008-08",
          "2008-09",
          "2008-10",
          "2008-11",
          "2008-12",
          "2009-01",
          "2009-02",
          "2009-03",
          "2009-04",
          "2009-05",
          "2009-06",
          "2009-07",
          "2009-08",
          "2009-09",
          "2009-10",
          "2009-11",
          "2009-12",
          "2010-01",
          "2010-02",
          "2010-03",
          "2010-04",
          "2010-05",
          "2010-06",
          "2010-07",
          "2010-08",
          "2010-09",
          "2010-10",
          "2010-11",
          "2010-12",
          "2011-01",
          "2011-02",
          "2011-03",
          "2011-04",
          "2011-05",
          "2011-06",
          "2011-07",
          "2011-08",
          "2011-09",
          "2011-10",
          "2011-11",
          "2011-12",
          "2012-01",
          "2012-02",
          "2012-03",
          "2012-04",
          "2012-05",
          "2012-06",
          "2012-07",
          "2012-08",
          "2012-09",
          "2012-10",
          "2012-11",
          "2012-12",
          "2013-01",
          "2013-02",
          "2013-03",
          "2013-04",
          "2013-05",
          "2013-06",
          "2013-07",
          "2013-08",
          "2013-09",
          "2013-10",
          "2013-11",
          "2013-12",
          "2014-01",
          "2014-02",
          "2014-03",
          "2014-04",
          "2014-05",
          "2014-06",
          "2014-07",
          "2014-08",
          "2014-09",
          "2014-10",
          "2014-11",
          "2014-12",
          "2015-01",
          "2015-02",
          "2015-03",
          "2015-04",
          "2015-05",
          "2015-06",
          "2015-07",
          "2015-08",
          "2015-09",
          "2015-10",
          "2015-11",
          "2015-12",
          "2016-01",
          "2016-02",
          "2016-03",
          "2016-04",
          "2016-05",
          "2016-06",
          "2016-07",
          "2016-08",
          "2016-09",
          "2016-10",
          "2016-11",
          "2016-12",
          "2017-01",
          "2017-02",
          "2017-03",
          "2017-04",
          "2017-05",
          "2017-06",
          "2017-07",
          "2017-08",
          "2017-09",
          "2017-10",
          "2017-11",
          "2017-12",
          "2018-01",
          "2018-02",
          "2018-03",
          "2018-04",
          "2018-05",
          "2018-06",
          "2018-07",
          "2018-08",
          "2018-09",
          "2018-10",
          "2018-11",
          "2018-12",
          "2019-01",
          "2019-02",
          "2019-03",
          "2019-04",
          "2019-05",
          "2019-06",
          "2019-07",
          "2019-08",
          "2019-09",
          "2019-10",
          "2019-11",
          "2019-12",
          "2020-01",
          "2020-02",
          "2020-03",
          "2020-04",
          "2020-05",
          "2020-06",
          "2020-07"
         ],
         "y": [
          5,
          21,
          19,
          17,
          15,
          18,
          20,
          16,
          23,
          21,
          20,
          22,
          17,
          19,
          18,
          17,
          14,
          15,
          18,
          13,
          18,
          14,
          18,
          20,
          17,
          17,
          18,
          20,
          18,
          20,
          15,
          20,
          21,
          15,
          21,
          21,
          19,
          23,
          19,
          20,
          18,
          15,
          20,
          20,
          16,
          18,
          18,
          13,
          18,
          19,
          20,
          20,
          22,
          19,
          15,
          17,
          19,
          20,
          20,
          17,
          16,
          19,
          20,
          18,
          16,
          18,
          22,
          19,
          18,
          16,
          15,
          18,
          15,
          16,
          19,
          13,
          18,
          16,
          19,
          16,
          20,
          17,
          17,
          21,
          18,
          21,
          17,
          12,
          15,
          17,
          16,
          17,
          19,
          16,
          19,
          20,
          15,
          21,
          21,
          19,
          21,
          22,
          21,
          16,
          18,
          35,
          38,
          38,
          35,
          39,
          42,
          34,
          39,
          36,
          44,
          42,
          41,
          42,
          42,
          42,
          38,
          46,
          40,
          42,
          43,
          40,
          46,
          42,
          42,
          42,
          41,
          42,
          40,
          42,
          40,
          42,
          41,
          39,
          43,
          32,
          38,
          36,
          35,
          35,
          38,
          41,
          36,
          37,
          34,
          35,
          37,
          29,
          37,
          34,
          41,
          39,
          34,
          39,
          43,
          39,
          39,
          42,
          35,
          38,
          37,
          30,
          43,
          38,
          36,
          41,
          41,
          36,
          38,
          38,
          40,
          36,
          42,
          34,
          41,
          33,
          34,
          42,
          37,
          37,
          40,
          37,
          39,
          38,
          37,
          37,
          36,
          41,
          31,
          39,
          30,
          39,
          37,
          38,
          42,
          35,
          40,
          33,
          16,
          15,
          14,
          17,
          13,
          17,
          21,
          19,
          20,
          16,
          16,
          18,
          37,
          34,
          38,
          37,
          43,
          39,
          38,
          42,
          40,
          35,
          43,
          35,
          42,
          43,
          36,
          38,
          41,
          38,
          49,
          65,
          60,
          66,
          85,
          79,
          84,
          78,
          73,
          91,
          82,
          79,
          83,
          80,
          85,
          82,
          81,
          82,
          88,
          84,
          76,
          90,
          72,
          88,
          105,
          96,
          109,
          102,
          99,
          116,
          115,
          121,
          109,
          124,
          108,
          122,
          129,
          116,
          130,
          113,
          124,
          117,
          116,
          126,
          117,
          116,
          139,
          149,
          131,
          145,
          144,
          129,
          154,
          132,
          138,
          145,
          133,
          139,
          151,
          143,
          144,
          150,
          140,
          141,
          159,
          127,
          150,
          138,
          131,
          152,
          143,
          136,
          146,
          153,
          143,
          145,
          148,
          137,
          149,
          132,
          131,
          160,
          145,
          136,
          151,
          142,
          149,
          142,
          138,
          144,
          150,
          138,
          140,
          161,
          127,
          146,
          141,
          138,
          156,
          138,
          150,
          138,
          137,
          144,
          131,
          151,
          138,
          151,
          143,
          142,
          159,
          104,
          159,
          140,
          133,
          144,
          129,
          139,
          154,
          168,
          159,
          176,
          176,
          158,
          184,
          177,
          189,
          188,
          171,
          187,
          188,
          188,
          188,
          198,
          188,
          188,
          207,
          171,
          198,
          180,
          170,
          206,
          189,
          180,
          189,
          189,
          198,
          189,
          187,
          189,
          198,
          179,
          171,
          197,
          189,
          189,
          198,
          180,
          226,
          210,
          210,
          210,
          210,
          199,
          190,
          230,
          190,
          220,
          220,
          200,
          230,
          200,
          220,
          210,
          200,
          212,
          224,
          264,
          240,
          263,
          252,
          252,
          276,
          228,
          281,
          270,
          259,
          273,
          260,
          260,
          286,
          273,
          273,
          285,
          273,
          272,
          297,
          247,
          286,
          257,
          245,
          285,
          273,
          256,
          284,
          285,
          270,
          272,
          284,
          255,
          286,
          247,
          243,
          297,
          271,
          259,
          285,
          271,
          283,
          273,
          273,
          272,
          286,
          260,
          247,
          299,
          260,
          273,
          286,
          260,
          299,
          272,
          273,
          270,
          272,
          260,
          258,
          284,
          257,
          285,
          273,
          273,
          299,
          247,
          272,
          272,
          260,
          288,
          266,
          280,
          308,
          308,
          280,
          306,
          308,
          280,
          320,
          278,
          293,
          294,
          265,
          290,
          291,
          291,
          292,
          307,
          294,
          293,
          322,
          265,
          306,
          280,
          265,
          308,
          293,
          278,
          308,
          307,
          290,
          290,
          308,
          279,
          307,
          264,
          278,
          306,
          294,
          305,
          327,
          294,
          341,
          311,
          315,
          311,
          315,
          320,
          304,
          364,
          287,
          330,
          335,
          303,
          348,
          316,
          351,
          332,
          322,
          344,
          306,
          338,
          337,
          349,
          337,
          336,
          371,
          308,
          375,
          350,
          314,
          354,
          319,
          350,
          349,
          367,
          337,
          373,
          373,
          338,
          385,
          339,
          356,
          357,
          323,
          373,
          356,
          340,
          353,
          31
         ]
        }
       ],
       "layout": {
        "legend": {
         "bgcolor": "#F5F6F9",
         "font": {
          "color": "#4D5663"
         }
        },
        "paper_bgcolor": "#F5F6F9",
        "plot_bgcolor": "#F5F6F9",
        "template": {
         "data": {
          "bar": [
           {
            "error_x": {
             "color": "#2a3f5f"
            },
            "error_y": {
             "color": "#2a3f5f"
            },
            "marker": {
             "line": {
              "color": "#E5ECF6",
              "width": 0.5
             },
             "pattern": {
              "fillmode": "overlay",
              "size": 10,
              "solidity": 0.2
             }
            },
            "type": "bar"
           }
          ],
          "barpolar": [
           {
            "marker": {
             "line": {
              "color": "#E5ECF6",
              "width": 0.5
             },
             "pattern": {
              "fillmode": "overlay",
              "size": 10,
              "solidity": 0.2
             }
            },
            "type": "barpolar"
           }
          ],
          "carpet": [
           {
            "aaxis": {
             "endlinecolor": "#2a3f5f",
             "gridcolor": "white",
             "linecolor": "white",
             "minorgridcolor": "white",
             "startlinecolor": "#2a3f5f"
            },
            "baxis": {
             "endlinecolor": "#2a3f5f",
             "gridcolor": "white",
             "linecolor": "white",
             "minorgridcolor": "white",
             "startlinecolor": "#2a3f5f"
            },
            "type": "carpet"
           }
          ],
          "choropleth": [
           {
            "colorbar": {
             "outlinewidth": 0,
             "ticks": ""
            },
            "type": "choropleth"
           }
          ],
          "contour": [
           {
            "colorbar": {
             "outlinewidth": 0,
             "ticks": ""
            },
            "colorscale": [
             [
              0,
              "#0d0887"
             ],
             [
              0.1111111111111111,
              "#46039f"
             ],
             [
              0.2222222222222222,
              "#7201a8"
             ],
             [
              0.3333333333333333,
              "#9c179e"
             ],
             [
              0.4444444444444444,
              "#bd3786"
             ],
             [
              0.5555555555555556,
              "#d8576b"
             ],
             [
              0.6666666666666666,
              "#ed7953"
             ],
             [
              0.7777777777777778,
              "#fb9f3a"
             ],
             [
              0.8888888888888888,
              "#fdca26"
             ],
             [
              1,
              "#f0f921"
             ]
            ],
            "type": "contour"
           }
          ],
          "contourcarpet": [
           {
            "colorbar": {
             "outlinewidth": 0,
             "ticks": ""
            },
            "type": "contourcarpet"
           }
          ],
          "heatmap": [
           {
            "colorbar": {
             "outlinewidth": 0,
             "ticks": ""
            },
            "colorscale": [
             [
              0,
              "#0d0887"
             ],
             [
              0.1111111111111111,
              "#46039f"
             ],
             [
              0.2222222222222222,
              "#7201a8"
             ],
             [
              0.3333333333333333,
              "#9c179e"
             ],
             [
              0.4444444444444444,
              "#bd3786"
             ],
             [
              0.5555555555555556,
              "#d8576b"
             ],
             [
              0.6666666666666666,
              "#ed7953"
             ],
             [
              0.7777777777777778,
              "#fb9f3a"
             ],
             [
              0.8888888888888888,
              "#fdca26"
             ],
             [
              1,
              "#f0f921"
             ]
            ],
            "type": "heatmap"
           }
          ],
          "heatmapgl": [
           {
            "colorbar": {
             "outlinewidth": 0,
             "ticks": ""
            },
            "colorscale": [
             [
              0,
              "#0d0887"
             ],
             [
              0.1111111111111111,
              "#46039f"
             ],
             [
              0.2222222222222222,
              "#7201a8"
             ],
             [
              0.3333333333333333,
              "#9c179e"
             ],
             [
              0.4444444444444444,
              "#bd3786"
             ],
             [
              0.5555555555555556,
              "#d8576b"
             ],
             [
              0.6666666666666666,
              "#ed7953"
             ],
             [
              0.7777777777777778,
              "#fb9f3a"
             ],
             [
              0.8888888888888888,
              "#fdca26"
             ],
             [
              1,
              "#f0f921"
             ]
            ],
            "type": "heatmapgl"
           }
          ],
          "histogram": [
           {
            "marker": {
             "pattern": {
              "fillmode": "overlay",
              "size": 10,
              "solidity": 0.2
             }
            },
            "type": "histogram"
           }
          ],
          "histogram2d": [
           {
            "colorbar": {
             "outlinewidth": 0,
             "ticks": ""
            },
            "colorscale": [
             [
              0,
              "#0d0887"
             ],
             [
              0.1111111111111111,
              "#46039f"
             ],
             [
              0.2222222222222222,
              "#7201a8"
             ],
             [
              0.3333333333333333,
              "#9c179e"
             ],
             [
              0.4444444444444444,
              "#bd3786"
             ],
             [
              0.5555555555555556,
              "#d8576b"
             ],
             [
              0.6666666666666666,
              "#ed7953"
             ],
             [
              0.7777777777777778,
              "#fb9f3a"
             ],
             [
              0.8888888888888888,
              "#fdca26"
             ],
             [
              1,
              "#f0f921"
             ]
            ],
            "type": "histogram2d"
           }
          ],
          "histogram2dcontour": [
           {
            "colorbar": {
             "outlinewidth": 0,
             "ticks": ""
            },
            "colorscale": [
             [
              0,
              "#0d0887"
             ],
             [
              0.1111111111111111,
              "#46039f"
             ],
             [
              0.2222222222222222,
              "#7201a8"
             ],
             [
              0.3333333333333333,
              "#9c179e"
             ],
             [
              0.4444444444444444,
              "#bd3786"
             ],
             [
              0.5555555555555556,
              "#d8576b"
             ],
             [
              0.6666666666666666,
              "#ed7953"
             ],
             [
              0.7777777777777778,
              "#fb9f3a"
             ],
             [
              0.8888888888888888,
              "#fdca26"
             ],
             [
              1,
              "#f0f921"
             ]
            ],
            "type": "histogram2dcontour"
           }
          ],
          "mesh3d": [
           {
            "colorbar": {
             "outlinewidth": 0,
             "ticks": ""
            },
            "type": "mesh3d"
           }
          ],
          "parcoords": [
           {
            "line": {
             "colorbar": {
              "outlinewidth": 0,
              "ticks": ""
             }
            },
            "type": "parcoords"
           }
          ],
          "pie": [
           {
            "automargin": true,
            "type": "pie"
           }
          ],
          "scatter": [
           {
            "fillpattern": {
             "fillmode": "overlay",
             "size": 10,
             "solidity": 0.2
            },
            "type": "scatter"
           }
          ],
          "scatter3d": [
           {
            "line": {
             "colorbar": {
              "outlinewidth": 0,
              "ticks": ""
             }
            },
            "marker": {
             "colorbar": {
              "outlinewidth": 0,
              "ticks": ""
             }
            },
            "type": "scatter3d"
           }
          ],
          "scattercarpet": [
           {
            "marker": {
             "colorbar": {
              "outlinewidth": 0,
              "ticks": ""
             }
            },
            "type": "scattercarpet"
           }
          ],
          "scattergeo": [
           {
            "marker": {
             "colorbar": {
              "outlinewidth": 0,
              "ticks": ""
             }
            },
            "type": "scattergeo"
           }
          ],
          "scattergl": [
           {
            "marker": {
             "colorbar": {
              "outlinewidth": 0,
              "ticks": ""
             }
            },
            "type": "scattergl"
           }
          ],
          "scattermapbox": [
           {
            "marker": {
             "colorbar": {
              "outlinewidth": 0,
              "ticks": ""
             }
            },
            "type": "scattermapbox"
           }
          ],
          "scatterpolar": [
           {
            "marker": {
             "colorbar": {
              "outlinewidth": 0,
              "ticks": ""
             }
            },
            "type": "scatterpolar"
           }
          ],
          "scatterpolargl": [
           {
            "marker": {
             "colorbar": {
              "outlinewidth": 0,
              "ticks": ""
             }
            },
            "type": "scatterpolargl"
           }
          ],
          "scatterternary": [
           {
            "marker": {
             "colorbar": {
              "outlinewidth": 0,
              "ticks": ""
             }
            },
            "type": "scatterternary"
           }
          ],
          "surface": [
           {
            "colorbar": {
             "outlinewidth": 0,
             "ticks": ""
            },
            "colorscale": [
             [
              0,
              "#0d0887"
             ],
             [
              0.1111111111111111,
              "#46039f"
             ],
             [
              0.2222222222222222,
              "#7201a8"
             ],
             [
              0.3333333333333333,
              "#9c179e"
             ],
             [
              0.4444444444444444,
              "#bd3786"
             ],
             [
              0.5555555555555556,
              "#d8576b"
             ],
             [
              0.6666666666666666,
              "#ed7953"
             ],
             [
              0.7777777777777778,
              "#fb9f3a"
             ],
             [
              0.8888888888888888,
              "#fdca26"
             ],
             [
              1,
              "#f0f921"
             ]
            ],
            "type": "surface"
           }
          ],
          "table": [
           {
            "cells": {
             "fill": {
              "color": "#EBF0F8"
             },
             "line": {
              "color": "white"
             }
            },
            "header": {
             "fill": {
              "color": "#C8D4E3"
             },
             "line": {
              "color": "white"
             }
            },
            "type": "table"
           }
          ]
         },
         "layout": {
          "annotationdefaults": {
           "arrowcolor": "#2a3f5f",
           "arrowhead": 0,
           "arrowwidth": 1
          },
          "autotypenumbers": "strict",
          "coloraxis": {
           "colorbar": {
            "outlinewidth": 0,
            "ticks": ""
           }
          },
          "colorscale": {
           "diverging": [
            [
             0,
             "#8e0152"
            ],
            [
             0.1,
             "#c51b7d"
            ],
            [
             0.2,
             "#de77ae"
            ],
            [
             0.3,
             "#f1b6da"
            ],
            [
             0.4,
             "#fde0ef"
            ],
            [
             0.5,
             "#f7f7f7"
            ],
            [
             0.6,
             "#e6f5d0"
            ],
            [
             0.7,
             "#b8e186"
            ],
            [
             0.8,
             "#7fbc41"
            ],
            [
             0.9,
             "#4d9221"
            ],
            [
             1,
             "#276419"
            ]
           ],
           "sequential": [
            [
             0,
             "#0d0887"
            ],
            [
             0.1111111111111111,
             "#46039f"
            ],
            [
             0.2222222222222222,
             "#7201a8"
            ],
            [
             0.3333333333333333,
             "#9c179e"
            ],
            [
             0.4444444444444444,
             "#bd3786"
            ],
            [
             0.5555555555555556,
             "#d8576b"
            ],
            [
             0.6666666666666666,
             "#ed7953"
            ],
            [
             0.7777777777777778,
             "#fb9f3a"
            ],
            [
             0.8888888888888888,
             "#fdca26"
            ],
            [
             1,
             "#f0f921"
            ]
           ],
           "sequentialminus": [
            [
             0,
             "#0d0887"
            ],
            [
             0.1111111111111111,
             "#46039f"
            ],
            [
             0.2222222222222222,
             "#7201a8"
            ],
            [
             0.3333333333333333,
             "#9c179e"
            ],
            [
             0.4444444444444444,
             "#bd3786"
            ],
            [
             0.5555555555555556,
             "#d8576b"
            ],
            [
             0.6666666666666666,
             "#ed7953"
            ],
            [
             0.7777777777777778,
             "#fb9f3a"
            ],
            [
             0.8888888888888888,
             "#fdca26"
            ],
            [
             1,
             "#f0f921"
            ]
           ]
          },
          "colorway": [
           "#636efa",
           "#EF553B",
           "#00cc96",
           "#ab63fa",
           "#FFA15A",
           "#19d3f3",
           "#FF6692",
           "#B6E880",
           "#FF97FF",
           "#FECB52"
          ],
          "font": {
           "color": "#2a3f5f"
          },
          "geo": {
           "bgcolor": "white",
           "lakecolor": "white",
           "landcolor": "#E5ECF6",
           "showlakes": true,
           "showland": true,
           "subunitcolor": "white"
          },
          "hoverlabel": {
           "align": "left"
          },
          "hovermode": "closest",
          "mapbox": {
           "style": "light"
          },
          "paper_bgcolor": "white",
          "plot_bgcolor": "#E5ECF6",
          "polar": {
           "angularaxis": {
            "gridcolor": "white",
            "linecolor": "white",
            "ticks": ""
           },
           "bgcolor": "#E5ECF6",
           "radialaxis": {
            "gridcolor": "white",
            "linecolor": "white",
            "ticks": ""
           }
          },
          "scene": {
           "xaxis": {
            "backgroundcolor": "#E5ECF6",
            "gridcolor": "white",
            "gridwidth": 2,
            "linecolor": "white",
            "showbackground": true,
            "ticks": "",
            "zerolinecolor": "white"
           },
           "yaxis": {
            "backgroundcolor": "#E5ECF6",
            "gridcolor": "white",
            "gridwidth": 2,
            "linecolor": "white",
            "showbackground": true,
            "ticks": "",
            "zerolinecolor": "white"
           },
           "zaxis": {
            "backgroundcolor": "#E5ECF6",
            "gridcolor": "white",
            "gridwidth": 2,
            "linecolor": "white",
            "showbackground": true,
            "ticks": "",
            "zerolinecolor": "white"
           }
          },
          "shapedefaults": {
           "line": {
            "color": "#2a3f5f"
           }
          },
          "ternary": {
           "aaxis": {
            "gridcolor": "white",
            "linecolor": "white",
            "ticks": ""
           },
           "baxis": {
            "gridcolor": "white",
            "linecolor": "white",
            "ticks": ""
           },
           "bgcolor": "#E5ECF6",
           "caxis": {
            "gridcolor": "white",
            "linecolor": "white",
            "ticks": ""
           }
          },
          "title": {
           "x": 0.05
          },
          "xaxis": {
           "automargin": true,
           "gridcolor": "white",
           "linecolor": "white",
           "ticks": "",
           "title": {
            "standoff": 15
           },
           "zerolinecolor": "white",
           "zerolinewidth": 2
          },
          "yaxis": {
           "automargin": true,
           "gridcolor": "white",
           "linecolor": "white",
           "ticks": "",
           "title": {
            "standoff": 15
           },
           "zerolinecolor": "white",
           "zerolinewidth": 2
          }
         }
        },
        "title": {
         "font": {
          "color": "#4D5663"
         },
         "text": "Observaciones por mes"
        },
        "xaxis": {
         "gridcolor": "#E1E5ED",
         "showgrid": true,
         "tickfont": {
          "color": "#4D5663"
         },
         "title": {
          "font": {
           "color": "#4D5663"
          },
          "text": ""
         },
         "zerolinecolor": "#E1E5ED"
        },
        "yaxis": {
         "gridcolor": "#E1E5ED",
         "showgrid": true,
         "tickfont": {
          "color": "#4D5663"
         },
         "title": {
          "font": {
           "color": "#4D5663"
          },
          "text": ""
         },
         "zerolinecolor": "#E1E5ED"
        }
       }
      },
      "text/html": [
       "<div>                            <div id=\"06dfc669-cba0-4add-bba8-41b0dff9d860\" class=\"plotly-graph-div\" style=\"height:525px; width:100%;\"></div>            <script type=\"text/javascript\">                require([\"plotly\"], function(Plotly) {                    window.PLOTLYENV=window.PLOTLYENV || {};\n",
       "                    window.PLOTLYENV.BASE_URL='https://plot.ly';                                    if (document.getElementById(\"06dfc669-cba0-4add-bba8-41b0dff9d860\")) {                    Plotly.newPlot(                        \"06dfc669-cba0-4add-bba8-41b0dff9d860\",                        [{\"marker\":{\"color\":\"rgba(128, 0, 128, 0.6)\",\"line\":{\"color\":\"rgba(128, 0, 128, 1.0)\",\"width\":1}},\"name\":\"date\",\"orientation\":\"v\",\"text\":\"\",\"x\":[\"1973-02\",\"1973-03\",\"1973-04\",\"1973-05\",\"1973-06\",\"1973-07\",\"1973-08\",\"1973-09\",\"1973-10\",\"1973-11\",\"1973-12\",\"1974-01\",\"1974-02\",\"1974-03\",\"1974-04\",\"1974-05\",\"1974-06\",\"1974-07\",\"1974-08\",\"1974-09\",\"1974-10\",\"1974-11\",\"1974-12\",\"1975-01\",\"1975-02\",\"1975-03\",\"1975-04\",\"1975-05\",\"1975-06\",\"1975-07\",\"1975-08\",\"1975-09\",\"1975-10\",\"1975-11\",\"1975-12\",\"1976-01\",\"1976-02\",\"1976-03\",\"1976-04\",\"1976-05\",\"1976-06\",\"1976-07\",\"1976-08\",\"1976-09\",\"1976-10\",\"1976-11\",\"1976-12\",\"1977-01\",\"1977-02\",\"1977-03\",\"1977-04\",\"1977-05\",\"1977-06\",\"1977-07\",\"1977-08\",\"1977-09\",\"1977-10\",\"1977-11\",\"1977-12\",\"1978-01\",\"1978-02\",\"1978-03\",\"1978-04\",\"1978-05\",\"1978-06\",\"1978-07\",\"1978-08\",\"1978-09\",\"1978-10\",\"1978-11\",\"1978-12\",\"1979-01\",\"1979-02\",\"1979-03\",\"1979-04\",\"1979-05\",\"1979-06\",\"1979-07\",\"1979-08\",\"1979-09\",\"1979-10\",\"1979-11\",\"1979-12\",\"1980-01\",\"1980-02\",\"1980-03\",\"1980-04\",\"1980-05\",\"1980-06\",\"1980-07\",\"1980-08\",\"1980-09\",\"1980-10\",\"1980-11\",\"1980-12\",\"1981-01\",\"1981-02\",\"1981-03\",\"1981-04\",\"1981-05\",\"1981-06\",\"1981-07\",\"1981-08\",\"1981-09\",\"1981-10\",\"1981-11\",\"1981-12\",\"1982-01\",\"1982-02\",\"1982-03\",\"1982-04\",\"1982-05\",\"1982-06\",\"1982-07\",\"1982-08\",\"1982-09\",\"1982-10\",\"1982-11\",\"1982-12\",\"1983-01\",\"1983-02\",\"1983-03\",\"1983-04\",\"1983-05\",\"1983-06\",\"1983-07\",\"1983-08\",\"1983-09\",\"1983-10\",\"1983-11\",\"1983-12\",\"1984-01\",\"1984-02\",\"1984-03\",\"1984-04\",\"1984-05\",\"1984-06\",\"1984-07\",\"1984-08\",\"1984-09\",\"1984-10\",\"1984-11\",\"1984-12\",\"1985-01\",\"1985-02\",\"1985-03\",\"1985-04\",\"1985-05\",\"1985-06\",\"1985-07\",\"1985-08\",\"1985-09\",\"1985-10\",\"1985-11\",\"1985-12\",\"1986-01\",\"1986-02\",\"1986-03\",\"1986-04\",\"1986-05\",\"1986-06\",\"1986-07\",\"1986-08\",\"1986-09\",\"1986-10\",\"1986-11\",\"1986-12\",\"1987-01\",\"1987-02\",\"1987-03\",\"1987-04\",\"1987-05\",\"1987-06\",\"1987-07\",\"1987-08\",\"1987-09\",\"1987-10\",\"1987-11\",\"1987-12\",\"1988-01\",\"1988-02\",\"1988-03\",\"1988-04\",\"1988-05\",\"1988-06\",\"1988-07\",\"1988-08\",\"1988-09\",\"1988-10\",\"1988-11\",\"1988-12\",\"1989-01\",\"1989-02\",\"1989-03\",\"1989-04\",\"1989-05\",\"1989-06\",\"1989-07\",\"1989-08\",\"1989-09\",\"1989-10\",\"1989-11\",\"1989-12\",\"1990-01\",\"1990-02\",\"1990-03\",\"1990-04\",\"1990-05\",\"1990-06\",\"1990-07\",\"1990-08\",\"1990-09\",\"1990-10\",\"1990-11\",\"1990-12\",\"1991-01\",\"1991-02\",\"1991-03\",\"1991-04\",\"1991-05\",\"1991-06\",\"1991-07\",\"1991-08\",\"1991-09\",\"1991-10\",\"1991-11\",\"1991-12\",\"1992-01\",\"1992-02\",\"1992-03\",\"1992-04\",\"1992-05\",\"1992-06\",\"1992-07\",\"1992-08\",\"1992-09\",\"1992-10\",\"1992-11\",\"1992-12\",\"1993-01\",\"1993-02\",\"1993-03\",\"1993-04\",\"1993-05\",\"1993-06\",\"1993-07\",\"1993-08\",\"1993-09\",\"1993-10\",\"1993-11\",\"1993-12\",\"1994-01\",\"1994-02\",\"1994-03\",\"1994-04\",\"1994-05\",\"1994-06\",\"1994-07\",\"1994-08\",\"1994-09\",\"1994-10\",\"1994-11\",\"1994-12\",\"1995-01\",\"1995-02\",\"1995-03\",\"1995-04\",\"1995-05\",\"1995-06\",\"1995-07\",\"1995-08\",\"1995-09\",\"1995-10\",\"1995-11\",\"1995-12\",\"1996-01\",\"1996-02\",\"1996-03\",\"1996-04\",\"1996-05\",\"1996-06\",\"1996-07\",\"1996-08\",\"1996-09\",\"1996-10\",\"1996-11\",\"1996-12\",\"1997-01\",\"1997-02\",\"1997-03\",\"1997-04\",\"1997-05\",\"1997-06\",\"1997-07\",\"1997-08\",\"1997-09\",\"1997-10\",\"1997-11\",\"1997-12\",\"1998-01\",\"1998-02\",\"1998-03\",\"1998-04\",\"1998-05\",\"1998-06\",\"1998-07\",\"1998-08\",\"1998-09\",\"1998-10\",\"1998-11\",\"1998-12\",\"1999-01\",\"1999-02\",\"1999-03\",\"1999-04\",\"1999-05\",\"1999-06\",\"1999-07\",\"1999-08\",\"1999-09\",\"1999-10\",\"1999-11\",\"1999-12\",\"2000-01\",\"2000-02\",\"2000-03\",\"2000-04\",\"2000-05\",\"2000-06\",\"2000-07\",\"2000-08\",\"2000-09\",\"2000-10\",\"2000-11\",\"2000-12\",\"2001-01\",\"2001-02\",\"2001-03\",\"2001-04\",\"2001-05\",\"2001-06\",\"2001-07\",\"2001-08\",\"2001-09\",\"2001-10\",\"2001-11\",\"2001-12\",\"2002-01\",\"2002-02\",\"2002-03\",\"2002-04\",\"2002-05\",\"2002-06\",\"2002-07\",\"2002-08\",\"2002-09\",\"2002-10\",\"2002-11\",\"2002-12\",\"2003-01\",\"2003-02\",\"2003-03\",\"2003-04\",\"2003-05\",\"2003-06\",\"2003-07\",\"2003-08\",\"2003-09\",\"2003-10\",\"2003-11\",\"2003-12\",\"2004-01\",\"2004-02\",\"2004-03\",\"2004-04\",\"2004-05\",\"2004-06\",\"2004-07\",\"2004-08\",\"2004-09\",\"2004-10\",\"2004-11\",\"2004-12\",\"2005-01\",\"2005-02\",\"2005-03\",\"2005-04\",\"2005-05\",\"2005-06\",\"2005-07\",\"2005-08\",\"2005-09\",\"2005-10\",\"2005-11\",\"2005-12\",\"2006-01\",\"2006-02\",\"2006-03\",\"2006-04\",\"2006-05\",\"2006-06\",\"2006-07\",\"2006-08\",\"2006-09\",\"2006-10\",\"2006-11\",\"2006-12\",\"2007-01\",\"2007-02\",\"2007-03\",\"2007-04\",\"2007-05\",\"2007-06\",\"2007-07\",\"2007-08\",\"2007-09\",\"2007-10\",\"2007-11\",\"2007-12\",\"2008-01\",\"2008-02\",\"2008-03\",\"2008-04\",\"2008-05\",\"2008-06\",\"2008-07\",\"2008-08\",\"2008-09\",\"2008-10\",\"2008-11\",\"2008-12\",\"2009-01\",\"2009-02\",\"2009-03\",\"2009-04\",\"2009-05\",\"2009-06\",\"2009-07\",\"2009-08\",\"2009-09\",\"2009-10\",\"2009-11\",\"2009-12\",\"2010-01\",\"2010-02\",\"2010-03\",\"2010-04\",\"2010-05\",\"2010-06\",\"2010-07\",\"2010-08\",\"2010-09\",\"2010-10\",\"2010-11\",\"2010-12\",\"2011-01\",\"2011-02\",\"2011-03\",\"2011-04\",\"2011-05\",\"2011-06\",\"2011-07\",\"2011-08\",\"2011-09\",\"2011-10\",\"2011-11\",\"2011-12\",\"2012-01\",\"2012-02\",\"2012-03\",\"2012-04\",\"2012-05\",\"2012-06\",\"2012-07\",\"2012-08\",\"2012-09\",\"2012-10\",\"2012-11\",\"2012-12\",\"2013-01\",\"2013-02\",\"2013-03\",\"2013-04\",\"2013-05\",\"2013-06\",\"2013-07\",\"2013-08\",\"2013-09\",\"2013-10\",\"2013-11\",\"2013-12\",\"2014-01\",\"2014-02\",\"2014-03\",\"2014-04\",\"2014-05\",\"2014-06\",\"2014-07\",\"2014-08\",\"2014-09\",\"2014-10\",\"2014-11\",\"2014-12\",\"2015-01\",\"2015-02\",\"2015-03\",\"2015-04\",\"2015-05\",\"2015-06\",\"2015-07\",\"2015-08\",\"2015-09\",\"2015-10\",\"2015-11\",\"2015-12\",\"2016-01\",\"2016-02\",\"2016-03\",\"2016-04\",\"2016-05\",\"2016-06\",\"2016-07\",\"2016-08\",\"2016-09\",\"2016-10\",\"2016-11\",\"2016-12\",\"2017-01\",\"2017-02\",\"2017-03\",\"2017-04\",\"2017-05\",\"2017-06\",\"2017-07\",\"2017-08\",\"2017-09\",\"2017-10\",\"2017-11\",\"2017-12\",\"2018-01\",\"2018-02\",\"2018-03\",\"2018-04\",\"2018-05\",\"2018-06\",\"2018-07\",\"2018-08\",\"2018-09\",\"2018-10\",\"2018-11\",\"2018-12\",\"2019-01\",\"2019-02\",\"2019-03\",\"2019-04\",\"2019-05\",\"2019-06\",\"2019-07\",\"2019-08\",\"2019-09\",\"2019-10\",\"2019-11\",\"2019-12\",\"2020-01\",\"2020-02\",\"2020-03\",\"2020-04\",\"2020-05\",\"2020-06\",\"2020-07\"],\"y\":[5,21,19,17,15,18,20,16,23,21,20,22,17,19,18,17,14,15,18,13,18,14,18,20,17,17,18,20,18,20,15,20,21,15,21,21,19,23,19,20,18,15,20,20,16,18,18,13,18,19,20,20,22,19,15,17,19,20,20,17,16,19,20,18,16,18,22,19,18,16,15,18,15,16,19,13,18,16,19,16,20,17,17,21,18,21,17,12,15,17,16,17,19,16,19,20,15,21,21,19,21,22,21,16,18,35,38,38,35,39,42,34,39,36,44,42,41,42,42,42,38,46,40,42,43,40,46,42,42,42,41,42,40,42,40,42,41,39,43,32,38,36,35,35,38,41,36,37,34,35,37,29,37,34,41,39,34,39,43,39,39,42,35,38,37,30,43,38,36,41,41,36,38,38,40,36,42,34,41,33,34,42,37,37,40,37,39,38,37,37,36,41,31,39,30,39,37,38,42,35,40,33,16,15,14,17,13,17,21,19,20,16,16,18,37,34,38,37,43,39,38,42,40,35,43,35,42,43,36,38,41,38,49,65,60,66,85,79,84,78,73,91,82,79,83,80,85,82,81,82,88,84,76,90,72,88,105,96,109,102,99,116,115,121,109,124,108,122,129,116,130,113,124,117,116,126,117,116,139,149,131,145,144,129,154,132,138,145,133,139,151,143,144,150,140,141,159,127,150,138,131,152,143,136,146,153,143,145,148,137,149,132,131,160,145,136,151,142,149,142,138,144,150,138,140,161,127,146,141,138,156,138,150,138,137,144,131,151,138,151,143,142,159,104,159,140,133,144,129,139,154,168,159,176,176,158,184,177,189,188,171,187,188,188,188,198,188,188,207,171,198,180,170,206,189,180,189,189,198,189,187,189,198,179,171,197,189,189,198,180,226,210,210,210,210,199,190,230,190,220,220,200,230,200,220,210,200,212,224,264,240,263,252,252,276,228,281,270,259,273,260,260,286,273,273,285,273,272,297,247,286,257,245,285,273,256,284,285,270,272,284,255,286,247,243,297,271,259,285,271,283,273,273,272,286,260,247,299,260,273,286,260,299,272,273,270,272,260,258,284,257,285,273,273,299,247,272,272,260,288,266,280,308,308,280,306,308,280,320,278,293,294,265,290,291,291,292,307,294,293,322,265,306,280,265,308,293,278,308,307,290,290,308,279,307,264,278,306,294,305,327,294,341,311,315,311,315,320,304,364,287,330,335,303,348,316,351,332,322,344,306,338,337,349,337,336,371,308,375,350,314,354,319,350,349,367,337,373,373,338,385,339,356,357,323,373,356,340,353,31],\"type\":\"bar\"}],                        {\"legend\":{\"bgcolor\":\"#F5F6F9\",\"font\":{\"color\":\"#4D5663\"}},\"paper_bgcolor\":\"#F5F6F9\",\"plot_bgcolor\":\"#F5F6F9\",\"template\":{\"data\":{\"barpolar\":[{\"marker\":{\"line\":{\"color\":\"#E5ECF6\",\"width\":0.5},\"pattern\":{\"fillmode\":\"overlay\",\"size\":10,\"solidity\":0.2}},\"type\":\"barpolar\"}],\"bar\":[{\"error_x\":{\"color\":\"#2a3f5f\"},\"error_y\":{\"color\":\"#2a3f5f\"},\"marker\":{\"line\":{\"color\":\"#E5ECF6\",\"width\":0.5},\"pattern\":{\"fillmode\":\"overlay\",\"size\":10,\"solidity\":0.2}},\"type\":\"bar\"}],\"carpet\":[{\"aaxis\":{\"endlinecolor\":\"#2a3f5f\",\"gridcolor\":\"white\",\"linecolor\":\"white\",\"minorgridcolor\":\"white\",\"startlinecolor\":\"#2a3f5f\"},\"baxis\":{\"endlinecolor\":\"#2a3f5f\",\"gridcolor\":\"white\",\"linecolor\":\"white\",\"minorgridcolor\":\"white\",\"startlinecolor\":\"#2a3f5f\"},\"type\":\"carpet\"}],\"choropleth\":[{\"colorbar\":{\"outlinewidth\":0,\"ticks\":\"\"},\"type\":\"choropleth\"}],\"contourcarpet\":[{\"colorbar\":{\"outlinewidth\":0,\"ticks\":\"\"},\"type\":\"contourcarpet\"}],\"contour\":[{\"colorbar\":{\"outlinewidth\":0,\"ticks\":\"\"},\"colorscale\":[[0.0,\"#0d0887\"],[0.1111111111111111,\"#46039f\"],[0.2222222222222222,\"#7201a8\"],[0.3333333333333333,\"#9c179e\"],[0.4444444444444444,\"#bd3786\"],[0.5555555555555556,\"#d8576b\"],[0.6666666666666666,\"#ed7953\"],[0.7777777777777778,\"#fb9f3a\"],[0.8888888888888888,\"#fdca26\"],[1.0,\"#f0f921\"]],\"type\":\"contour\"}],\"heatmapgl\":[{\"colorbar\":{\"outlinewidth\":0,\"ticks\":\"\"},\"colorscale\":[[0.0,\"#0d0887\"],[0.1111111111111111,\"#46039f\"],[0.2222222222222222,\"#7201a8\"],[0.3333333333333333,\"#9c179e\"],[0.4444444444444444,\"#bd3786\"],[0.5555555555555556,\"#d8576b\"],[0.6666666666666666,\"#ed7953\"],[0.7777777777777778,\"#fb9f3a\"],[0.8888888888888888,\"#fdca26\"],[1.0,\"#f0f921\"]],\"type\":\"heatmapgl\"}],\"heatmap\":[{\"colorbar\":{\"outlinewidth\":0,\"ticks\":\"\"},\"colorscale\":[[0.0,\"#0d0887\"],[0.1111111111111111,\"#46039f\"],[0.2222222222222222,\"#7201a8\"],[0.3333333333333333,\"#9c179e\"],[0.4444444444444444,\"#bd3786\"],[0.5555555555555556,\"#d8576b\"],[0.6666666666666666,\"#ed7953\"],[0.7777777777777778,\"#fb9f3a\"],[0.8888888888888888,\"#fdca26\"],[1.0,\"#f0f921\"]],\"type\":\"heatmap\"}],\"histogram2dcontour\":[{\"colorbar\":{\"outlinewidth\":0,\"ticks\":\"\"},\"colorscale\":[[0.0,\"#0d0887\"],[0.1111111111111111,\"#46039f\"],[0.2222222222222222,\"#7201a8\"],[0.3333333333333333,\"#9c179e\"],[0.4444444444444444,\"#bd3786\"],[0.5555555555555556,\"#d8576b\"],[0.6666666666666666,\"#ed7953\"],[0.7777777777777778,\"#fb9f3a\"],[0.8888888888888888,\"#fdca26\"],[1.0,\"#f0f921\"]],\"type\":\"histogram2dcontour\"}],\"histogram2d\":[{\"colorbar\":{\"outlinewidth\":0,\"ticks\":\"\"},\"colorscale\":[[0.0,\"#0d0887\"],[0.1111111111111111,\"#46039f\"],[0.2222222222222222,\"#7201a8\"],[0.3333333333333333,\"#9c179e\"],[0.4444444444444444,\"#bd3786\"],[0.5555555555555556,\"#d8576b\"],[0.6666666666666666,\"#ed7953\"],[0.7777777777777778,\"#fb9f3a\"],[0.8888888888888888,\"#fdca26\"],[1.0,\"#f0f921\"]],\"type\":\"histogram2d\"}],\"histogram\":[{\"marker\":{\"pattern\":{\"fillmode\":\"overlay\",\"size\":10,\"solidity\":0.2}},\"type\":\"histogram\"}],\"mesh3d\":[{\"colorbar\":{\"outlinewidth\":0,\"ticks\":\"\"},\"type\":\"mesh3d\"}],\"parcoords\":[{\"line\":{\"colorbar\":{\"outlinewidth\":0,\"ticks\":\"\"}},\"type\":\"parcoords\"}],\"pie\":[{\"automargin\":true,\"type\":\"pie\"}],\"scatter3d\":[{\"line\":{\"colorbar\":{\"outlinewidth\":0,\"ticks\":\"\"}},\"marker\":{\"colorbar\":{\"outlinewidth\":0,\"ticks\":\"\"}},\"type\":\"scatter3d\"}],\"scattercarpet\":[{\"marker\":{\"colorbar\":{\"outlinewidth\":0,\"ticks\":\"\"}},\"type\":\"scattercarpet\"}],\"scattergeo\":[{\"marker\":{\"colorbar\":{\"outlinewidth\":0,\"ticks\":\"\"}},\"type\":\"scattergeo\"}],\"scattergl\":[{\"marker\":{\"colorbar\":{\"outlinewidth\":0,\"ticks\":\"\"}},\"type\":\"scattergl\"}],\"scattermapbox\":[{\"marker\":{\"colorbar\":{\"outlinewidth\":0,\"ticks\":\"\"}},\"type\":\"scattermapbox\"}],\"scatterpolargl\":[{\"marker\":{\"colorbar\":{\"outlinewidth\":0,\"ticks\":\"\"}},\"type\":\"scatterpolargl\"}],\"scatterpolar\":[{\"marker\":{\"colorbar\":{\"outlinewidth\":0,\"ticks\":\"\"}},\"type\":\"scatterpolar\"}],\"scatter\":[{\"fillpattern\":{\"fillmode\":\"overlay\",\"size\":10,\"solidity\":0.2},\"type\":\"scatter\"}],\"scatterternary\":[{\"marker\":{\"colorbar\":{\"outlinewidth\":0,\"ticks\":\"\"}},\"type\":\"scatterternary\"}],\"surface\":[{\"colorbar\":{\"outlinewidth\":0,\"ticks\":\"\"},\"colorscale\":[[0.0,\"#0d0887\"],[0.1111111111111111,\"#46039f\"],[0.2222222222222222,\"#7201a8\"],[0.3333333333333333,\"#9c179e\"],[0.4444444444444444,\"#bd3786\"],[0.5555555555555556,\"#d8576b\"],[0.6666666666666666,\"#ed7953\"],[0.7777777777777778,\"#fb9f3a\"],[0.8888888888888888,\"#fdca26\"],[1.0,\"#f0f921\"]],\"type\":\"surface\"}],\"table\":[{\"cells\":{\"fill\":{\"color\":\"#EBF0F8\"},\"line\":{\"color\":\"white\"}},\"header\":{\"fill\":{\"color\":\"#C8D4E3\"},\"line\":{\"color\":\"white\"}},\"type\":\"table\"}]},\"layout\":{\"annotationdefaults\":{\"arrowcolor\":\"#2a3f5f\",\"arrowhead\":0,\"arrowwidth\":1},\"autotypenumbers\":\"strict\",\"coloraxis\":{\"colorbar\":{\"outlinewidth\":0,\"ticks\":\"\"}},\"colorscale\":{\"diverging\":[[0,\"#8e0152\"],[0.1,\"#c51b7d\"],[0.2,\"#de77ae\"],[0.3,\"#f1b6da\"],[0.4,\"#fde0ef\"],[0.5,\"#f7f7f7\"],[0.6,\"#e6f5d0\"],[0.7,\"#b8e186\"],[0.8,\"#7fbc41\"],[0.9,\"#4d9221\"],[1,\"#276419\"]],\"sequential\":[[0.0,\"#0d0887\"],[0.1111111111111111,\"#46039f\"],[0.2222222222222222,\"#7201a8\"],[0.3333333333333333,\"#9c179e\"],[0.4444444444444444,\"#bd3786\"],[0.5555555555555556,\"#d8576b\"],[0.6666666666666666,\"#ed7953\"],[0.7777777777777778,\"#fb9f3a\"],[0.8888888888888888,\"#fdca26\"],[1.0,\"#f0f921\"]],\"sequentialminus\":[[0.0,\"#0d0887\"],[0.1111111111111111,\"#46039f\"],[0.2222222222222222,\"#7201a8\"],[0.3333333333333333,\"#9c179e\"],[0.4444444444444444,\"#bd3786\"],[0.5555555555555556,\"#d8576b\"],[0.6666666666666666,\"#ed7953\"],[0.7777777777777778,\"#fb9f3a\"],[0.8888888888888888,\"#fdca26\"],[1.0,\"#f0f921\"]]},\"colorway\":[\"#636efa\",\"#EF553B\",\"#00cc96\",\"#ab63fa\",\"#FFA15A\",\"#19d3f3\",\"#FF6692\",\"#B6E880\",\"#FF97FF\",\"#FECB52\"],\"font\":{\"color\":\"#2a3f5f\"},\"geo\":{\"bgcolor\":\"white\",\"lakecolor\":\"white\",\"landcolor\":\"#E5ECF6\",\"showlakes\":true,\"showland\":true,\"subunitcolor\":\"white\"},\"hoverlabel\":{\"align\":\"left\"},\"hovermode\":\"closest\",\"mapbox\":{\"style\":\"light\"},\"paper_bgcolor\":\"white\",\"plot_bgcolor\":\"#E5ECF6\",\"polar\":{\"angularaxis\":{\"gridcolor\":\"white\",\"linecolor\":\"white\",\"ticks\":\"\"},\"bgcolor\":\"#E5ECF6\",\"radialaxis\":{\"gridcolor\":\"white\",\"linecolor\":\"white\",\"ticks\":\"\"}},\"scene\":{\"xaxis\":{\"backgroundcolor\":\"#E5ECF6\",\"gridcolor\":\"white\",\"gridwidth\":2,\"linecolor\":\"white\",\"showbackground\":true,\"ticks\":\"\",\"zerolinecolor\":\"white\"},\"yaxis\":{\"backgroundcolor\":\"#E5ECF6\",\"gridcolor\":\"white\",\"gridwidth\":2,\"linecolor\":\"white\",\"showbackground\":true,\"ticks\":\"\",\"zerolinecolor\":\"white\"},\"zaxis\":{\"backgroundcolor\":\"#E5ECF6\",\"gridcolor\":\"white\",\"gridwidth\":2,\"linecolor\":\"white\",\"showbackground\":true,\"ticks\":\"\",\"zerolinecolor\":\"white\"}},\"shapedefaults\":{\"line\":{\"color\":\"#2a3f5f\"}},\"ternary\":{\"aaxis\":{\"gridcolor\":\"white\",\"linecolor\":\"white\",\"ticks\":\"\"},\"baxis\":{\"gridcolor\":\"white\",\"linecolor\":\"white\",\"ticks\":\"\"},\"bgcolor\":\"#E5ECF6\",\"caxis\":{\"gridcolor\":\"white\",\"linecolor\":\"white\",\"ticks\":\"\"}},\"title\":{\"x\":0.05},\"xaxis\":{\"automargin\":true,\"gridcolor\":\"white\",\"linecolor\":\"white\",\"ticks\":\"\",\"title\":{\"standoff\":15},\"zerolinecolor\":\"white\",\"zerolinewidth\":2},\"yaxis\":{\"automargin\":true,\"gridcolor\":\"white\",\"linecolor\":\"white\",\"ticks\":\"\",\"title\":{\"standoff\":15},\"zerolinecolor\":\"white\",\"zerolinewidth\":2}}},\"title\":{\"font\":{\"color\":\"#4D5663\"},\"text\":\"Observaciones por mes\"},\"xaxis\":{\"gridcolor\":\"#E1E5ED\",\"showgrid\":true,\"tickfont\":{\"color\":\"#4D5663\"},\"title\":{\"font\":{\"color\":\"#4D5663\"},\"text\":\"\"},\"zerolinecolor\":\"#E1E5ED\"},\"yaxis\":{\"gridcolor\":\"#E1E5ED\",\"showgrid\":true,\"tickfont\":{\"color\":\"#4D5663\"},\"title\":{\"font\":{\"color\":\"#4D5663\"},\"text\":\"\"},\"zerolinecolor\":\"#E1E5ED\"}},                        {\"showLink\": true, \"linkText\": \"Export to plot.ly\", \"plotlyServerURL\": \"https://plot.ly\", \"responsive\": true}                    ).then(function(){\n",
       "                            \n",
       "var gd = document.getElementById('06dfc669-cba0-4add-bba8-41b0dff9d860');\n",
       "var x = new MutationObserver(function (mutations, observer) {{\n",
       "        var display = window.getComputedStyle(gd).display;\n",
       "        if (!display || display === 'none') {{\n",
       "            console.log([gd, 'removed!']);\n",
       "            Plotly.purge(gd);\n",
       "            observer.disconnect();\n",
       "        }}\n",
       "}});\n",
       "\n",
       "// Listen for the removal of the full notebook cells\n",
       "var notebookContainer = gd.closest('#notebook-container');\n",
       "if (notebookContainer) {{\n",
       "    x.observe(notebookContainer, {childList: true});\n",
       "}}\n",
       "\n",
       "// Listen for the clearing of the current output cell\n",
       "var outputEl = gd.closest('.output');\n",
       "if (outputEl) {{\n",
       "    x.observe(outputEl, {childList: true});\n",
       "}}\n",
       "\n",
       "                        })                };                });            </script>        </div>"
      ]
     },
     "metadata": {},
     "output_type": "display_data"
    }
   ],
   "source": [
    "# La columna 'date' la convertimos a formato año-mes, contamos y ordenamos los valores.\n",
    "df['date'].map(lambda x: x.strftime('%Y-%m')).value_counts().sort_index().iplot(\n",
    "    # Graficamos\n",
    "    kind='bar', title='Observaciones por mes', color='purple')"
   ]
  },
  {
   "cell_type": "code",
   "execution_count": 10,
   "metadata": {},
   "outputs": [
    {
     "data": {
      "text/plain": [
       "(datetime.date(2019, 7, 2), datetime.date(2020, 7, 2))"
      ]
     },
     "execution_count": 10,
     "metadata": {},
     "output_type": "execute_result"
    }
   ],
   "source": [
    "fchaf,fchai = df['date'].max(),df['date'].max()+rd(years=-1)\n",
    "fchai,fchaf"
   ]
  },
  {
   "cell_type": "code",
   "execution_count": 11,
   "metadata": {},
   "outputs": [
    {
     "data": {
      "text/plain": [
       "(4280, 6)"
      ]
     },
     "execution_count": 11,
     "metadata": {},
     "output_type": "execute_result"
    }
   ],
   "source": [
    "# Tomamos las fechas que esten entre la fecha final y la fecha inicial\n",
    "df = df[(df['date']>=fchai) & (df['date']<=fchaf)].reset_index(drop=True)\n",
    "df.shape"
   ]
  },
  {
   "cell_type": "code",
   "execution_count": 12,
   "metadata": {},
   "outputs": [
    {
     "data": {
      "application/vnd.plotly.v1+json": {
       "config": {
        "linkText": "Export to plot.ly",
        "plotlyServerURL": "https://plot.ly",
        "showLink": true
       },
       "data": [
        {
         "marker": {
          "color": "rgba(128, 0, 128, 0.6)",
          "line": {
           "color": "rgba(128, 0, 128, 1.0)",
           "width": 1
          }
         },
         "name": "date",
         "orientation": "v",
         "text": "",
         "type": "bar",
         "x": [
          "2019-07",
          "2019-08",
          "2019-09",
          "2019-10",
          "2019-11",
          "2019-12",
          "2020-01",
          "2020-02",
          "2020-03",
          "2020-04",
          "2020-05",
          "2020-06",
          "2020-07"
         ],
         "y": [
          356,
          373,
          338,
          385,
          339,
          356,
          357,
          323,
          373,
          356,
          340,
          353,
          31
         ]
        }
       ],
       "layout": {
        "legend": {
         "bgcolor": "#F5F6F9",
         "font": {
          "color": "#4D5663"
         }
        },
        "paper_bgcolor": "#F5F6F9",
        "plot_bgcolor": "#F5F6F9",
        "template": {
         "data": {
          "bar": [
           {
            "error_x": {
             "color": "#2a3f5f"
            },
            "error_y": {
             "color": "#2a3f5f"
            },
            "marker": {
             "line": {
              "color": "#E5ECF6",
              "width": 0.5
             },
             "pattern": {
              "fillmode": "overlay",
              "size": 10,
              "solidity": 0.2
             }
            },
            "type": "bar"
           }
          ],
          "barpolar": [
           {
            "marker": {
             "line": {
              "color": "#E5ECF6",
              "width": 0.5
             },
             "pattern": {
              "fillmode": "overlay",
              "size": 10,
              "solidity": 0.2
             }
            },
            "type": "barpolar"
           }
          ],
          "carpet": [
           {
            "aaxis": {
             "endlinecolor": "#2a3f5f",
             "gridcolor": "white",
             "linecolor": "white",
             "minorgridcolor": "white",
             "startlinecolor": "#2a3f5f"
            },
            "baxis": {
             "endlinecolor": "#2a3f5f",
             "gridcolor": "white",
             "linecolor": "white",
             "minorgridcolor": "white",
             "startlinecolor": "#2a3f5f"
            },
            "type": "carpet"
           }
          ],
          "choropleth": [
           {
            "colorbar": {
             "outlinewidth": 0,
             "ticks": ""
            },
            "type": "choropleth"
           }
          ],
          "contour": [
           {
            "colorbar": {
             "outlinewidth": 0,
             "ticks": ""
            },
            "colorscale": [
             [
              0,
              "#0d0887"
             ],
             [
              0.1111111111111111,
              "#46039f"
             ],
             [
              0.2222222222222222,
              "#7201a8"
             ],
             [
              0.3333333333333333,
              "#9c179e"
             ],
             [
              0.4444444444444444,
              "#bd3786"
             ],
             [
              0.5555555555555556,
              "#d8576b"
             ],
             [
              0.6666666666666666,
              "#ed7953"
             ],
             [
              0.7777777777777778,
              "#fb9f3a"
             ],
             [
              0.8888888888888888,
              "#fdca26"
             ],
             [
              1,
              "#f0f921"
             ]
            ],
            "type": "contour"
           }
          ],
          "contourcarpet": [
           {
            "colorbar": {
             "outlinewidth": 0,
             "ticks": ""
            },
            "type": "contourcarpet"
           }
          ],
          "heatmap": [
           {
            "colorbar": {
             "outlinewidth": 0,
             "ticks": ""
            },
            "colorscale": [
             [
              0,
              "#0d0887"
             ],
             [
              0.1111111111111111,
              "#46039f"
             ],
             [
              0.2222222222222222,
              "#7201a8"
             ],
             [
              0.3333333333333333,
              "#9c179e"
             ],
             [
              0.4444444444444444,
              "#bd3786"
             ],
             [
              0.5555555555555556,
              "#d8576b"
             ],
             [
              0.6666666666666666,
              "#ed7953"
             ],
             [
              0.7777777777777778,
              "#fb9f3a"
             ],
             [
              0.8888888888888888,
              "#fdca26"
             ],
             [
              1,
              "#f0f921"
             ]
            ],
            "type": "heatmap"
           }
          ],
          "heatmapgl": [
           {
            "colorbar": {
             "outlinewidth": 0,
             "ticks": ""
            },
            "colorscale": [
             [
              0,
              "#0d0887"
             ],
             [
              0.1111111111111111,
              "#46039f"
             ],
             [
              0.2222222222222222,
              "#7201a8"
             ],
             [
              0.3333333333333333,
              "#9c179e"
             ],
             [
              0.4444444444444444,
              "#bd3786"
             ],
             [
              0.5555555555555556,
              "#d8576b"
             ],
             [
              0.6666666666666666,
              "#ed7953"
             ],
             [
              0.7777777777777778,
              "#fb9f3a"
             ],
             [
              0.8888888888888888,
              "#fdca26"
             ],
             [
              1,
              "#f0f921"
             ]
            ],
            "type": "heatmapgl"
           }
          ],
          "histogram": [
           {
            "marker": {
             "pattern": {
              "fillmode": "overlay",
              "size": 10,
              "solidity": 0.2
             }
            },
            "type": "histogram"
           }
          ],
          "histogram2d": [
           {
            "colorbar": {
             "outlinewidth": 0,
             "ticks": ""
            },
            "colorscale": [
             [
              0,
              "#0d0887"
             ],
             [
              0.1111111111111111,
              "#46039f"
             ],
             [
              0.2222222222222222,
              "#7201a8"
             ],
             [
              0.3333333333333333,
              "#9c179e"
             ],
             [
              0.4444444444444444,
              "#bd3786"
             ],
             [
              0.5555555555555556,
              "#d8576b"
             ],
             [
              0.6666666666666666,
              "#ed7953"
             ],
             [
              0.7777777777777778,
              "#fb9f3a"
             ],
             [
              0.8888888888888888,
              "#fdca26"
             ],
             [
              1,
              "#f0f921"
             ]
            ],
            "type": "histogram2d"
           }
          ],
          "histogram2dcontour": [
           {
            "colorbar": {
             "outlinewidth": 0,
             "ticks": ""
            },
            "colorscale": [
             [
              0,
              "#0d0887"
             ],
             [
              0.1111111111111111,
              "#46039f"
             ],
             [
              0.2222222222222222,
              "#7201a8"
             ],
             [
              0.3333333333333333,
              "#9c179e"
             ],
             [
              0.4444444444444444,
              "#bd3786"
             ],
             [
              0.5555555555555556,
              "#d8576b"
             ],
             [
              0.6666666666666666,
              "#ed7953"
             ],
             [
              0.7777777777777778,
              "#fb9f3a"
             ],
             [
              0.8888888888888888,
              "#fdca26"
             ],
             [
              1,
              "#f0f921"
             ]
            ],
            "type": "histogram2dcontour"
           }
          ],
          "mesh3d": [
           {
            "colorbar": {
             "outlinewidth": 0,
             "ticks": ""
            },
            "type": "mesh3d"
           }
          ],
          "parcoords": [
           {
            "line": {
             "colorbar": {
              "outlinewidth": 0,
              "ticks": ""
             }
            },
            "type": "parcoords"
           }
          ],
          "pie": [
           {
            "automargin": true,
            "type": "pie"
           }
          ],
          "scatter": [
           {
            "fillpattern": {
             "fillmode": "overlay",
             "size": 10,
             "solidity": 0.2
            },
            "type": "scatter"
           }
          ],
          "scatter3d": [
           {
            "line": {
             "colorbar": {
              "outlinewidth": 0,
              "ticks": ""
             }
            },
            "marker": {
             "colorbar": {
              "outlinewidth": 0,
              "ticks": ""
             }
            },
            "type": "scatter3d"
           }
          ],
          "scattercarpet": [
           {
            "marker": {
             "colorbar": {
              "outlinewidth": 0,
              "ticks": ""
             }
            },
            "type": "scattercarpet"
           }
          ],
          "scattergeo": [
           {
            "marker": {
             "colorbar": {
              "outlinewidth": 0,
              "ticks": ""
             }
            },
            "type": "scattergeo"
           }
          ],
          "scattergl": [
           {
            "marker": {
             "colorbar": {
              "outlinewidth": 0,
              "ticks": ""
             }
            },
            "type": "scattergl"
           }
          ],
          "scattermapbox": [
           {
            "marker": {
             "colorbar": {
              "outlinewidth": 0,
              "ticks": ""
             }
            },
            "type": "scattermapbox"
           }
          ],
          "scatterpolar": [
           {
            "marker": {
             "colorbar": {
              "outlinewidth": 0,
              "ticks": ""
             }
            },
            "type": "scatterpolar"
           }
          ],
          "scatterpolargl": [
           {
            "marker": {
             "colorbar": {
              "outlinewidth": 0,
              "ticks": ""
             }
            },
            "type": "scatterpolargl"
           }
          ],
          "scatterternary": [
           {
            "marker": {
             "colorbar": {
              "outlinewidth": 0,
              "ticks": ""
             }
            },
            "type": "scatterternary"
           }
          ],
          "surface": [
           {
            "colorbar": {
             "outlinewidth": 0,
             "ticks": ""
            },
            "colorscale": [
             [
              0,
              "#0d0887"
             ],
             [
              0.1111111111111111,
              "#46039f"
             ],
             [
              0.2222222222222222,
              "#7201a8"
             ],
             [
              0.3333333333333333,
              "#9c179e"
             ],
             [
              0.4444444444444444,
              "#bd3786"
             ],
             [
              0.5555555555555556,
              "#d8576b"
             ],
             [
              0.6666666666666666,
              "#ed7953"
             ],
             [
              0.7777777777777778,
              "#fb9f3a"
             ],
             [
              0.8888888888888888,
              "#fdca26"
             ],
             [
              1,
              "#f0f921"
             ]
            ],
            "type": "surface"
           }
          ],
          "table": [
           {
            "cells": {
             "fill": {
              "color": "#EBF0F8"
             },
             "line": {
              "color": "white"
             }
            },
            "header": {
             "fill": {
              "color": "#C8D4E3"
             },
             "line": {
              "color": "white"
             }
            },
            "type": "table"
           }
          ]
         },
         "layout": {
          "annotationdefaults": {
           "arrowcolor": "#2a3f5f",
           "arrowhead": 0,
           "arrowwidth": 1
          },
          "autotypenumbers": "strict",
          "coloraxis": {
           "colorbar": {
            "outlinewidth": 0,
            "ticks": ""
           }
          },
          "colorscale": {
           "diverging": [
            [
             0,
             "#8e0152"
            ],
            [
             0.1,
             "#c51b7d"
            ],
            [
             0.2,
             "#de77ae"
            ],
            [
             0.3,
             "#f1b6da"
            ],
            [
             0.4,
             "#fde0ef"
            ],
            [
             0.5,
             "#f7f7f7"
            ],
            [
             0.6,
             "#e6f5d0"
            ],
            [
             0.7,
             "#b8e186"
            ],
            [
             0.8,
             "#7fbc41"
            ],
            [
             0.9,
             "#4d9221"
            ],
            [
             1,
             "#276419"
            ]
           ],
           "sequential": [
            [
             0,
             "#0d0887"
            ],
            [
             0.1111111111111111,
             "#46039f"
            ],
            [
             0.2222222222222222,
             "#7201a8"
            ],
            [
             0.3333333333333333,
             "#9c179e"
            ],
            [
             0.4444444444444444,
             "#bd3786"
            ],
            [
             0.5555555555555556,
             "#d8576b"
            ],
            [
             0.6666666666666666,
             "#ed7953"
            ],
            [
             0.7777777777777778,
             "#fb9f3a"
            ],
            [
             0.8888888888888888,
             "#fdca26"
            ],
            [
             1,
             "#f0f921"
            ]
           ],
           "sequentialminus": [
            [
             0,
             "#0d0887"
            ],
            [
             0.1111111111111111,
             "#46039f"
            ],
            [
             0.2222222222222222,
             "#7201a8"
            ],
            [
             0.3333333333333333,
             "#9c179e"
            ],
            [
             0.4444444444444444,
             "#bd3786"
            ],
            [
             0.5555555555555556,
             "#d8576b"
            ],
            [
             0.6666666666666666,
             "#ed7953"
            ],
            [
             0.7777777777777778,
             "#fb9f3a"
            ],
            [
             0.8888888888888888,
             "#fdca26"
            ],
            [
             1,
             "#f0f921"
            ]
           ]
          },
          "colorway": [
           "#636efa",
           "#EF553B",
           "#00cc96",
           "#ab63fa",
           "#FFA15A",
           "#19d3f3",
           "#FF6692",
           "#B6E880",
           "#FF97FF",
           "#FECB52"
          ],
          "font": {
           "color": "#2a3f5f"
          },
          "geo": {
           "bgcolor": "white",
           "lakecolor": "white",
           "landcolor": "#E5ECF6",
           "showlakes": true,
           "showland": true,
           "subunitcolor": "white"
          },
          "hoverlabel": {
           "align": "left"
          },
          "hovermode": "closest",
          "mapbox": {
           "style": "light"
          },
          "paper_bgcolor": "white",
          "plot_bgcolor": "#E5ECF6",
          "polar": {
           "angularaxis": {
            "gridcolor": "white",
            "linecolor": "white",
            "ticks": ""
           },
           "bgcolor": "#E5ECF6",
           "radialaxis": {
            "gridcolor": "white",
            "linecolor": "white",
            "ticks": ""
           }
          },
          "scene": {
           "xaxis": {
            "backgroundcolor": "#E5ECF6",
            "gridcolor": "white",
            "gridwidth": 2,
            "linecolor": "white",
            "showbackground": true,
            "ticks": "",
            "zerolinecolor": "white"
           },
           "yaxis": {
            "backgroundcolor": "#E5ECF6",
            "gridcolor": "white",
            "gridwidth": 2,
            "linecolor": "white",
            "showbackground": true,
            "ticks": "",
            "zerolinecolor": "white"
           },
           "zaxis": {
            "backgroundcolor": "#E5ECF6",
            "gridcolor": "white",
            "gridwidth": 2,
            "linecolor": "white",
            "showbackground": true,
            "ticks": "",
            "zerolinecolor": "white"
           }
          },
          "shapedefaults": {
           "line": {
            "color": "#2a3f5f"
           }
          },
          "ternary": {
           "aaxis": {
            "gridcolor": "white",
            "linecolor": "white",
            "ticks": ""
           },
           "baxis": {
            "gridcolor": "white",
            "linecolor": "white",
            "ticks": ""
           },
           "bgcolor": "#E5ECF6",
           "caxis": {
            "gridcolor": "white",
            "linecolor": "white",
            "ticks": ""
           }
          },
          "title": {
           "x": 0.05
          },
          "xaxis": {
           "automargin": true,
           "gridcolor": "white",
           "linecolor": "white",
           "ticks": "",
           "title": {
            "standoff": 15
           },
           "zerolinecolor": "white",
           "zerolinewidth": 2
          },
          "yaxis": {
           "automargin": true,
           "gridcolor": "white",
           "linecolor": "white",
           "ticks": "",
           "title": {
            "standoff": 15
           },
           "zerolinecolor": "white",
           "zerolinewidth": 2
          }
         }
        },
        "title": {
         "font": {
          "color": "#4D5663"
         },
         "text": "Observaciones por mes"
        },
        "xaxis": {
         "gridcolor": "#E1E5ED",
         "showgrid": true,
         "tickfont": {
          "color": "#4D5663"
         },
         "title": {
          "font": {
           "color": "#4D5663"
          },
          "text": ""
         },
         "zerolinecolor": "#E1E5ED"
        },
        "yaxis": {
         "gridcolor": "#E1E5ED",
         "showgrid": true,
         "tickfont": {
          "color": "#4D5663"
         },
         "title": {
          "font": {
           "color": "#4D5663"
          },
          "text": ""
         },
         "zerolinecolor": "#E1E5ED"
        }
       }
      },
      "text/html": [
       "<div>                            <div id=\"2d0167ef-a6ab-4035-8a1c-280ee7aeaf8f\" class=\"plotly-graph-div\" style=\"height:525px; width:100%;\"></div>            <script type=\"text/javascript\">                require([\"plotly\"], function(Plotly) {                    window.PLOTLYENV=window.PLOTLYENV || {};\n",
       "                    window.PLOTLYENV.BASE_URL='https://plot.ly';                                    if (document.getElementById(\"2d0167ef-a6ab-4035-8a1c-280ee7aeaf8f\")) {                    Plotly.newPlot(                        \"2d0167ef-a6ab-4035-8a1c-280ee7aeaf8f\",                        [{\"marker\":{\"color\":\"rgba(128, 0, 128, 0.6)\",\"line\":{\"color\":\"rgba(128, 0, 128, 1.0)\",\"width\":1}},\"name\":\"date\",\"orientation\":\"v\",\"text\":\"\",\"x\":[\"2019-07\",\"2019-08\",\"2019-09\",\"2019-10\",\"2019-11\",\"2019-12\",\"2020-01\",\"2020-02\",\"2020-03\",\"2020-04\",\"2020-05\",\"2020-06\",\"2020-07\"],\"y\":[356,373,338,385,339,356,357,323,373,356,340,353,31],\"type\":\"bar\"}],                        {\"legend\":{\"bgcolor\":\"#F5F6F9\",\"font\":{\"color\":\"#4D5663\"}},\"paper_bgcolor\":\"#F5F6F9\",\"plot_bgcolor\":\"#F5F6F9\",\"template\":{\"data\":{\"barpolar\":[{\"marker\":{\"line\":{\"color\":\"#E5ECF6\",\"width\":0.5},\"pattern\":{\"fillmode\":\"overlay\",\"size\":10,\"solidity\":0.2}},\"type\":\"barpolar\"}],\"bar\":[{\"error_x\":{\"color\":\"#2a3f5f\"},\"error_y\":{\"color\":\"#2a3f5f\"},\"marker\":{\"line\":{\"color\":\"#E5ECF6\",\"width\":0.5},\"pattern\":{\"fillmode\":\"overlay\",\"size\":10,\"solidity\":0.2}},\"type\":\"bar\"}],\"carpet\":[{\"aaxis\":{\"endlinecolor\":\"#2a3f5f\",\"gridcolor\":\"white\",\"linecolor\":\"white\",\"minorgridcolor\":\"white\",\"startlinecolor\":\"#2a3f5f\"},\"baxis\":{\"endlinecolor\":\"#2a3f5f\",\"gridcolor\":\"white\",\"linecolor\":\"white\",\"minorgridcolor\":\"white\",\"startlinecolor\":\"#2a3f5f\"},\"type\":\"carpet\"}],\"choropleth\":[{\"colorbar\":{\"outlinewidth\":0,\"ticks\":\"\"},\"type\":\"choropleth\"}],\"contourcarpet\":[{\"colorbar\":{\"outlinewidth\":0,\"ticks\":\"\"},\"type\":\"contourcarpet\"}],\"contour\":[{\"colorbar\":{\"outlinewidth\":0,\"ticks\":\"\"},\"colorscale\":[[0.0,\"#0d0887\"],[0.1111111111111111,\"#46039f\"],[0.2222222222222222,\"#7201a8\"],[0.3333333333333333,\"#9c179e\"],[0.4444444444444444,\"#bd3786\"],[0.5555555555555556,\"#d8576b\"],[0.6666666666666666,\"#ed7953\"],[0.7777777777777778,\"#fb9f3a\"],[0.8888888888888888,\"#fdca26\"],[1.0,\"#f0f921\"]],\"type\":\"contour\"}],\"heatmapgl\":[{\"colorbar\":{\"outlinewidth\":0,\"ticks\":\"\"},\"colorscale\":[[0.0,\"#0d0887\"],[0.1111111111111111,\"#46039f\"],[0.2222222222222222,\"#7201a8\"],[0.3333333333333333,\"#9c179e\"],[0.4444444444444444,\"#bd3786\"],[0.5555555555555556,\"#d8576b\"],[0.6666666666666666,\"#ed7953\"],[0.7777777777777778,\"#fb9f3a\"],[0.8888888888888888,\"#fdca26\"],[1.0,\"#f0f921\"]],\"type\":\"heatmapgl\"}],\"heatmap\":[{\"colorbar\":{\"outlinewidth\":0,\"ticks\":\"\"},\"colorscale\":[[0.0,\"#0d0887\"],[0.1111111111111111,\"#46039f\"],[0.2222222222222222,\"#7201a8\"],[0.3333333333333333,\"#9c179e\"],[0.4444444444444444,\"#bd3786\"],[0.5555555555555556,\"#d8576b\"],[0.6666666666666666,\"#ed7953\"],[0.7777777777777778,\"#fb9f3a\"],[0.8888888888888888,\"#fdca26\"],[1.0,\"#f0f921\"]],\"type\":\"heatmap\"}],\"histogram2dcontour\":[{\"colorbar\":{\"outlinewidth\":0,\"ticks\":\"\"},\"colorscale\":[[0.0,\"#0d0887\"],[0.1111111111111111,\"#46039f\"],[0.2222222222222222,\"#7201a8\"],[0.3333333333333333,\"#9c179e\"],[0.4444444444444444,\"#bd3786\"],[0.5555555555555556,\"#d8576b\"],[0.6666666666666666,\"#ed7953\"],[0.7777777777777778,\"#fb9f3a\"],[0.8888888888888888,\"#fdca26\"],[1.0,\"#f0f921\"]],\"type\":\"histogram2dcontour\"}],\"histogram2d\":[{\"colorbar\":{\"outlinewidth\":0,\"ticks\":\"\"},\"colorscale\":[[0.0,\"#0d0887\"],[0.1111111111111111,\"#46039f\"],[0.2222222222222222,\"#7201a8\"],[0.3333333333333333,\"#9c179e\"],[0.4444444444444444,\"#bd3786\"],[0.5555555555555556,\"#d8576b\"],[0.6666666666666666,\"#ed7953\"],[0.7777777777777778,\"#fb9f3a\"],[0.8888888888888888,\"#fdca26\"],[1.0,\"#f0f921\"]],\"type\":\"histogram2d\"}],\"histogram\":[{\"marker\":{\"pattern\":{\"fillmode\":\"overlay\",\"size\":10,\"solidity\":0.2}},\"type\":\"histogram\"}],\"mesh3d\":[{\"colorbar\":{\"outlinewidth\":0,\"ticks\":\"\"},\"type\":\"mesh3d\"}],\"parcoords\":[{\"line\":{\"colorbar\":{\"outlinewidth\":0,\"ticks\":\"\"}},\"type\":\"parcoords\"}],\"pie\":[{\"automargin\":true,\"type\":\"pie\"}],\"scatter3d\":[{\"line\":{\"colorbar\":{\"outlinewidth\":0,\"ticks\":\"\"}},\"marker\":{\"colorbar\":{\"outlinewidth\":0,\"ticks\":\"\"}},\"type\":\"scatter3d\"}],\"scattercarpet\":[{\"marker\":{\"colorbar\":{\"outlinewidth\":0,\"ticks\":\"\"}},\"type\":\"scattercarpet\"}],\"scattergeo\":[{\"marker\":{\"colorbar\":{\"outlinewidth\":0,\"ticks\":\"\"}},\"type\":\"scattergeo\"}],\"scattergl\":[{\"marker\":{\"colorbar\":{\"outlinewidth\":0,\"ticks\":\"\"}},\"type\":\"scattergl\"}],\"scattermapbox\":[{\"marker\":{\"colorbar\":{\"outlinewidth\":0,\"ticks\":\"\"}},\"type\":\"scattermapbox\"}],\"scatterpolargl\":[{\"marker\":{\"colorbar\":{\"outlinewidth\":0,\"ticks\":\"\"}},\"type\":\"scatterpolargl\"}],\"scatterpolar\":[{\"marker\":{\"colorbar\":{\"outlinewidth\":0,\"ticks\":\"\"}},\"type\":\"scatterpolar\"}],\"scatter\":[{\"fillpattern\":{\"fillmode\":\"overlay\",\"size\":10,\"solidity\":0.2},\"type\":\"scatter\"}],\"scatterternary\":[{\"marker\":{\"colorbar\":{\"outlinewidth\":0,\"ticks\":\"\"}},\"type\":\"scatterternary\"}],\"surface\":[{\"colorbar\":{\"outlinewidth\":0,\"ticks\":\"\"},\"colorscale\":[[0.0,\"#0d0887\"],[0.1111111111111111,\"#46039f\"],[0.2222222222222222,\"#7201a8\"],[0.3333333333333333,\"#9c179e\"],[0.4444444444444444,\"#bd3786\"],[0.5555555555555556,\"#d8576b\"],[0.6666666666666666,\"#ed7953\"],[0.7777777777777778,\"#fb9f3a\"],[0.8888888888888888,\"#fdca26\"],[1.0,\"#f0f921\"]],\"type\":\"surface\"}],\"table\":[{\"cells\":{\"fill\":{\"color\":\"#EBF0F8\"},\"line\":{\"color\":\"white\"}},\"header\":{\"fill\":{\"color\":\"#C8D4E3\"},\"line\":{\"color\":\"white\"}},\"type\":\"table\"}]},\"layout\":{\"annotationdefaults\":{\"arrowcolor\":\"#2a3f5f\",\"arrowhead\":0,\"arrowwidth\":1},\"autotypenumbers\":\"strict\",\"coloraxis\":{\"colorbar\":{\"outlinewidth\":0,\"ticks\":\"\"}},\"colorscale\":{\"diverging\":[[0,\"#8e0152\"],[0.1,\"#c51b7d\"],[0.2,\"#de77ae\"],[0.3,\"#f1b6da\"],[0.4,\"#fde0ef\"],[0.5,\"#f7f7f7\"],[0.6,\"#e6f5d0\"],[0.7,\"#b8e186\"],[0.8,\"#7fbc41\"],[0.9,\"#4d9221\"],[1,\"#276419\"]],\"sequential\":[[0.0,\"#0d0887\"],[0.1111111111111111,\"#46039f\"],[0.2222222222222222,\"#7201a8\"],[0.3333333333333333,\"#9c179e\"],[0.4444444444444444,\"#bd3786\"],[0.5555555555555556,\"#d8576b\"],[0.6666666666666666,\"#ed7953\"],[0.7777777777777778,\"#fb9f3a\"],[0.8888888888888888,\"#fdca26\"],[1.0,\"#f0f921\"]],\"sequentialminus\":[[0.0,\"#0d0887\"],[0.1111111111111111,\"#46039f\"],[0.2222222222222222,\"#7201a8\"],[0.3333333333333333,\"#9c179e\"],[0.4444444444444444,\"#bd3786\"],[0.5555555555555556,\"#d8576b\"],[0.6666666666666666,\"#ed7953\"],[0.7777777777777778,\"#fb9f3a\"],[0.8888888888888888,\"#fdca26\"],[1.0,\"#f0f921\"]]},\"colorway\":[\"#636efa\",\"#EF553B\",\"#00cc96\",\"#ab63fa\",\"#FFA15A\",\"#19d3f3\",\"#FF6692\",\"#B6E880\",\"#FF97FF\",\"#FECB52\"],\"font\":{\"color\":\"#2a3f5f\"},\"geo\":{\"bgcolor\":\"white\",\"lakecolor\":\"white\",\"landcolor\":\"#E5ECF6\",\"showlakes\":true,\"showland\":true,\"subunitcolor\":\"white\"},\"hoverlabel\":{\"align\":\"left\"},\"hovermode\":\"closest\",\"mapbox\":{\"style\":\"light\"},\"paper_bgcolor\":\"white\",\"plot_bgcolor\":\"#E5ECF6\",\"polar\":{\"angularaxis\":{\"gridcolor\":\"white\",\"linecolor\":\"white\",\"ticks\":\"\"},\"bgcolor\":\"#E5ECF6\",\"radialaxis\":{\"gridcolor\":\"white\",\"linecolor\":\"white\",\"ticks\":\"\"}},\"scene\":{\"xaxis\":{\"backgroundcolor\":\"#E5ECF6\",\"gridcolor\":\"white\",\"gridwidth\":2,\"linecolor\":\"white\",\"showbackground\":true,\"ticks\":\"\",\"zerolinecolor\":\"white\"},\"yaxis\":{\"backgroundcolor\":\"#E5ECF6\",\"gridcolor\":\"white\",\"gridwidth\":2,\"linecolor\":\"white\",\"showbackground\":true,\"ticks\":\"\",\"zerolinecolor\":\"white\"},\"zaxis\":{\"backgroundcolor\":\"#E5ECF6\",\"gridcolor\":\"white\",\"gridwidth\":2,\"linecolor\":\"white\",\"showbackground\":true,\"ticks\":\"\",\"zerolinecolor\":\"white\"}},\"shapedefaults\":{\"line\":{\"color\":\"#2a3f5f\"}},\"ternary\":{\"aaxis\":{\"gridcolor\":\"white\",\"linecolor\":\"white\",\"ticks\":\"\"},\"baxis\":{\"gridcolor\":\"white\",\"linecolor\":\"white\",\"ticks\":\"\"},\"bgcolor\":\"#E5ECF6\",\"caxis\":{\"gridcolor\":\"white\",\"linecolor\":\"white\",\"ticks\":\"\"}},\"title\":{\"x\":0.05},\"xaxis\":{\"automargin\":true,\"gridcolor\":\"white\",\"linecolor\":\"white\",\"ticks\":\"\",\"title\":{\"standoff\":15},\"zerolinecolor\":\"white\",\"zerolinewidth\":2},\"yaxis\":{\"automargin\":true,\"gridcolor\":\"white\",\"linecolor\":\"white\",\"ticks\":\"\",\"title\":{\"standoff\":15},\"zerolinecolor\":\"white\",\"zerolinewidth\":2}}},\"title\":{\"font\":{\"color\":\"#4D5663\"},\"text\":\"Observaciones por mes\"},\"xaxis\":{\"gridcolor\":\"#E1E5ED\",\"showgrid\":true,\"tickfont\":{\"color\":\"#4D5663\"},\"title\":{\"font\":{\"color\":\"#4D5663\"},\"text\":\"\"},\"zerolinecolor\":\"#E1E5ED\"},\"yaxis\":{\"gridcolor\":\"#E1E5ED\",\"showgrid\":true,\"tickfont\":{\"color\":\"#4D5663\"},\"title\":{\"font\":{\"color\":\"#4D5663\"},\"text\":\"\"},\"zerolinecolor\":\"#E1E5ED\"}},                        {\"showLink\": true, \"linkText\": \"Export to plot.ly\", \"plotlyServerURL\": \"https://plot.ly\", \"responsive\": true}                    ).then(function(){\n",
       "                            \n",
       "var gd = document.getElementById('2d0167ef-a6ab-4035-8a1c-280ee7aeaf8f');\n",
       "var x = new MutationObserver(function (mutations, observer) {{\n",
       "        var display = window.getComputedStyle(gd).display;\n",
       "        if (!display || display === 'none') {{\n",
       "            console.log([gd, 'removed!']);\n",
       "            Plotly.purge(gd);\n",
       "            observer.disconnect();\n",
       "        }}\n",
       "}});\n",
       "\n",
       "// Listen for the removal of the full notebook cells\n",
       "var notebookContainer = gd.closest('#notebook-container');\n",
       "if (notebookContainer) {{\n",
       "    x.observe(notebookContainer, {childList: true});\n",
       "}}\n",
       "\n",
       "// Listen for the clearing of the current output cell\n",
       "var outputEl = gd.closest('.output');\n",
       "if (outputEl) {{\n",
       "    x.observe(outputEl, {childList: true});\n",
       "}}\n",
       "\n",
       "                        })                };                });            </script>        </div>"
      ]
     },
     "metadata": {},
     "output_type": "display_data"
    }
   ],
   "source": [
    "# Nueva grafica considerando los datos de los últimos 12 meses (filtrados arriba)\n",
    "df['date'].map(lambda x: x.strftime('%Y-%m')).value_counts().sort_index().iplot(\n",
    "    kind='bar', title='Observaciones por mes', color='purple')"
   ]
  },
  {
   "attachments": {},
   "cell_type": "markdown",
   "metadata": {},
   "source": [
    "### Catálogo de fechas"
   ]
  },
  {
   "cell_type": "code",
   "execution_count": 13,
   "metadata": {},
   "outputs": [
    {
     "data": {
      "text/html": [
       "<div>\n",
       "<style scoped>\n",
       "    .dataframe tbody tr th:only-of-type {\n",
       "        vertical-align: middle;\n",
       "    }\n",
       "\n",
       "    .dataframe tbody tr th {\n",
       "        vertical-align: top;\n",
       "    }\n",
       "\n",
       "    .dataframe thead th {\n",
       "        text-align: right;\n",
       "    }\n",
       "</style>\n",
       "<table border=\"1\" class=\"dataframe\">\n",
       "  <thead>\n",
       "    <tr style=\"text-align: right;\">\n",
       "      <th></th>\n",
       "      <th>accion</th>\n",
       "      <th>open</th>\n",
       "      <th>high</th>\n",
       "      <th>low</th>\n",
       "      <th>close</th>\n",
       "      <th>id</th>\n",
       "    </tr>\n",
       "  </thead>\n",
       "  <tbody>\n",
       "    <tr>\n",
       "      <th>0</th>\n",
       "      <td>FWONA</td>\n",
       "      <td>32.730000</td>\n",
       "      <td>32.730000</td>\n",
       "      <td>30.850000</td>\n",
       "      <td>31.18</td>\n",
       "      <td>245</td>\n",
       "    </tr>\n",
       "    <tr>\n",
       "      <th>1</th>\n",
       "      <td>GBF</td>\n",
       "      <td>124.610001</td>\n",
       "      <td>124.739998</td>\n",
       "      <td>124.599998</td>\n",
       "      <td>124.68</td>\n",
       "      <td>245</td>\n",
       "    </tr>\n",
       "    <tr>\n",
       "      <th>2</th>\n",
       "      <td>OCC</td>\n",
       "      <td>2.710000</td>\n",
       "      <td>2.780000</td>\n",
       "      <td>2.650000</td>\n",
       "      <td>2.77</td>\n",
       "      <td>245</td>\n",
       "    </tr>\n",
       "    <tr>\n",
       "      <th>3</th>\n",
       "      <td>NXC</td>\n",
       "      <td>15.970000</td>\n",
       "      <td>16.170000</td>\n",
       "      <td>15.840000</td>\n",
       "      <td>16.10</td>\n",
       "      <td>245</td>\n",
       "    </tr>\n",
       "    <tr>\n",
       "      <th>4</th>\n",
       "      <td>BSAC</td>\n",
       "      <td>17.309999</td>\n",
       "      <td>17.309999</td>\n",
       "      <td>16.980000</td>\n",
       "      <td>17.17</td>\n",
       "      <td>245</td>\n",
       "    </tr>\n",
       "  </tbody>\n",
       "</table>\n",
       "</div>"
      ],
      "text/plain": [
       "  accion        open        high         low   close   id\n",
       "0  FWONA   32.730000   32.730000   30.850000   31.18  245\n",
       "1    GBF  124.610001  124.739998  124.599998  124.68  245\n",
       "2    OCC    2.710000    2.780000    2.650000    2.77  245\n",
       "3    NXC   15.970000   16.170000   15.840000   16.10  245\n",
       "4   BSAC   17.309999   17.309999   16.980000   17.17  245"
      ]
     },
     "execution_count": 13,
     "metadata": {},
     "output_type": "execute_result"
    }
   ],
   "source": [
    "# Creamos el dataframe con la columna 'date', quitamos los duplicados, ordenamos y reseteamos el indice.\n",
    "catfcha = df[['date']].drop_duplicates().sort_values('date').reset_index(drop=True)\n",
    "# Insertamos una columna al inicio con el nombre 'id' y los valores del indice+1\n",
    "catfcha.insert(0,'id',catfcha.index+1)\n",
    "# Unimos los dataframes y eliminamos la columna 'date'. SOLO LO USAMOS PARA ASIGNAR EL ID DE ACUERDO A LA FECHA.\n",
    "df = df.merge(catfcha,on='date',how='inner').drop('date',axis=1)\n",
    "df.head()"
   ]
  },
  {
   "cell_type": "code",
   "execution_count": 14,
   "metadata": {},
   "outputs": [
    {
     "data": {
      "text/plain": [
       "(15, 253)"
      ]
     },
     "execution_count": 14,
     "metadata": {},
     "output_type": "execute_result"
    }
   ],
   "source": [
    "anclai, anclaf = df['id'].min()+vobs-1, df['id'].max()-vdes\n",
    "anclai, anclaf"
   ]
  },
  {
   "attachments": {},
   "cell_type": "markdown",
   "metadata": {},
   "source": [
    "### Matriz de predicción $\\mathcal{X}$"
   ]
  },
  {
   "cell_type": "code",
   "execution_count": 15,
   "metadata": {},
   "outputs": [],
   "source": [
    "varc = ['open','close','high','low']\n",
    "um = ['accion','ancla']"
   ]
  },
  {
   "cell_type": "code",
   "execution_count": 16,
   "metadata": {},
   "outputs": [],
   "source": [
    "cruzar = lambda x,y: x.merge(y,on=um,how='outer')\n",
    "apilar = lambda x,y: pd.concat([x,y],ignore_index=True)"
   ]
  },
  {
   "cell_type": "code",
   "execution_count": 17,
   "metadata": {},
   "outputs": [],
   "source": [
    "def ingX(df,ancla,sub)->pd.DataFrame:\n",
    "    aux = df[(df['id']<=ancla)&(df['id']>=(ancla-sub+1))].copy().reset_index(drop=True)\n",
    "    funciones = [np.mean,np.median,np.std,np.min,np.max]\n",
    "    nombresf = ['mean','mediana','std','min','max']\n",
    "    l = []\n",
    "    for v in varc:\n",
    "        for nombre,func in zip(nombresf,funciones):\n",
    "            nombre = f'x_{nombre}_{v}_{sub}'\n",
    "            # Agrupa la función por acción y calcula la función\n",
    "            agg = aux[['accion',v]].groupby('accion').agg(func).rename(columns={v:nombre}).reset_index()\n",
    "            agg.insert(1,'ancla',ancla)\n",
    "            l.append(agg)\n",
    "    # Cruza los dataframes\n",
    "    aux = reduce(cruzar,l)\n",
    "    return aux"
   ]
  },
  {
   "cell_type": "code",
   "execution_count": 18,
   "metadata": {},
   "outputs": [],
   "source": [
    "X =reduce(cruzar,map(lambda sub: reduce(apilar, map(lambda ancla: ingX(df, ancla, sub),\n",
    "    range(anclai, anclaf+1))), range(step, vobs+step, step)))"
   ]
  },
  {
   "cell_type": "code",
   "execution_count": 19,
   "metadata": {},
   "outputs": [
    {
     "data": {
      "text/html": [
       "<div>\n",
       "<style scoped>\n",
       "    .dataframe tbody tr th:only-of-type {\n",
       "        vertical-align: middle;\n",
       "    }\n",
       "\n",
       "    .dataframe tbody tr th {\n",
       "        vertical-align: top;\n",
       "    }\n",
       "\n",
       "    .dataframe thead th {\n",
       "        text-align: right;\n",
       "    }\n",
       "</style>\n",
       "<table border=\"1\" class=\"dataframe\">\n",
       "  <thead>\n",
       "    <tr style=\"text-align: right;\">\n",
       "      <th></th>\n",
       "      <th>accion</th>\n",
       "      <th>ancla</th>\n",
       "      <th>x_mean_open_3</th>\n",
       "      <th>x_mediana_open_3</th>\n",
       "      <th>x_std_open_3</th>\n",
       "      <th>x_min_open_3</th>\n",
       "      <th>x_max_open_3</th>\n",
       "      <th>x_mean_close_3</th>\n",
       "      <th>x_mediana_close_3</th>\n",
       "      <th>x_std_close_3</th>\n",
       "      <th>...</th>\n",
       "      <th>x_mean_high_15</th>\n",
       "      <th>x_mediana_high_15</th>\n",
       "      <th>x_std_high_15</th>\n",
       "      <th>x_min_high_15</th>\n",
       "      <th>x_max_high_15</th>\n",
       "      <th>x_mean_low_15</th>\n",
       "      <th>x_mediana_low_15</th>\n",
       "      <th>x_std_low_15</th>\n",
       "      <th>x_min_low_15</th>\n",
       "      <th>x_max_low_15</th>\n",
       "    </tr>\n",
       "  </thead>\n",
       "  <tbody>\n",
       "    <tr>\n",
       "      <th>0</th>\n",
       "      <td>ABCB</td>\n",
       "      <td>15</td>\n",
       "      <td>37.559999</td>\n",
       "      <td>37.509998</td>\n",
       "      <td>0.180277</td>\n",
       "      <td>37.410000</td>\n",
       "      <td>37.759998</td>\n",
       "      <td>37.523333</td>\n",
       "      <td>37.490002</td>\n",
       "      <td>0.241729</td>\n",
       "      <td>...</td>\n",
       "      <td>38.798001</td>\n",
       "      <td>38.880001</td>\n",
       "      <td>0.811068</td>\n",
       "      <td>37.730000</td>\n",
       "      <td>40.340000</td>\n",
       "      <td>38.025333</td>\n",
       "      <td>38.299999</td>\n",
       "      <td>0.730771</td>\n",
       "      <td>37.040001</td>\n",
       "      <td>39.160000</td>\n",
       "    </tr>\n",
       "    <tr>\n",
       "      <th>1</th>\n",
       "      <td>AGGP</td>\n",
       "      <td>15</td>\n",
       "      <td>19.439334</td>\n",
       "      <td>19.448000</td>\n",
       "      <td>0.016773</td>\n",
       "      <td>19.420000</td>\n",
       "      <td>19.450001</td>\n",
       "      <td>19.410000</td>\n",
       "      <td>19.410000</td>\n",
       "      <td>0.010000</td>\n",
       "      <td>...</td>\n",
       "      <td>19.440933</td>\n",
       "      <td>19.440001</td>\n",
       "      <td>0.050256</td>\n",
       "      <td>19.370001</td>\n",
       "      <td>19.545000</td>\n",
       "      <td>19.401400</td>\n",
       "      <td>19.400000</td>\n",
       "      <td>0.050287</td>\n",
       "      <td>19.340000</td>\n",
       "      <td>19.520000</td>\n",
       "    </tr>\n",
       "    <tr>\n",
       "      <th>2</th>\n",
       "      <td>ATRC</td>\n",
       "      <td>15</td>\n",
       "      <td>31.443333</td>\n",
       "      <td>31.389999</td>\n",
       "      <td>0.293655</td>\n",
       "      <td>31.180000</td>\n",
       "      <td>31.760000</td>\n",
       "      <td>31.590000</td>\n",
       "      <td>31.670000</td>\n",
       "      <td>0.405956</td>\n",
       "      <td>...</td>\n",
       "      <td>31.792000</td>\n",
       "      <td>31.700001</td>\n",
       "      <td>0.349187</td>\n",
       "      <td>31.100000</td>\n",
       "      <td>32.360001</td>\n",
       "      <td>31.082000</td>\n",
       "      <td>31.120001</td>\n",
       "      <td>0.328812</td>\n",
       "      <td>30.430000</td>\n",
       "      <td>31.500000</td>\n",
       "    </tr>\n",
       "    <tr>\n",
       "      <th>3</th>\n",
       "      <td>BLX</td>\n",
       "      <td>15</td>\n",
       "      <td>21.090000</td>\n",
       "      <td>21.049999</td>\n",
       "      <td>0.301994</td>\n",
       "      <td>20.809999</td>\n",
       "      <td>21.410000</td>\n",
       "      <td>21.186666</td>\n",
       "      <td>21.049999</td>\n",
       "      <td>0.263122</td>\n",
       "      <td>...</td>\n",
       "      <td>20.965333</td>\n",
       "      <td>20.889999</td>\n",
       "      <td>0.385410</td>\n",
       "      <td>20.420000</td>\n",
       "      <td>21.990000</td>\n",
       "      <td>20.474667</td>\n",
       "      <td>20.469999</td>\n",
       "      <td>0.271605</td>\n",
       "      <td>19.910000</td>\n",
       "      <td>20.950001</td>\n",
       "    </tr>\n",
       "    <tr>\n",
       "      <th>4</th>\n",
       "      <td>BSAC</td>\n",
       "      <td>15</td>\n",
       "      <td>29.986667</td>\n",
       "      <td>30.040001</td>\n",
       "      <td>0.128582</td>\n",
       "      <td>29.840000</td>\n",
       "      <td>30.080000</td>\n",
       "      <td>29.786666</td>\n",
       "      <td>29.840000</td>\n",
       "      <td>0.293655</td>\n",
       "      <td>...</td>\n",
       "      <td>30.131333</td>\n",
       "      <td>30.160000</td>\n",
       "      <td>0.170037</td>\n",
       "      <td>29.809999</td>\n",
       "      <td>30.360001</td>\n",
       "      <td>29.788000</td>\n",
       "      <td>29.830000</td>\n",
       "      <td>0.183233</td>\n",
       "      <td>29.459999</td>\n",
       "      <td>30.030001</td>\n",
       "    </tr>\n",
       "  </tbody>\n",
       "</table>\n",
       "<p>5 rows × 102 columns</p>\n",
       "</div>"
      ],
      "text/plain": [
       "  accion  ancla  x_mean_open_3  x_mediana_open_3  x_std_open_3  x_min_open_3  \\\n",
       "0   ABCB     15      37.559999         37.509998      0.180277     37.410000   \n",
       "1   AGGP     15      19.439334         19.448000      0.016773     19.420000   \n",
       "2   ATRC     15      31.443333         31.389999      0.293655     31.180000   \n",
       "3    BLX     15      21.090000         21.049999      0.301994     20.809999   \n",
       "4   BSAC     15      29.986667         30.040001      0.128582     29.840000   \n",
       "\n",
       "   x_max_open_3  x_mean_close_3  x_mediana_close_3  x_std_close_3  ...  \\\n",
       "0     37.759998       37.523333          37.490002       0.241729  ...   \n",
       "1     19.450001       19.410000          19.410000       0.010000  ...   \n",
       "2     31.760000       31.590000          31.670000       0.405956  ...   \n",
       "3     21.410000       21.186666          21.049999       0.263122  ...   \n",
       "4     30.080000       29.786666          29.840000       0.293655  ...   \n",
       "\n",
       "   x_mean_high_15  x_mediana_high_15  x_std_high_15  x_min_high_15  \\\n",
       "0       38.798001          38.880001       0.811068      37.730000   \n",
       "1       19.440933          19.440001       0.050256      19.370001   \n",
       "2       31.792000          31.700001       0.349187      31.100000   \n",
       "3       20.965333          20.889999       0.385410      20.420000   \n",
       "4       30.131333          30.160000       0.170037      29.809999   \n",
       "\n",
       "   x_max_high_15  x_mean_low_15  x_mediana_low_15  x_std_low_15  x_min_low_15  \\\n",
       "0      40.340000      38.025333         38.299999      0.730771     37.040001   \n",
       "1      19.545000      19.401400         19.400000      0.050287     19.340000   \n",
       "2      32.360001      31.082000         31.120001      0.328812     30.430000   \n",
       "3      21.990000      20.474667         20.469999      0.271605     19.910000   \n",
       "4      30.360001      29.788000         29.830000      0.183233     29.459999   \n",
       "\n",
       "   x_max_low_15  \n",
       "0     39.160000  \n",
       "1     19.520000  \n",
       "2     31.500000  \n",
       "3     20.950001  \n",
       "4     30.030001  \n",
       "\n",
       "[5 rows x 102 columns]"
      ]
     },
     "execution_count": 19,
     "metadata": {},
     "output_type": "execute_result"
    }
   ],
   "source": [
    "X.head()"
   ]
  },
  {
   "attachments": {},
   "cell_type": "markdown",
   "metadata": {},
   "source": [
    "### Vector de respuesta $\\vec{y}$"
   ]
  },
  {
   "cell_type": "code",
   "execution_count": 20,
   "metadata": {},
   "outputs": [],
   "source": [
    "def ingY(df,ancla)->pd.DataFrame:\n",
    "    aux = df[(df['id']>ancla)&(df['id']<=(ancla+vdes))].copy().reset_index(drop=True)[['accion','close']]\n",
    "    aux = aux.rename(columns={'close':'y'})\n",
    "    aux.insert(1,'ancla',ancla)\n",
    "    return aux"
   ]
  },
  {
   "cell_type": "code",
   "execution_count": 21,
   "metadata": {},
   "outputs": [],
   "source": [
    "y = reduce(apilar,map(lambda ancla : ingY(df,ancla),range(anclai,anclaf+1)))"
   ]
  },
  {
   "cell_type": "code",
   "execution_count": 22,
   "metadata": {},
   "outputs": [
    {
     "data": {
      "text/html": [
       "<div>\n",
       "<style scoped>\n",
       "    .dataframe tbody tr th:only-of-type {\n",
       "        vertical-align: middle;\n",
       "    }\n",
       "\n",
       "    .dataframe tbody tr th {\n",
       "        vertical-align: top;\n",
       "    }\n",
       "\n",
       "    .dataframe thead th {\n",
       "        text-align: right;\n",
       "    }\n",
       "</style>\n",
       "<table border=\"1\" class=\"dataframe\">\n",
       "  <thead>\n",
       "    <tr style=\"text-align: right;\">\n",
       "      <th></th>\n",
       "      <th>accion</th>\n",
       "      <th>ancla</th>\n",
       "      <th>y</th>\n",
       "    </tr>\n",
       "  </thead>\n",
       "  <tbody>\n",
       "    <tr>\n",
       "      <th>0</th>\n",
       "      <td>FWONA</td>\n",
       "      <td>15</td>\n",
       "      <td>36.880001</td>\n",
       "    </tr>\n",
       "    <tr>\n",
       "      <th>1</th>\n",
       "      <td>GBF</td>\n",
       "      <td>15</td>\n",
       "      <td>116.410004</td>\n",
       "    </tr>\n",
       "    <tr>\n",
       "      <th>2</th>\n",
       "      <td>OCC</td>\n",
       "      <td>15</td>\n",
       "      <td>3.940000</td>\n",
       "    </tr>\n",
       "    <tr>\n",
       "      <th>3</th>\n",
       "      <td>NXC</td>\n",
       "      <td>15</td>\n",
       "      <td>14.800000</td>\n",
       "    </tr>\n",
       "    <tr>\n",
       "      <th>4</th>\n",
       "      <td>BSAC</td>\n",
       "      <td>15</td>\n",
       "      <td>29.620001</td>\n",
       "    </tr>\n",
       "  </tbody>\n",
       "</table>\n",
       "</div>"
      ],
      "text/plain": [
       "  accion  ancla           y\n",
       "0  FWONA     15   36.880001\n",
       "1    GBF     15  116.410004\n",
       "2    OCC     15    3.940000\n",
       "3    NXC     15   14.800000\n",
       "4   BSAC     15   29.620001"
      ]
     },
     "execution_count": 22,
     "metadata": {},
     "output_type": "execute_result"
    }
   ],
   "source": [
    "y.head()"
   ]
  },
  {
   "cell_type": "code",
   "execution_count": 23,
   "metadata": {},
   "outputs": [
    {
     "data": {
      "text/html": [
       "<div>\n",
       "<style scoped>\n",
       "    .dataframe tbody tr th:only-of-type {\n",
       "        vertical-align: middle;\n",
       "    }\n",
       "\n",
       "    .dataframe tbody tr th {\n",
       "        vertical-align: top;\n",
       "    }\n",
       "\n",
       "    .dataframe thead th {\n",
       "        text-align: right;\n",
       "    }\n",
       "</style>\n",
       "<table border=\"1\" class=\"dataframe\">\n",
       "  <thead>\n",
       "    <tr style=\"text-align: right;\">\n",
       "      <th></th>\n",
       "      <th>accion</th>\n",
       "      <th>ancla</th>\n",
       "      <th>x_mean_open_3</th>\n",
       "      <th>x_mediana_open_3</th>\n",
       "      <th>x_std_open_3</th>\n",
       "      <th>x_min_open_3</th>\n",
       "      <th>x_max_open_3</th>\n",
       "      <th>x_mean_close_3</th>\n",
       "      <th>x_mediana_close_3</th>\n",
       "      <th>x_std_close_3</th>\n",
       "      <th>...</th>\n",
       "      <th>x_mediana_high_15</th>\n",
       "      <th>x_std_high_15</th>\n",
       "      <th>x_min_high_15</th>\n",
       "      <th>x_max_high_15</th>\n",
       "      <th>x_mean_low_15</th>\n",
       "      <th>x_mediana_low_15</th>\n",
       "      <th>x_std_low_15</th>\n",
       "      <th>x_min_low_15</th>\n",
       "      <th>x_max_low_15</th>\n",
       "      <th>y</th>\n",
       "    </tr>\n",
       "  </thead>\n",
       "  <tbody>\n",
       "    <tr>\n",
       "      <th>0</th>\n",
       "      <td>ABCB</td>\n",
       "      <td>15</td>\n",
       "      <td>37.559999</td>\n",
       "      <td>37.509998</td>\n",
       "      <td>0.180277</td>\n",
       "      <td>37.410000</td>\n",
       "      <td>37.759998</td>\n",
       "      <td>37.523333</td>\n",
       "      <td>37.490002</td>\n",
       "      <td>0.241729</td>\n",
       "      <td>...</td>\n",
       "      <td>38.880001</td>\n",
       "      <td>0.811068</td>\n",
       "      <td>37.730000</td>\n",
       "      <td>40.340000</td>\n",
       "      <td>38.025333</td>\n",
       "      <td>38.299999</td>\n",
       "      <td>0.730771</td>\n",
       "      <td>37.040001</td>\n",
       "      <td>39.160000</td>\n",
       "      <td>38.570000</td>\n",
       "    </tr>\n",
       "    <tr>\n",
       "      <th>1</th>\n",
       "      <td>AGGP</td>\n",
       "      <td>15</td>\n",
       "      <td>19.439334</td>\n",
       "      <td>19.448000</td>\n",
       "      <td>0.016773</td>\n",
       "      <td>19.420000</td>\n",
       "      <td>19.450001</td>\n",
       "      <td>19.410000</td>\n",
       "      <td>19.410000</td>\n",
       "      <td>0.010000</td>\n",
       "      <td>...</td>\n",
       "      <td>19.440001</td>\n",
       "      <td>0.050256</td>\n",
       "      <td>19.370001</td>\n",
       "      <td>19.545000</td>\n",
       "      <td>19.401400</td>\n",
       "      <td>19.400000</td>\n",
       "      <td>0.050287</td>\n",
       "      <td>19.340000</td>\n",
       "      <td>19.520000</td>\n",
       "      <td>19.459999</td>\n",
       "    </tr>\n",
       "    <tr>\n",
       "      <th>2</th>\n",
       "      <td>ATRC</td>\n",
       "      <td>15</td>\n",
       "      <td>31.443333</td>\n",
       "      <td>31.389999</td>\n",
       "      <td>0.293655</td>\n",
       "      <td>31.180000</td>\n",
       "      <td>31.760000</td>\n",
       "      <td>31.590000</td>\n",
       "      <td>31.670000</td>\n",
       "      <td>0.405956</td>\n",
       "      <td>...</td>\n",
       "      <td>31.700001</td>\n",
       "      <td>0.349187</td>\n",
       "      <td>31.100000</td>\n",
       "      <td>32.360001</td>\n",
       "      <td>31.082000</td>\n",
       "      <td>31.120001</td>\n",
       "      <td>0.328812</td>\n",
       "      <td>30.430000</td>\n",
       "      <td>31.500000</td>\n",
       "      <td>32.520000</td>\n",
       "    </tr>\n",
       "    <tr>\n",
       "      <th>3</th>\n",
       "      <td>BLX</td>\n",
       "      <td>15</td>\n",
       "      <td>21.090000</td>\n",
       "      <td>21.049999</td>\n",
       "      <td>0.301994</td>\n",
       "      <td>20.809999</td>\n",
       "      <td>21.410000</td>\n",
       "      <td>21.186666</td>\n",
       "      <td>21.049999</td>\n",
       "      <td>0.263122</td>\n",
       "      <td>...</td>\n",
       "      <td>20.889999</td>\n",
       "      <td>0.385410</td>\n",
       "      <td>20.420000</td>\n",
       "      <td>21.990000</td>\n",
       "      <td>20.474667</td>\n",
       "      <td>20.469999</td>\n",
       "      <td>0.271605</td>\n",
       "      <td>19.910000</td>\n",
       "      <td>20.950001</td>\n",
       "      <td>21.490000</td>\n",
       "    </tr>\n",
       "    <tr>\n",
       "      <th>4</th>\n",
       "      <td>BSAC</td>\n",
       "      <td>15</td>\n",
       "      <td>29.986667</td>\n",
       "      <td>30.040001</td>\n",
       "      <td>0.128582</td>\n",
       "      <td>29.840000</td>\n",
       "      <td>30.080000</td>\n",
       "      <td>29.786666</td>\n",
       "      <td>29.840000</td>\n",
       "      <td>0.293655</td>\n",
       "      <td>...</td>\n",
       "      <td>30.160000</td>\n",
       "      <td>0.170037</td>\n",
       "      <td>29.809999</td>\n",
       "      <td>30.360001</td>\n",
       "      <td>29.788000</td>\n",
       "      <td>29.830000</td>\n",
       "      <td>0.183233</td>\n",
       "      <td>29.459999</td>\n",
       "      <td>30.030001</td>\n",
       "      <td>29.620001</td>\n",
       "    </tr>\n",
       "  </tbody>\n",
       "</table>\n",
       "<p>5 rows × 103 columns</p>\n",
       "</div>"
      ],
      "text/plain": [
       "  accion  ancla  x_mean_open_3  x_mediana_open_3  x_std_open_3  x_min_open_3  \\\n",
       "0   ABCB     15      37.559999         37.509998      0.180277     37.410000   \n",
       "1   AGGP     15      19.439334         19.448000      0.016773     19.420000   \n",
       "2   ATRC     15      31.443333         31.389999      0.293655     31.180000   \n",
       "3    BLX     15      21.090000         21.049999      0.301994     20.809999   \n",
       "4   BSAC     15      29.986667         30.040001      0.128582     29.840000   \n",
       "\n",
       "   x_max_open_3  x_mean_close_3  x_mediana_close_3  x_std_close_3  ...  \\\n",
       "0     37.759998       37.523333          37.490002       0.241729  ...   \n",
       "1     19.450001       19.410000          19.410000       0.010000  ...   \n",
       "2     31.760000       31.590000          31.670000       0.405956  ...   \n",
       "3     21.410000       21.186666          21.049999       0.263122  ...   \n",
       "4     30.080000       29.786666          29.840000       0.293655  ...   \n",
       "\n",
       "   x_mediana_high_15  x_std_high_15  x_min_high_15  x_max_high_15  \\\n",
       "0          38.880001       0.811068      37.730000      40.340000   \n",
       "1          19.440001       0.050256      19.370001      19.545000   \n",
       "2          31.700001       0.349187      31.100000      32.360001   \n",
       "3          20.889999       0.385410      20.420000      21.990000   \n",
       "4          30.160000       0.170037      29.809999      30.360001   \n",
       "\n",
       "   x_mean_low_15  x_mediana_low_15  x_std_low_15  x_min_low_15  x_max_low_15  \\\n",
       "0      38.025333         38.299999      0.730771     37.040001     39.160000   \n",
       "1      19.401400         19.400000      0.050287     19.340000     19.520000   \n",
       "2      31.082000         31.120001      0.328812     30.430000     31.500000   \n",
       "3      20.474667         20.469999      0.271605     19.910000     20.950001   \n",
       "4      29.788000         29.830000      0.183233     29.459999     30.030001   \n",
       "\n",
       "           y  \n",
       "0  38.570000  \n",
       "1  19.459999  \n",
       "2  32.520000  \n",
       "3  21.490000  \n",
       "4  29.620001  \n",
       "\n",
       "[5 rows x 103 columns]"
      ]
     },
     "execution_count": 23,
     "metadata": {},
     "output_type": "execute_result"
    }
   ],
   "source": [
    "# Unimos los dataframes\n",
    "tad = X.merge(y,on=um,how='inner')\n",
    "tad.head()"
   ]
  },
  {
   "cell_type": "code",
   "execution_count": 28,
   "metadata": {},
   "outputs": [],
   "source": [
    "# Guadamos el dataframe en un archivo parquet para usarlo después \n",
    "## Solo lo ejecutamos la primera vez, razón por la cual los datos son diferentes a los de arriba.##\n",
    "tad.to_parquet('../Datos/tad_acciones_regresion.parquet')"
   ]
  },
  {
   "cell_type": "code",
   "execution_count": 24,
   "metadata": {},
   "outputs": [
    {
     "data": {
      "text/plain": [
       "(4124, 103)"
      ]
     },
     "execution_count": 24,
     "metadata": {},
     "output_type": "execute_result"
    }
   ],
   "source": [
    "tad = pd.read_parquet('../Datos/tad_acciones_regresion.parquet')\n",
    "tad.shape"
   ]
  },
  {
   "cell_type": "code",
   "execution_count": 25,
   "metadata": {},
   "outputs": [
    {
     "data": {
      "text/html": [
       "<div>\n",
       "<style scoped>\n",
       "    .dataframe tbody tr th:only-of-type {\n",
       "        vertical-align: middle;\n",
       "    }\n",
       "\n",
       "    .dataframe tbody tr th {\n",
       "        vertical-align: top;\n",
       "    }\n",
       "\n",
       "    .dataframe thead th {\n",
       "        text-align: right;\n",
       "    }\n",
       "</style>\n",
       "<table border=\"1\" class=\"dataframe\">\n",
       "  <thead>\n",
       "    <tr style=\"text-align: right;\">\n",
       "      <th></th>\n",
       "      <th>accion</th>\n",
       "      <th>ancla</th>\n",
       "      <th>x_mean_open_3</th>\n",
       "      <th>x_mediana_open_3</th>\n",
       "      <th>x_std_open_3</th>\n",
       "      <th>x_min_open_3</th>\n",
       "      <th>x_max_open_3</th>\n",
       "      <th>x_mean_close_3</th>\n",
       "      <th>x_mediana_close_3</th>\n",
       "      <th>x_std_close_3</th>\n",
       "      <th>...</th>\n",
       "      <th>x_mediana_high_15</th>\n",
       "      <th>x_std_high_15</th>\n",
       "      <th>x_min_high_15</th>\n",
       "      <th>x_max_high_15</th>\n",
       "      <th>x_mean_low_15</th>\n",
       "      <th>x_mediana_low_15</th>\n",
       "      <th>x_std_low_15</th>\n",
       "      <th>x_min_low_15</th>\n",
       "      <th>x_max_low_15</th>\n",
       "      <th>y</th>\n",
       "    </tr>\n",
       "  </thead>\n",
       "  <tbody>\n",
       "    <tr>\n",
       "      <th>0</th>\n",
       "      <td>AGRO</td>\n",
       "      <td>15</td>\n",
       "      <td>6.860000</td>\n",
       "      <td>6.840000</td>\n",
       "      <td>0.111355</td>\n",
       "      <td>6.760000</td>\n",
       "      <td>6.980000</td>\n",
       "      <td>6.890000</td>\n",
       "      <td>6.910000</td>\n",
       "      <td>0.091651</td>\n",
       "      <td>...</td>\n",
       "      <td>7.010000</td>\n",
       "      <td>0.087570</td>\n",
       "      <td>6.840000</td>\n",
       "      <td>7.170000</td>\n",
       "      <td>6.861333</td>\n",
       "      <td>6.890000</td>\n",
       "      <td>0.101056</td>\n",
       "      <td>6.620000</td>\n",
       "      <td>6.980000</td>\n",
       "      <td>6.860000</td>\n",
       "    </tr>\n",
       "    <tr>\n",
       "      <th>1</th>\n",
       "      <td>AQB</td>\n",
       "      <td>15</td>\n",
       "      <td>3.543333</td>\n",
       "      <td>3.540000</td>\n",
       "      <td>0.055076</td>\n",
       "      <td>3.490000</td>\n",
       "      <td>3.600000</td>\n",
       "      <td>3.430000</td>\n",
       "      <td>3.410000</td>\n",
       "      <td>0.170880</td>\n",
       "      <td>...</td>\n",
       "      <td>3.580000</td>\n",
       "      <td>0.248861</td>\n",
       "      <td>3.200000</td>\n",
       "      <td>4.080000</td>\n",
       "      <td>3.268067</td>\n",
       "      <td>3.180000</td>\n",
       "      <td>0.227707</td>\n",
       "      <td>3.001000</td>\n",
       "      <td>3.710000</td>\n",
       "      <td>3.420000</td>\n",
       "    </tr>\n",
       "    <tr>\n",
       "      <th>2</th>\n",
       "      <td>CSA</td>\n",
       "      <td>15</td>\n",
       "      <td>45.387000</td>\n",
       "      <td>45.395000</td>\n",
       "      <td>0.088274</td>\n",
       "      <td>45.294998</td>\n",
       "      <td>45.471001</td>\n",
       "      <td>45.320000</td>\n",
       "      <td>45.400002</td>\n",
       "      <td>0.174356</td>\n",
       "      <td>...</td>\n",
       "      <td>45.660000</td>\n",
       "      <td>0.235552</td>\n",
       "      <td>45.270000</td>\n",
       "      <td>46.070000</td>\n",
       "      <td>45.502533</td>\n",
       "      <td>45.439999</td>\n",
       "      <td>0.270733</td>\n",
       "      <td>45.119999</td>\n",
       "      <td>45.912998</td>\n",
       "      <td>46.369999</td>\n",
       "    </tr>\n",
       "    <tr>\n",
       "      <th>3</th>\n",
       "      <td>DD</td>\n",
       "      <td>15</td>\n",
       "      <td>71.696665</td>\n",
       "      <td>71.669998</td>\n",
       "      <td>0.046189</td>\n",
       "      <td>71.669998</td>\n",
       "      <td>71.750000</td>\n",
       "      <td>72.260000</td>\n",
       "      <td>71.970001</td>\n",
       "      <td>0.871951</td>\n",
       "      <td>...</td>\n",
       "      <td>72.209999</td>\n",
       "      <td>1.569930</td>\n",
       "      <td>69.800003</td>\n",
       "      <td>75.970001</td>\n",
       "      <td>71.206000</td>\n",
       "      <td>71.029999</td>\n",
       "      <td>1.409689</td>\n",
       "      <td>69.150002</td>\n",
       "      <td>74.449997</td>\n",
       "      <td>74.230003</td>\n",
       "    </tr>\n",
       "    <tr>\n",
       "      <th>4</th>\n",
       "      <td>DWMF</td>\n",
       "      <td>15</td>\n",
       "      <td>24.976667</td>\n",
       "      <td>24.959999</td>\n",
       "      <td>0.047258</td>\n",
       "      <td>24.940001</td>\n",
       "      <td>25.030001</td>\n",
       "      <td>24.976667</td>\n",
       "      <td>24.940001</td>\n",
       "      <td>0.081445</td>\n",
       "      <td>...</td>\n",
       "      <td>25.090000</td>\n",
       "      <td>0.109183</td>\n",
       "      <td>24.940001</td>\n",
       "      <td>25.389999</td>\n",
       "      <td>25.052667</td>\n",
       "      <td>25.040001</td>\n",
       "      <td>0.104572</td>\n",
       "      <td>24.860001</td>\n",
       "      <td>25.290001</td>\n",
       "      <td>25.070000</td>\n",
       "    </tr>\n",
       "  </tbody>\n",
       "</table>\n",
       "<p>5 rows × 103 columns</p>\n",
       "</div>"
      ],
      "text/plain": [
       "  accion  ancla  x_mean_open_3  x_mediana_open_3  x_std_open_3  x_min_open_3  \\\n",
       "0   AGRO     15       6.860000          6.840000      0.111355      6.760000   \n",
       "1    AQB     15       3.543333          3.540000      0.055076      3.490000   \n",
       "2    CSA     15      45.387000         45.395000      0.088274     45.294998   \n",
       "3     DD     15      71.696665         71.669998      0.046189     71.669998   \n",
       "4   DWMF     15      24.976667         24.959999      0.047258     24.940001   \n",
       "\n",
       "   x_max_open_3  x_mean_close_3  x_mediana_close_3  x_std_close_3  ...  \\\n",
       "0      6.980000        6.890000           6.910000       0.091651  ...   \n",
       "1      3.600000        3.430000           3.410000       0.170880  ...   \n",
       "2     45.471001       45.320000          45.400002       0.174356  ...   \n",
       "3     71.750000       72.260000          71.970001       0.871951  ...   \n",
       "4     25.030001       24.976667          24.940001       0.081445  ...   \n",
       "\n",
       "   x_mediana_high_15  x_std_high_15  x_min_high_15  x_max_high_15  \\\n",
       "0           7.010000       0.087570       6.840000       7.170000   \n",
       "1           3.580000       0.248861       3.200000       4.080000   \n",
       "2          45.660000       0.235552      45.270000      46.070000   \n",
       "3          72.209999       1.569930      69.800003      75.970001   \n",
       "4          25.090000       0.109183      24.940001      25.389999   \n",
       "\n",
       "   x_mean_low_15  x_mediana_low_15  x_std_low_15  x_min_low_15  x_max_low_15  \\\n",
       "0       6.861333          6.890000      0.101056      6.620000      6.980000   \n",
       "1       3.268067          3.180000      0.227707      3.001000      3.710000   \n",
       "2      45.502533         45.439999      0.270733     45.119999     45.912998   \n",
       "3      71.206000         71.029999      1.409689     69.150002     74.449997   \n",
       "4      25.052667         25.040001      0.104572     24.860001     25.290001   \n",
       "\n",
       "           y  \n",
       "0   6.860000  \n",
       "1   3.420000  \n",
       "2  46.369999  \n",
       "3  74.230003  \n",
       "4  25.070000  \n",
       "\n",
       "[5 rows x 103 columns]"
      ]
     },
     "execution_count": 25,
     "metadata": {},
     "output_type": "execute_result"
    }
   ],
   "source": [
    "tad.head()"
   ]
  },
  {
   "attachments": {},
   "cell_type": "markdown",
   "metadata": {},
   "source": [
    "#### Partición de Datos"
   ]
  },
  {
   "cell_type": "code",
   "execution_count": 26,
   "metadata": {},
   "outputs": [
    {
     "data": {
      "text/plain": [
       "((3461, 103), (663, 103))"
      ]
     },
     "execution_count": 26,
     "metadata": {},
     "output_type": "execute_result"
    }
   ],
   "source": [
    "Sn, ot = [d.reset_index(drop=True) for _,d in tad.groupby(tad['ancla']>=217)]\n",
    "Sn.shape,ot.shape"
   ]
  },
  {
   "cell_type": "code",
   "execution_count": 27,
   "metadata": {},
   "outputs": [
    {
     "data": {
      "text/plain": [
       "((2422, 103), (1039, 103))"
      ]
     },
     "execution_count": 27,
     "metadata": {},
     "output_type": "execute_result"
    }
   ],
   "source": [
    "train,valid = train_test_split(Sn,test_size=0.3,random_state=123)\n",
    "train.reset_index(drop=True,inplace=True)\n",
    "valid.reset_index(drop=True,inplace=True)\n",
    "train.shape,valid.shape"
   ]
  },
  {
   "attachments": {},
   "cell_type": "markdown",
   "metadata": {},
   "source": [
    "### Análisis Exploratorio de Datos"
   ]
  },
  {
   "cell_type": "code",
   "execution_count": 36,
   "metadata": {},
   "outputs": [
    {
     "data": {
      "text/plain": [
       "100"
      ]
     },
     "execution_count": 36,
     "metadata": {},
     "output_type": "execute_result"
    }
   ],
   "source": [
    "um =['accion','ancla']\n",
    "varc = [v for v in train.columns if v.startswith('x_')]\n",
    "len(varc)"
   ]
  },
  {
   "attachments": {},
   "cell_type": "markdown",
   "metadata": {},
   "source": [
    "#### Ausentes"
   ]
  },
  {
   "cell_type": "code",
   "execution_count": 37,
   "metadata": {},
   "outputs": [
    {
     "data": {
      "text/html": [
       "<div>\n",
       "<style scoped>\n",
       "    .dataframe tbody tr th:only-of-type {\n",
       "        vertical-align: middle;\n",
       "    }\n",
       "\n",
       "    .dataframe tbody tr th {\n",
       "        vertical-align: top;\n",
       "    }\n",
       "\n",
       "    .dataframe thead th {\n",
       "        text-align: right;\n",
       "    }\n",
       "</style>\n",
       "<table border=\"1\" class=\"dataframe\">\n",
       "  <thead>\n",
       "    <tr style=\"text-align: right;\">\n",
       "      <th></th>\n",
       "      <th>pct_miss</th>\n",
       "    </tr>\n",
       "  </thead>\n",
       "  <tbody>\n",
       "    <tr>\n",
       "      <th>x_std_high_3</th>\n",
       "      <td>0.003716</td>\n",
       "    </tr>\n",
       "    <tr>\n",
       "      <th>x_std_open_3</th>\n",
       "      <td>0.003716</td>\n",
       "    </tr>\n",
       "    <tr>\n",
       "      <th>x_std_close_3</th>\n",
       "      <td>0.003716</td>\n",
       "    </tr>\n",
       "    <tr>\n",
       "      <th>x_std_low_3</th>\n",
       "      <td>0.003716</td>\n",
       "    </tr>\n",
       "    <tr>\n",
       "      <th>x_std_close_6</th>\n",
       "      <td>0.000826</td>\n",
       "    </tr>\n",
       "    <tr>\n",
       "      <th>...</th>\n",
       "      <td>...</td>\n",
       "    </tr>\n",
       "    <tr>\n",
       "      <th>x_mediana_close_12</th>\n",
       "      <td>0.000000</td>\n",
       "    </tr>\n",
       "    <tr>\n",
       "      <th>x_std_close_12</th>\n",
       "      <td>0.000000</td>\n",
       "    </tr>\n",
       "    <tr>\n",
       "      <th>x_min_close_12</th>\n",
       "      <td>0.000000</td>\n",
       "    </tr>\n",
       "    <tr>\n",
       "      <th>x_max_close_12</th>\n",
       "      <td>0.000000</td>\n",
       "    </tr>\n",
       "    <tr>\n",
       "      <th>x_max_low_15</th>\n",
       "      <td>0.000000</td>\n",
       "    </tr>\n",
       "  </tbody>\n",
       "</table>\n",
       "<p>100 rows × 1 columns</p>\n",
       "</div>"
      ],
      "text/plain": [
       "                    pct_miss\n",
       "x_std_high_3        0.003716\n",
       "x_std_open_3        0.003716\n",
       "x_std_close_3       0.003716\n",
       "x_std_low_3         0.003716\n",
       "x_std_close_6       0.000826\n",
       "...                      ...\n",
       "x_mediana_close_12  0.000000\n",
       "x_std_close_12      0.000000\n",
       "x_min_close_12      0.000000\n",
       "x_max_close_12      0.000000\n",
       "x_max_low_15        0.000000\n",
       "\n",
       "[100 rows x 1 columns]"
      ]
     },
     "execution_count": 37,
     "metadata": {},
     "output_type": "execute_result"
    }
   ],
   "source": [
    "# Obtenemos el porcentaje de missing\n",
    "miss = (train[varc].isnull().sum()/len(train)).to_frame().rename(columns={0:'pct_miss'})\n",
    "# Ordenamos los valores\n",
    "miss.sort_values(by = 'pct_miss',ascending = False, inplace = True)\n",
    "miss"
   ]
  },
  {
   "attachments": {},
   "cell_type": "markdown",
   "metadata": {},
   "source": [
    "* Con la función SimpleImputer() de sklearn.impute se puede reemplazar los valores ausentes por la media, mediana o la moda."
   ]
  },
  {
   "cell_type": "code",
   "execution_count": 38,
   "metadata": {},
   "outputs": [
    {
     "data": {
      "text/html": [
       "<style>#sk-container-id-2 {color: black;background-color: white;}#sk-container-id-2 pre{padding: 0;}#sk-container-id-2 div.sk-toggleable {background-color: white;}#sk-container-id-2 label.sk-toggleable__label {cursor: pointer;display: block;width: 100%;margin-bottom: 0;padding: 0.3em;box-sizing: border-box;text-align: center;}#sk-container-id-2 label.sk-toggleable__label-arrow:before {content: \"▸\";float: left;margin-right: 0.25em;color: #696969;}#sk-container-id-2 label.sk-toggleable__label-arrow:hover:before {color: black;}#sk-container-id-2 div.sk-estimator:hover label.sk-toggleable__label-arrow:before {color: black;}#sk-container-id-2 div.sk-toggleable__content {max-height: 0;max-width: 0;overflow: hidden;text-align: left;background-color: #f0f8ff;}#sk-container-id-2 div.sk-toggleable__content pre {margin: 0.2em;color: black;border-radius: 0.25em;background-color: #f0f8ff;}#sk-container-id-2 input.sk-toggleable__control:checked~div.sk-toggleable__content {max-height: 200px;max-width: 100%;overflow: auto;}#sk-container-id-2 input.sk-toggleable__control:checked~label.sk-toggleable__label-arrow:before {content: \"▾\";}#sk-container-id-2 div.sk-estimator input.sk-toggleable__control:checked~label.sk-toggleable__label {background-color: #d4ebff;}#sk-container-id-2 div.sk-label input.sk-toggleable__control:checked~label.sk-toggleable__label {background-color: #d4ebff;}#sk-container-id-2 input.sk-hidden--visually {border: 0;clip: rect(1px 1px 1px 1px);clip: rect(1px, 1px, 1px, 1px);height: 1px;margin: -1px;overflow: hidden;padding: 0;position: absolute;width: 1px;}#sk-container-id-2 div.sk-estimator {font-family: monospace;background-color: #f0f8ff;border: 1px dotted black;border-radius: 0.25em;box-sizing: border-box;margin-bottom: 0.5em;}#sk-container-id-2 div.sk-estimator:hover {background-color: #d4ebff;}#sk-container-id-2 div.sk-parallel-item::after {content: \"\";width: 100%;border-bottom: 1px solid gray;flex-grow: 1;}#sk-container-id-2 div.sk-label:hover label.sk-toggleable__label {background-color: #d4ebff;}#sk-container-id-2 div.sk-serial::before {content: \"\";position: absolute;border-left: 1px solid gray;box-sizing: border-box;top: 0;bottom: 0;left: 50%;z-index: 0;}#sk-container-id-2 div.sk-serial {display: flex;flex-direction: column;align-items: center;background-color: white;padding-right: 0.2em;padding-left: 0.2em;position: relative;}#sk-container-id-2 div.sk-item {position: relative;z-index: 1;}#sk-container-id-2 div.sk-parallel {display: flex;align-items: stretch;justify-content: center;background-color: white;position: relative;}#sk-container-id-2 div.sk-item::before, #sk-container-id-2 div.sk-parallel-item::before {content: \"\";position: absolute;border-left: 1px solid gray;box-sizing: border-box;top: 0;bottom: 0;left: 50%;z-index: -1;}#sk-container-id-2 div.sk-parallel-item {display: flex;flex-direction: column;z-index: 1;position: relative;background-color: white;}#sk-container-id-2 div.sk-parallel-item:first-child::after {align-self: flex-end;width: 50%;}#sk-container-id-2 div.sk-parallel-item:last-child::after {align-self: flex-start;width: 50%;}#sk-container-id-2 div.sk-parallel-item:only-child::after {width: 0;}#sk-container-id-2 div.sk-dashed-wrapped {border: 1px dashed gray;margin: 0 0.4em 0.5em 0.4em;box-sizing: border-box;padding-bottom: 0.4em;background-color: white;}#sk-container-id-2 div.sk-label label {font-family: monospace;font-weight: bold;display: inline-block;line-height: 1.2em;}#sk-container-id-2 div.sk-label-container {text-align: center;}#sk-container-id-2 div.sk-container {/* jupyter's `normalize.less` sets `[hidden] { display: none; }` but bootstrap.min.css set `[hidden] { display: none !important; }` so we also need the `!important` here to be able to override the default hidden behavior on the sphinx rendered scikit-learn.org. See: https://github.com/scikit-learn/scikit-learn/issues/21755 */display: inline-block !important;position: relative;}#sk-container-id-2 div.sk-text-repr-fallback {display: none;}</style><div id=\"sk-container-id-2\" class=\"sk-top-container\"><div class=\"sk-text-repr-fallback\"><pre>SimpleImputer(strategy=&#x27;median&#x27;)</pre><b>In a Jupyter environment, please rerun this cell to show the HTML representation or trust the notebook. <br />On GitHub, the HTML representation is unable to render, please try loading this page with nbviewer.org.</b></div><div class=\"sk-container\" hidden><div class=\"sk-item\"><div class=\"sk-estimator sk-toggleable\"><input class=\"sk-toggleable__control sk-hidden--visually\" id=\"sk-estimator-id-2\" type=\"checkbox\" checked><label for=\"sk-estimator-id-2\" class=\"sk-toggleable__label sk-toggleable__label-arrow\">SimpleImputer</label><div class=\"sk-toggleable__content\"><pre>SimpleImputer(strategy=&#x27;median&#x27;)</pre></div></div></div></div></div>"
      ],
      "text/plain": [
       "SimpleImputer(strategy='median')"
      ]
     },
     "execution_count": 38,
     "metadata": {},
     "output_type": "execute_result"
    }
   ],
   "source": [
    "# Reemplazamos los missing por la mediana\n",
    "im = SimpleImputer(strategy='median')\n",
    "# Ajustamos el imputer\n",
    "im.fit(train[varc])"
   ]
  },
  {
   "attachments": {},
   "cell_type": "markdown",
   "metadata": {},
   "source": [
    "* Con la función transform() se puede aplicar la transformación a los datos."
   ]
  },
  {
   "cell_type": "code",
   "execution_count": 39,
   "metadata": {},
   "outputs": [],
   "source": [
    "Xi = pd.DataFrame(im.transform(train[varc]),columns=varc)\n",
    "Xi[um] = train[um]"
   ]
  },
  {
   "cell_type": "code",
   "execution_count": 40,
   "metadata": {},
   "outputs": [
    {
     "data": {
      "text/html": [
       "<div>\n",
       "<style scoped>\n",
       "    .dataframe tbody tr th:only-of-type {\n",
       "        vertical-align: middle;\n",
       "    }\n",
       "\n",
       "    .dataframe tbody tr th {\n",
       "        vertical-align: top;\n",
       "    }\n",
       "\n",
       "    .dataframe thead th {\n",
       "        text-align: right;\n",
       "    }\n",
       "</style>\n",
       "<table border=\"1\" class=\"dataframe\">\n",
       "  <thead>\n",
       "    <tr style=\"text-align: right;\">\n",
       "      <th></th>\n",
       "      <th>x_mean_open_3</th>\n",
       "      <th>x_mediana_open_3</th>\n",
       "      <th>x_std_open_3</th>\n",
       "      <th>x_min_open_3</th>\n",
       "      <th>x_max_open_3</th>\n",
       "      <th>x_mean_close_3</th>\n",
       "      <th>x_mediana_close_3</th>\n",
       "      <th>x_std_close_3</th>\n",
       "      <th>x_min_close_3</th>\n",
       "      <th>x_max_close_3</th>\n",
       "      <th>...</th>\n",
       "      <th>x_std_high_15</th>\n",
       "      <th>x_min_high_15</th>\n",
       "      <th>x_max_high_15</th>\n",
       "      <th>x_mean_low_15</th>\n",
       "      <th>x_mediana_low_15</th>\n",
       "      <th>x_std_low_15</th>\n",
       "      <th>x_min_low_15</th>\n",
       "      <th>x_max_low_15</th>\n",
       "      <th>accion</th>\n",
       "      <th>ancla</th>\n",
       "    </tr>\n",
       "  </thead>\n",
       "  <tbody>\n",
       "    <tr>\n",
       "      <th>0</th>\n",
       "      <td>0.726667</td>\n",
       "      <td>0.712</td>\n",
       "      <td>0.058398</td>\n",
       "      <td>0.677</td>\n",
       "      <td>0.791</td>\n",
       "      <td>0.745000</td>\n",
       "      <td>0.762</td>\n",
       "      <td>0.055489</td>\n",
       "      <td>0.683</td>\n",
       "      <td>0.79</td>\n",
       "      <td>...</td>\n",
       "      <td>0.103212</td>\n",
       "      <td>0.691</td>\n",
       "      <td>0.98</td>\n",
       "      <td>0.716133</td>\n",
       "      <td>0.67</td>\n",
       "      <td>0.069988</td>\n",
       "      <td>0.65</td>\n",
       "      <td>0.83</td>\n",
       "      <td>HNRG</td>\n",
       "      <td>210</td>\n",
       "    </tr>\n",
       "    <tr>\n",
       "      <th>1</th>\n",
       "      <td>4.090000</td>\n",
       "      <td>4.100</td>\n",
       "      <td>0.036055</td>\n",
       "      <td>4.050</td>\n",
       "      <td>4.120</td>\n",
       "      <td>4.116667</td>\n",
       "      <td>4.110</td>\n",
       "      <td>0.011547</td>\n",
       "      <td>4.110</td>\n",
       "      <td>4.13</td>\n",
       "      <td>...</td>\n",
       "      <td>0.624372</td>\n",
       "      <td>4.160</td>\n",
       "      <td>6.15</td>\n",
       "      <td>4.237333</td>\n",
       "      <td>3.99</td>\n",
       "      <td>0.513329</td>\n",
       "      <td>3.58</td>\n",
       "      <td>5.19</td>\n",
       "      <td>AGRO</td>\n",
       "      <td>187</td>\n",
       "    </tr>\n",
       "    <tr>\n",
       "      <th>2</th>\n",
       "      <td>13.196667</td>\n",
       "      <td>13.180</td>\n",
       "      <td>0.047258</td>\n",
       "      <td>13.160</td>\n",
       "      <td>13.250</td>\n",
       "      <td>13.095000</td>\n",
       "      <td>13.135</td>\n",
       "      <td>0.091788</td>\n",
       "      <td>12.990</td>\n",
       "      <td>13.16</td>\n",
       "      <td>...</td>\n",
       "      <td>0.225038</td>\n",
       "      <td>13.160</td>\n",
       "      <td>13.84</td>\n",
       "      <td>13.369667</td>\n",
       "      <td>13.49</td>\n",
       "      <td>0.212001</td>\n",
       "      <td>12.98</td>\n",
       "      <td>13.62</td>\n",
       "      <td>TWNK</td>\n",
       "      <td>79</td>\n",
       "    </tr>\n",
       "    <tr>\n",
       "      <th>3</th>\n",
       "      <td>0.270000</td>\n",
       "      <td>0.270</td>\n",
       "      <td>0.010000</td>\n",
       "      <td>0.260</td>\n",
       "      <td>0.280</td>\n",
       "      <td>0.260000</td>\n",
       "      <td>0.270</td>\n",
       "      <td>0.017321</td>\n",
       "      <td>0.240</td>\n",
       "      <td>0.27</td>\n",
       "      <td>...</td>\n",
       "      <td>0.087587</td>\n",
       "      <td>0.110</td>\n",
       "      <td>0.32</td>\n",
       "      <td>0.147333</td>\n",
       "      <td>0.11</td>\n",
       "      <td>0.064528</td>\n",
       "      <td>0.05</td>\n",
       "      <td>0.25</td>\n",
       "      <td>IBIO</td>\n",
       "      <td>113</td>\n",
       "    </tr>\n",
       "    <tr>\n",
       "      <th>4</th>\n",
       "      <td>1.513333</td>\n",
       "      <td>1.510</td>\n",
       "      <td>0.035119</td>\n",
       "      <td>1.480</td>\n",
       "      <td>1.550</td>\n",
       "      <td>1.490000</td>\n",
       "      <td>1.500</td>\n",
       "      <td>0.026457</td>\n",
       "      <td>1.460</td>\n",
       "      <td>1.51</td>\n",
       "      <td>...</td>\n",
       "      <td>0.050095</td>\n",
       "      <td>1.440</td>\n",
       "      <td>1.58</td>\n",
       "      <td>1.425333</td>\n",
       "      <td>1.42</td>\n",
       "      <td>0.043567</td>\n",
       "      <td>1.34</td>\n",
       "      <td>1.50</td>\n",
       "      <td>SYNC</td>\n",
       "      <td>60</td>\n",
       "    </tr>\n",
       "  </tbody>\n",
       "</table>\n",
       "<p>5 rows × 102 columns</p>\n",
       "</div>"
      ],
      "text/plain": [
       "   x_mean_open_3  x_mediana_open_3  x_std_open_3  x_min_open_3  x_max_open_3  \\\n",
       "0       0.726667             0.712      0.058398         0.677         0.791   \n",
       "1       4.090000             4.100      0.036055         4.050         4.120   \n",
       "2      13.196667            13.180      0.047258        13.160        13.250   \n",
       "3       0.270000             0.270      0.010000         0.260         0.280   \n",
       "4       1.513333             1.510      0.035119         1.480         1.550   \n",
       "\n",
       "   x_mean_close_3  x_mediana_close_3  x_std_close_3  x_min_close_3  \\\n",
       "0        0.745000              0.762       0.055489          0.683   \n",
       "1        4.116667              4.110       0.011547          4.110   \n",
       "2       13.095000             13.135       0.091788         12.990   \n",
       "3        0.260000              0.270       0.017321          0.240   \n",
       "4        1.490000              1.500       0.026457          1.460   \n",
       "\n",
       "   x_max_close_3  ...  x_std_high_15  x_min_high_15  x_max_high_15  \\\n",
       "0           0.79  ...       0.103212          0.691           0.98   \n",
       "1           4.13  ...       0.624372          4.160           6.15   \n",
       "2          13.16  ...       0.225038         13.160          13.84   \n",
       "3           0.27  ...       0.087587          0.110           0.32   \n",
       "4           1.51  ...       0.050095          1.440           1.58   \n",
       "\n",
       "   x_mean_low_15  x_mediana_low_15  x_std_low_15  x_min_low_15  x_max_low_15  \\\n",
       "0       0.716133              0.67      0.069988          0.65          0.83   \n",
       "1       4.237333              3.99      0.513329          3.58          5.19   \n",
       "2      13.369667             13.49      0.212001         12.98         13.62   \n",
       "3       0.147333              0.11      0.064528          0.05          0.25   \n",
       "4       1.425333              1.42      0.043567          1.34          1.50   \n",
       "\n",
       "   accion  ancla  \n",
       "0    HNRG    210  \n",
       "1    AGRO    187  \n",
       "2    TWNK     79  \n",
       "3    IBIO    113  \n",
       "4    SYNC     60  \n",
       "\n",
       "[5 rows x 102 columns]"
      ]
     },
     "execution_count": 40,
     "metadata": {},
     "output_type": "execute_result"
    }
   ],
   "source": [
    "Xi.head()"
   ]
  },
  {
   "attachments": {},
   "cell_type": "markdown",
   "metadata": {},
   "source": [
    "* Con stats.ks_2samp() se puede realizar una prueba de Kolmogorov-Smirnov para comparar dos muestras."
   ]
  },
  {
   "cell_type": "code",
   "execution_count": 42,
   "metadata": {},
   "outputs": [
    {
     "data": {
      "text/html": [
       "<div>\n",
       "<style scoped>\n",
       "    .dataframe tbody tr th:only-of-type {\n",
       "        vertical-align: middle;\n",
       "    }\n",
       "\n",
       "    .dataframe tbody tr th {\n",
       "        vertical-align: top;\n",
       "    }\n",
       "\n",
       "    .dataframe thead th {\n",
       "        text-align: right;\n",
       "    }\n",
       "</style>\n",
       "<table border=\"1\" class=\"dataframe\">\n",
       "  <thead>\n",
       "    <tr style=\"text-align: right;\">\n",
       "      <th></th>\n",
       "      <th>var</th>\n",
       "      <th>ks</th>\n",
       "    </tr>\n",
       "  </thead>\n",
       "  <tbody>\n",
       "    <tr>\n",
       "      <th>7</th>\n",
       "      <td>x_std_close_3</td>\n",
       "      <td>0.001857</td>\n",
       "    </tr>\n",
       "    <tr>\n",
       "      <th>2</th>\n",
       "      <td>x_std_open_3</td>\n",
       "      <td>0.001857</td>\n",
       "    </tr>\n",
       "    <tr>\n",
       "      <th>17</th>\n",
       "      <td>x_std_low_3</td>\n",
       "      <td>0.001857</td>\n",
       "    </tr>\n",
       "    <tr>\n",
       "      <th>12</th>\n",
       "      <td>x_std_high_3</td>\n",
       "      <td>0.001857</td>\n",
       "    </tr>\n",
       "    <tr>\n",
       "      <th>37</th>\n",
       "      <td>x_std_low_6</td>\n",
       "      <td>0.000413</td>\n",
       "    </tr>\n",
       "    <tr>\n",
       "      <th>...</th>\n",
       "      <td>...</td>\n",
       "      <td>...</td>\n",
       "    </tr>\n",
       "    <tr>\n",
       "      <th>66</th>\n",
       "      <td>x_mediana_close_12</td>\n",
       "      <td>0.000000</td>\n",
       "    </tr>\n",
       "    <tr>\n",
       "      <th>67</th>\n",
       "      <td>x_std_close_12</td>\n",
       "      <td>0.000000</td>\n",
       "    </tr>\n",
       "    <tr>\n",
       "      <th>68</th>\n",
       "      <td>x_min_close_12</td>\n",
       "      <td>0.000000</td>\n",
       "    </tr>\n",
       "    <tr>\n",
       "      <th>69</th>\n",
       "      <td>x_max_close_12</td>\n",
       "      <td>0.000000</td>\n",
       "    </tr>\n",
       "    <tr>\n",
       "      <th>99</th>\n",
       "      <td>x_max_low_15</td>\n",
       "      <td>0.000000</td>\n",
       "    </tr>\n",
       "  </tbody>\n",
       "</table>\n",
       "<p>100 rows × 2 columns</p>\n",
       "</div>"
      ],
      "text/plain": [
       "                   var        ks\n",
       "7        x_std_close_3  0.001857\n",
       "2         x_std_open_3  0.001857\n",
       "17         x_std_low_3  0.001857\n",
       "12        x_std_high_3  0.001857\n",
       "37         x_std_low_6  0.000413\n",
       "..                 ...       ...\n",
       "66  x_mediana_close_12  0.000000\n",
       "67      x_std_close_12  0.000000\n",
       "68      x_min_close_12  0.000000\n",
       "69      x_max_close_12  0.000000\n",
       "99        x_max_low_15  0.000000\n",
       "\n",
       "[100 rows x 2 columns]"
      ]
     },
     "execution_count": 42,
     "metadata": {},
     "output_type": "execute_result"
    }
   ],
   "source": [
    "# Creamos un dataframe\n",
    "ks = pd.DataFrame( \n",
    "    # Aplicamos la prueba de Kolmogorov-Smirnov a las variables continuas\n",
    "    map(lambda v: (v, stats.ks_2samp(Xi[v], train[v].dropna()).statistic), varc),\n",
    "    # Renombramos las columnas y ordenamos por el estadístico de Kolmogorov-Smirnov\n",
    "    columns=['var', 'ks']).sort_values(by='ks', ascending=False)\n",
    "\n",
    "ks"
   ]
  },
  {
   "attachments": {},
   "cell_type": "markdown",
   "metadata": {},
   "source": [
    "### Multicolinealidad"
   ]
  },
  {
   "attachments": {},
   "cell_type": "markdown",
   "metadata": {},
   "source": [
    "* La funcipon VarClusHi() se utiliza para realizar clustering jerárquico de variables. Se utiliza para detectar variables altamente correlacionadas."
   ]
  },
  {
   "cell_type": "code",
   "execution_count": 44,
   "metadata": {},
   "outputs": [],
   "source": [
    "vc = VarClusHi(df= Xi, feat_list=varc).varclus()"
   ]
  },
  {
   "attachments": {},
   "cell_type": "markdown",
   "metadata": {},
   "source": [
    "* Con sorted() se puede ordenar una lista, mientras que con sort() se puede ordenar una lista en el mismo objeto."
   ]
  },
  {
   "cell_type": "code",
   "execution_count": 45,
   "metadata": {},
   "outputs": [
    {
     "data": {
      "text/plain": [
       "['x_mean_close_9', 'x_std_close_9']"
      ]
     },
     "execution_count": 45,
     "metadata": {},
     "output_type": "execute_result"
    }
   ],
   "source": [
    "best = sorted(vc.rsquare.sort_values(by=['Cluster','RS_Ratio'],ascending=[1,1]).groupby('Cluster').first(\n",
    ")['Variable'])\n",
    "best"
   ]
  },
  {
   "attachments": {},
   "cell_type": "markdown",
   "metadata": {},
   "source": [
    "### Extremos "
   ]
  },
  {
   "cell_type": "code",
   "execution_count": 46,
   "metadata": {},
   "outputs": [
    {
     "data": {
      "text/plain": [
       "array([[<Axes: title={'center': 'x_mean_close_9'}>,\n",
       "        <Axes: title={'center': 'x_std_close_9'}>]], dtype=object)"
      ]
     },
     "execution_count": 46,
     "metadata": {},
     "output_type": "execute_result"
    },
    {
     "data": {
      "image/png": "[encoded data removed]",
      "text/plain": [
       "<Figure size 600x300 with 2 Axes>"
      ]
     },
     "metadata": {},
     "output_type": "display_data"
    }
   ],
   "source": [
    "Xi[best].hist(figsize=(6,3),bins=20)"
   ]
  },
  {
   "cell_type": "code",
   "execution_count": 47,
   "metadata": {},
   "outputs": [
    {
     "data": {
      "text/plain": [
       "array([['x_mean_close_9', 0.23888888955116266, 236.25905704074432],\n",
       "       ['x_std_close_9', 0.012658318174855035, 6.89265427189688]],\n",
       "      dtype=object)"
      ]
     },
     "execution_count": 47,
     "metadata": {},
     "output_type": "execute_result"
    }
   ],
   "source": [
    "Xi[best].describe(percentiles=[0.01,0.99]).T[['1%','99%']].reset_index().values"
   ]
  },
  {
   "cell_type": "code",
   "execution_count": 48,
   "metadata": {},
   "outputs": [
    {
     "data": {
      "text/plain": [
       "0    0.961602\n",
       "1    0.038398\n",
       "Name: ex_, dtype: float64"
      ]
     },
     "execution_count": 48,
     "metadata": {},
     "output_type": "execute_result"
    }
   ],
   "source": [
    "for v,li,ls in Xi[best].describe(percentiles=[0.01,0.99]).T[['1%','99%']].reset_index().values:\n",
    "    Xi[f'ex_{v}'] = Xi[v].apply(lambda x: 1 if x<li or x>ls else 0)\n",
    "    \n",
    "Xi['ex_'] = Xi[[v for v in Xi.columns if v.startswith('ex_')]].max(axis=1)\n",
    "Xi['ex_'].value_counts(1)"
   ]
  },
  {
   "cell_type": "code",
   "execution_count": 49,
   "metadata": {},
   "outputs": [
    {
     "data": {
      "text/plain": [
       "array([[<Axes: title={'center': 'x_mean_close_9'}>,\n",
       "        <Axes: title={'center': 'x_std_close_9'}>]], dtype=object)"
      ]
     },
     "execution_count": 49,
     "metadata": {},
     "output_type": "execute_result"
    },
    {
     "data": {
      "image/png": "[encoded data removed]",
      "text/plain": [
       "<Figure size 600x300 with 2 Axes>"
      ]
     },
     "metadata": {},
     "output_type": "display_data"
    }
   ],
   "source": [
    "Xi[Xi['ex_']==0][best].hist(figsize=(6,3),bins=20)"
   ]
  },
  {
   "cell_type": "code",
   "execution_count": 50,
   "metadata": {},
   "outputs": [
    {
     "data": {
      "text/html": [
       "<div>\n",
       "<style scoped>\n",
       "    .dataframe tbody tr th:only-of-type {\n",
       "        vertical-align: middle;\n",
       "    }\n",
       "\n",
       "    .dataframe tbody tr th {\n",
       "        vertical-align: top;\n",
       "    }\n",
       "\n",
       "    .dataframe thead th {\n",
       "        text-align: right;\n",
       "    }\n",
       "</style>\n",
       "<table border=\"1\" class=\"dataframe\">\n",
       "  <thead>\n",
       "    <tr style=\"text-align: right;\">\n",
       "      <th></th>\n",
       "      <th>x_mean_open_3</th>\n",
       "      <th>x_mediana_open_3</th>\n",
       "      <th>x_std_open_3</th>\n",
       "      <th>x_min_open_3</th>\n",
       "      <th>x_max_open_3</th>\n",
       "      <th>x_mean_close_3</th>\n",
       "      <th>x_mediana_close_3</th>\n",
       "      <th>x_std_close_3</th>\n",
       "      <th>x_min_close_3</th>\n",
       "      <th>x_max_close_3</th>\n",
       "      <th>...</th>\n",
       "      <th>x_std_high_15</th>\n",
       "      <th>x_min_high_15</th>\n",
       "      <th>x_max_high_15</th>\n",
       "      <th>x_mean_low_15</th>\n",
       "      <th>x_mediana_low_15</th>\n",
       "      <th>x_std_low_15</th>\n",
       "      <th>x_min_low_15</th>\n",
       "      <th>x_max_low_15</th>\n",
       "      <th>accion</th>\n",
       "      <th>ancla</th>\n",
       "    </tr>\n",
       "  </thead>\n",
       "  <tbody>\n",
       "    <tr>\n",
       "      <th>0</th>\n",
       "      <td>0.726667</td>\n",
       "      <td>0.712000</td>\n",
       "      <td>0.058398</td>\n",
       "      <td>0.677000</td>\n",
       "      <td>0.791000</td>\n",
       "      <td>0.745000</td>\n",
       "      <td>0.762000</td>\n",
       "      <td>0.055489</td>\n",
       "      <td>0.683000</td>\n",
       "      <td>0.790000</td>\n",
       "      <td>...</td>\n",
       "      <td>0.103212</td>\n",
       "      <td>0.691000</td>\n",
       "      <td>0.980000</td>\n",
       "      <td>0.716133</td>\n",
       "      <td>0.670000</td>\n",
       "      <td>0.069988</td>\n",
       "      <td>0.650000</td>\n",
       "      <td>0.830000</td>\n",
       "      <td>HNRG</td>\n",
       "      <td>210</td>\n",
       "    </tr>\n",
       "    <tr>\n",
       "      <th>1</th>\n",
       "      <td>4.090000</td>\n",
       "      <td>4.100000</td>\n",
       "      <td>0.036055</td>\n",
       "      <td>4.050000</td>\n",
       "      <td>4.120000</td>\n",
       "      <td>4.116667</td>\n",
       "      <td>4.110000</td>\n",
       "      <td>0.011547</td>\n",
       "      <td>4.110000</td>\n",
       "      <td>4.130000</td>\n",
       "      <td>...</td>\n",
       "      <td>0.624372</td>\n",
       "      <td>4.160000</td>\n",
       "      <td>6.150000</td>\n",
       "      <td>4.237333</td>\n",
       "      <td>3.990000</td>\n",
       "      <td>0.513329</td>\n",
       "      <td>3.580000</td>\n",
       "      <td>5.190000</td>\n",
       "      <td>AGRO</td>\n",
       "      <td>187</td>\n",
       "    </tr>\n",
       "    <tr>\n",
       "      <th>2</th>\n",
       "      <td>13.196667</td>\n",
       "      <td>13.180000</td>\n",
       "      <td>0.047258</td>\n",
       "      <td>13.160000</td>\n",
       "      <td>13.250000</td>\n",
       "      <td>13.095000</td>\n",
       "      <td>13.135000</td>\n",
       "      <td>0.091788</td>\n",
       "      <td>12.990000</td>\n",
       "      <td>13.160000</td>\n",
       "      <td>...</td>\n",
       "      <td>0.225038</td>\n",
       "      <td>13.160000</td>\n",
       "      <td>13.840000</td>\n",
       "      <td>13.369667</td>\n",
       "      <td>13.490000</td>\n",
       "      <td>0.212001</td>\n",
       "      <td>12.980000</td>\n",
       "      <td>13.620000</td>\n",
       "      <td>TWNK</td>\n",
       "      <td>79</td>\n",
       "    </tr>\n",
       "    <tr>\n",
       "      <th>3</th>\n",
       "      <td>1.513333</td>\n",
       "      <td>1.510000</td>\n",
       "      <td>0.035119</td>\n",
       "      <td>1.480000</td>\n",
       "      <td>1.550000</td>\n",
       "      <td>1.490000</td>\n",
       "      <td>1.500000</td>\n",
       "      <td>0.026457</td>\n",
       "      <td>1.460000</td>\n",
       "      <td>1.510000</td>\n",
       "      <td>...</td>\n",
       "      <td>0.050095</td>\n",
       "      <td>1.440000</td>\n",
       "      <td>1.580000</td>\n",
       "      <td>1.425333</td>\n",
       "      <td>1.420000</td>\n",
       "      <td>0.043567</td>\n",
       "      <td>1.340000</td>\n",
       "      <td>1.500000</td>\n",
       "      <td>SYNC</td>\n",
       "      <td>60</td>\n",
       "    </tr>\n",
       "    <tr>\n",
       "      <th>4</th>\n",
       "      <td>42.776666</td>\n",
       "      <td>42.689999</td>\n",
       "      <td>0.634456</td>\n",
       "      <td>42.189999</td>\n",
       "      <td>43.450001</td>\n",
       "      <td>43.059334</td>\n",
       "      <td>43.319000</td>\n",
       "      <td>0.617876</td>\n",
       "      <td>42.354000</td>\n",
       "      <td>43.505001</td>\n",
       "      <td>...</td>\n",
       "      <td>2.488533</td>\n",
       "      <td>42.349998</td>\n",
       "      <td>48.879002</td>\n",
       "      <td>45.744600</td>\n",
       "      <td>46.709000</td>\n",
       "      <td>2.998409</td>\n",
       "      <td>40.320000</td>\n",
       "      <td>48.757999</td>\n",
       "      <td>CSA</td>\n",
       "      <td>170</td>\n",
       "    </tr>\n",
       "    <tr>\n",
       "      <th>...</th>\n",
       "      <td>...</td>\n",
       "      <td>...</td>\n",
       "      <td>...</td>\n",
       "      <td>...</td>\n",
       "      <td>...</td>\n",
       "      <td>...</td>\n",
       "      <td>...</td>\n",
       "      <td>...</td>\n",
       "      <td>...</td>\n",
       "      <td>...</td>\n",
       "      <td>...</td>\n",
       "      <td>...</td>\n",
       "      <td>...</td>\n",
       "      <td>...</td>\n",
       "      <td>...</td>\n",
       "      <td>...</td>\n",
       "      <td>...</td>\n",
       "      <td>...</td>\n",
       "      <td>...</td>\n",
       "      <td>...</td>\n",
       "      <td>...</td>\n",
       "    </tr>\n",
       "    <tr>\n",
       "      <th>2324</th>\n",
       "      <td>2.020000</td>\n",
       "      <td>2.010000</td>\n",
       "      <td>0.017320</td>\n",
       "      <td>2.010000</td>\n",
       "      <td>2.040000</td>\n",
       "      <td>2.026667</td>\n",
       "      <td>2.030000</td>\n",
       "      <td>0.015275</td>\n",
       "      <td>2.010000</td>\n",
       "      <td>2.040000</td>\n",
       "      <td>...</td>\n",
       "      <td>0.096287</td>\n",
       "      <td>2.020000</td>\n",
       "      <td>2.290000</td>\n",
       "      <td>2.071600</td>\n",
       "      <td>2.070000</td>\n",
       "      <td>0.062391</td>\n",
       "      <td>2.000000</td>\n",
       "      <td>2.200000</td>\n",
       "      <td>AQB</td>\n",
       "      <td>119</td>\n",
       "    </tr>\n",
       "    <tr>\n",
       "      <th>2325</th>\n",
       "      <td>2.481667</td>\n",
       "      <td>2.500000</td>\n",
       "      <td>0.040723</td>\n",
       "      <td>2.435000</td>\n",
       "      <td>2.510000</td>\n",
       "      <td>2.440000</td>\n",
       "      <td>2.450000</td>\n",
       "      <td>0.045826</td>\n",
       "      <td>2.390000</td>\n",
       "      <td>2.480000</td>\n",
       "      <td>...</td>\n",
       "      <td>0.077195</td>\n",
       "      <td>2.390000</td>\n",
       "      <td>2.650000</td>\n",
       "      <td>2.401600</td>\n",
       "      <td>2.400000</td>\n",
       "      <td>0.088092</td>\n",
       "      <td>2.260000</td>\n",
       "      <td>2.574000</td>\n",
       "      <td>AQB</td>\n",
       "      <td>81</td>\n",
       "    </tr>\n",
       "    <tr>\n",
       "      <th>2326</th>\n",
       "      <td>28.776667</td>\n",
       "      <td>28.770000</td>\n",
       "      <td>0.070238</td>\n",
       "      <td>28.709999</td>\n",
       "      <td>28.850000</td>\n",
       "      <td>28.893333</td>\n",
       "      <td>28.940001</td>\n",
       "      <td>0.098657</td>\n",
       "      <td>28.780001</td>\n",
       "      <td>28.959999</td>\n",
       "      <td>...</td>\n",
       "      <td>0.358087</td>\n",
       "      <td>28.090000</td>\n",
       "      <td>29.290001</td>\n",
       "      <td>28.187333</td>\n",
       "      <td>28.150000</td>\n",
       "      <td>0.370838</td>\n",
       "      <td>27.490000</td>\n",
       "      <td>28.730000</td>\n",
       "      <td>EQBK</td>\n",
       "      <td>94</td>\n",
       "    </tr>\n",
       "    <tr>\n",
       "      <th>2327</th>\n",
       "      <td>203.876668</td>\n",
       "      <td>203.050003</td>\n",
       "      <td>2.581269</td>\n",
       "      <td>201.809998</td>\n",
       "      <td>206.770004</td>\n",
       "      <td>204.923335</td>\n",
       "      <td>204.089996</td>\n",
       "      <td>4.597004</td>\n",
       "      <td>200.800003</td>\n",
       "      <td>209.880005</td>\n",
       "      <td>...</td>\n",
       "      <td>6.989144</td>\n",
       "      <td>188.440002</td>\n",
       "      <td>211.279999</td>\n",
       "      <td>196.562001</td>\n",
       "      <td>195.139999</td>\n",
       "      <td>6.860454</td>\n",
       "      <td>184.449997</td>\n",
       "      <td>206.300003</td>\n",
       "      <td>IJK</td>\n",
       "      <td>216</td>\n",
       "    </tr>\n",
       "    <tr>\n",
       "      <th>2328</th>\n",
       "      <td>57.510000</td>\n",
       "      <td>57.500000</td>\n",
       "      <td>0.095395</td>\n",
       "      <td>57.419998</td>\n",
       "      <td>57.610001</td>\n",
       "      <td>57.303332</td>\n",
       "      <td>57.169998</td>\n",
       "      <td>0.293656</td>\n",
       "      <td>57.099998</td>\n",
       "      <td>57.639999</td>\n",
       "      <td>...</td>\n",
       "      <td>0.948805</td>\n",
       "      <td>54.950001</td>\n",
       "      <td>58.270000</td>\n",
       "      <td>56.031333</td>\n",
       "      <td>56.139999</td>\n",
       "      <td>1.079106</td>\n",
       "      <td>53.779999</td>\n",
       "      <td>57.529999</td>\n",
       "      <td>IXP</td>\n",
       "      <td>215</td>\n",
       "    </tr>\n",
       "  </tbody>\n",
       "</table>\n",
       "<p>2329 rows × 102 columns</p>\n",
       "</div>"
      ],
      "text/plain": [
       "      x_mean_open_3  x_mediana_open_3  x_std_open_3  x_min_open_3  \\\n",
       "0          0.726667          0.712000      0.058398      0.677000   \n",
       "1          4.090000          4.100000      0.036055      4.050000   \n",
       "2         13.196667         13.180000      0.047258     13.160000   \n",
       "3          1.513333          1.510000      0.035119      1.480000   \n",
       "4         42.776666         42.689999      0.634456     42.189999   \n",
       "...             ...               ...           ...           ...   \n",
       "2324       2.020000          2.010000      0.017320      2.010000   \n",
       "2325       2.481667          2.500000      0.040723      2.435000   \n",
       "2326      28.776667         28.770000      0.070238     28.709999   \n",
       "2327     203.876668        203.050003      2.581269    201.809998   \n",
       "2328      57.510000         57.500000      0.095395     57.419998   \n",
       "\n",
       "      x_max_open_3  x_mean_close_3  x_mediana_close_3  x_std_close_3  \\\n",
       "0         0.791000        0.745000           0.762000       0.055489   \n",
       "1         4.120000        4.116667           4.110000       0.011547   \n",
       "2        13.250000       13.095000          13.135000       0.091788   \n",
       "3         1.550000        1.490000           1.500000       0.026457   \n",
       "4        43.450001       43.059334          43.319000       0.617876   \n",
       "...            ...             ...                ...            ...   \n",
       "2324      2.040000        2.026667           2.030000       0.015275   \n",
       "2325      2.510000        2.440000           2.450000       0.045826   \n",
       "2326     28.850000       28.893333          28.940001       0.098657   \n",
       "2327    206.770004      204.923335         204.089996       4.597004   \n",
       "2328     57.610001       57.303332          57.169998       0.293656   \n",
       "\n",
       "      x_min_close_3  x_max_close_3  ...  x_std_high_15  x_min_high_15  \\\n",
       "0          0.683000       0.790000  ...       0.103212       0.691000   \n",
       "1          4.110000       4.130000  ...       0.624372       4.160000   \n",
       "2         12.990000      13.160000  ...       0.225038      13.160000   \n",
       "3          1.460000       1.510000  ...       0.050095       1.440000   \n",
       "4         42.354000      43.505001  ...       2.488533      42.349998   \n",
       "...             ...            ...  ...            ...            ...   \n",
       "2324       2.010000       2.040000  ...       0.096287       2.020000   \n",
       "2325       2.390000       2.480000  ...       0.077195       2.390000   \n",
       "2326      28.780001      28.959999  ...       0.358087      28.090000   \n",
       "2327     200.800003     209.880005  ...       6.989144     188.440002   \n",
       "2328      57.099998      57.639999  ...       0.948805      54.950001   \n",
       "\n",
       "      x_max_high_15  x_mean_low_15  x_mediana_low_15  x_std_low_15  \\\n",
       "0          0.980000       0.716133          0.670000      0.069988   \n",
       "1          6.150000       4.237333          3.990000      0.513329   \n",
       "2         13.840000      13.369667         13.490000      0.212001   \n",
       "3          1.580000       1.425333          1.420000      0.043567   \n",
       "4         48.879002      45.744600         46.709000      2.998409   \n",
       "...             ...            ...               ...           ...   \n",
       "2324       2.290000       2.071600          2.070000      0.062391   \n",
       "2325       2.650000       2.401600          2.400000      0.088092   \n",
       "2326      29.290001      28.187333         28.150000      0.370838   \n",
       "2327     211.279999     196.562001        195.139999      6.860454   \n",
       "2328      58.270000      56.031333         56.139999      1.079106   \n",
       "\n",
       "      x_min_low_15  x_max_low_15  accion  ancla  \n",
       "0         0.650000      0.830000    HNRG    210  \n",
       "1         3.580000      5.190000    AGRO    187  \n",
       "2        12.980000     13.620000    TWNK     79  \n",
       "3         1.340000      1.500000    SYNC     60  \n",
       "4        40.320000     48.757999     CSA    170  \n",
       "...            ...           ...     ...    ...  \n",
       "2324      2.000000      2.200000     AQB    119  \n",
       "2325      2.260000      2.574000     AQB     81  \n",
       "2326     27.490000     28.730000    EQBK     94  \n",
       "2327    184.449997    206.300003     IJK    216  \n",
       "2328     53.779999     57.529999     IXP    215  \n",
       "\n",
       "[2329 rows x 102 columns]"
      ]
     },
     "execution_count": 50,
     "metadata": {},
     "output_type": "execute_result"
    }
   ],
   "source": [
    "Xi = Xi[Xi['ex_']==0].reset_index(drop=True)\n",
    "Xi.drop([v for v in Xi.columns if v.startswith('ex_')],axis=1,inplace=True)\n",
    "Xi"
   ]
  },
  {
   "cell_type": "code",
   "execution_count": 51,
   "metadata": {},
   "outputs": [
    {
     "data": {
      "text/html": [
       "<style>#sk-container-id-3 {color: black;background-color: white;}#sk-container-id-3 pre{padding: 0;}#sk-container-id-3 div.sk-toggleable {background-color: white;}#sk-container-id-3 label.sk-toggleable__label {cursor: pointer;display: block;width: 100%;margin-bottom: 0;padding: 0.3em;box-sizing: border-box;text-align: center;}#sk-container-id-3 label.sk-toggleable__label-arrow:before {content: \"▸\";float: left;margin-right: 0.25em;color: #696969;}#sk-container-id-3 label.sk-toggleable__label-arrow:hover:before {color: black;}#sk-container-id-3 div.sk-estimator:hover label.sk-toggleable__label-arrow:before {color: black;}#sk-container-id-3 div.sk-toggleable__content {max-height: 0;max-width: 0;overflow: hidden;text-align: left;background-color: #f0f8ff;}#sk-container-id-3 div.sk-toggleable__content pre {margin: 0.2em;color: black;border-radius: 0.25em;background-color: #f0f8ff;}#sk-container-id-3 input.sk-toggleable__control:checked~div.sk-toggleable__content {max-height: 200px;max-width: 100%;overflow: auto;}#sk-container-id-3 input.sk-toggleable__control:checked~label.sk-toggleable__label-arrow:before {content: \"▾\";}#sk-container-id-3 div.sk-estimator input.sk-toggleable__control:checked~label.sk-toggleable__label {background-color: #d4ebff;}#sk-container-id-3 div.sk-label input.sk-toggleable__control:checked~label.sk-toggleable__label {background-color: #d4ebff;}#sk-container-id-3 input.sk-hidden--visually {border: 0;clip: rect(1px 1px 1px 1px);clip: rect(1px, 1px, 1px, 1px);height: 1px;margin: -1px;overflow: hidden;padding: 0;position: absolute;width: 1px;}#sk-container-id-3 div.sk-estimator {font-family: monospace;background-color: #f0f8ff;border: 1px dotted black;border-radius: 0.25em;box-sizing: border-box;margin-bottom: 0.5em;}#sk-container-id-3 div.sk-estimator:hover {background-color: #d4ebff;}#sk-container-id-3 div.sk-parallel-item::after {content: \"\";width: 100%;border-bottom: 1px solid gray;flex-grow: 1;}#sk-container-id-3 div.sk-label:hover label.sk-toggleable__label {background-color: #d4ebff;}#sk-container-id-3 div.sk-serial::before {content: \"\";position: absolute;border-left: 1px solid gray;box-sizing: border-box;top: 0;bottom: 0;left: 50%;z-index: 0;}#sk-container-id-3 div.sk-serial {display: flex;flex-direction: column;align-items: center;background-color: white;padding-right: 0.2em;padding-left: 0.2em;position: relative;}#sk-container-id-3 div.sk-item {position: relative;z-index: 1;}#sk-container-id-3 div.sk-parallel {display: flex;align-items: stretch;justify-content: center;background-color: white;position: relative;}#sk-container-id-3 div.sk-item::before, #sk-container-id-3 div.sk-parallel-item::before {content: \"\";position: absolute;border-left: 1px solid gray;box-sizing: border-box;top: 0;bottom: 0;left: 50%;z-index: -1;}#sk-container-id-3 div.sk-parallel-item {display: flex;flex-direction: column;z-index: 1;position: relative;background-color: white;}#sk-container-id-3 div.sk-parallel-item:first-child::after {align-self: flex-end;width: 50%;}#sk-container-id-3 div.sk-parallel-item:last-child::after {align-self: flex-start;width: 50%;}#sk-container-id-3 div.sk-parallel-item:only-child::after {width: 0;}#sk-container-id-3 div.sk-dashed-wrapped {border: 1px dashed gray;margin: 0 0.4em 0.5em 0.4em;box-sizing: border-box;padding-bottom: 0.4em;background-color: white;}#sk-container-id-3 div.sk-label label {font-family: monospace;font-weight: bold;display: inline-block;line-height: 1.2em;}#sk-container-id-3 div.sk-label-container {text-align: center;}#sk-container-id-3 div.sk-container {/* jupyter's `normalize.less` sets `[hidden] { display: none; }` but bootstrap.min.css set `[hidden] { display: none !important; }` so we also need the `!important` here to be able to override the default hidden behavior on the sphinx rendered scikit-learn.org. See: https://github.com/scikit-learn/scikit-learn/issues/21755 */display: inline-block !important;position: relative;}#sk-container-id-3 div.sk-text-repr-fallback {display: none;}</style><div id=\"sk-container-id-3\" class=\"sk-top-container\"><div class=\"sk-text-repr-fallback\"><pre>SimpleImputer(strategy=&#x27;median&#x27;)</pre><b>In a Jupyter environment, please rerun this cell to show the HTML representation or trust the notebook. <br />On GitHub, the HTML representation is unable to render, please try loading this page with nbviewer.org.</b></div><div class=\"sk-container\" hidden><div class=\"sk-item\"><div class=\"sk-estimator sk-toggleable\"><input class=\"sk-toggleable__control sk-hidden--visually\" id=\"sk-estimator-id-3\" type=\"checkbox\" checked><label for=\"sk-estimator-id-3\" class=\"sk-toggleable__label sk-toggleable__label-arrow\">SimpleImputer</label><div class=\"sk-toggleable__content\"><pre>SimpleImputer(strategy=&#x27;median&#x27;)</pre></div></div></div></div></div>"
      ],
      "text/plain": [
       "SimpleImputer(strategy='median')"
      ]
     },
     "execution_count": 51,
     "metadata": {},
     "output_type": "execute_result"
    }
   ],
   "source": [
    "# Reemplazamos los missing por la mediana\n",
    "im.fit(train[best])"
   ]
  },
  {
   "cell_type": "code",
   "execution_count": 52,
   "metadata": {},
   "outputs": [],
   "source": [
    "vart = ['y']"
   ]
  },
  {
   "cell_type": "code",
   "execution_count": 53,
   "metadata": {},
   "outputs": [],
   "source": [
    "aux = Xi[um+best].merge(train[um+vart],on=um,how='inner')\n",
    "Xt,yt = aux[um+best].copy(),aux[um+vart].copy()"
   ]
  },
  {
   "attachments": {},
   "cell_type": "markdown",
   "metadata": {},
   "source": [
    "### Aprendizaje"
   ]
  },
  {
   "attachments": {},
   "cell_type": "markdown",
   "metadata": {},
   "source": [
    "* Con el objeto Ridge() se puede crear un modelo de regresión lineal con regularización L2."
   ]
  },
  {
   "cell_type": "code",
   "execution_count": 54,
   "metadata": {},
   "outputs": [
    {
     "data": {
      "text/html": [
       "<style>#sk-container-id-4 {color: black;background-color: white;}#sk-container-id-4 pre{padding: 0;}#sk-container-id-4 div.sk-toggleable {background-color: white;}#sk-container-id-4 label.sk-toggleable__label {cursor: pointer;display: block;width: 100%;margin-bottom: 0;padding: 0.3em;box-sizing: border-box;text-align: center;}#sk-container-id-4 label.sk-toggleable__label-arrow:before {content: \"▸\";float: left;margin-right: 0.25em;color: #696969;}#sk-container-id-4 label.sk-toggleable__label-arrow:hover:before {color: black;}#sk-container-id-4 div.sk-estimator:hover label.sk-toggleable__label-arrow:before {color: black;}#sk-container-id-4 div.sk-toggleable__content {max-height: 0;max-width: 0;overflow: hidden;text-align: left;background-color: #f0f8ff;}#sk-container-id-4 div.sk-toggleable__content pre {margin: 0.2em;color: black;border-radius: 0.25em;background-color: #f0f8ff;}#sk-container-id-4 input.sk-toggleable__control:checked~div.sk-toggleable__content {max-height: 200px;max-width: 100%;overflow: auto;}#sk-container-id-4 input.sk-toggleable__control:checked~label.sk-toggleable__label-arrow:before {content: \"▾\";}#sk-container-id-4 div.sk-estimator input.sk-toggleable__control:checked~label.sk-toggleable__label {background-color: #d4ebff;}#sk-container-id-4 div.sk-label input.sk-toggleable__control:checked~label.sk-toggleable__label {background-color: #d4ebff;}#sk-container-id-4 input.sk-hidden--visually {border: 0;clip: rect(1px 1px 1px 1px);clip: rect(1px, 1px, 1px, 1px);height: 1px;margin: -1px;overflow: hidden;padding: 0;position: absolute;width: 1px;}#sk-container-id-4 div.sk-estimator {font-family: monospace;background-color: #f0f8ff;border: 1px dotted black;border-radius: 0.25em;box-sizing: border-box;margin-bottom: 0.5em;}#sk-container-id-4 div.sk-estimator:hover {background-color: #d4ebff;}#sk-container-id-4 div.sk-parallel-item::after {content: \"\";width: 100%;border-bottom: 1px solid gray;flex-grow: 1;}#sk-container-id-4 div.sk-label:hover label.sk-toggleable__label {background-color: #d4ebff;}#sk-container-id-4 div.sk-serial::before {content: \"\";position: absolute;border-left: 1px solid gray;box-sizing: border-box;top: 0;bottom: 0;left: 50%;z-index: 0;}#sk-container-id-4 div.sk-serial {display: flex;flex-direction: column;align-items: center;background-color: white;padding-right: 0.2em;padding-left: 0.2em;position: relative;}#sk-container-id-4 div.sk-item {position: relative;z-index: 1;}#sk-container-id-4 div.sk-parallel {display: flex;align-items: stretch;justify-content: center;background-color: white;position: relative;}#sk-container-id-4 div.sk-item::before, #sk-container-id-4 div.sk-parallel-item::before {content: \"\";position: absolute;border-left: 1px solid gray;box-sizing: border-box;top: 0;bottom: 0;left: 50%;z-index: -1;}#sk-container-id-4 div.sk-parallel-item {display: flex;flex-direction: column;z-index: 1;position: relative;background-color: white;}#sk-container-id-4 div.sk-parallel-item:first-child::after {align-self: flex-end;width: 50%;}#sk-container-id-4 div.sk-parallel-item:last-child::after {align-self: flex-start;width: 50%;}#sk-container-id-4 div.sk-parallel-item:only-child::after {width: 0;}#sk-container-id-4 div.sk-dashed-wrapped {border: 1px dashed gray;margin: 0 0.4em 0.5em 0.4em;box-sizing: border-box;padding-bottom: 0.4em;background-color: white;}#sk-container-id-4 div.sk-label label {font-family: monospace;font-weight: bold;display: inline-block;line-height: 1.2em;}#sk-container-id-4 div.sk-label-container {text-align: center;}#sk-container-id-4 div.sk-container {/* jupyter's `normalize.less` sets `[hidden] { display: none; }` but bootstrap.min.css set `[hidden] { display: none !important; }` so we also need the `!important` here to be able to override the default hidden behavior on the sphinx rendered scikit-learn.org. See: https://github.com/scikit-learn/scikit-learn/issues/21755 */display: inline-block !important;position: relative;}#sk-container-id-4 div.sk-text-repr-fallback {display: none;}</style><div id=\"sk-container-id-4\" class=\"sk-top-container\"><div class=\"sk-text-repr-fallback\"><pre>Ridge()</pre><b>In a Jupyter environment, please rerun this cell to show the HTML representation or trust the notebook. <br />On GitHub, the HTML representation is unable to render, please try loading this page with nbviewer.org.</b></div><div class=\"sk-container\" hidden><div class=\"sk-item\"><div class=\"sk-estimator sk-toggleable\"><input class=\"sk-toggleable__control sk-hidden--visually\" id=\"sk-estimator-id-4\" type=\"checkbox\" checked><label for=\"sk-estimator-id-4\" class=\"sk-toggleable__label sk-toggleable__label-arrow\">Ridge</label><div class=\"sk-toggleable__content\"><pre>Ridge()</pre></div></div></div></div></div>"
      ],
      "text/plain": [
       "Ridge()"
      ]
     },
     "execution_count": 54,
     "metadata": {},
     "output_type": "execute_result"
    }
   ],
   "source": [
    "reg = Ridge()\n",
    "# Entrenamos\n",
    "reg.fit(Xt[best],yt[vart[0]])"
   ]
  },
  {
   "cell_type": "code",
   "execution_count": 55,
   "metadata": {},
   "outputs": [
    {
     "data": {
      "text/plain": [
       "(array([ 1.00800963, -0.60446523]), 0.024271836515829648)"
      ]
     },
     "execution_count": 55,
     "metadata": {},
     "output_type": "execute_result"
    }
   ],
   "source": [
    "# Obtenemos los coeficientes y el intercepto\n",
    "reg.coef_, reg.intercept_"
   ]
  },
  {
   "attachments": {},
   "cell_type": "markdown",
   "metadata": {},
   "source": [
    "### Generalización"
   ]
  },
  {
   "attachments": {},
   "cell_type": "markdown",
   "metadata": {},
   "source": [
    "** Hacemos la evaluación del modelo con diferentes metrícas.**"
   ]
  },
  {
   "cell_type": "code",
   "execution_count": 56,
   "metadata": {},
   "outputs": [
    {
     "name": "stdout",
     "output_type": "stream",
     "text": [
      "{'train': 0.05705394146702389}\n",
      "{'valid': 0.05490497736918314}\n",
      "{'test': 0.059606094837509366}\n"
     ]
    }
   ],
   "source": [
    "pipe = make_pipeline(im,reg)\n",
    "print({'train':mean_absolute_percentage_error(y_pred=pipe.predict(Xt[best]),y_true=yt[vart[0]])})\n",
    "print({'valid':mean_absolute_percentage_error(y_pred=pipe.predict(valid[best]),y_true=valid[vart[0]])})\n",
    "print({'test':mean_absolute_percentage_error(y_pred=pipe.predict(ot[best]),y_true=ot[vart[0]])})"
   ]
  },
  {
   "cell_type": "code",
   "execution_count": 57,
   "metadata": {},
   "outputs": [
    {
     "name": "stdout",
     "output_type": "stream",
     "text": [
      "{'train': 0.585887805615798}\n",
      "{'valid': 0.7141896773474656}\n",
      "{'test': 0.8405422474647595}\n"
     ]
    }
   ],
   "source": [
    "print({'train':mean_absolute_error(y_pred=pipe.predict(Xt[best]),y_true=yt[vart[0]])})\n",
    "print({'valid':mean_absolute_error(y_pred=pipe.predict(valid[best]),y_true=valid[vart[0]])})\n",
    "print({'test':mean_absolute_error(y_pred=pipe.predict(ot[best]),y_true=ot[vart[0]])})"
   ]
  },
  {
   "cell_type": "code",
   "execution_count": 58,
   "metadata": {},
   "outputs": [
    {
     "name": "stdout",
     "output_type": "stream",
     "text": [
      "{'train': 1.8404197535979938}\n",
      "{'valid': 4.3313889698455394}\n",
      "{'test': 4.4545463979514945}\n"
     ]
    }
   ],
   "source": [
    "print({'train':mean_squared_error(y_pred=pipe.predict(Xt[best]),y_true=yt[vart[0]])})\n",
    "print({'valid':mean_squared_error(y_pred=pipe.predict(valid[best]),y_true=valid[vart[0]])})\n",
    "print({'test':mean_squared_error(y_pred=pipe.predict(ot[best]),y_true=ot[vart[0]])})"
   ]
  },
  {
   "cell_type": "code",
   "execution_count": 59,
   "metadata": {},
   "outputs": [
    {
     "name": "stdout",
     "output_type": "stream",
     "text": [
      "{'train': 1.8404197535979938}\n",
      "{'valid': 4.3313889698455394}\n",
      "{'test': 4.4545463979514945}\n"
     ]
    }
   ],
   "source": [
    "print({'train':mean_squared_error(y_pred=pipe.predict(Xt[best]),y_true=yt[vart[0]])})\n",
    "print({'valid':mean_squared_error(y_pred=pipe.predict(valid[best]),y_true=valid[vart[0]])})\n",
    "print({'test':mean_squared_error(y_pred=pipe.predict(ot[best]),y_true=ot[vart[0]])})"
   ]
  },
  {
   "cell_type": "code",
   "execution_count": 60,
   "metadata": {},
   "outputs": [
    {
     "name": "stdout",
     "output_type": "stream",
     "text": [
      "{'train': 0.9990764109933256}\n",
      "{'valid': 0.998448438303395}\n",
      "{'test': 0.9982519471355304}\n"
     ]
    }
   ],
   "source": [
    "print({'train':r2_score(y_pred=pipe.predict(Xt[best]),y_true=yt[vart[0]])})\n",
    "print({'valid':r2_score(y_pred=pipe.predict(valid[best]),y_true=valid[vart[0]])})\n",
    "print({'test':r2_score(y_pred=pipe.predict(ot[best]),y_true=ot[vart[0]])})"
   ]
  },
  {
   "cell_type": "code",
   "execution_count": 63,
   "metadata": {},
   "outputs": [],
   "source": [
    "valid['y^'] = pipe.predict(valid[best])\n",
    "ot['y^'] = pipe.predict(ot[best])"
   ]
  },
  {
   "cell_type": "code",
   "execution_count": 65,
   "metadata": {},
   "outputs": [
    {
     "data": {
      "text/html": [
       "<div>\n",
       "<style scoped>\n",
       "    .dataframe tbody tr th:only-of-type {\n",
       "        vertical-align: middle;\n",
       "    }\n",
       "\n",
       "    .dataframe tbody tr th {\n",
       "        vertical-align: top;\n",
       "    }\n",
       "\n",
       "    .dataframe thead th {\n",
       "        text-align: right;\n",
       "    }\n",
       "</style>\n",
       "<table border=\"1\" class=\"dataframe\">\n",
       "  <thead>\n",
       "    <tr style=\"text-align: right;\">\n",
       "      <th></th>\n",
       "      <th>accion</th>\n",
       "      <th>ancla</th>\n",
       "      <th>x_mean_open_3</th>\n",
       "      <th>x_mediana_open_3</th>\n",
       "      <th>x_std_open_3</th>\n",
       "      <th>x_min_open_3</th>\n",
       "      <th>x_max_open_3</th>\n",
       "      <th>x_mean_close_3</th>\n",
       "      <th>x_mediana_close_3</th>\n",
       "      <th>x_std_close_3</th>\n",
       "      <th>...</th>\n",
       "      <th>x_std_high_15</th>\n",
       "      <th>x_min_high_15</th>\n",
       "      <th>x_max_high_15</th>\n",
       "      <th>x_mean_low_15</th>\n",
       "      <th>x_mediana_low_15</th>\n",
       "      <th>x_std_low_15</th>\n",
       "      <th>x_min_low_15</th>\n",
       "      <th>x_max_low_15</th>\n",
       "      <th>y</th>\n",
       "      <th>y^</th>\n",
       "    </tr>\n",
       "  </thead>\n",
       "  <tbody>\n",
       "    <tr>\n",
       "      <th>0</th>\n",
       "      <td>AGRO</td>\n",
       "      <td>217</td>\n",
       "      <td>3.863333</td>\n",
       "      <td>3.910000</td>\n",
       "      <td>0.080829</td>\n",
       "      <td>3.770000</td>\n",
       "      <td>3.910000</td>\n",
       "      <td>3.843333</td>\n",
       "      <td>3.870000</td>\n",
       "      <td>0.064291</td>\n",
       "      <td>...</td>\n",
       "      <td>0.096575</td>\n",
       "      <td>3.910000</td>\n",
       "      <td>4.180000</td>\n",
       "      <td>3.839333</td>\n",
       "      <td>3.810000</td>\n",
       "      <td>0.135460</td>\n",
       "      <td>3.630000</td>\n",
       "      <td>4.060000</td>\n",
       "      <td>3.820000</td>\n",
       "      <td>3.880461</td>\n",
       "    </tr>\n",
       "    <tr>\n",
       "      <th>1</th>\n",
       "      <td>AQB</td>\n",
       "      <td>217</td>\n",
       "      <td>2.073333</td>\n",
       "      <td>2.070000</td>\n",
       "      <td>0.115036</td>\n",
       "      <td>1.960000</td>\n",
       "      <td>2.190000</td>\n",
       "      <td>2.146667</td>\n",
       "      <td>2.150000</td>\n",
       "      <td>0.115036</td>\n",
       "      <td>...</td>\n",
       "      <td>0.224462</td>\n",
       "      <td>1.720000</td>\n",
       "      <td>2.390000</td>\n",
       "      <td>1.760400</td>\n",
       "      <td>1.710000</td>\n",
       "      <td>0.140111</td>\n",
       "      <td>1.616000</td>\n",
       "      <td>2.070000</td>\n",
       "      <td>2.310000</td>\n",
       "      <td>1.843729</td>\n",
       "    </tr>\n",
       "    <tr>\n",
       "      <th>2</th>\n",
       "      <td>CSA</td>\n",
       "      <td>217</td>\n",
       "      <td>36.248667</td>\n",
       "      <td>36.404999</td>\n",
       "      <td>0.571760</td>\n",
       "      <td>35.615002</td>\n",
       "      <td>36.726002</td>\n",
       "      <td>36.323667</td>\n",
       "      <td>36.519001</td>\n",
       "      <td>0.844126</td>\n",
       "      <td>...</td>\n",
       "      <td>1.575483</td>\n",
       "      <td>33.109001</td>\n",
       "      <td>38.660000</td>\n",
       "      <td>35.341600</td>\n",
       "      <td>35.398998</td>\n",
       "      <td>1.511050</td>\n",
       "      <td>32.889999</td>\n",
       "      <td>37.764000</td>\n",
       "      <td>35.500000</td>\n",
       "      <td>35.927972</td>\n",
       "    </tr>\n",
       "    <tr>\n",
       "      <th>3</th>\n",
       "      <td>DD</td>\n",
       "      <td>217</td>\n",
       "      <td>45.276667</td>\n",
       "      <td>45.290001</td>\n",
       "      <td>0.810084</td>\n",
       "      <td>44.459999</td>\n",
       "      <td>46.080002</td>\n",
       "      <td>45.963333</td>\n",
       "      <td>46.200001</td>\n",
       "      <td>1.104190</td>\n",
       "      <td>...</td>\n",
       "      <td>2.869262</td>\n",
       "      <td>39.439999</td>\n",
       "      <td>49.130001</td>\n",
       "      <td>43.392000</td>\n",
       "      <td>44.360001</td>\n",
       "      <td>2.686815</td>\n",
       "      <td>38.279999</td>\n",
       "      <td>47.560001</td>\n",
       "      <td>45.680000</td>\n",
       "      <td>45.279476</td>\n",
       "    </tr>\n",
       "    <tr>\n",
       "      <th>4</th>\n",
       "      <td>DWMF</td>\n",
       "      <td>217</td>\n",
       "      <td>22.086667</td>\n",
       "      <td>22.139999</td>\n",
       "      <td>0.119303</td>\n",
       "      <td>21.950001</td>\n",
       "      <td>22.170000</td>\n",
       "      <td>22.139999</td>\n",
       "      <td>22.219999</td>\n",
       "      <td>0.211660</td>\n",
       "      <td>...</td>\n",
       "      <td>0.294832</td>\n",
       "      <td>21.490000</td>\n",
       "      <td>22.510000</td>\n",
       "      <td>21.798000</td>\n",
       "      <td>21.770000</td>\n",
       "      <td>0.310948</td>\n",
       "      <td>21.240000</td>\n",
       "      <td>22.410000</td>\n",
       "      <td>22.110001</td>\n",
       "      <td>21.972868</td>\n",
       "    </tr>\n",
       "  </tbody>\n",
       "</table>\n",
       "<p>5 rows × 104 columns</p>\n",
       "</div>"
      ],
      "text/plain": [
       "  accion  ancla  x_mean_open_3  x_mediana_open_3  x_std_open_3  x_min_open_3  \\\n",
       "0   AGRO    217       3.863333          3.910000      0.080829      3.770000   \n",
       "1    AQB    217       2.073333          2.070000      0.115036      1.960000   \n",
       "2    CSA    217      36.248667         36.404999      0.571760     35.615002   \n",
       "3     DD    217      45.276667         45.290001      0.810084     44.459999   \n",
       "4   DWMF    217      22.086667         22.139999      0.119303     21.950001   \n",
       "\n",
       "   x_max_open_3  x_mean_close_3  x_mediana_close_3  x_std_close_3  ...  \\\n",
       "0      3.910000        3.843333           3.870000       0.064291  ...   \n",
       "1      2.190000        2.146667           2.150000       0.115036  ...   \n",
       "2     36.726002       36.323667          36.519001       0.844126  ...   \n",
       "3     46.080002       45.963333          46.200001       1.104190  ...   \n",
       "4     22.170000       22.139999          22.219999       0.211660  ...   \n",
       "\n",
       "   x_std_high_15  x_min_high_15  x_max_high_15  x_mean_low_15  \\\n",
       "0       0.096575       3.910000       4.180000       3.839333   \n",
       "1       0.224462       1.720000       2.390000       1.760400   \n",
       "2       1.575483      33.109001      38.660000      35.341600   \n",
       "3       2.869262      39.439999      49.130001      43.392000   \n",
       "4       0.294832      21.490000      22.510000      21.798000   \n",
       "\n",
       "   x_mediana_low_15  x_std_low_15  x_min_low_15  x_max_low_15          y  \\\n",
       "0          3.810000      0.135460      3.630000      4.060000   3.820000   \n",
       "1          1.710000      0.140111      1.616000      2.070000   2.310000   \n",
       "2         35.398998      1.511050     32.889999     37.764000  35.500000   \n",
       "3         44.360001      2.686815     38.279999     47.560001  45.680000   \n",
       "4         21.770000      0.310948     21.240000     22.410000  22.110001   \n",
       "\n",
       "          y^  \n",
       "0   3.880461  \n",
       "1   1.843729  \n",
       "2  35.927972  \n",
       "3  45.279476  \n",
       "4  21.972868  \n",
       "\n",
       "[5 rows x 104 columns]"
      ]
     },
     "execution_count": 65,
     "metadata": {},
     "output_type": "execute_result"
    }
   ],
   "source": [
    "ot.head()"
   ]
  },
  {
   "cell_type": "code",
   "execution_count": 66,
   "metadata": {},
   "outputs": [
    {
     "data": {
      "text/plain": [
       "<seaborn.axisgrid.FacetGrid at 0x7fd690553370>"
      ]
     },
     "execution_count": 66,
     "metadata": {},
     "output_type": "execute_result"
    },
    {
     "data": {
      "image/png": "[encoded data removed]",
      "text/plain": [
       "<Figure size 569.875x500 with 1 Axes>"
      ]
     },
     "metadata": {},
     "output_type": "display_data"
    },
    {
     "data": {
      "image/png": "[encoded data removed]",
      "text/plain": [
       "<Figure size 569.875x500 with 1 Axes>"
      ]
     },
     "metadata": {},
     "output_type": "display_data"
    }
   ],
   "source": [
    "sns.displot(valid[vart+['y^']],kind='kde')\n",
    "sns.displot(ot[vart+['y^']],kind='kde')"
   ]
  },
  {
   "cell_type": "code",
   "execution_count": 67,
   "metadata": {},
   "outputs": [
    {
     "data": {
      "text/html": [
       "<div>\n",
       "<style scoped>\n",
       "    .dataframe tbody tr th:only-of-type {\n",
       "        vertical-align: middle;\n",
       "    }\n",
       "\n",
       "    .dataframe tbody tr th {\n",
       "        vertical-align: top;\n",
       "    }\n",
       "\n",
       "    .dataframe thead th {\n",
       "        text-align: right;\n",
       "    }\n",
       "</style>\n",
       "<table border=\"1\" class=\"dataframe\">\n",
       "  <thead>\n",
       "    <tr style=\"text-align: right;\">\n",
       "      <th></th>\n",
       "      <th>y^</th>\n",
       "      <th>y</th>\n",
       "    </tr>\n",
       "  </thead>\n",
       "  <tbody>\n",
       "    <tr>\n",
       "      <th>583</th>\n",
       "      <td>2.640232</td>\n",
       "      <td>2.56</td>\n",
       "    </tr>\n",
       "    <tr>\n",
       "      <th>572</th>\n",
       "      <td>11.978121</td>\n",
       "      <td>12.38</td>\n",
       "    </tr>\n",
       "    <tr>\n",
       "      <th>129</th>\n",
       "      <td>14.228157</td>\n",
       "      <td>15.51</td>\n",
       "    </tr>\n",
       "    <tr>\n",
       "      <th>526</th>\n",
       "      <td>3.487253</td>\n",
       "      <td>3.42</td>\n",
       "    </tr>\n",
       "    <tr>\n",
       "      <th>570</th>\n",
       "      <td>0.957905</td>\n",
       "      <td>1.12</td>\n",
       "    </tr>\n",
       "  </tbody>\n",
       "</table>\n",
       "</div>"
      ],
      "text/plain": [
       "            y^      y\n",
       "583   2.640232   2.56\n",
       "572  11.978121  12.38\n",
       "129  14.228157  15.51\n",
       "526   3.487253   3.42\n",
       "570   0.957905   1.12"
      ]
     },
     "execution_count": 67,
     "metadata": {},
     "output_type": "execute_result"
    }
   ],
   "source": [
    "ot.sample(5)[['y^']+vart]"
   ]
  },
  {
   "cell_type": "code",
   "execution_count": 68,
   "metadata": {},
   "outputs": [
    {
     "data": {
      "text/plain": [
       "['x_mean_close_9', 'x_std_close_9']"
      ]
     },
     "execution_count": 68,
     "metadata": {},
     "output_type": "execute_result"
    }
   ],
   "source": [
    "best"
   ]
  },
  {
   "cell_type": "code",
   "execution_count": null,
   "metadata": {},
   "outputs": [],
   "source": []
  }
 ],
 "metadata": {
  "kernelspec": {
   "display_name": "EV",
   "language": "python",
   "name": "python3"
  },
  "language_info": {
   "codemirror_mode": {
    "name": "ipython",
    "version": 3
   },
   "file_extension": ".py",
   "mimetype": "text/x-python",
   "name": "python",
   "nbconvert_exporter": "python",
   "pygments_lexer": "ipython3",
   "version": "3.10.6"
  },
  "orig_nbformat": 4,
  "vscode": {
   "interpreter": {
    "hash": "c18e5fd3a2916593f836860943686e25438dace0ffe6c0cdab612b51948df464"
   }
  }
 },
 "nbformat": 4,
 "nbformat_minor": 2
}
