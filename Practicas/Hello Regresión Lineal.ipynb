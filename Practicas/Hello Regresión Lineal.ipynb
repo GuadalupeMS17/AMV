{
 "cells": [
  {
   "attachments": {},
   "cell_type": "markdown",
   "metadata": {},
   "source": [
    "### Dependencias"
   ]
  },
  {
   "cell_type": "code",
   "execution_count": 2,
   "metadata": {},
   "outputs": [
    {
     "data": {
      "text/html": [
       "        <script type=\"text/javascript\">\n",
       "        window.PlotlyConfig = {MathJaxConfig: 'local'};\n",
       "        if (window.MathJax && window.MathJax.Hub && window.MathJax.Hub.Config) {window.MathJax.Hub.Config({SVG: {font: \"STIX-Web\"}});}\n",
       "        if (typeof require !== 'undefined') {\n",
       "        require.undef(\"plotly\");\n",
       "        requirejs.config({\n",
       "            paths: {\n",
       "                'plotly': ['https://cdn.plot.ly/plotly-2.18.2.min']\n",
       "            }\n",
       "        });\n",
       "        require(['plotly'], function(Plotly) {\n",
       "            window._Plotly = Plotly;\n",
       "        });\n",
       "        }\n",
       "        </script>\n",
       "        "
      ]
     },
     "metadata": {},
     "output_type": "display_data"
    }
   ],
   "source": [
    "import numpy as np\n",
    "import pandas as pd \n",
    "\n",
    "from sklearn.linear_model import LinearRegression, Ridge\n",
    "from sklearn.model_selection import train_test_split\n",
    "from sklearn.model_selection import GridSearchCV\n",
    "from sklearn.metrics import mean_squared_error, mean_absolute_error, mean_absolute_percentage_error\n",
    "\n",
    "import matplotlib.pyplot as plt\n",
    "import seaborn as sns \n",
    "import cufflinks as cf\n",
    "\n",
    "cf.go_offline()\n"
   ]
  },
  {
   "attachments": {},
   "cell_type": "markdown",
   "metadata": {},
   "source": [
    "### Datos Sintéticos"
   ]
  },
  {
   "cell_type": "code",
   "execution_count": 3,
   "metadata": {},
   "outputs": [],
   "source": [
    "# inputs = media, desviación estándar y tamaño de la muestra.\n",
    "x1 = np.random.normal(0,1,1000)\n",
    "x2 = np.random.normal(6,10,1000)\n",
    "x3 = np.random.normal(-3,100,1000)"
   ]
  },
  {
   "cell_type": "code",
   "execution_count": 4,
   "metadata": {},
   "outputs": [],
   "source": [
    "y = 2*x1 + 3*x2 + 4*x3 + 5 + np.random.normal(0,1,1000)"
   ]
  },
  {
   "cell_type": "code",
   "execution_count": 6,
   "metadata": {},
   "outputs": [
    {
     "data": {
      "text/html": [
       "<div>\n",
       "<style scoped>\n",
       "    .dataframe tbody tr th:only-of-type {\n",
       "        vertical-align: middle;\n",
       "    }\n",
       "\n",
       "    .dataframe tbody tr th {\n",
       "        vertical-align: top;\n",
       "    }\n",
       "\n",
       "    .dataframe thead th {\n",
       "        text-align: right;\n",
       "    }\n",
       "</style>\n",
       "<table border=\"1\" class=\"dataframe\">\n",
       "  <thead>\n",
       "    <tr style=\"text-align: right;\">\n",
       "      <th></th>\n",
       "      <th>x1</th>\n",
       "      <th>x2</th>\n",
       "      <th>x3</th>\n",
       "      <th>y</th>\n",
       "    </tr>\n",
       "  </thead>\n",
       "  <tbody>\n",
       "    <tr>\n",
       "      <th>0</th>\n",
       "      <td>0.731755</td>\n",
       "      <td>15.605941</td>\n",
       "      <td>-183.427132</td>\n",
       "      <td>-679.838726</td>\n",
       "    </tr>\n",
       "    <tr>\n",
       "      <th>1</th>\n",
       "      <td>-0.696400</td>\n",
       "      <td>1.129652</td>\n",
       "      <td>105.100110</td>\n",
       "      <td>427.976018</td>\n",
       "    </tr>\n",
       "    <tr>\n",
       "      <th>2</th>\n",
       "      <td>-0.004967</td>\n",
       "      <td>17.191880</td>\n",
       "      <td>42.154637</td>\n",
       "      <td>225.184192</td>\n",
       "    </tr>\n",
       "    <tr>\n",
       "      <th>3</th>\n",
       "      <td>0.019723</td>\n",
       "      <td>18.054653</td>\n",
       "      <td>-87.953734</td>\n",
       "      <td>-293.114558</td>\n",
       "    </tr>\n",
       "    <tr>\n",
       "      <th>4</th>\n",
       "      <td>-0.794356</td>\n",
       "      <td>6.978006</td>\n",
       "      <td>102.437962</td>\n",
       "      <td>432.803355</td>\n",
       "    </tr>\n",
       "  </tbody>\n",
       "</table>\n",
       "</div>"
      ],
      "text/plain": [
       "         x1         x2          x3           y\n",
       "0  0.731755  15.605941 -183.427132 -679.838726\n",
       "1 -0.696400   1.129652  105.100110  427.976018\n",
       "2 -0.004967  17.191880   42.154637  225.184192\n",
       "3  0.019723  18.054653  -87.953734 -293.114558\n",
       "4 -0.794356   6.978006  102.437962  432.803355"
      ]
     },
     "execution_count": 6,
     "metadata": {},
     "output_type": "execute_result"
    }
   ],
   "source": [
    "df = pd.DataFrame ({'x1': x1, 'x2': x2, 'x3': x3, 'y': y})\n",
    "df.head()"
   ]
  },
  {
   "attachments": {},
   "cell_type": "markdown",
   "metadata": {},
   "source": [
    "### Partición de Datos"
   ]
  },
  {
   "cell_type": "code",
   "execution_count": 9,
   "metadata": {},
   "outputs": [
    {
     "data": {
      "text/plain": [
       "((700, 4), (300, 4))"
      ]
     },
     "execution_count": 9,
     "metadata": {},
     "output_type": "execute_result"
    }
   ],
   "source": [
    "train, valid = train_test_split (df, test_size = 0.3)\n",
    "train.reset_index (drop = True, inplace = True)\n",
    "valid.reset_index(drop = True, inplace = True)\n",
    "train.shape, valid.shape"
   ]
  },
  {
   "attachments": {},
   "cell_type": "markdown",
   "metadata": {},
   "source": [
    "### Aprendizaje "
   ]
  },
  {
   "attachments": {},
   "cell_type": "markdown",
   "metadata": {},
   "source": [
    "#### Regresion Lineal "
   ]
  },
  {
   "attachments": {},
   "cell_type": "markdown",
   "metadata": {},
   "source": [
    "* Con fit_intercept = False, el modelo no tiene término independiente, y con fit_intercept = True, el modelo tiene término independiente. "
   ]
  },
  {
   "cell_type": "code",
   "execution_count": 10,
   "metadata": {},
   "outputs": [
    {
     "name": "stdout",
     "output_type": "stream",
     "text": [
      "Fitting 5 folds for each of 2 candidates, totalling 10 fits\n"
     ]
    },
    {
     "data": {
      "text/plain": [
       "{'train': 0.021762241769175735, 'valid': 0.012530845596981957}"
      ]
     },
     "execution_count": 10,
     "metadata": {},
     "output_type": "execute_result"
    }
   ],
   "source": [
    "# Creamos un objeto de la clase LinearRegression\n",
    "rl = LinearRegression()\n",
    "\n",
    "# Definimos los hiperparámetros\n",
    "hp = {'fit_intercept':[True,False]}\n",
    "\n",
    "# Creamos un objeto de la clase GridSearchCV (busqueda de hiperparámetros)\n",
    "gs = GridSearchCV(rl, # Modelo\n",
    "                  hp, # Hiperparámetros\n",
    "                  cv=5, # Número de folds para la validación cruzada\n",
    "                  scoring='neg_mean_squared_error', # Métrica de evaluación\n",
    "                  n_jobs=-1, # Número de procesadores a utilizar\n",
    "                  verbose=True) # Para ver el progreso\n",
    "\n",
    "# Entrenamos el modelo\n",
    "gs.fit(train[['x1','x2','x3']],train['y'])\n",
    "\n",
    "# Obtenemos los mejores hiperparámetros y el mejor score\n",
    "gs.best_params_,gs.best_score_\n",
    "\n",
    "# Elegimos el mejor estimador\n",
    "rl = gs.best_estimator_\n",
    "\n",
    "# Entrenamos el modelo con el mejor estimador\n",
    "rl.fit(train[['x1','x2','x3']],train['y'])\n",
    "\n",
    "# Evaluamos el modelo con los datos de entrenamiento\n",
    "{'train':mean_absolute_percentage_error(train['y'],rl.predict(train[['x1','x2','x3']])),\n",
    " # Evaluamos el modelo con los datos de validación\n",
    " 'valid':mean_absolute_percentage_error(valid['y'],rl.predict(valid[['x1','x2','x3']]))}"
   ]
  },
  {
   "cell_type": "code",
   "execution_count": 11,
   "metadata": {},
   "outputs": [
    {
     "data": {
      "text/plain": [
       "(array([1.9966293 , 2.99617517, 3.99949359]), 5.03096897404836)"
      ]
     },
     "execution_count": 11,
     "metadata": {},
     "output_type": "execute_result"
    }
   ],
   "source": [
    "# Vemos nuestos coeficientes (acompañan a las x's) y el intercepto\n",
    "rl.coef_, rl.intercept_ "
   ]
  },
  {
   "attachments": {},
   "cell_type": "markdown",
   "metadata": {},
   "source": [
    "* Con la función sns.kdeplot, se puede graficar la densidad de probabilidad de una variable aleatoria."
   ]
  },
  {
   "cell_type": "code",
   "execution_count": 15,
   "metadata": {},
   "outputs": [
    {
     "data": {
      "text/plain": [
       "<Axes: xlabel='y', ylabel='Density'>"
      ]
     },
     "execution_count": 15,
     "metadata": {},
     "output_type": "execute_result"
    },
    {
     "data": {
      "image/png": "[encoded data removed]",
      "text/plain": [
       "<Figure size 640x480 with 1 Axes>"
      ]
     },
     "metadata": {},
     "output_type": "display_data"
    }
   ],
   "source": [
    "# Densidad de probabiidad de Y de validación\n",
    "sns.kdeplot(valid['y'])\n",
    "\n",
    "# Densidad de probabiidad de las predicciones (buscamos predecrir y) con las X's de validación\n",
    "sns.kdeplot(rl.predict(valid[['x1', 'x2', 'x3']]))"
   ]
  },
  {
   "attachments": {},
   "cell_type": "markdown",
   "metadata": {},
   "source": [
    "### Regresión Ridge"
   ]
  },
  {
   "attachments": {},
   "cell_type": "markdown",
   "metadata": {},
   "source": [
    "** Hacemos exactamente lo mismo que con la regresión lineal, pero ahora con la regresión Ridge.**\n",
    "\n",
    "Con el objeto Ridge, se requiere especificar el parámetro alpha, que es el parámetro de regularización."
   ]
  },
  {
   "cell_type": "code",
   "execution_count": 16,
   "metadata": {},
   "outputs": [
    {
     "name": "stdout",
     "output_type": "stream",
     "text": [
      "Fitting 5 folds for each of 200 candidates, totalling 1000 fits\n"
     ]
    },
    {
     "data": {
      "text/plain": [
       "{'train': 0.021724620663515326, 'valid': 0.0125411055885279}"
      ]
     },
     "execution_count": 16,
     "metadata": {},
     "output_type": "execute_result"
    }
   ],
   "source": [
    "# Creamos un objeto de la clase Ridge\n",
    "rr = Ridge()\n",
    "\n",
    "# En este caso también ndicamos el parámetro de regularización.\n",
    "hp = {'alpha':np.logspace(-3,3,100),'fit_intercept':[True,False]}\n",
    "gs = GridSearchCV(rr,hp,cv=5,scoring='neg_mean_squared_error',n_jobs=-1,verbose=True)\n",
    "gs.fit(train[['x1','x2','x3']],train['y'])\n",
    "gs.best_params_,gs.best_score_\n",
    "rr = gs.best_estimator_\n",
    "rr.fit(train[['x1','x2','x3']],train['y'])\n",
    "{'train':mean_absolute_percentage_error(train['y'],rr.predict(train[['x1','x2','x3']])),\n",
    " 'valid':mean_absolute_percentage_error(valid['y'],rr.predict(valid[['x1','x2','x3']]))}"
   ]
  },
  {
   "cell_type": "code",
   "execution_count": 17,
   "metadata": {},
   "outputs": [
    {
     "data": {
      "text/plain": [
       "(array([1.98907711, 2.99600742, 3.99949343]), 5.032112034584539)"
      ]
     },
     "execution_count": 17,
     "metadata": {},
     "output_type": "execute_result"
    }
   ],
   "source": [
    "rr.coef_, rr.intercept_"
   ]
  },
  {
   "cell_type": "code",
   "execution_count": 18,
   "metadata": {},
   "outputs": [
    {
     "data": {
      "text/plain": [
       "<Axes: xlabel='y', ylabel='Density'>"
      ]
     },
     "execution_count": 18,
     "metadata": {},
     "output_type": "execute_result"
    },
    {
     "data": {
      "image/png": "[encoded data removed]",
      "text/plain": [
       "<Figure size 640x480 with 1 Axes>"
      ]
     },
     "metadata": {},
     "output_type": "display_data"
    }
   ],
   "source": [
    "sns.kdeplot(valid['y'])\n",
    "sns.kdeplot(rr.predict(valid[['x1', 'x2', 'x3']]))"
   ]
  },
  {
   "cell_type": "code",
   "execution_count": null,
   "metadata": {},
   "outputs": [],
   "source": []
  }
 ],
 "metadata": {
  "kernelspec": {
   "display_name": "EV",
   "language": "python",
   "name": "python3"
  },
  "language_info": {
   "codemirror_mode": {
    "name": "ipython",
    "version": 3
   },
   "file_extension": ".py",
   "mimetype": "text/x-python",
   "name": "python",
   "nbconvert_exporter": "python",
   "pygments_lexer": "ipython3",
   "version": "3.10.6"
  },
  "orig_nbformat": 4
 },
 "nbformat": 4,
 "nbformat_minor": 2
}
