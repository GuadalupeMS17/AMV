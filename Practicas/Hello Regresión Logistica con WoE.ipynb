{
 "cells": [
  {
   "attachments": {},
   "cell_type": "markdown",
   "metadata": {},
   "source": [
    "### Dependencias"
   ]
  },
  {
   "cell_type": "code",
   "execution_count": 96,
   "metadata": {},
   "outputs": [
    {
     "data": {
      "text/html": [
       "        <script type=\"text/javascript\">\n",
       "        window.PlotlyConfig = {MathJaxConfig: 'local'};\n",
       "        if (window.MathJax && window.MathJax.Hub && window.MathJax.Hub.Config) {window.MathJax.Hub.Config({SVG: {font: \"STIX-Web\"}});}\n",
       "        if (typeof require !== 'undefined') {\n",
       "        require.undef(\"plotly\");\n",
       "        requirejs.config({\n",
       "            paths: {\n",
       "                'plotly': ['https://cdn.plot.ly/plotly-2.18.2.min']\n",
       "            }\n",
       "        });\n",
       "        require(['plotly'], function(Plotly) {\n",
       "            window._Plotly = Plotly;\n",
       "        });\n",
       "        }\n",
       "        </script>\n",
       "        "
      ]
     },
     "metadata": {},
     "output_type": "display_data"
    }
   ],
   "source": [
    "import numpy as np\n",
    "import pandas as pd\n",
    "import matplotlib.pyplot as plt\n",
    "import seaborn as sns\n",
    "import cufflinks as cf\n",
    "from sklearn.linear_model import LogisticRegression\n",
    "from sklearn.model_selection import train_test_split\n",
    "from sklearn.metrics import confusion_matrix, accuracy_score, roc_auc_score\n",
    "from scipy import stats\n",
    "from sklearn.preprocessing import KBinsDiscretizer\n",
    "\n",
    "\n",
    "from auxiliares import freq, normalizar\n",
    "import warnings\n",
    "warnings.filterwarnings('ignore')\n",
    "cf.go_offline()\n",
    "pd.set_option('display.max_columns', None)\n",
    "pd.set_option('display.max_colwidth', None)"
   ]
  },
  {
   "attachments": {},
   "cell_type": "markdown",
   "metadata": {},
   "source": [
    "### Lectura de datos"
   ]
  },
  {
   "cell_type": "code",
   "execution_count": 97,
   "metadata": {},
   "outputs": [
    {
     "data": {
      "text/plain": [
       "(2098, 36)"
      ]
     },
     "execution_count": 97,
     "metadata": {},
     "output_type": "execute_result"
    }
   ],
   "source": [
    "df = pd.read_excel('../Datos/encuesta.xlsx')\n",
    "df.shape"
   ]
  },
  {
   "attachments": {},
   "cell_type": "markdown",
   "metadata": {},
   "source": [
    "### Universo de trabajo "
   ]
  },
  {
   "cell_type": "code",
   "execution_count": 98,
   "metadata": {},
   "outputs": [
    {
     "data": {
      "text/plain": [
       "(506, 37)"
      ]
     },
     "execution_count": 98,
     "metadata": {},
     "output_type": "execute_result"
    }
   ],
   "source": [
    "carreras = ['Actuaría', 'Matemáticas Aplicadas y Computación']\n",
    "\n",
    "df = df[df['¿A qué carrera ingresaste?'].isin(carreras)].reset_index(drop=True)\n",
    "\n",
    "# La target es Actuaría, y lo convertimos en 1 (True = 1)\n",
    "df['target'] = (df['¿A qué carrera ingresaste?']=='Actuaría').astype(int)\n",
    "df.shape"
   ]
  },
  {
   "attachments": {},
   "cell_type": "markdown",
   "metadata": {},
   "source": [
    "* La función freq() nos permite obtener la frecuencia de los valores de una variable. Se tiene que indicar entre parentésis (DataFrame, Variable). FA corresponde a la frecuencia absoluta y FR a la frecuencia relativa, mientras que FAA y FRA corresponden a la frecuencia absoluta acumulada y la frecuencia relativa acumulada respectivamente."
   ]
  },
  {
   "cell_type": "code",
   "execution_count": 99,
   "metadata": {},
   "outputs": [
    {
     "name": "stdout",
     "output_type": "stream",
     "text": [
      "****Tabla de frecuencias  target  ***\n",
      "\n",
      "\n",
      "    FA        FR  FAA       FRA\n",
      "0  283  0.559289  283  0.559289\n",
      "1  223  0.440711  506  1.000000\n",
      "\n",
      "\n",
      "\n",
      "\n"
     ]
    }
   ],
   "source": [
    "freq(df,'target')"
   ]
  },
  {
   "attachments": {},
   "cell_type": "markdown",
   "metadata": {},
   "source": [
    "### Caracterización de las variables"
   ]
  },
  {
   "cell_type": "code",
   "execution_count": 100,
   "metadata": {},
   "outputs": [],
   "source": [
    "# Hacemos un archivo con las columnas\n",
    "pd.Series(df.columns).to_clipboard(index=False)"
   ]
  },
  {
   "cell_type": "code",
   "execution_count": 101,
   "metadata": {},
   "outputs": [],
   "source": [
    "# Agregamos la columna para identificar a los alumnos  \n",
    "df['id_alumno'] = df.index+1"
   ]
  },
  {
   "cell_type": "code",
   "execution_count": 102,
   "metadata": {},
   "outputs": [],
   "source": [
    "# Lista de variables continuas\n",
    "varc = ['¿Cuántos años tienes? 🎂', '¿Qué tanto evitaste que tu carrera tuviera matemáticas?', '¿Qué promedio obtuviste en el bachillerato?', 'Si tuvieras que volver a clases presenciales ¿Cuánto tiempo tardarías en minutos en llegar a la FES Acatlán? ⏱', '¿Cuánto gastarías de pasaje / gasolina a la semana?', '¿A cuánto asciende el ingreso mensual neto de todas las personas que trabajan y viven contigo?', '¿Cuántas personas viven contigo?', '¿Cuántas computadoras hay en tu casa?', 'Hazle un test a tu Internet (ingresando a speedtest.net) y compártenos su velocidad']\n",
    "\n",
    "# Lista de variables discretas\n",
    "vard = ['Selecciona tu sexo 👤', '¿Cuál es tu situación sentimental? ❤️', '¿Trabajas? 💼', '¿Tienes hijos? 🍼', 'Esta carrera ¿Fue tu primera opción?', '¿La FES Acatlán fue tu primera opción para cursar esta carrera?', '¿De qué bachillerato provienes?', '¿Qué sistema operativo tiene la computadora que utilizas para estudiar en línea?']\n",
    "\n",
    "vart = ['target']\n",
    "\n",
    "um = ['id_alumno']"
   ]
  },
  {
   "cell_type": "code",
   "execution_count": 103,
   "metadata": {},
   "outputs": [],
   "source": [
    "# Creamos el dataframe con las variables que nos interesan (anteriormente clasificadas)\n",
    "df = df[um+vart+varc+vard]"
   ]
  },
  {
   "attachments": {},
   "cell_type": "markdown",
   "metadata": {},
   "source": [
    "### Análisis exploratorio de datos"
   ]
  },
  {
   "attachments": {},
   "cell_type": "markdown",
   "metadata": {},
   "source": [
    "#### Discreto"
   ]
  },
  {
   "attachments": {},
   "cell_type": "markdown",
   "metadata": {},
   "source": [
    "##### Ausentes"
   ]
  },
  {
   "cell_type": "code",
   "execution_count": 104,
   "metadata": {},
   "outputs": [],
   "source": [
    "# Reemplazamos los ausentes con un 'MISSING'\n",
    "for v in vard:\n",
    "    df[v] = df[v].fillna('MISSING').astype(str)"
   ]
  },
  {
   "attachments": {},
   "cell_type": "markdown",
   "metadata": {},
   "source": [
    "##### Normalización de variables discretas"
   ]
  },
  {
   "cell_type": "code",
   "execution_count": 105,
   "metadata": {},
   "outputs": [
    {
     "name": "stdout",
     "output_type": "stream",
     "text": [
      "****Tabla de frecuencias  Selecciona tu sexo 👤  ***\n",
      "\n",
      "\n",
      "         FA       FR  FAA      FRA\n",
      "Hombre  358  0.70751  358  0.70751\n",
      "Mujer   148  0.29249  506  1.00000\n",
      "\n",
      "\n",
      "\n",
      "\n",
      "****Tabla de frecuencias  ¿Cuál es tu situación sentimental? ❤️  ***\n",
      "\n",
      "\n",
      "               FA        FR  FAA       FRA\n",
      "Soltero       386  0.762846  386  0.762846\n",
      "Tengo pareja  120  0.237154  506  1.000000\n",
      "\n",
      "\n",
      "\n",
      "\n",
      "****Tabla de frecuencias  ¿Trabajas? 💼  ***\n",
      "\n",
      "\n",
      "     FA        FR  FAA       FRA\n",
      "No  368  0.727273  368  0.727273\n",
      "Si  138  0.272727  506  1.000000\n",
      "\n",
      "\n",
      "\n",
      "\n",
      "****Tabla de frecuencias  ¿Tienes hijos? 🍼  ***\n",
      "\n",
      "\n",
      "     FA        FR  FAA       FRA\n",
      "No  501  0.990119  501  0.990119\n",
      "Si    5  0.009881  506  1.000000\n",
      "\n",
      "\n",
      "\n",
      "\n",
      "****Tabla de frecuencias  Esta carrera ¿Fue tu primera opción?  ***\n",
      "\n",
      "\n",
      "     FA        FR  FAA       FRA\n",
      "No   94  0.185771   94  0.185771\n",
      "Si  412  0.814229  506  1.000000\n",
      "\n",
      "\n",
      "\n",
      "\n",
      "****Tabla de frecuencias  ¿La FES Acatlán fue tu primera opción para cursar esta carrera?  ***\n",
      "\n",
      "\n",
      "     FA        FR  FAA       FRA\n",
      "No   81  0.160079   81  0.160079\n",
      "Sí  425  0.839921  506  1.000000\n",
      "\n",
      "\n",
      "\n",
      "\n",
      "****Tabla de frecuencias  ¿De qué bachillerato provienes?  ***\n",
      "\n",
      "\n",
      "             FA        FR  FAA       FRA\n",
      "CCH         222  0.438735  222  0.438735\n",
      "Otro        176  0.347826  398  0.786561\n",
      "Prepa UNAM  108  0.213439  506  1.000000\n",
      "\n",
      "\n",
      "\n",
      "\n",
      "****Tabla de frecuencias  ¿Qué sistema operativo tiene la computadora que utilizas para estudiar en línea?  ***\n",
      "\n",
      "\n",
      "               FA        FR  FAA       FRA\n",
      "MAC OS X       22  0.043478   22  0.043478\n",
      "Unix / Linux    4  0.007905   26  0.051383\n",
      "Windows       480  0.948617  506  1.000000\n",
      "\n",
      "\n",
      "\n",
      "\n"
     ]
    }
   ],
   "source": [
    "freq(df,vard)"
   ]
  },
  {
   "attachments": {},
   "cell_type": "markdown",
   "metadata": {},
   "source": [
    "* Cuando normalizamos lo que estamos haciendo es que los valores que tienen pocas respuestas se van a 'otros'"
   ]
  },
  {
   "cell_type": "code",
   "execution_count": 106,
   "metadata": {},
   "outputs": [],
   "source": [
    "# Normalizamos las variables discretas y las guardamos en una lista\n",
    "mapa_norm = list (map(lambda v:normalizar(df,v),vard))"
   ]
  },
  {
   "cell_type": "code",
   "execution_count": 107,
   "metadata": {},
   "outputs": [
    {
     "data": {
      "text/plain": [
       "[('Selecciona tu sexo 👤', {'Hombre': 'Hombre', 'Mujer': 'Mujer'}),\n",
       " ('¿Cuál es tu situación sentimental? ❤️',\n",
       "  {'Soltero': 'Soltero', 'Tengo pareja': 'Tengo pareja'}),\n",
       " ('¿Trabajas? 💼', {'No': 'No', 'Si': 'Si'}),\n",
       " ('¿Tienes hijos? 🍼', {'No': 'No', 'Si': 'No'}),\n",
       " ('Esta carrera ¿Fue tu primera opción?', {'Si': 'Si', 'No': 'No'}),\n",
       " ('¿La FES Acatlán fue tu primera opción para cursar esta carrera?',\n",
       "  {'Sí': 'Sí', 'No': 'No'}),\n",
       " ('¿De qué bachillerato provienes?',\n",
       "  {'CCH': 'CCH', 'Otro': 'Otro', 'Prepa UNAM': 'Prepa UNAM'}),\n",
       " ('¿Qué sistema operativo tiene la computadora que utilizas para estudiar en línea?',\n",
       "  {'Windows': 'Windows', 'MAC OS X': 'Otros', 'Unix / Linux': 'Otros'})]"
      ]
     },
     "execution_count": 107,
     "metadata": {},
     "output_type": "execute_result"
    }
   ],
   "source": [
    "mapa_norm"
   ]
  },
  {
   "cell_type": "code",
   "execution_count": 108,
   "metadata": {},
   "outputs": [],
   "source": [
    "# Definimos las variables normalizadas en el DataFrame\n",
    "for v,mapa in mapa_norm:\n",
    "    df[f'n_{v}'] = df[v].replace(mapa)"
   ]
  },
  {
   "cell_type": "code",
   "execution_count": 109,
   "metadata": {},
   "outputs": [],
   "source": [
    "varn = [f'n_{v}' for v in vard]"
   ]
  },
  {
   "cell_type": "code",
   "execution_count": 110,
   "metadata": {},
   "outputs": [
    {
     "name": "stdout",
     "output_type": "stream",
     "text": [
      "****Tabla de frecuencias  n_Selecciona tu sexo 👤  ***\n",
      "\n",
      "\n",
      "         FA       FR  FAA      FRA\n",
      "Hombre  358  0.70751  358  0.70751\n",
      "Mujer   148  0.29249  506  1.00000\n",
      "\n",
      "\n",
      "\n",
      "\n",
      "****Tabla de frecuencias  n_¿Cuál es tu situación sentimental? ❤️  ***\n",
      "\n",
      "\n",
      "               FA        FR  FAA       FRA\n",
      "Soltero       386  0.762846  386  0.762846\n",
      "Tengo pareja  120  0.237154  506  1.000000\n",
      "\n",
      "\n",
      "\n",
      "\n",
      "****Tabla de frecuencias  n_¿Trabajas? 💼  ***\n",
      "\n",
      "\n",
      "     FA        FR  FAA       FRA\n",
      "No  368  0.727273  368  0.727273\n",
      "Si  138  0.272727  506  1.000000\n",
      "\n",
      "\n",
      "\n",
      "\n",
      "****Tabla de frecuencias  n_¿Tienes hijos? 🍼  ***\n",
      "\n",
      "\n",
      "     FA   FR  FAA  FRA\n",
      "No  506  1.0  506  1.0\n",
      "\n",
      "\n",
      "\n",
      "\n",
      "****Tabla de frecuencias  n_Esta carrera ¿Fue tu primera opción?  ***\n",
      "\n",
      "\n",
      "     FA        FR  FAA       FRA\n",
      "No   94  0.185771   94  0.185771\n",
      "Si  412  0.814229  506  1.000000\n",
      "\n",
      "\n",
      "\n",
      "\n",
      "****Tabla de frecuencias  n_¿La FES Acatlán fue tu primera opción para cursar esta carrera?  ***\n",
      "\n",
      "\n",
      "     FA        FR  FAA       FRA\n",
      "No   81  0.160079   81  0.160079\n",
      "Sí  425  0.839921  506  1.000000\n",
      "\n",
      "\n",
      "\n",
      "\n",
      "****Tabla de frecuencias  n_¿De qué bachillerato provienes?  ***\n",
      "\n",
      "\n",
      "             FA        FR  FAA       FRA\n",
      "CCH         222  0.438735  222  0.438735\n",
      "Otro        176  0.347826  398  0.786561\n",
      "Prepa UNAM  108  0.213439  506  1.000000\n",
      "\n",
      "\n",
      "\n",
      "\n",
      "****Tabla de frecuencias  n_¿Qué sistema operativo tiene la computadora que utilizas para estudiar en línea?  ***\n",
      "\n",
      "\n",
      "          FA        FR  FAA       FRA\n",
      "Otros     26  0.051383   26  0.051383\n",
      "Windows  480  0.948617  506  1.000000\n",
      "\n",
      "\n",
      "\n",
      "\n"
     ]
    }
   ],
   "source": [
    "freq(df,varn)"
   ]
  },
  {
   "attachments": {},
   "cell_type": "markdown",
   "metadata": {},
   "source": [
    "##### Unarias"
   ]
  },
  {
   "attachments": {},
   "cell_type": "markdown",
   "metadata": {},
   "source": [
    "* Con Series.nunique() contamos los valores unicos en la Series. "
   ]
  },
  {
   "cell_type": "code",
   "execution_count": 111,
   "metadata": {},
   "outputs": [],
   "source": [
    "unarias = [v for v in varn if df[v].nunique()==1]\n",
    "\n",
    "# Nos quedamos con las variables que no son unarias\n",
    "varn = [v for v in varn if v not in unarias]\n",
    "# ELiminamos las var unarias del DataFrame\n",
    "df.drop(unarias,axis=1,inplace=True)"
   ]
  },
  {
   "attachments": {},
   "cell_type": "markdown",
   "metadata": {},
   "source": [
    "#### Continuo "
   ]
  },
  {
   "attachments": {},
   "cell_type": "markdown",
   "metadata": {},
   "source": [
    "##### Discretización de variables continuas"
   ]
  },
  {
   "attachments": {},
   "cell_type": "markdown",
   "metadata": {},
   "source": [
    "* La función KBinsDiscretizer() es un método utilizado para codificar el resultado transformado. La opción 'ordinal' devuelve un valor entero. "
   ]
  },
  {
   "cell_type": "code",
   "execution_count": 112,
   "metadata": {},
   "outputs": [
    {
     "data": {
      "text/html": [
       "<style>#sk-container-id-5 {color: black;background-color: white;}#sk-container-id-5 pre{padding: 0;}#sk-container-id-5 div.sk-toggleable {background-color: white;}#sk-container-id-5 label.sk-toggleable__label {cursor: pointer;display: block;width: 100%;margin-bottom: 0;padding: 0.3em;box-sizing: border-box;text-align: center;}#sk-container-id-5 label.sk-toggleable__label-arrow:before {content: \"▸\";float: left;margin-right: 0.25em;color: #696969;}#sk-container-id-5 label.sk-toggleable__label-arrow:hover:before {color: black;}#sk-container-id-5 div.sk-estimator:hover label.sk-toggleable__label-arrow:before {color: black;}#sk-container-id-5 div.sk-toggleable__content {max-height: 0;max-width: 0;overflow: hidden;text-align: left;background-color: #f0f8ff;}#sk-container-id-5 div.sk-toggleable__content pre {margin: 0.2em;color: black;border-radius: 0.25em;background-color: #f0f8ff;}#sk-container-id-5 input.sk-toggleable__control:checked~div.sk-toggleable__content {max-height: 200px;max-width: 100%;overflow: auto;}#sk-container-id-5 input.sk-toggleable__control:checked~label.sk-toggleable__label-arrow:before {content: \"▾\";}#sk-container-id-5 div.sk-estimator input.sk-toggleable__control:checked~label.sk-toggleable__label {background-color: #d4ebff;}#sk-container-id-5 div.sk-label input.sk-toggleable__control:checked~label.sk-toggleable__label {background-color: #d4ebff;}#sk-container-id-5 input.sk-hidden--visually {border: 0;clip: rect(1px 1px 1px 1px);clip: rect(1px, 1px, 1px, 1px);height: 1px;margin: -1px;overflow: hidden;padding: 0;position: absolute;width: 1px;}#sk-container-id-5 div.sk-estimator {font-family: monospace;background-color: #f0f8ff;border: 1px dotted black;border-radius: 0.25em;box-sizing: border-box;margin-bottom: 0.5em;}#sk-container-id-5 div.sk-estimator:hover {background-color: #d4ebff;}#sk-container-id-5 div.sk-parallel-item::after {content: \"\";width: 100%;border-bottom: 1px solid gray;flex-grow: 1;}#sk-container-id-5 div.sk-label:hover label.sk-toggleable__label {background-color: #d4ebff;}#sk-container-id-5 div.sk-serial::before {content: \"\";position: absolute;border-left: 1px solid gray;box-sizing: border-box;top: 0;bottom: 0;left: 50%;z-index: 0;}#sk-container-id-5 div.sk-serial {display: flex;flex-direction: column;align-items: center;background-color: white;padding-right: 0.2em;padding-left: 0.2em;position: relative;}#sk-container-id-5 div.sk-item {position: relative;z-index: 1;}#sk-container-id-5 div.sk-parallel {display: flex;align-items: stretch;justify-content: center;background-color: white;position: relative;}#sk-container-id-5 div.sk-item::before, #sk-container-id-5 div.sk-parallel-item::before {content: \"\";position: absolute;border-left: 1px solid gray;box-sizing: border-box;top: 0;bottom: 0;left: 50%;z-index: -1;}#sk-container-id-5 div.sk-parallel-item {display: flex;flex-direction: column;z-index: 1;position: relative;background-color: white;}#sk-container-id-5 div.sk-parallel-item:first-child::after {align-self: flex-end;width: 50%;}#sk-container-id-5 div.sk-parallel-item:last-child::after {align-self: flex-start;width: 50%;}#sk-container-id-5 div.sk-parallel-item:only-child::after {width: 0;}#sk-container-id-5 div.sk-dashed-wrapped {border: 1px dashed gray;margin: 0 0.4em 0.5em 0.4em;box-sizing: border-box;padding-bottom: 0.4em;background-color: white;}#sk-container-id-5 div.sk-label label {font-family: monospace;font-weight: bold;display: inline-block;line-height: 1.2em;}#sk-container-id-5 div.sk-label-container {text-align: center;}#sk-container-id-5 div.sk-container {/* jupyter's `normalize.less` sets `[hidden] { display: none; }` but bootstrap.min.css set `[hidden] { display: none !important; }` so we also need the `!important` here to be able to override the default hidden behavior on the sphinx rendered scikit-learn.org. See: https://github.com/scikit-learn/scikit-learn/issues/21755 */display: inline-block !important;position: relative;}#sk-container-id-5 div.sk-text-repr-fallback {display: none;}</style><div id=\"sk-container-id-5\" class=\"sk-top-container\"><div class=\"sk-text-repr-fallback\"><pre>KBinsDiscretizer(encode=&#x27;ordinal&#x27;)</pre><b>In a Jupyter environment, please rerun this cell to show the HTML representation or trust the notebook. <br />On GitHub, the HTML representation is unable to render, please try loading this page with nbviewer.org.</b></div><div class=\"sk-container\" hidden><div class=\"sk-item\"><div class=\"sk-estimator sk-toggleable\"><input class=\"sk-toggleable__control sk-hidden--visually\" id=\"sk-estimator-id-5\" type=\"checkbox\" checked><label for=\"sk-estimator-id-5\" class=\"sk-toggleable__label sk-toggleable__label-arrow\">KBinsDiscretizer</label><div class=\"sk-toggleable__content\"><pre>KBinsDiscretizer(encode=&#x27;ordinal&#x27;)</pre></div></div></div></div></div>"
      ],
      "text/plain": [
       "KBinsDiscretizer(encode='ordinal')"
      ]
     },
     "execution_count": 112,
     "metadata": {},
     "output_type": "execute_result"
    }
   ],
   "source": [
    "# Creamos el objeto\n",
    "kb = KBinsDiscretizer(n_bins=5, encode='ordinal', strategy='quantile')\n",
    "# Entrenamos con las variables continuas.\n",
    "kb.fit(df[varc])"
   ]
  },
  {
   "cell_type": "code",
   "execution_count": 113,
   "metadata": {},
   "outputs": [],
   "source": [
    "# Creamos la lista de variables discretizadas\n",
    "vardisc = [f'disc_{v}' for v in varc]"
   ]
  },
  {
   "cell_type": "code",
   "execution_count": 114,
   "metadata": {},
   "outputs": [],
   "source": [
    "# Creamos las columnas de variables discretizadas (aplicamos la transformación que definimos arriba)\n",
    "df[vardisc] = kb.transform(df[varc]).astype(int)"
   ]
  },
  {
   "attachments": {},
   "cell_type": "markdown",
   "metadata": {},
   "source": [
    "* La función .bin_edges_ lo que hace es partirnos las respuestas en pedacitos"
   ]
  },
  {
   "cell_type": "code",
   "execution_count": 115,
   "metadata": {},
   "outputs": [],
   "source": [
    "#kb.bin_edges_"
   ]
  },
  {
   "cell_type": "code",
   "execution_count": 116,
   "metadata": {},
   "outputs": [
    {
     "data": {
      "text/plain": [
       "[5, 3, 6, 6, 6, 6, 5, 5, 6]"
      ]
     },
     "execution_count": 116,
     "metadata": {},
     "output_type": "execute_result"
    }
   ],
   "source": [
    "# Contamos en cuántos pedacitos partió cada una de las variables.\n",
    "list(map(len,kb.bin_edges_))"
   ]
  },
  {
   "cell_type": "code",
   "execution_count": 117,
   "metadata": {},
   "outputs": [],
   "source": [
    "for v, d in zip(vardisc, map(lambda z: dict(enumerate([f'({t[0]}|{t[1]}]'for t in zip(map(str, z), map(str, z[1:]))])), kb.bin_edges_)):\n",
    "    df[v] = df[v].replace(d)"
   ]
  },
  {
   "cell_type": "code",
   "execution_count": 118,
   "metadata": {},
   "outputs": [
    {
     "name": "stdout",
     "output_type": "stream",
     "text": [
      "****Tabla de frecuencias  disc_¿Cuántos años tienes? 🎂  ***\n",
      "\n",
      "\n",
      "              FA        FR  FAA       FRA\n",
      "(17.0|18.0]   75  0.148221   75  0.148221\n",
      "(18.0|19.0]  223  0.440711  298  0.588933\n",
      "(19.0|20.0]   81  0.160079  379  0.749012\n",
      "(20.0|30.0]  127  0.250988  506  1.000000\n",
      "\n",
      "\n",
      "\n",
      "\n",
      "****Tabla de frecuencias  disc_¿Qué tanto evitaste que tu carrera tuviera matemáticas?  ***\n",
      "\n",
      "\n",
      "            FA        FR  FAA       FRA\n",
      "(1.0|2.0]  384  0.758893  384  0.758893\n",
      "(2.0|5.0]  122  0.241107  506  1.000000\n",
      "\n",
      "\n",
      "\n",
      "\n",
      "****Tabla de frecuencias  disc_¿Qué promedio obtuviste en el bachillerato?  ***\n",
      "\n",
      "\n",
      "             FA        FR  FAA       FRA\n",
      "(7.0|7.8]    89  0.175889   89  0.175889\n",
      "(7.8|8.3]   100  0.197628  189  0.373518\n",
      "(8.3|8.7]   110  0.217391  299  0.590909\n",
      "(8.7|9.1]   105  0.207510  404  0.798419\n",
      "(9.1|10.0]  102  0.201581  506  1.000000\n",
      "\n",
      "\n",
      "\n",
      "\n",
      "****Tabla de frecuencias  disc_Si tuvieras que volver a clases presenciales ¿Cuánto tiempo tardarías en minutos en llegar a la FES Acatlán? ⏱  ***\n",
      "\n",
      "\n",
      "                FA        FR  FAA       FRA\n",
      "(0.0|30.0]      73  0.144269   73  0.144269\n",
      "(120.0|240.0]  134  0.264822  207  0.409091\n",
      "(30.0|50.0]    121  0.239130  328  0.648221\n",
      "(50.0|90.0]     98  0.193676  426  0.841897\n",
      "(90.0|120.0]    80  0.158103  506  1.000000\n",
      "\n",
      "\n",
      "\n",
      "\n",
      "****Tabla de frecuencias  disc_¿Cuánto gastarías de pasaje / gasolina a la semana?  ***\n",
      "\n",
      "\n",
      "                  FA        FR  FAA       FRA\n",
      "(0.0|100.0]       94  0.185771   94  0.185771\n",
      "(100.0|180.0]    106  0.209486  200  0.395257\n",
      "(180.0|250.0]     78  0.154150  278  0.549407\n",
      "(250.0|400.0]    119  0.235178  397  0.784585\n",
      "(400.0|20000.0]  109  0.215415  506  1.000000\n",
      "\n",
      "\n",
      "\n",
      "\n",
      "****Tabla de frecuencias  disc_¿A cuánto asciende el ingreso mensual neto de todas las personas que trabajan y viven contigo?  ***\n",
      "\n",
      "\n",
      "                     FA        FR  FAA       FRA\n",
      "(0.0|5000.0]         86  0.169960   86  0.169960\n",
      "(10000.0|20000.0]   149  0.294466  235  0.464427\n",
      "(20000.0|150000.0]  110  0.217391  345  0.681818\n",
      "(5000.0|8000.0]      98  0.193676  443  0.875494\n",
      "(8000.0|10000.0]     63  0.124506  506  1.000000\n",
      "\n",
      "\n",
      "\n",
      "\n",
      "****Tabla de frecuencias  disc_¿Cuántas personas viven contigo?  ***\n",
      "\n",
      "\n",
      "             FA        FR  FAA       FRA\n",
      "(0.0|3.0]    90  0.177866   90  0.177866\n",
      "(3.0|4.0]   132  0.260870  222  0.438735\n",
      "(4.0|5.0]   126  0.249012  348  0.687747\n",
      "(5.0|15.0]  158  0.312253  506  1.000000\n",
      "\n",
      "\n",
      "\n",
      "\n",
      "****Tabla de frecuencias  disc_¿Cuántas computadoras hay en tu casa?  ***\n",
      "\n",
      "\n",
      "            FA        FR  FAA       FRA\n",
      "(0.0|1.0]   15  0.029644   15  0.029644\n",
      "(1.0|2.0]  179  0.353755  194  0.383399\n",
      "(2.0|3.0]  175  0.345850  369  0.729249\n",
      "(3.0|7.0]  137  0.270751  506  1.000000\n",
      "\n",
      "\n",
      "\n",
      "\n",
      "****Tabla de frecuencias  disc_Hazle un test a tu Internet (ingresando a speedtest.net) y compártenos su velocidad  ***\n",
      "\n",
      "\n",
      "                  FA        FR  FAA       FRA\n",
      "(0.0|9.87]       101  0.199605  101  0.199605\n",
      "(19.63|30.4]     101  0.199605  202  0.399209\n",
      "(30.4|52.52]     101  0.199605  303  0.598814\n",
      "(52.52|15000.0]  102  0.201581  405  0.800395\n",
      "(9.87|19.63]     101  0.199605  506  1.000000\n",
      "\n",
      "\n",
      "\n",
      "\n"
     ]
    }
   ],
   "source": [
    "freq(df,vardisc)"
   ]
  },
  {
   "attachments": {},
   "cell_type": "markdown",
   "metadata": {},
   "source": [
    "### Partición "
   ]
  },
  {
   "cell_type": "code",
   "execution_count": 119,
   "metadata": {},
   "outputs": [],
   "source": [
    "df = df[um+varn+vardisc+vart]"
   ]
  },
  {
   "cell_type": "code",
   "execution_count": 120,
   "metadata": {},
   "outputs": [
    {
     "data": {
      "text/plain": [
       "((354, 18), (152, 18))"
      ]
     },
     "execution_count": 120,
     "metadata": {},
     "output_type": "execute_result"
    }
   ],
   "source": [
    "train,valid = train_test_split(df, test_size=0.3)\n",
    "train.reset_index(drop=True,inplace=True)\n",
    "valid.reset_index(drop=True,inplace=True)\n",
    "train.shape, valid.shape"
   ]
  },
  {
   "attachments": {},
   "cell_type": "markdown",
   "metadata": {},
   "source": [
    "### Transformación WoE"
   ]
  },
  {
   "attachments": {},
   "cell_type": "markdown",
   "metadata": {},
   "source": [
    "* La función pivot_table() permite la agrupación de datos a los que se les aplica alguna función matemática (suma,promedio, etc)"
   ]
  },
  {
   "cell_type": "code",
   "execution_count": 121,
   "metadata": {},
   "outputs": [],
   "source": [
    "def transformarWoE(v:str)->dict:\n",
    "    aux = train[[v]+vart].assign(n=1)\n",
    "    piv = aux.pivot_table(index=v,columns=vart,values='n',aggfunc='sum',fill_value=0)\n",
    "    piv/=piv.sum()\n",
    "    piv['woe'] = np.log(piv[0]/piv[1])\n",
    "    piv = piv[['woe']]\n",
    "    return v,piv.to_dict()['woe']"
   ]
  },
  {
   "cell_type": "code",
   "execution_count": 122,
   "metadata": {},
   "outputs": [
    {
     "data": {
      "text/plain": [
       "[('n_Selecciona tu sexo 👤',\n",
       "  {'Hombre': 0.18863635573149687, 'Mujer': -0.4484469306818495}),\n",
       " ('n_¿Cuál es tu situación sentimental? ❤️',\n",
       "  {'Soltero': -0.02109911132417741, 'Tengo pareja': 0.06523176206654775}),\n",
       " ('n_¿Trabajas? 💼', {'No': -0.14407793944505387, 'Si': 0.40973617038502497}),\n",
       " ('n_Esta carrera ¿Fue tu primera opción?',\n",
       "  {'No': 2.203032918931966, 'Si': -0.330663895025466}),\n",
       " ('n_¿La FES Acatlán fue tu primera opción para cursar esta carrera?',\n",
       "  {'No': 0.03034945051186459, 'Sí': -0.005686037829988318}),\n",
       " ('n_¿De qué bachillerato provienes?',\n",
       "  {'CCH': -0.7574064015809153,\n",
       "   'Otro': 1.6434171309965435,\n",
       "   'Prepa UNAM': -0.3847311162957417}),\n",
       " ('n_¿Qué sistema operativo tiene la computadora que utilizas para estudiar en línea?',\n",
       "  {'Otros': -0.22530337936763983, 'Windows': 0.012976831074359577}),\n",
       " ('disc_¿Cuántos años tienes? 🎂',\n",
       "  {'(17.0|18.0]': -0.9060280399290279,\n",
       "   '(18.0|19.0]': -0.7810803909958969,\n",
       "   '(19.0|20.0]': 0.7899273003614189,\n",
       "   '(20.0|30.0]': 1.7975678108238018}),\n",
       " ('disc_¿Qué tanto evitaste que tu carrera tuviera matemáticas?',\n",
       "  {'(1.0|2.0]': -0.09071322539487493, '(2.0|5.0]': 0.29349041404752774}),\n",
       " ('disc_¿Qué promedio obtuviste en el bachillerato?',\n",
       "  {'(7.0|7.8]': 1.897813225814858,\n",
       "   '(7.8|8.3]': 0.620312394836579,\n",
       "   '(8.3|8.7]': -0.305346087041176,\n",
       "   '(8.7|9.1]': -0.943768367911875,\n",
       "   '(9.1|10.0]': -0.5075946031845443}),\n",
       " ('disc_Si tuvieras que volver a clases presenciales ¿Cuánto tiempo tardarías en minutos en llegar a la FES Acatlán? ⏱',\n",
       "  {'(0.0|30.0]': -0.032170906469469455,\n",
       "   '(120.0|240.0]': 0.3790125874856898,\n",
       "   '(30.0|50.0]': -0.161587564981532,\n",
       "   '(50.0|90.0]': -0.268143538044132,\n",
       "   '(90.0|120.0]': -0.005241494590838067}),\n",
       " ('disc_¿Cuánto gastarías de pasaje / gasolina a la semana?',\n",
       "  {'(0.0|100.0]': 0.0006932409289764863,\n",
       "   '(100.0|180.0]': 0.2653195370808316,\n",
       "   '(180.0|250.0]': 0.03397921856244324,\n",
       "   '(250.0|400.0]': -0.10752034371125634,\n",
       "   '(400.0|20000.0]': -0.1854818851809682}),\n",
       " ('disc_¿A cuánto asciende el ingreso mensual neto de todas las personas que trabajan y viven contigo?',\n",
       "  {'(0.0|5000.0]': 0.005808341595746955,\n",
       "   '(10000.0|20000.0]': 0.0523283572306399,\n",
       "   '(20000.0|150000.0]': 0.08549650219944632,\n",
       "   '(5000.0|8000.0]': -0.17651321519820767,\n",
       "   '(8000.0|10000.0]': -0.028383023152532428}),\n",
       " ('disc_¿Cuántas personas viven contigo?',\n",
       "  {'(0.0|3.0]': 0.5401644627719316,\n",
       "   '(3.0|4.0]': 0.04882572667943772,\n",
       "   '(4.0|5.0]': -0.21559456524067877,\n",
       "   '(5.0|15.0]': -0.1483423382315114}),\n",
       " ('disc_¿Cuántas computadoras hay en tu casa?',\n",
       "  {'(0.0|1.0]': 1.6152462540298471,\n",
       "   '(1.0|2.0]': 0.0006932409289764863,\n",
       "   '(2.0|3.0]': -0.1578210821860553,\n",
       "   '(3.0|7.0]': 0.09219295579456749}),\n",
       " ('disc_Hazle un test a tu Internet (ingresando a speedtest.net) y compártenos su velocidad',\n",
       "  {'(0.0|9.87]': 0.3871758981248507,\n",
       "   '(19.63|30.4]': -0.475845904869964,\n",
       "   '(30.4|52.52]': 0.14379408456964976,\n",
       "   '(52.52|15000.0]': 0.18016172874052466,\n",
       "   '(9.87|19.63]': -0.1895852967655604})]"
      ]
     },
     "execution_count": 122,
     "metadata": {},
     "output_type": "execute_result"
    }
   ],
   "source": [
    "# Hacemos la lista con los valores de cada respuesta\n",
    "mapa_woe = list(map(transformarWoE,varn+vardisc))\n",
    "mapa_woe"
   ]
  },
  {
   "cell_type": "code",
   "execution_count": 123,
   "metadata": {},
   "outputs": [],
   "source": [
    "for v,mapa in mapa_woe:\n",
    "    train[f'woe_{v}'] = train[v].replace(mapa)"
   ]
  },
  {
   "cell_type": "code",
   "execution_count": 124,
   "metadata": {},
   "outputs": [],
   "source": [
    "varw = [f'woe_{v}' for v in varn+vardisc]"
   ]
  },
  {
   "attachments": {},
   "cell_type": "markdown",
   "metadata": {},
   "source": [
    "### Calcular el poder predictivo"
   ]
  },
  {
   "cell_type": "code",
   "execution_count": 125,
   "metadata": {},
   "outputs": [],
   "source": [
    "def calcularIV(v:str)->dict:\n",
    "    aux = train[[v]+vart].assign(n=1)\n",
    "    piv = aux.pivot_table(index=v,columns=vart,values='n',aggfunc='sum',fill_value=0)\n",
    "    piv/=piv.sum()\n",
    "    piv['woe'] = np.log(piv[0]/piv[1])\n",
    "    piv['iv'] = (piv[0]-piv[1])*piv['woe']\n",
    "    return v,piv.sum()['iv']"
   ]
  },
  {
   "cell_type": "code",
   "execution_count": 126,
   "metadata": {},
   "outputs": [],
   "source": [
    "ivr = pd.DataFrame(map(calcularIV,varn+vardisc),columns=['variable','iv']).sort_values('iv',ascending=False)"
   ]
  },
  {
   "cell_type": "code",
   "execution_count": 127,
   "metadata": {},
   "outputs": [],
   "source": [
    "best = list(ivr[ivr['iv']>0.1]['variable'])\n",
    "\n",
    "best = [f'woe_{v}' for v in best]\n",
    "#best"
   ]
  },
  {
   "cell_type": "code",
   "execution_count": 128,
   "metadata": {},
   "outputs": [
    {
     "data": {
      "text/plain": [
       "4"
      ]
     },
     "execution_count": 128,
     "metadata": {},
     "output_type": "execute_result"
    }
   ],
   "source": [
    "# Estas son las variables que nos ayudan a predecir la carrera\n",
    "len(best)"
   ]
  },
  {
   "attachments": {},
   "cell_type": "markdown",
   "metadata": {},
   "source": [
    "### Aprendizaje (Regresión Logística)\n",
    "$$P = \\frac{1}{1+e^{-\\theta-\\vec{\\theta}\\cdot x}}$$"
   ]
  },
  {
   "cell_type": "code",
   "execution_count": 129,
   "metadata": {},
   "outputs": [
    {
     "data": {
      "text/html": [
       "<style>#sk-container-id-6 {color: black;background-color: white;}#sk-container-id-6 pre{padding: 0;}#sk-container-id-6 div.sk-toggleable {background-color: white;}#sk-container-id-6 label.sk-toggleable__label {cursor: pointer;display: block;width: 100%;margin-bottom: 0;padding: 0.3em;box-sizing: border-box;text-align: center;}#sk-container-id-6 label.sk-toggleable__label-arrow:before {content: \"▸\";float: left;margin-right: 0.25em;color: #696969;}#sk-container-id-6 label.sk-toggleable__label-arrow:hover:before {color: black;}#sk-container-id-6 div.sk-estimator:hover label.sk-toggleable__label-arrow:before {color: black;}#sk-container-id-6 div.sk-toggleable__content {max-height: 0;max-width: 0;overflow: hidden;text-align: left;background-color: #f0f8ff;}#sk-container-id-6 div.sk-toggleable__content pre {margin: 0.2em;color: black;border-radius: 0.25em;background-color: #f0f8ff;}#sk-container-id-6 input.sk-toggleable__control:checked~div.sk-toggleable__content {max-height: 200px;max-width: 100%;overflow: auto;}#sk-container-id-6 input.sk-toggleable__control:checked~label.sk-toggleable__label-arrow:before {content: \"▾\";}#sk-container-id-6 div.sk-estimator input.sk-toggleable__control:checked~label.sk-toggleable__label {background-color: #d4ebff;}#sk-container-id-6 div.sk-label input.sk-toggleable__control:checked~label.sk-toggleable__label {background-color: #d4ebff;}#sk-container-id-6 input.sk-hidden--visually {border: 0;clip: rect(1px 1px 1px 1px);clip: rect(1px, 1px, 1px, 1px);height: 1px;margin: -1px;overflow: hidden;padding: 0;position: absolute;width: 1px;}#sk-container-id-6 div.sk-estimator {font-family: monospace;background-color: #f0f8ff;border: 1px dotted black;border-radius: 0.25em;box-sizing: border-box;margin-bottom: 0.5em;}#sk-container-id-6 div.sk-estimator:hover {background-color: #d4ebff;}#sk-container-id-6 div.sk-parallel-item::after {content: \"\";width: 100%;border-bottom: 1px solid gray;flex-grow: 1;}#sk-container-id-6 div.sk-label:hover label.sk-toggleable__label {background-color: #d4ebff;}#sk-container-id-6 div.sk-serial::before {content: \"\";position: absolute;border-left: 1px solid gray;box-sizing: border-box;top: 0;bottom: 0;left: 50%;z-index: 0;}#sk-container-id-6 div.sk-serial {display: flex;flex-direction: column;align-items: center;background-color: white;padding-right: 0.2em;padding-left: 0.2em;position: relative;}#sk-container-id-6 div.sk-item {position: relative;z-index: 1;}#sk-container-id-6 div.sk-parallel {display: flex;align-items: stretch;justify-content: center;background-color: white;position: relative;}#sk-container-id-6 div.sk-item::before, #sk-container-id-6 div.sk-parallel-item::before {content: \"\";position: absolute;border-left: 1px solid gray;box-sizing: border-box;top: 0;bottom: 0;left: 50%;z-index: -1;}#sk-container-id-6 div.sk-parallel-item {display: flex;flex-direction: column;z-index: 1;position: relative;background-color: white;}#sk-container-id-6 div.sk-parallel-item:first-child::after {align-self: flex-end;width: 50%;}#sk-container-id-6 div.sk-parallel-item:last-child::after {align-self: flex-start;width: 50%;}#sk-container-id-6 div.sk-parallel-item:only-child::after {width: 0;}#sk-container-id-6 div.sk-dashed-wrapped {border: 1px dashed gray;margin: 0 0.4em 0.5em 0.4em;box-sizing: border-box;padding-bottom: 0.4em;background-color: white;}#sk-container-id-6 div.sk-label label {font-family: monospace;font-weight: bold;display: inline-block;line-height: 1.2em;}#sk-container-id-6 div.sk-label-container {text-align: center;}#sk-container-id-6 div.sk-container {/* jupyter's `normalize.less` sets `[hidden] { display: none; }` but bootstrap.min.css set `[hidden] { display: none !important; }` so we also need the `!important` here to be able to override the default hidden behavior on the sphinx rendered scikit-learn.org. See: https://github.com/scikit-learn/scikit-learn/issues/21755 */display: inline-block !important;position: relative;}#sk-container-id-6 div.sk-text-repr-fallback {display: none;}</style><div id=\"sk-container-id-6\" class=\"sk-top-container\"><div class=\"sk-text-repr-fallback\"><pre>LogisticRegression()</pre><b>In a Jupyter environment, please rerun this cell to show the HTML representation or trust the notebook. <br />On GitHub, the HTML representation is unable to render, please try loading this page with nbviewer.org.</b></div><div class=\"sk-container\" hidden><div class=\"sk-item\"><div class=\"sk-estimator sk-toggleable\"><input class=\"sk-toggleable__control sk-hidden--visually\" id=\"sk-estimator-id-6\" type=\"checkbox\" checked><label for=\"sk-estimator-id-6\" class=\"sk-toggleable__label sk-toggleable__label-arrow\">LogisticRegression</label><div class=\"sk-toggleable__content\"><pre>LogisticRegression()</pre></div></div></div></div></div>"
      ],
      "text/plain": [
       "LogisticRegression()"
      ]
     },
     "execution_count": 129,
     "metadata": {},
     "output_type": "execute_result"
    }
   ],
   "source": [
    "# Creamos el modelo\n",
    "mod = LogisticRegression()\n",
    "\n",
    "# Entrenamos con nuestras xi(las mejores variables) y la y(target)\n",
    "mod.fit(train[best],train['target'])"
   ]
  },
  {
   "attachments": {},
   "cell_type": "markdown",
   "metadata": {},
   "source": [
    "$\\vec{\\theta}$"
   ]
  },
  {
   "cell_type": "code",
   "execution_count": 130,
   "metadata": {},
   "outputs": [
    {
     "data": {
      "text/plain": [
       "array([[-0.46023706, -1.01186527, -0.67457422, -1.07623398]])"
      ]
     },
     "execution_count": 130,
     "metadata": {},
     "output_type": "execute_result"
    }
   ],
   "source": [
    "mod.coef_"
   ]
  },
  {
   "attachments": {},
   "cell_type": "markdown",
   "metadata": {},
   "source": [
    "$\\theta_0=\\alpha$"
   ]
  },
  {
   "cell_type": "code",
   "execution_count": 131,
   "metadata": {},
   "outputs": [],
   "source": [
    "alpha = mod.intercept_[0]"
   ]
  },
  {
   "cell_type": "code",
   "execution_count": 132,
   "metadata": {},
   "outputs": [
    {
     "data": {
      "text/plain": [
       "0.8895303070060352"
      ]
     },
     "execution_count": 132,
     "metadata": {},
     "output_type": "execute_result"
    }
   ],
   "source": [
    "roc_auc_score(train['target'],mod.predict_proba(train[best])[:,1])"
   ]
  },
  {
   "attachments": {},
   "cell_type": "markdown",
   "metadata": {},
   "source": [
    "### Validación del Modelo"
   ]
  },
  {
   "cell_type": "code",
   "execution_count": 133,
   "metadata": {},
   "outputs": [],
   "source": [
    "for v,mapa in mapa_woe:\n",
    "    valid[f'woe_{v}']= valid[v].replace(mapa)"
   ]
  },
  {
   "cell_type": "code",
   "execution_count": 134,
   "metadata": {},
   "outputs": [
    {
     "data": {
      "text/plain": [
       "0.8869264069264069"
      ]
     },
     "execution_count": 134,
     "metadata": {},
     "output_type": "execute_result"
    }
   ],
   "source": [
    "roc_auc_score(valid['target'],mod.predict_proba(valid[best])[:,1])"
   ]
  },
  {
   "attachments": {},
   "cell_type": "markdown",
   "metadata": {},
   "source": [
    "### Transformación Scorecard"
   ]
  },
  {
   "cell_type": "code",
   "execution_count": 165,
   "metadata": {},
   "outputs": [
    {
     "data": {
      "text/plain": [
       "(11.541560327111707, 33.0)"
      ]
     },
     "execution_count": 165,
     "metadata": {},
     "output_type": "execute_result"
    }
   ],
   "source": [
    "# Points to double odds´\n",
    "pdo = 8\n",
    "# Base points(este valor lo cambiamos para que el valor máximo sea 100 y todos los valores entren en los rangos)\n",
    "base = 33\n",
    "# Base odds\n",
    "base_odds = 1\n",
    "factor =  pdo/np.log(2)\n",
    "offset = base - factor*np.log(base_odds)\n",
    "factor, offset"
   ]
  },
  {
   "cell_type": "code",
   "execution_count": 166,
   "metadata": {},
   "outputs": [],
   "source": [
    "n = len(best)"
   ]
  },
  {
   "cell_type": "code",
   "execution_count": 167,
   "metadata": {},
   "outputs": [],
   "source": [
    "for v,beta in zip(best,mod.coef_[0]):\n",
    "    train[f'p_{v}'] = np.floor((-train[v]*beta+alpha/n)*factor+offset/n).astype(int)"
   ]
  },
  {
   "cell_type": "code",
   "execution_count": 168,
   "metadata": {},
   "outputs": [],
   "source": [
    "varp = [f'p_{v}' for v in best]"
   ]
  },
  {
   "cell_type": "code",
   "execution_count": 169,
   "metadata": {},
   "outputs": [],
   "source": [
    "train['score'] = train[varp].sum(axis = 1)"
   ]
  },
  {
   "cell_type": "code",
   "execution_count": 170,
   "metadata": {},
   "outputs": [
    {
     "data": {
      "text/plain": [
       "count    354.000000\n",
       "mean      33.918079\n",
       "std       24.210750\n",
       "min        3.000000\n",
       "25%        9.000000\n",
       "50%       35.000000\n",
       "75%       51.750000\n",
       "max       99.000000\n",
       "Name: score, dtype: float64"
      ]
     },
     "execution_count": 170,
     "metadata": {},
     "output_type": "execute_result"
    }
   ],
   "source": [
    "train['score'].describe()"
   ]
  },
  {
   "cell_type": "code",
   "execution_count": 171,
   "metadata": {},
   "outputs": [
    {
     "data": {
      "text/plain": [
       "<Axes: >"
      ]
     },
     "execution_count": 171,
     "metadata": {},
     "output_type": "execute_result"
    },
    {
     "data": {
      "image/png": "[encoded data removed]",
      "text/plain": [
       "<Figure size 640x480 with 1 Axes>"
      ]
     },
     "metadata": {},
     "output_type": "display_data"
    }
   ],
   "source": [
    "train['score'].hist()"
   ]
  },
  {
   "cell_type": "code",
   "execution_count": 172,
   "metadata": {},
   "outputs": [],
   "source": [
    "train['r_score'] = pd.cut(train['score'], bins = range(0,120,20), include_lowest=True).astype(str)"
   ]
  },
  {
   "cell_type": "code",
   "execution_count": 173,
   "metadata": {},
   "outputs": [
    {
     "name": "stdout",
     "output_type": "stream",
     "text": [
      "****Tabla de frecuencias  r_score  ***\n",
      "\n",
      "\n",
      "                 FA        FR  FAA       FRA\n",
      "(-0.001, 20.0]  144  0.406780  144  0.406780\n",
      "(20.0, 40.0]     69  0.194915  213  0.601695\n",
      "(40.0, 60.0]     81  0.228814  294  0.830508\n",
      "(60.0, 80.0]     51  0.144068  345  0.974576\n",
      "(80.0, 100.0]     9  0.025424  354  1.000000\n",
      "\n",
      "\n",
      "\n",
      "\n"
     ]
    }
   ],
   "source": [
    "freq(train, 'r_score')"
   ]
  },
  {
   "cell_type": "code",
   "execution_count": 174,
   "metadata": {},
   "outputs": [
    {
     "data": {
      "application/vnd.plotly.v1+json": {
       "config": {
        "linkText": "Export to plot.ly",
        "plotlyServerURL": "https://plot.ly",
        "showLink": true
       },
       "data": [
        {
         "marker": {
          "color": "rgba(255, 153, 51, 0.6)",
          "line": {
           "color": "rgba(255, 153, 51, 1.0)",
           "width": 1
          }
         },
         "name": "actuaría",
         "orientation": "v",
         "text": "",
         "type": "bar",
         "x": [
          "(-0.001, 20.0]",
          "(20.0, 40.0]",
          "(40.0, 60.0]",
          "(60.0, 80.0]",
          "(80.0, 100.0]"
         ],
         "y": [
          0.8194444444444444,
          0.2463768115942029,
          0.1111111111111111,
          0.0784313725490196,
          0
         ]
        },
        {
         "marker": {
          "color": "rgba(55, 128, 191, 0.6)",
          "line": {
           "color": "rgba(55, 128, 191, 1.0)",
           "width": 1
          }
         },
         "name": "mac",
         "orientation": "v",
         "text": "",
         "type": "bar",
         "x": [
          "(-0.001, 20.0]",
          "(20.0, 40.0]",
          "(40.0, 60.0]",
          "(60.0, 80.0]",
          "(80.0, 100.0]"
         ],
         "y": [
          0.18055555555555555,
          0.7536231884057971,
          0.8888888888888888,
          0.9215686274509803,
          1
         ]
        }
       ],
       "layout": {
        "barmode": "stack",
        "legend": {
         "bgcolor": "#F5F6F9",
         "font": {
          "color": "#4D5663"
         },
         "traceorder": "normal"
        },
        "paper_bgcolor": "#F5F6F9",
        "plot_bgcolor": "#F5F6F9",
        "template": {
         "data": {
          "bar": [
           {
            "error_x": {
             "color": "#2a3f5f"
            },
            "error_y": {
             "color": "#2a3f5f"
            },
            "marker": {
             "line": {
              "color": "#E5ECF6",
              "width": 0.5
             },
             "pattern": {
              "fillmode": "overlay",
              "size": 10,
              "solidity": 0.2
             }
            },
            "type": "bar"
           }
          ],
          "barpolar": [
           {
            "marker": {
             "line": {
              "color": "#E5ECF6",
              "width": 0.5
             },
             "pattern": {
              "fillmode": "overlay",
              "size": 10,
              "solidity": 0.2
             }
            },
            "type": "barpolar"
           }
          ],
          "carpet": [
           {
            "aaxis": {
             "endlinecolor": "#2a3f5f",
             "gridcolor": "white",
             "linecolor": "white",
             "minorgridcolor": "white",
             "startlinecolor": "#2a3f5f"
            },
            "baxis": {
             "endlinecolor": "#2a3f5f",
             "gridcolor": "white",
             "linecolor": "white",
             "minorgridcolor": "white",
             "startlinecolor": "#2a3f5f"
            },
            "type": "carpet"
           }
          ],
          "choropleth": [
           {
            "colorbar": {
             "outlinewidth": 0,
             "ticks": ""
            },
            "type": "choropleth"
           }
          ],
          "contour": [
           {
            "colorbar": {
             "outlinewidth": 0,
             "ticks": ""
            },
            "colorscale": [
             [
              0,
              "#0d0887"
             ],
             [
              0.1111111111111111,
              "#46039f"
             ],
             [
              0.2222222222222222,
              "#7201a8"
             ],
             [
              0.3333333333333333,
              "#9c179e"
             ],
             [
              0.4444444444444444,
              "#bd3786"
             ],
             [
              0.5555555555555556,
              "#d8576b"
             ],
             [
              0.6666666666666666,
              "#ed7953"
             ],
             [
              0.7777777777777778,
              "#fb9f3a"
             ],
             [
              0.8888888888888888,
              "#fdca26"
             ],
             [
              1,
              "#f0f921"
             ]
            ],
            "type": "contour"
           }
          ],
          "contourcarpet": [
           {
            "colorbar": {
             "outlinewidth": 0,
             "ticks": ""
            },
            "type": "contourcarpet"
           }
          ],
          "heatmap": [
           {
            "colorbar": {
             "outlinewidth": 0,
             "ticks": ""
            },
            "colorscale": [
             [
              0,
              "#0d0887"
             ],
             [
              0.1111111111111111,
              "#46039f"
             ],
             [
              0.2222222222222222,
              "#7201a8"
             ],
             [
              0.3333333333333333,
              "#9c179e"
             ],
             [
              0.4444444444444444,
              "#bd3786"
             ],
             [
              0.5555555555555556,
              "#d8576b"
             ],
             [
              0.6666666666666666,
              "#ed7953"
             ],
             [
              0.7777777777777778,
              "#fb9f3a"
             ],
             [
              0.8888888888888888,
              "#fdca26"
             ],
             [
              1,
              "#f0f921"
             ]
            ],
            "type": "heatmap"
           }
          ],
          "heatmapgl": [
           {
            "colorbar": {
             "outlinewidth": 0,
             "ticks": ""
            },
            "colorscale": [
             [
              0,
              "#0d0887"
             ],
             [
              0.1111111111111111,
              "#46039f"
             ],
             [
              0.2222222222222222,
              "#7201a8"
             ],
             [
              0.3333333333333333,
              "#9c179e"
             ],
             [
              0.4444444444444444,
              "#bd3786"
             ],
             [
              0.5555555555555556,
              "#d8576b"
             ],
             [
              0.6666666666666666,
              "#ed7953"
             ],
             [
              0.7777777777777778,
              "#fb9f3a"
             ],
             [
              0.8888888888888888,
              "#fdca26"
             ],
             [
              1,
              "#f0f921"
             ]
            ],
            "type": "heatmapgl"
           }
          ],
          "histogram": [
           {
            "marker": {
             "pattern": {
              "fillmode": "overlay",
              "size": 10,
              "solidity": 0.2
             }
            },
            "type": "histogram"
           }
          ],
          "histogram2d": [
           {
            "colorbar": {
             "outlinewidth": 0,
             "ticks": ""
            },
            "colorscale": [
             [
              0,
              "#0d0887"
             ],
             [
              0.1111111111111111,
              "#46039f"
             ],
             [
              0.2222222222222222,
              "#7201a8"
             ],
             [
              0.3333333333333333,
              "#9c179e"
             ],
             [
              0.4444444444444444,
              "#bd3786"
             ],
             [
              0.5555555555555556,
              "#d8576b"
             ],
             [
              0.6666666666666666,
              "#ed7953"
             ],
             [
              0.7777777777777778,
              "#fb9f3a"
             ],
             [
              0.8888888888888888,
              "#fdca26"
             ],
             [
              1,
              "#f0f921"
             ]
            ],
            "type": "histogram2d"
           }
          ],
          "histogram2dcontour": [
           {
            "colorbar": {
             "outlinewidth": 0,
             "ticks": ""
            },
            "colorscale": [
             [
              0,
              "#0d0887"
             ],
             [
              0.1111111111111111,
              "#46039f"
             ],
             [
              0.2222222222222222,
              "#7201a8"
             ],
             [
              0.3333333333333333,
              "#9c179e"
             ],
             [
              0.4444444444444444,
              "#bd3786"
             ],
             [
              0.5555555555555556,
              "#d8576b"
             ],
             [
              0.6666666666666666,
              "#ed7953"
             ],
             [
              0.7777777777777778,
              "#fb9f3a"
             ],
             [
              0.8888888888888888,
              "#fdca26"
             ],
             [
              1,
              "#f0f921"
             ]
            ],
            "type": "histogram2dcontour"
           }
          ],
          "mesh3d": [
           {
            "colorbar": {
             "outlinewidth": 0,
             "ticks": ""
            },
            "type": "mesh3d"
           }
          ],
          "parcoords": [
           {
            "line": {
             "colorbar": {
              "outlinewidth": 0,
              "ticks": ""
             }
            },
            "type": "parcoords"
           }
          ],
          "pie": [
           {
            "automargin": true,
            "type": "pie"
           }
          ],
          "scatter": [
           {
            "fillpattern": {
             "fillmode": "overlay",
             "size": 10,
             "solidity": 0.2
            },
            "type": "scatter"
           }
          ],
          "scatter3d": [
           {
            "line": {
             "colorbar": {
              "outlinewidth": 0,
              "ticks": ""
             }
            },
            "marker": {
             "colorbar": {
              "outlinewidth": 0,
              "ticks": ""
             }
            },
            "type": "scatter3d"
           }
          ],
          "scattercarpet": [
           {
            "marker": {
             "colorbar": {
              "outlinewidth": 0,
              "ticks": ""
             }
            },
            "type": "scattercarpet"
           }
          ],
          "scattergeo": [
           {
            "marker": {
             "colorbar": {
              "outlinewidth": 0,
              "ticks": ""
             }
            },
            "type": "scattergeo"
           }
          ],
          "scattergl": [
           {
            "marker": {
             "colorbar": {
              "outlinewidth": 0,
              "ticks": ""
             }
            },
            "type": "scattergl"
           }
          ],
          "scattermapbox": [
           {
            "marker": {
             "colorbar": {
              "outlinewidth": 0,
              "ticks": ""
             }
            },
            "type": "scattermapbox"
           }
          ],
          "scatterpolar": [
           {
            "marker": {
             "colorbar": {
              "outlinewidth": 0,
              "ticks": ""
             }
            },
            "type": "scatterpolar"
           }
          ],
          "scatterpolargl": [
           {
            "marker": {
             "colorbar": {
              "outlinewidth": 0,
              "ticks": ""
             }
            },
            "type": "scatterpolargl"
           }
          ],
          "scatterternary": [
           {
            "marker": {
             "colorbar": {
              "outlinewidth": 0,
              "ticks": ""
             }
            },
            "type": "scatterternary"
           }
          ],
          "surface": [
           {
            "colorbar": {
             "outlinewidth": 0,
             "ticks": ""
            },
            "colorscale": [
             [
              0,
              "#0d0887"
             ],
             [
              0.1111111111111111,
              "#46039f"
             ],
             [
              0.2222222222222222,
              "#7201a8"
             ],
             [
              0.3333333333333333,
              "#9c179e"
             ],
             [
              0.4444444444444444,
              "#bd3786"
             ],
             [
              0.5555555555555556,
              "#d8576b"
             ],
             [
              0.6666666666666666,
              "#ed7953"
             ],
             [
              0.7777777777777778,
              "#fb9f3a"
             ],
             [
              0.8888888888888888,
              "#fdca26"
             ],
             [
              1,
              "#f0f921"
             ]
            ],
            "type": "surface"
           }
          ],
          "table": [
           {
            "cells": {
             "fill": {
              "color": "#EBF0F8"
             },
             "line": {
              "color": "white"
             }
            },
            "header": {
             "fill": {
              "color": "#C8D4E3"
             },
             "line": {
              "color": "white"
             }
            },
            "type": "table"
           }
          ]
         },
         "layout": {
          "annotationdefaults": {
           "arrowcolor": "#2a3f5f",
           "arrowhead": 0,
           "arrowwidth": 1
          },
          "autotypenumbers": "strict",
          "coloraxis": {
           "colorbar": {
            "outlinewidth": 0,
            "ticks": ""
           }
          },
          "colorscale": {
           "diverging": [
            [
             0,
             "#8e0152"
            ],
            [
             0.1,
             "#c51b7d"
            ],
            [
             0.2,
             "#de77ae"
            ],
            [
             0.3,
             "#f1b6da"
            ],
            [
             0.4,
             "#fde0ef"
            ],
            [
             0.5,
             "#f7f7f7"
            ],
            [
             0.6,
             "#e6f5d0"
            ],
            [
             0.7,
             "#b8e186"
            ],
            [
             0.8,
             "#7fbc41"
            ],
            [
             0.9,
             "#4d9221"
            ],
            [
             1,
             "#276419"
            ]
           ],
           "sequential": [
            [
             0,
             "#0d0887"
            ],
            [
             0.1111111111111111,
             "#46039f"
            ],
            [
             0.2222222222222222,
             "#7201a8"
            ],
            [
             0.3333333333333333,
             "#9c179e"
            ],
            [
             0.4444444444444444,
             "#bd3786"
            ],
            [
             0.5555555555555556,
             "#d8576b"
            ],
            [
             0.6666666666666666,
             "#ed7953"
            ],
            [
             0.7777777777777778,
             "#fb9f3a"
            ],
            [
             0.8888888888888888,
             "#fdca26"
            ],
            [
             1,
             "#f0f921"
            ]
           ],
           "sequentialminus": [
            [
             0,
             "#0d0887"
            ],
            [
             0.1111111111111111,
             "#46039f"
            ],
            [
             0.2222222222222222,
             "#7201a8"
            ],
            [
             0.3333333333333333,
             "#9c179e"
            ],
            [
             0.4444444444444444,
             "#bd3786"
            ],
            [
             0.5555555555555556,
             "#d8576b"
            ],
            [
             0.6666666666666666,
             "#ed7953"
            ],
            [
             0.7777777777777778,
             "#fb9f3a"
            ],
            [
             0.8888888888888888,
             "#fdca26"
            ],
            [
             1,
             "#f0f921"
            ]
           ]
          },
          "colorway": [
           "#636efa",
           "#EF553B",
           "#00cc96",
           "#ab63fa",
           "#FFA15A",
           "#19d3f3",
           "#FF6692",
           "#B6E880",
           "#FF97FF",
           "#FECB52"
          ],
          "font": {
           "color": "#2a3f5f"
          },
          "geo": {
           "bgcolor": "white",
           "lakecolor": "white",
           "landcolor": "#E5ECF6",
           "showlakes": true,
           "showland": true,
           "subunitcolor": "white"
          },
          "hoverlabel": {
           "align": "left"
          },
          "hovermode": "closest",
          "mapbox": {
           "style": "light"
          },
          "paper_bgcolor": "white",
          "plot_bgcolor": "#E5ECF6",
          "polar": {
           "angularaxis": {
            "gridcolor": "white",
            "linecolor": "white",
            "ticks": ""
           },
           "bgcolor": "#E5ECF6",
           "radialaxis": {
            "gridcolor": "white",
            "linecolor": "white",
            "ticks": ""
           }
          },
          "scene": {
           "xaxis": {
            "backgroundcolor": "#E5ECF6",
            "gridcolor": "white",
            "gridwidth": 2,
            "linecolor": "white",
            "showbackground": true,
            "ticks": "",
            "zerolinecolor": "white"
           },
           "yaxis": {
            "backgroundcolor": "#E5ECF6",
            "gridcolor": "white",
            "gridwidth": 2,
            "linecolor": "white",
            "showbackground": true,
            "ticks": "",
            "zerolinecolor": "white"
           },
           "zaxis": {
            "backgroundcolor": "#E5ECF6",
            "gridcolor": "white",
            "gridwidth": 2,
            "linecolor": "white",
            "showbackground": true,
            "ticks": "",
            "zerolinecolor": "white"
           }
          },
          "shapedefaults": {
           "line": {
            "color": "#2a3f5f"
           }
          },
          "ternary": {
           "aaxis": {
            "gridcolor": "white",
            "linecolor": "white",
            "ticks": ""
           },
           "baxis": {
            "gridcolor": "white",
            "linecolor": "white",
            "ticks": ""
           },
           "bgcolor": "#E5ECF6",
           "caxis": {
            "gridcolor": "white",
            "linecolor": "white",
            "ticks": ""
           }
          },
          "title": {
           "x": 0.05
          },
          "xaxis": {
           "automargin": true,
           "gridcolor": "white",
           "linecolor": "white",
           "ticks": "",
           "title": {
            "standoff": 15
           },
           "zerolinecolor": "white",
           "zerolinewidth": 2
          },
          "yaxis": {
           "automargin": true,
           "gridcolor": "white",
           "linecolor": "white",
           "ticks": "",
           "title": {
            "standoff": 15
           },
           "zerolinecolor": "white",
           "zerolinewidth": 2
          }
         }
        },
        "title": {
         "font": {
          "color": "#4D5663"
         },
         "text": "Distribución de la población por score"
        },
        "xaxis": {
         "gridcolor": "#E1E5ED",
         "showgrid": true,
         "tickfont": {
          "color": "#4D5663"
         },
         "title": {
          "font": {
           "color": "#4D5663"
          },
          "text": ""
         },
         "zerolinecolor": "#E1E5ED"
        },
        "yaxis": {
         "gridcolor": "#E1E5ED",
         "showgrid": true,
         "tickfont": {
          "color": "#4D5663"
         },
         "title": {
          "font": {
           "color": "#4D5663"
          },
          "text": ""
         },
         "zerolinecolor": "#E1E5ED"
        }
       }
      },
      "text/html": [
       "<div>                            <div id=\"2f044a76-997e-4193-b6ad-e3719e079c59\" class=\"plotly-graph-div\" style=\"height:525px; width:100%;\"></div>            <script type=\"text/javascript\">                require([\"plotly\"], function(Plotly) {                    window.PLOTLYENV=window.PLOTLYENV || {};\n",
       "                    window.PLOTLYENV.BASE_URL='https://plot.ly';                                    if (document.getElementById(\"2f044a76-997e-4193-b6ad-e3719e079c59\")) {                    Plotly.newPlot(                        \"2f044a76-997e-4193-b6ad-e3719e079c59\",                        [{\"marker\":{\"color\":\"rgba(255, 153, 51, 0.6)\",\"line\":{\"color\":\"rgba(255, 153, 51, 1.0)\",\"width\":1}},\"name\":\"actuar\\u00eda\",\"orientation\":\"v\",\"text\":\"\",\"x\":[\"(-0.001, 20.0]\",\"(20.0, 40.0]\",\"(40.0, 60.0]\",\"(60.0, 80.0]\",\"(80.0, 100.0]\"],\"y\":[0.8194444444444444,0.2463768115942029,0.1111111111111111,0.0784313725490196,0.0],\"type\":\"bar\"},{\"marker\":{\"color\":\"rgba(55, 128, 191, 0.6)\",\"line\":{\"color\":\"rgba(55, 128, 191, 1.0)\",\"width\":1}},\"name\":\"mac\",\"orientation\":\"v\",\"text\":\"\",\"x\":[\"(-0.001, 20.0]\",\"(20.0, 40.0]\",\"(40.0, 60.0]\",\"(60.0, 80.0]\",\"(80.0, 100.0]\"],\"y\":[0.18055555555555555,0.7536231884057971,0.8888888888888888,0.9215686274509803,1.0],\"type\":\"bar\"}],                        {\"barmode\":\"stack\",\"legend\":{\"bgcolor\":\"#F5F6F9\",\"font\":{\"color\":\"#4D5663\"},\"traceorder\":\"normal\"},\"paper_bgcolor\":\"#F5F6F9\",\"plot_bgcolor\":\"#F5F6F9\",\"template\":{\"data\":{\"barpolar\":[{\"marker\":{\"line\":{\"color\":\"#E5ECF6\",\"width\":0.5},\"pattern\":{\"fillmode\":\"overlay\",\"size\":10,\"solidity\":0.2}},\"type\":\"barpolar\"}],\"bar\":[{\"error_x\":{\"color\":\"#2a3f5f\"},\"error_y\":{\"color\":\"#2a3f5f\"},\"marker\":{\"line\":{\"color\":\"#E5ECF6\",\"width\":0.5},\"pattern\":{\"fillmode\":\"overlay\",\"size\":10,\"solidity\":0.2}},\"type\":\"bar\"}],\"carpet\":[{\"aaxis\":{\"endlinecolor\":\"#2a3f5f\",\"gridcolor\":\"white\",\"linecolor\":\"white\",\"minorgridcolor\":\"white\",\"startlinecolor\":\"#2a3f5f\"},\"baxis\":{\"endlinecolor\":\"#2a3f5f\",\"gridcolor\":\"white\",\"linecolor\":\"white\",\"minorgridcolor\":\"white\",\"startlinecolor\":\"#2a3f5f\"},\"type\":\"carpet\"}],\"choropleth\":[{\"colorbar\":{\"outlinewidth\":0,\"ticks\":\"\"},\"type\":\"choropleth\"}],\"contourcarpet\":[{\"colorbar\":{\"outlinewidth\":0,\"ticks\":\"\"},\"type\":\"contourcarpet\"}],\"contour\":[{\"colorbar\":{\"outlinewidth\":0,\"ticks\":\"\"},\"colorscale\":[[0.0,\"#0d0887\"],[0.1111111111111111,\"#46039f\"],[0.2222222222222222,\"#7201a8\"],[0.3333333333333333,\"#9c179e\"],[0.4444444444444444,\"#bd3786\"],[0.5555555555555556,\"#d8576b\"],[0.6666666666666666,\"#ed7953\"],[0.7777777777777778,\"#fb9f3a\"],[0.8888888888888888,\"#fdca26\"],[1.0,\"#f0f921\"]],\"type\":\"contour\"}],\"heatmapgl\":[{\"colorbar\":{\"outlinewidth\":0,\"ticks\":\"\"},\"colorscale\":[[0.0,\"#0d0887\"],[0.1111111111111111,\"#46039f\"],[0.2222222222222222,\"#7201a8\"],[0.3333333333333333,\"#9c179e\"],[0.4444444444444444,\"#bd3786\"],[0.5555555555555556,\"#d8576b\"],[0.6666666666666666,\"#ed7953\"],[0.7777777777777778,\"#fb9f3a\"],[0.8888888888888888,\"#fdca26\"],[1.0,\"#f0f921\"]],\"type\":\"heatmapgl\"}],\"heatmap\":[{\"colorbar\":{\"outlinewidth\":0,\"ticks\":\"\"},\"colorscale\":[[0.0,\"#0d0887\"],[0.1111111111111111,\"#46039f\"],[0.2222222222222222,\"#7201a8\"],[0.3333333333333333,\"#9c179e\"],[0.4444444444444444,\"#bd3786\"],[0.5555555555555556,\"#d8576b\"],[0.6666666666666666,\"#ed7953\"],[0.7777777777777778,\"#fb9f3a\"],[0.8888888888888888,\"#fdca26\"],[1.0,\"#f0f921\"]],\"type\":\"heatmap\"}],\"histogram2dcontour\":[{\"colorbar\":{\"outlinewidth\":0,\"ticks\":\"\"},\"colorscale\":[[0.0,\"#0d0887\"],[0.1111111111111111,\"#46039f\"],[0.2222222222222222,\"#7201a8\"],[0.3333333333333333,\"#9c179e\"],[0.4444444444444444,\"#bd3786\"],[0.5555555555555556,\"#d8576b\"],[0.6666666666666666,\"#ed7953\"],[0.7777777777777778,\"#fb9f3a\"],[0.8888888888888888,\"#fdca26\"],[1.0,\"#f0f921\"]],\"type\":\"histogram2dcontour\"}],\"histogram2d\":[{\"colorbar\":{\"outlinewidth\":0,\"ticks\":\"\"},\"colorscale\":[[0.0,\"#0d0887\"],[0.1111111111111111,\"#46039f\"],[0.2222222222222222,\"#7201a8\"],[0.3333333333333333,\"#9c179e\"],[0.4444444444444444,\"#bd3786\"],[0.5555555555555556,\"#d8576b\"],[0.6666666666666666,\"#ed7953\"],[0.7777777777777778,\"#fb9f3a\"],[0.8888888888888888,\"#fdca26\"],[1.0,\"#f0f921\"]],\"type\":\"histogram2d\"}],\"histogram\":[{\"marker\":{\"pattern\":{\"fillmode\":\"overlay\",\"size\":10,\"solidity\":0.2}},\"type\":\"histogram\"}],\"mesh3d\":[{\"colorbar\":{\"outlinewidth\":0,\"ticks\":\"\"},\"type\":\"mesh3d\"}],\"parcoords\":[{\"line\":{\"colorbar\":{\"outlinewidth\":0,\"ticks\":\"\"}},\"type\":\"parcoords\"}],\"pie\":[{\"automargin\":true,\"type\":\"pie\"}],\"scatter3d\":[{\"line\":{\"colorbar\":{\"outlinewidth\":0,\"ticks\":\"\"}},\"marker\":{\"colorbar\":{\"outlinewidth\":0,\"ticks\":\"\"}},\"type\":\"scatter3d\"}],\"scattercarpet\":[{\"marker\":{\"colorbar\":{\"outlinewidth\":0,\"ticks\":\"\"}},\"type\":\"scattercarpet\"}],\"scattergeo\":[{\"marker\":{\"colorbar\":{\"outlinewidth\":0,\"ticks\":\"\"}},\"type\":\"scattergeo\"}],\"scattergl\":[{\"marker\":{\"colorbar\":{\"outlinewidth\":0,\"ticks\":\"\"}},\"type\":\"scattergl\"}],\"scattermapbox\":[{\"marker\":{\"colorbar\":{\"outlinewidth\":0,\"ticks\":\"\"}},\"type\":\"scattermapbox\"}],\"scatterpolargl\":[{\"marker\":{\"colorbar\":{\"outlinewidth\":0,\"ticks\":\"\"}},\"type\":\"scatterpolargl\"}],\"scatterpolar\":[{\"marker\":{\"colorbar\":{\"outlinewidth\":0,\"ticks\":\"\"}},\"type\":\"scatterpolar\"}],\"scatter\":[{\"fillpattern\":{\"fillmode\":\"overlay\",\"size\":10,\"solidity\":0.2},\"type\":\"scatter\"}],\"scatterternary\":[{\"marker\":{\"colorbar\":{\"outlinewidth\":0,\"ticks\":\"\"}},\"type\":\"scatterternary\"}],\"surface\":[{\"colorbar\":{\"outlinewidth\":0,\"ticks\":\"\"},\"colorscale\":[[0.0,\"#0d0887\"],[0.1111111111111111,\"#46039f\"],[0.2222222222222222,\"#7201a8\"],[0.3333333333333333,\"#9c179e\"],[0.4444444444444444,\"#bd3786\"],[0.5555555555555556,\"#d8576b\"],[0.6666666666666666,\"#ed7953\"],[0.7777777777777778,\"#fb9f3a\"],[0.8888888888888888,\"#fdca26\"],[1.0,\"#f0f921\"]],\"type\":\"surface\"}],\"table\":[{\"cells\":{\"fill\":{\"color\":\"#EBF0F8\"},\"line\":{\"color\":\"white\"}},\"header\":{\"fill\":{\"color\":\"#C8D4E3\"},\"line\":{\"color\":\"white\"}},\"type\":\"table\"}]},\"layout\":{\"annotationdefaults\":{\"arrowcolor\":\"#2a3f5f\",\"arrowhead\":0,\"arrowwidth\":1},\"autotypenumbers\":\"strict\",\"coloraxis\":{\"colorbar\":{\"outlinewidth\":0,\"ticks\":\"\"}},\"colorscale\":{\"diverging\":[[0,\"#8e0152\"],[0.1,\"#c51b7d\"],[0.2,\"#de77ae\"],[0.3,\"#f1b6da\"],[0.4,\"#fde0ef\"],[0.5,\"#f7f7f7\"],[0.6,\"#e6f5d0\"],[0.7,\"#b8e186\"],[0.8,\"#7fbc41\"],[0.9,\"#4d9221\"],[1,\"#276419\"]],\"sequential\":[[0.0,\"#0d0887\"],[0.1111111111111111,\"#46039f\"],[0.2222222222222222,\"#7201a8\"],[0.3333333333333333,\"#9c179e\"],[0.4444444444444444,\"#bd3786\"],[0.5555555555555556,\"#d8576b\"],[0.6666666666666666,\"#ed7953\"],[0.7777777777777778,\"#fb9f3a\"],[0.8888888888888888,\"#fdca26\"],[1.0,\"#f0f921\"]],\"sequentialminus\":[[0.0,\"#0d0887\"],[0.1111111111111111,\"#46039f\"],[0.2222222222222222,\"#7201a8\"],[0.3333333333333333,\"#9c179e\"],[0.4444444444444444,\"#bd3786\"],[0.5555555555555556,\"#d8576b\"],[0.6666666666666666,\"#ed7953\"],[0.7777777777777778,\"#fb9f3a\"],[0.8888888888888888,\"#fdca26\"],[1.0,\"#f0f921\"]]},\"colorway\":[\"#636efa\",\"#EF553B\",\"#00cc96\",\"#ab63fa\",\"#FFA15A\",\"#19d3f3\",\"#FF6692\",\"#B6E880\",\"#FF97FF\",\"#FECB52\"],\"font\":{\"color\":\"#2a3f5f\"},\"geo\":{\"bgcolor\":\"white\",\"lakecolor\":\"white\",\"landcolor\":\"#E5ECF6\",\"showlakes\":true,\"showland\":true,\"subunitcolor\":\"white\"},\"hoverlabel\":{\"align\":\"left\"},\"hovermode\":\"closest\",\"mapbox\":{\"style\":\"light\"},\"paper_bgcolor\":\"white\",\"plot_bgcolor\":\"#E5ECF6\",\"polar\":{\"angularaxis\":{\"gridcolor\":\"white\",\"linecolor\":\"white\",\"ticks\":\"\"},\"bgcolor\":\"#E5ECF6\",\"radialaxis\":{\"gridcolor\":\"white\",\"linecolor\":\"white\",\"ticks\":\"\"}},\"scene\":{\"xaxis\":{\"backgroundcolor\":\"#E5ECF6\",\"gridcolor\":\"white\",\"gridwidth\":2,\"linecolor\":\"white\",\"showbackground\":true,\"ticks\":\"\",\"zerolinecolor\":\"white\"},\"yaxis\":{\"backgroundcolor\":\"#E5ECF6\",\"gridcolor\":\"white\",\"gridwidth\":2,\"linecolor\":\"white\",\"showbackground\":true,\"ticks\":\"\",\"zerolinecolor\":\"white\"},\"zaxis\":{\"backgroundcolor\":\"#E5ECF6\",\"gridcolor\":\"white\",\"gridwidth\":2,\"linecolor\":\"white\",\"showbackground\":true,\"ticks\":\"\",\"zerolinecolor\":\"white\"}},\"shapedefaults\":{\"line\":{\"color\":\"#2a3f5f\"}},\"ternary\":{\"aaxis\":{\"gridcolor\":\"white\",\"linecolor\":\"white\",\"ticks\":\"\"},\"baxis\":{\"gridcolor\":\"white\",\"linecolor\":\"white\",\"ticks\":\"\"},\"bgcolor\":\"#E5ECF6\",\"caxis\":{\"gridcolor\":\"white\",\"linecolor\":\"white\",\"ticks\":\"\"}},\"title\":{\"x\":0.05},\"xaxis\":{\"automargin\":true,\"gridcolor\":\"white\",\"linecolor\":\"white\",\"ticks\":\"\",\"title\":{\"standoff\":15},\"zerolinecolor\":\"white\",\"zerolinewidth\":2},\"yaxis\":{\"automargin\":true,\"gridcolor\":\"white\",\"linecolor\":\"white\",\"ticks\":\"\",\"title\":{\"standoff\":15},\"zerolinecolor\":\"white\",\"zerolinewidth\":2}}},\"title\":{\"font\":{\"color\":\"#4D5663\"},\"text\":\"Distribuci\\u00f3n de la poblaci\\u00f3n por score\"},\"xaxis\":{\"gridcolor\":\"#E1E5ED\",\"showgrid\":true,\"tickfont\":{\"color\":\"#4D5663\"},\"title\":{\"font\":{\"color\":\"#4D5663\"},\"text\":\"\"},\"zerolinecolor\":\"#E1E5ED\"},\"yaxis\":{\"gridcolor\":\"#E1E5ED\",\"showgrid\":true,\"tickfont\":{\"color\":\"#4D5663\"},\"title\":{\"font\":{\"color\":\"#4D5663\"},\"text\":\"\"},\"zerolinecolor\":\"#E1E5ED\"}},                        {\"showLink\": true, \"linkText\": \"Export to plot.ly\", \"plotlyServerURL\": \"https://plot.ly\", \"responsive\": true}                    ).then(function(){\n",
       "                            \n",
       "var gd = document.getElementById('2f044a76-997e-4193-b6ad-e3719e079c59');\n",
       "var x = new MutationObserver(function (mutations, observer) {{\n",
       "        var display = window.getComputedStyle(gd).display;\n",
       "        if (!display || display === 'none') {{\n",
       "            console.log([gd, 'removed!']);\n",
       "            Plotly.purge(gd);\n",
       "            observer.disconnect();\n",
       "        }}\n",
       "}});\n",
       "\n",
       "// Listen for the removal of the full notebook cells\n",
       "var notebookContainer = gd.closest('#notebook-container');\n",
       "if (notebookContainer) {{\n",
       "    x.observe(notebookContainer, {childList: true});\n",
       "}}\n",
       "\n",
       "// Listen for the clearing of the current output cell\n",
       "var outputEl = gd.closest('.output');\n",
       "if (outputEl) {{\n",
       "    x.observe(outputEl, {childList: true});\n",
       "}}\n",
       "\n",
       "                        })                };                });            </script>        </div>"
      ]
     },
     "metadata": {},
     "output_type": "display_data"
    }
   ],
   "source": [
    "# Aquí tenemos los valores de acuerdo al scoring para determinar la carrera\n",
    "piv = train.pivot_table(index='r_score',columns='target',values='id_alumno',aggfunc='count',fill_value=0)\n",
    "piv['total'] = piv.sum(axis=1)\n",
    "piv['actuaría'] = piv[1]/piv['total']\n",
    "piv['mac'] = piv[0]/piv['total']\n",
    "piv[['actuaría','mac']].iplot(kind='bar',barmode='stack',title='Distribución de la población por score')"
   ]
  },
  {
   "cell_type": "code",
   "execution_count": 175,
   "metadata": {},
   "outputs": [],
   "source": [
    "scorecard = []\n",
    "for v in best:\n",
    "    nombre  = \"_\".join(v.split('_')[1:])\n",
    "    aux = train[[nombre,f'p_{v}']].copy().drop_duplicates().sort_values(by=nombre)\n",
    "    aux.columns = ['atributo','puntaje']\n",
    "    aux.insert(0,'característica',\"_\".join(nombre.split('_')[1:]))\n",
    "    scorecard.append(aux.reset_index(drop=True))\n",
    "scorecard = pd.concat(scorecard,ignore_index=True)"
   ]
  },
  {
   "cell_type": "code",
   "execution_count": 176,
   "metadata": {},
   "outputs": [],
   "source": [
    "# Connvertimos en un excel\n",
    "scorecard.groupby(['característica','atributo']).sum().to_excel('scorecard.xlsx')"
   ]
  },
  {
   "cell_type": "code",
   "execution_count": null,
   "metadata": {},
   "outputs": [],
   "source": []
  }
 ],
 "metadata": {
  "kernelspec": {
   "display_name": "EV",
   "language": "python",
   "name": "python3"
  },
  "language_info": {
   "codemirror_mode": {
    "name": "ipython",
    "version": 3
   },
   "file_extension": ".py",
   "mimetype": "text/x-python",
   "name": "python",
   "nbconvert_exporter": "python",
   "pygments_lexer": "ipython3",
   "version": "3.10.6"
  },
  "orig_nbformat": 4
 },
 "nbformat": 4,
 "nbformat_minor": 2
}
